{
 "cells": [
  {
   "cell_type": "code",
   "execution_count": 38,
   "metadata": {
    "ExecuteTime": {
     "end_time": "2020-05-22T17:20:54.190224Z",
     "start_time": "2020-05-22T17:20:54.183241Z"
    }
   },
   "outputs": [],
   "source": [
    "import sys\n",
    "import os\n",
    "import logging\n",
    "sys.path.append(r\"..\")\n",
    "\n",
    "from utils import *\n",
    "import pandas as pd\n",
    "import numpy as np\n",
    "import math \n",
    "from sklearn.model_selection import train_test_split\n",
    "from sklearn.feature_extraction.text import TfidfTransformer\n",
    "from sklearn.feature_extraction.text import CountVectorizer\n",
    "from sklearn.naive_bayes import MultinomialNB\n",
    "from sklearn.linear_model import LogisticRegression\n",
    "\n",
    "from sklearn.metrics import accuracy_score,roc_auc_score,f1_score,recall_score\n",
    "from gensim import models\n",
    "from scipy import sparse\n",
    "from scipy.sparse import csr_matrix, coo_matrix \n",
    "\n",
    "from collections import defaultdict\n",
    "from collections import Counter\n",
    "path_build = \"../../data/tencent2020/build/\"\n",
    "path_save = \"../../data/tencent2020/save/\"\n",
    "pickle_path = \"../../data/tencent2020/pickle/\"\n",
    "sub_path = \"../../data/tencent2020/sub/\"\n",
    "\n",
    "train_preliminary_p = path_build + \"train_preliminary/\"\n",
    "\n",
    "if not os.path.exists(pickle_path):\n",
    "    os.mkdir(pickle_path) \n",
    "if not os.path.exists(sub_path):\n",
    "    os.mkdir(sub_path)"
   ]
  },
  {
   "cell_type": "code",
   "execution_count": 29,
   "metadata": {
    "ExecuteTime": {
     "end_time": "2020-05-22T11:48:54.831809Z",
     "start_time": "2020-05-22T11:47:39.439444Z"
    }
   },
   "outputs": [
    {
     "data": {
      "text/html": [
       "<div>\n",
       "<style scoped>\n",
       "    .dataframe tbody tr th:only-of-type {\n",
       "        vertical-align: middle;\n",
       "    }\n",
       "\n",
       "    .dataframe tbody tr th {\n",
       "        vertical-align: top;\n",
       "    }\n",
       "\n",
       "    .dataframe thead th {\n",
       "        text-align: right;\n",
       "    }\n",
       "</style>\n",
       "<table border=\"1\" class=\"dataframe\">\n",
       "  <thead>\n",
       "    <tr style=\"text-align: right;\">\n",
       "      <th></th>\n",
       "      <th>user_id</th>\n",
       "      <th>creative_id</th>\n",
       "      <th>ad_id</th>\n",
       "      <th>product_id</th>\n",
       "      <th>product_category</th>\n",
       "      <th>advertiser_id</th>\n",
       "      <th>industry</th>\n",
       "      <th>click_times</th>\n",
       "      <th>creative_id_len</th>\n",
       "      <th>ad_id_len</th>\n",
       "      <th>product_id_len</th>\n",
       "      <th>product_category_len</th>\n",
       "      <th>advertiser_len</th>\n",
       "      <th>industry_len</th>\n",
       "      <th>age</th>\n",
       "      <th>gender</th>\n",
       "    </tr>\n",
       "  </thead>\n",
       "  <tbody>\n",
       "    <tr>\n",
       "      <th>0</th>\n",
       "      <td>1</td>\n",
       "      <td>[821396, 209778, 877468, 1683713, 122032, 7169...</td>\n",
       "      <td>[724607, 188507, 773445, 1458878, 109959, 6621...</td>\n",
       "      <td>[0, 136, 0, 0, 1334, 0, 0, 0, 0, 1454, 64, 64,...</td>\n",
       "      <td>[5, 2, 5, 5, 2, 18, 5, 5, 18, 2, 2, 2, 2]</td>\n",
       "      <td>[7293, 9702, 29455, 14668, 11411, 14681, 17189...</td>\n",
       "      <td>[326, 6, 106, 326, 0, 326, 73, 217, 64, 238, 2...</td>\n",
       "      <td>[1, 1, 1, 1, 1, 1, 1, 1, 1, 1, 1, 1, 2]</td>\n",
       "      <td>12</td>\n",
       "      <td>12</td>\n",
       "      <td>6</td>\n",
       "      <td>3</td>\n",
       "      <td>12</td>\n",
       "      <td>9</td>\n",
       "      <td>4.0</td>\n",
       "      <td>1.0</td>\n",
       "    </tr>\n",
       "    <tr>\n",
       "      <th>1</th>\n",
       "      <td>2</td>\n",
       "      <td>[63441, 155822, 39714, 609050, 13069, 441462, ...</td>\n",
       "      <td>[58788, 139702, 38066, 541125, 14495, 392680, ...</td>\n",
       "      <td>[87, 80, 129, 129, 1400, 87, 0, 1261, 0, 0, 11...</td>\n",
       "      <td>[2, 2, 2, 2, 2, 2, 18, 2, 18, 18, 2, 18, 2, 18...</td>\n",
       "      <td>[22885, 10686, 18562, 25932, 768, 22885, 34505...</td>\n",
       "      <td>[318, 238, 6, 6, 317, 318, 47, 6, 47, 47, 242,...</td>\n",
       "      <td>[1, 1, 1, 1, 1, 1, 1, 1, 1, 1, 1, 1, 1, 1, 1, ...</td>\n",
       "      <td>42</td>\n",
       "      <td>42</td>\n",
       "      <td>20</td>\n",
       "      <td>3</td>\n",
       "      <td>36</td>\n",
       "      <td>15</td>\n",
       "      <td>10.0</td>\n",
       "      <td>1.0</td>\n",
       "    </tr>\n",
       "    <tr>\n",
       "      <th>2</th>\n",
       "      <td>3</td>\n",
       "      <td>[661347, 808612, 710859, 825434, 593522, 72694...</td>\n",
       "      <td>[586668, 713448, 629278, 728308, 527601, 64310...</td>\n",
       "      <td>[36256, 40905, 1674, 35985, 1674, 0, 0, 1031, ...</td>\n",
       "      <td>[17, 17, 2, 17, 2, 18, 18, 2, 2, 2, 18, 12, 2,...</td>\n",
       "      <td>[32974, 9877, 18492, 14186, 17018, 9058, 8371,...</td>\n",
       "      <td>[0, 0, 322, 0, 322, 6, 54, 6, 322, 322, 205, 3...</td>\n",
       "      <td>[1, 1, 1, 1, 1, 1, 1, 1, 1, 1, 1, 1, 1, 1, 1, ...</td>\n",
       "      <td>30</td>\n",
       "      <td>30</td>\n",
       "      <td>17</td>\n",
       "      <td>6</td>\n",
       "      <td>28</td>\n",
       "      <td>8</td>\n",
       "      <td>7.0</td>\n",
       "      <td>2.0</td>\n",
       "    </tr>\n",
       "    <tr>\n",
       "      <th>3</th>\n",
       "      <td>4</td>\n",
       "      <td>[39588, 589886, 574787, 1892854, 1962706, 2264...</td>\n",
       "      <td>[37966, 524312, 511235, 1638619, 1698206, 1953...</td>\n",
       "      <td>[1862, 0, 2625, 38743, 41265, 37758, 39904, 39...</td>\n",
       "      <td>[2, 18, 2, 17, 17, 4, 17, 17, 18, 2, 2, 2, 2, ...</td>\n",
       "      <td>[19451, 7976, 13084, 12130, 23664, 811, 10172,...</td>\n",
       "      <td>[238, 25, 248, 0, 0, 0, 0, 0, 88, 319, 238, 6,...</td>\n",
       "      <td>[1, 1, 1, 1, 1, 1, 1, 1, 1, 1, 1, 1, 1, 1, 1, ...</td>\n",
       "      <td>29</td>\n",
       "      <td>29</td>\n",
       "      <td>18</td>\n",
       "      <td>6</td>\n",
       "      <td>26</td>\n",
       "      <td>10</td>\n",
       "      <td>5.0</td>\n",
       "      <td>1.0</td>\n",
       "    </tr>\n",
       "    <tr>\n",
       "      <th>4</th>\n",
       "      <td>5</td>\n",
       "      <td>[296145, 350759, 24333, 43235, 852327, 1054434...</td>\n",
       "      <td>[265971, 314795, 24966, 41148, 751113, 925792,...</td>\n",
       "      <td>[0, 0, 87, 136, 0, 136, 0, 0, 0, 1064, 0, 2620...</td>\n",
       "      <td>[5, 8, 2, 2, 18, 2, 5, 18, 18, 2, 18, 2, 5, 5,...</td>\n",
       "      <td>[11882, 992, 22885, 9706, 38760, 2862, 17745, ...</td>\n",
       "      <td>[297, 0, 318, 6, 322, 6, 288, 322, 319, 238, 3...</td>\n",
       "      <td>[1, 1, 1, 1, 1, 2, 1, 1, 1, 1, 1, 1, 1, 1, 1, ...</td>\n",
       "      <td>33</td>\n",
       "      <td>33</td>\n",
       "      <td>7</td>\n",
       "      <td>4</td>\n",
       "      <td>30</td>\n",
       "      <td>18</td>\n",
       "      <td>4.0</td>\n",
       "      <td>1.0</td>\n",
       "    </tr>\n",
       "  </tbody>\n",
       "</table>\n",
       "</div>"
      ],
      "text/plain": [
       "   user_id                                        creative_id  \\\n",
       "0        1  [821396, 209778, 877468, 1683713, 122032, 7169...   \n",
       "1        2  [63441, 155822, 39714, 609050, 13069, 441462, ...   \n",
       "2        3  [661347, 808612, 710859, 825434, 593522, 72694...   \n",
       "3        4  [39588, 589886, 574787, 1892854, 1962706, 2264...   \n",
       "4        5  [296145, 350759, 24333, 43235, 852327, 1054434...   \n",
       "\n",
       "                                               ad_id  \\\n",
       "0  [724607, 188507, 773445, 1458878, 109959, 6621...   \n",
       "1  [58788, 139702, 38066, 541125, 14495, 392680, ...   \n",
       "2  [586668, 713448, 629278, 728308, 527601, 64310...   \n",
       "3  [37966, 524312, 511235, 1638619, 1698206, 1953...   \n",
       "4  [265971, 314795, 24966, 41148, 751113, 925792,...   \n",
       "\n",
       "                                          product_id  \\\n",
       "0  [0, 136, 0, 0, 1334, 0, 0, 0, 0, 1454, 64, 64,...   \n",
       "1  [87, 80, 129, 129, 1400, 87, 0, 1261, 0, 0, 11...   \n",
       "2  [36256, 40905, 1674, 35985, 1674, 0, 0, 1031, ...   \n",
       "3  [1862, 0, 2625, 38743, 41265, 37758, 39904, 39...   \n",
       "4  [0, 0, 87, 136, 0, 136, 0, 0, 0, 1064, 0, 2620...   \n",
       "\n",
       "                                    product_category  \\\n",
       "0          [5, 2, 5, 5, 2, 18, 5, 5, 18, 2, 2, 2, 2]   \n",
       "1  [2, 2, 2, 2, 2, 2, 18, 2, 18, 18, 2, 18, 2, 18...   \n",
       "2  [17, 17, 2, 17, 2, 18, 18, 2, 2, 2, 18, 12, 2,...   \n",
       "3  [2, 18, 2, 17, 17, 4, 17, 17, 18, 2, 2, 2, 2, ...   \n",
       "4  [5, 8, 2, 2, 18, 2, 5, 18, 18, 2, 18, 2, 5, 5,...   \n",
       "\n",
       "                                       advertiser_id  \\\n",
       "0  [7293, 9702, 29455, 14668, 11411, 14681, 17189...   \n",
       "1  [22885, 10686, 18562, 25932, 768, 22885, 34505...   \n",
       "2  [32974, 9877, 18492, 14186, 17018, 9058, 8371,...   \n",
       "3  [19451, 7976, 13084, 12130, 23664, 811, 10172,...   \n",
       "4  [11882, 992, 22885, 9706, 38760, 2862, 17745, ...   \n",
       "\n",
       "                                            industry  \\\n",
       "0  [326, 6, 106, 326, 0, 326, 73, 217, 64, 238, 2...   \n",
       "1  [318, 238, 6, 6, 317, 318, 47, 6, 47, 47, 242,...   \n",
       "2  [0, 0, 322, 0, 322, 6, 54, 6, 322, 322, 205, 3...   \n",
       "3  [238, 25, 248, 0, 0, 0, 0, 0, 88, 319, 238, 6,...   \n",
       "4  [297, 0, 318, 6, 322, 6, 288, 322, 319, 238, 3...   \n",
       "\n",
       "                                         click_times  creative_id_len  \\\n",
       "0            [1, 1, 1, 1, 1, 1, 1, 1, 1, 1, 1, 1, 2]               12   \n",
       "1  [1, 1, 1, 1, 1, 1, 1, 1, 1, 1, 1, 1, 1, 1, 1, ...               42   \n",
       "2  [1, 1, 1, 1, 1, 1, 1, 1, 1, 1, 1, 1, 1, 1, 1, ...               30   \n",
       "3  [1, 1, 1, 1, 1, 1, 1, 1, 1, 1, 1, 1, 1, 1, 1, ...               29   \n",
       "4  [1, 1, 1, 1, 1, 2, 1, 1, 1, 1, 1, 1, 1, 1, 1, ...               33   \n",
       "\n",
       "   ad_id_len  product_id_len  product_category_len  advertiser_len  \\\n",
       "0         12               6                     3              12   \n",
       "1         42              20                     3              36   \n",
       "2         30              17                     6              28   \n",
       "3         29              18                     6              26   \n",
       "4         33               7                     4              30   \n",
       "\n",
       "   industry_len   age  gender  \n",
       "0             9   4.0     1.0  \n",
       "1            15  10.0     1.0  \n",
       "2             8   7.0     2.0  \n",
       "3            10   5.0     1.0  \n",
       "4            18   4.0     1.0  "
      ]
     },
     "execution_count": 29,
     "metadata": {},
     "output_type": "execute_result"
    }
   ],
   "source": [
    "user_ids = pd.read_pickle(f\"{pickle_path}/user_ids.pickle\")\n",
    "user = pd.read_csv(train_preliminary_p + \"user.csv\", encoding='utf-8')\n",
    "user_ids = user_ids.merge(user, how='left', on='user_id')\n",
    "del user\n",
    "user_ids.head()"
   ]
  },
  {
   "cell_type": "code",
   "execution_count": 30,
   "metadata": {
    "ExecuteTime": {
     "end_time": "2020-05-22T11:50:30.701227Z",
     "start_time": "2020-05-22T11:49:54.688518Z"
    }
   },
   "outputs": [],
   "source": [
    "creative_id_v = models.KeyedVectors.load_word2vec_format(f\"{path_save}/creative_id_w2v100.bin\", binary=True)\n",
    "ad_id_v = models.KeyedVectors.load_word2vec_format(f\"{path_save}/ad_id_w2v100.bin\", binary=True)\n",
    "advertiser_id_v = models.KeyedVectors.load_word2vec_format(f\"{path_save}/advertiser_id_w2v50.bin\", binary=True)\n",
    "product_id_v = models.KeyedVectors.load_word2vec_format(f\"{path_save}/product_id_w2v50.bin\", binary=True)"
   ]
  },
  {
   "cell_type": "code",
   "execution_count": 31,
   "metadata": {
    "ExecuteTime": {
     "end_time": "2020-05-22T11:52:09.712043Z",
     "start_time": "2020-05-22T11:51:46.794987Z"
    }
   },
   "outputs": [],
   "source": [
    "creative_id_tfidf_matrix = load_pickle(pickle_path + 'creative_id_tfidf_matrix_2')\n",
    "ad_id_tfidf_matrix = load_pickle(pickle_path + 'ad_id_tfidf_matrix_2')\n",
    "product_id_tfidf_matrix = load_pickle(pickle_path + 'product_id_tfidf_matrix_2')\n",
    "advertiser_id_tfidf_matrix = load_pickle(pickle_path + 'advertiser_id_tfidf_matrix_2')\n",
    "advertiser_id_tfidf_matrix = load_pickle(pickle_path + 'advertiser_id_tfidf_matrix_2')\n",
    "click_times_tfidf_matrix = load_pickle(pickle_path + 'click_times_tfidf_matrix_2')\n",
    "\n",
    "creative_id_tfidf_voc = load_pickle(pickle_path + 'creative_id_tfidf_voc_2')\n",
    "ad_id_tfidf_voc = load_pickle(pickle_path + 'ad_id_tfidf_voc_2')\n",
    "product_id_tfidf_voc = load_pickle(pickle_path + 'product_id_tfidf_voc_2')\n",
    "advertiser_id_tfidf_voc = load_pickle(pickle_path + 'advertiser_id_tfidf_voc_2')\n",
    "advertiser_id_tfidf_voc = load_pickle(pickle_path + 'advertiser_id_tfidf_voc_2')\n",
    "click_times_tfidf_voc = load_pickle(pickle_path + 'click_times_tfidf_voc_2')\n",
    "\n"
   ]
  },
  {
   "cell_type": "code",
   "execution_count": 34,
   "metadata": {
    "ExecuteTime": {
     "end_time": "2020-05-22T17:08:58.637856Z",
     "start_time": "2020-05-22T17:08:56.668848Z"
    }
   },
   "outputs": [],
   "source": [
    "creative_id_idf = load_pickle(pickle_path + 'creative_id_idf')\n",
    "ad_id_idf = load_pickle(pickle_path + 'ad_id_idf')\n",
    "product_id_idf = load_pickle(pickle_path + 'product_id_idf')\n",
    "advertiser_id_idf = load_pickle(pickle_path + 'advertiser_id_idf')\n",
    "advertiser_id_idf = load_pickle(pickle_path + 'advertiser_id_idf')\n",
    "click_times_idf = load_pickle(pickle_path + 'click_times_idf')"
   ]
  },
  {
   "cell_type": "code",
   "execution_count": 53,
   "metadata": {
    "ExecuteTime": {
     "end_time": "2020-05-22T23:33:59.560925Z",
     "start_time": "2020-05-22T23:18:41.161123Z"
    }
   },
   "outputs": [],
   "source": [
    "def embedding_tfidf_v(ll, voc, idf):\n",
    "    tf = Counter(ll)\n",
    "    ll = set(ll)\n",
    "    id_l = []    \n",
    "    for k in ll:\n",
    "        if str(k) in voc:\n",
    "            idf_v = math.log((1+1900000)/(1+idf[k]))+1\n",
    "            id_l.append(  voc[str(k)]*tf[k]*idf_v  )\n",
    "    return np.array(id_l).sum(axis=0)\n",
    "creative_id_embedding_matrix = user_ids['creative_id'].map(lambda x: embedding_tfidf_v(x, creative_id_v, creative_id_idf))\n"
   ]
  },
  {
   "cell_type": "code",
   "execution_count": 9,
   "metadata": {
    "ExecuteTime": {
     "end_time": "2020-05-20T00:32:47.998922Z",
     "start_time": "2020-05-20T00:32:47.990923Z"
    }
   },
   "outputs": [],
   "source": [
    "def embedding_v(ll, voc):\n",
    "    id_count = Counter(ll)\n",
    "    id_l = []    \n",
    "    for k in id_count.keys():\n",
    "        if str(k) in voc:\n",
    "            id_l.append(voc[str(k)]*id_count[k])\n",
    "    return np.array(id_l).mean(axis=0)\n"
   ]
  },
  {
   "cell_type": "code",
   "execution_count": null,
   "metadata": {
    "ExecuteTime": {
     "end_time": "2020-05-22T16:34:01.599462Z",
     "start_time": "2020-05-22T16:28:17.756Z"
    }
   },
   "outputs": [],
   "source": [
    "def embedding_v2(user_id, ll, voc, tfidf_matrix, tfidf_voc):\n",
    "    ll = set(ll)\n",
    "    id_l = []    \n",
    "    for k in ll:\n",
    "        if str(k) in voc and str(k) in tfidf_voc:\n",
    "            id_l.append(voc[str(k)]*tfidf_matrix[user_id, tfidf_voc[str(k)]])\n",
    "    return np.array(id_l).mean(axis=0)\n"
   ]
  },
  {
   "cell_type": "code",
   "execution_count": 15,
   "metadata": {
    "ExecuteTime": {
     "end_time": "2020-05-18T17:09:59.923436Z",
     "start_time": "2020-05-18T16:53:01.255451Z"
    }
   },
   "outputs": [],
   "source": [
    "embedding_matrix = user_ids['creative_id'].map(lambda x: embedding_v(x, creative_id_v))\n",
    "embedding_matrix2 = np.array([embedding_matrix])[0]\n",
    "save_pickle(embedding_matrix2, pickle_path + 'creative_id_embedding_matrix.pickle')\n",
    "\n",
    "embedding_matrix = user_ids['ad_id'].map(lambda x: embedding_v(x, ad_id_v))\n",
    "embedding_matrix2 = np.array([embedding_matrix])[0]\n",
    "save_pickle(embedding_matrix2, pickle_path + 'ad_id_embedding_matrix.pickle')\n",
    "\n",
    "embedding_matrix = user_ids['advertiser_id'].map(lambda x: embedding_v(x, advertiser_id_v))\n",
    "embedding_matrix2 = np.array([embedding_matrix])[0]\n",
    "save_pickle(embedding_matrix2, pickle_path + 'advertiser_id_embedding_matrix.pickle')\n",
    "\n",
    "\n",
    "embedding_matrix = user_ids['product_id'].map(lambda x: embedding_v(x, product_id_v))\n",
    "embedding_matrix2 = np.array([embedding_matrix])[0]\n",
    "save_pickle(embedding_matrix2, pickle_path + 'product_id_embedding_matrix.pickle')\n",
    "\n"
   ]
  },
  {
   "cell_type": "code",
   "execution_count": 4,
   "metadata": {
    "ExecuteTime": {
     "end_time": "2020-05-20T00:41:11.383800Z",
     "start_time": "2020-05-20T00:35:32.583453Z"
    }
   },
   "outputs": [
    {
     "name": "stdout",
     "output_type": "stream",
     "text": [
      "Mem. usage decreased to 362.40 Mb (75.0% reduction)\n",
      "Mem. usage decreased to 362.40 Mb (75.0% reduction)\n",
      "Mem. usage decreased to 181.20 Mb (75.0% reduction)\n",
      "Mem. usage decreased to 181.20 Mb (75.0% reduction)\n"
     ]
    }
   ],
   "source": [
    "creative_id_em = pd.DataFrame(load_pickle(pickle_path + 'creative_id_embedding_matrix.pickle').astype(float))\n",
    "reduce_mem_usage(creative_id_em)\n",
    "\n",
    "ad_id_em = pd.DataFrame(load_pickle(pickle_path + 'ad_id_embedding_matrix.pickle').astype(float))\n",
    "reduce_mem_usage(ad_id_em)\n",
    "\n",
    "advertiser_id_em = pd.DataFrame(load_pickle(pickle_path + 'advertiser_id_embedding_matrix.pickle').astype(float))\n",
    "reduce_mem_usage(advertiser_id_em)\n",
    "\n",
    "product_id_em = pd.DataFrame(load_pickle(pickle_path + 'product_id_embedding_matrix.pickle').astype(float))\n",
    "reduce_mem_usage(product_id_em)\n"
   ]
  },
  {
   "cell_type": "code",
   "execution_count": 58,
   "metadata": {
    "ExecuteTime": {
     "end_time": "2020-05-23T13:23:37.178937Z",
     "start_time": "2020-05-23T13:19:15.609144Z"
    }
   },
   "outputs": [],
   "source": [
    "train_filter = 700000\n",
    "lr = LogisticRegression(solver='lbfgs', multi_class='ovr', n_jobs=4)\n",
    "lr_model = lr.fit(embedding_matrix[0:train_filter], user_ids['gender'][0:train_filter])\n",
    "lr_pred = lr_model.predict(embedding_matrix[train_filter:900000])"
   ]
  },
  {
   "cell_type": "code",
   "execution_count": 59,
   "metadata": {
    "ExecuteTime": {
     "end_time": "2020-05-23T13:28:17.733706Z",
     "start_time": "2020-05-23T13:28:17.640931Z"
    }
   },
   "outputs": [
    {
     "data": {
      "text/plain": [
       "(0.915715, (200000,))"
      ]
     },
     "execution_count": 59,
     "metadata": {},
     "output_type": "execute_result"
    }
   ],
   "source": [
    "lr_pred_r = np.rint(lr_pred)\n",
    "lr_pred_r = np.clip(lr_pred_r, 1, 2)\n",
    "gender_accuracy = accuracy_score(user_ids['gender'][train_filter:900000], lr_pred_r)\n",
    "gender_accuracy,lr_pred_r.shape"
   ]
  },
  {
   "cell_type": "code",
   "execution_count": 5,
   "metadata": {
    "ExecuteTime": {
     "end_time": "2020-05-20T00:09:51.238493Z",
     "start_time": "2020-05-20T00:03:51.517725Z"
    },
    "collapsed": true
   },
   "outputs": [
    {
     "name": "stdout",
     "output_type": "stream",
     "text": [
      "training......fold 0\n",
      "Training until validation scores don't improve for 200 rounds.\n",
      "[100]\tvalid_0's l1: 1.51141\n"
     ]
    },
    {
     "ename": "KeyboardInterrupt",
     "evalue": "",
     "output_type": "error",
     "traceback": [
      "\u001b[1;31m---------------------------------------------------------------------------\u001b[0m",
      "\u001b[1;31mKeyboardInterrupt\u001b[0m                         Traceback (most recent call last)",
      "\u001b[1;32m<ipython-input-5-f815db8365c1>\u001b[0m in \u001b[0;36m<module>\u001b[1;34m\u001b[0m\n\u001b[0;32m     65\u001b[0m     \u001b[1;32mreturn\u001b[0m \u001b[0mpreds\u001b[0m\u001b[1;33m,\u001b[0m \u001b[0moof\u001b[0m\u001b[1;33m\u001b[0m\u001b[1;33m\u001b[0m\u001b[0m\n\u001b[0;32m     66\u001b[0m \u001b[1;31m#gender_pre, gender_oof = lr_pred('gender')\u001b[0m\u001b[1;33m\u001b[0m\u001b[1;33m\u001b[0m\u001b[1;33m\u001b[0m\u001b[0m\n\u001b[1;32m---> 67\u001b[1;33m \u001b[0mage_pre\u001b[0m\u001b[1;33m,\u001b[0m \u001b[0mage_oof\u001b[0m \u001b[1;33m=\u001b[0m \u001b[0mlr_pred\u001b[0m\u001b[1;33m(\u001b[0m\u001b[1;34m'age'\u001b[0m\u001b[1;33m)\u001b[0m\u001b[1;33m\u001b[0m\u001b[1;33m\u001b[0m\u001b[0m\n\u001b[0m",
      "\u001b[1;32m<ipython-input-5-f815db8365c1>\u001b[0m in \u001b[0;36mlr_pred\u001b[1;34m(pred_y)\u001b[0m\n\u001b[0;32m     52\u001b[0m                 \u001b[0mlgb_model\u001b[0m \u001b[1;33m=\u001b[0m \u001b[0mlgb\u001b[0m\u001b[1;33m.\u001b[0m\u001b[0mLGBMRegressor\u001b[0m\u001b[1;33m(\u001b[0m\u001b[1;33m**\u001b[0m\u001b[0mlgb_params\u001b[0m\u001b[1;33m)\u001b[0m\u001b[1;33m\u001b[0m\u001b[1;33m\u001b[0m\u001b[0m\n\u001b[0;32m     53\u001b[0m                 lgb_model = lgb_model.fit(k_x_train, k_y_train, eval_set=[(k_x_vali, k_y_vali)],\n\u001b[1;32m---> 54\u001b[1;33m                                           \u001b[0mearly_stopping_rounds\u001b[0m\u001b[1;33m=\u001b[0m\u001b[1;36m200\u001b[0m\u001b[1;33m,\u001b[0m \u001b[0mverbose\u001b[0m\u001b[1;33m=\u001b[0m\u001b[1;36m100\u001b[0m\u001b[1;33m,\u001b[0m \u001b[0meval_metric\u001b[0m\u001b[1;33m=\u001b[0m\u001b[1;34m\"mae\"\u001b[0m\u001b[1;33m,\u001b[0m\u001b[1;33m\u001b[0m\u001b[1;33m\u001b[0m\u001b[0m\n\u001b[0m\u001b[0;32m     55\u001b[0m                                           )\n\u001b[0;32m     56\u001b[0m                 \u001b[0mk_pred\u001b[0m \u001b[1;33m=\u001b[0m \u001b[0mlgb_model\u001b[0m\u001b[1;33m.\u001b[0m\u001b[0mpredict\u001b[0m\u001b[1;33m(\u001b[0m\u001b[0mk_x_vali\u001b[0m\u001b[1;33m,\u001b[0m \u001b[0mnum_iteration\u001b[0m\u001b[1;33m=\u001b[0m\u001b[0mlgb_model\u001b[0m\u001b[1;33m.\u001b[0m\u001b[0mbest_iteration_\u001b[0m\u001b[1;33m)\u001b[0m\u001b[1;33m\u001b[0m\u001b[1;33m\u001b[0m\u001b[0m\n",
      "\u001b[1;32mc:\\python37\\lib\\site-packages\\lightgbm\\sklearn.py\u001b[0m in \u001b[0;36mfit\u001b[1;34m(self, X, y, sample_weight, init_score, eval_set, eval_names, eval_sample_weight, eval_init_score, eval_metric, early_stopping_rounds, verbose, feature_name, categorical_feature, callbacks)\u001b[0m\n\u001b[0;32m    734\u001b[0m                                        \u001b[0mverbose\u001b[0m\u001b[1;33m=\u001b[0m\u001b[0mverbose\u001b[0m\u001b[1;33m,\u001b[0m \u001b[0mfeature_name\u001b[0m\u001b[1;33m=\u001b[0m\u001b[0mfeature_name\u001b[0m\u001b[1;33m,\u001b[0m\u001b[1;33m\u001b[0m\u001b[1;33m\u001b[0m\u001b[0m\n\u001b[0;32m    735\u001b[0m                                        \u001b[0mcategorical_feature\u001b[0m\u001b[1;33m=\u001b[0m\u001b[0mcategorical_feature\u001b[0m\u001b[1;33m,\u001b[0m\u001b[1;33m\u001b[0m\u001b[1;33m\u001b[0m\u001b[0m\n\u001b[1;32m--> 736\u001b[1;33m                                        callbacks=callbacks)\n\u001b[0m\u001b[0;32m    737\u001b[0m         \u001b[1;32mreturn\u001b[0m \u001b[0mself\u001b[0m\u001b[1;33m\u001b[0m\u001b[1;33m\u001b[0m\u001b[0m\n\u001b[0;32m    738\u001b[0m \u001b[1;33m\u001b[0m\u001b[0m\n",
      "\u001b[1;32mc:\\python37\\lib\\site-packages\\lightgbm\\sklearn.py\u001b[0m in \u001b[0;36mfit\u001b[1;34m(self, X, y, sample_weight, init_score, group, eval_set, eval_names, eval_sample_weight, eval_class_weight, eval_init_score, eval_group, eval_metric, early_stopping_rounds, verbose, feature_name, categorical_feature, callbacks)\u001b[0m\n\u001b[0;32m    591\u001b[0m                               \u001b[0mverbose_eval\u001b[0m\u001b[1;33m=\u001b[0m\u001b[0mverbose\u001b[0m\u001b[1;33m,\u001b[0m \u001b[0mfeature_name\u001b[0m\u001b[1;33m=\u001b[0m\u001b[0mfeature_name\u001b[0m\u001b[1;33m,\u001b[0m\u001b[1;33m\u001b[0m\u001b[1;33m\u001b[0m\u001b[0m\n\u001b[0;32m    592\u001b[0m                               \u001b[0mcategorical_feature\u001b[0m\u001b[1;33m=\u001b[0m\u001b[0mcategorical_feature\u001b[0m\u001b[1;33m,\u001b[0m\u001b[1;33m\u001b[0m\u001b[1;33m\u001b[0m\u001b[0m\n\u001b[1;32m--> 593\u001b[1;33m                               callbacks=callbacks)\n\u001b[0m\u001b[0;32m    594\u001b[0m \u001b[1;33m\u001b[0m\u001b[0m\n\u001b[0;32m    595\u001b[0m         \u001b[1;32mif\u001b[0m \u001b[0mevals_result\u001b[0m\u001b[1;33m:\u001b[0m\u001b[1;33m\u001b[0m\u001b[1;33m\u001b[0m\u001b[0m\n",
      "\u001b[1;32mc:\\python37\\lib\\site-packages\\lightgbm\\engine.py\u001b[0m in \u001b[0;36mtrain\u001b[1;34m(params, train_set, num_boost_round, valid_sets, valid_names, fobj, feval, init_model, feature_name, categorical_feature, early_stopping_rounds, evals_result, verbose_eval, learning_rates, keep_training_booster, callbacks)\u001b[0m\n\u001b[0;32m    246\u001b[0m                                     evaluation_result_list=None))\n\u001b[0;32m    247\u001b[0m \u001b[1;33m\u001b[0m\u001b[0m\n\u001b[1;32m--> 248\u001b[1;33m         \u001b[0mbooster\u001b[0m\u001b[1;33m.\u001b[0m\u001b[0mupdate\u001b[0m\u001b[1;33m(\u001b[0m\u001b[0mfobj\u001b[0m\u001b[1;33m=\u001b[0m\u001b[0mfobj\u001b[0m\u001b[1;33m)\u001b[0m\u001b[1;33m\u001b[0m\u001b[1;33m\u001b[0m\u001b[0m\n\u001b[0m\u001b[0;32m    249\u001b[0m \u001b[1;33m\u001b[0m\u001b[0m\n\u001b[0;32m    250\u001b[0m         \u001b[0mevaluation_result_list\u001b[0m \u001b[1;33m=\u001b[0m \u001b[1;33m[\u001b[0m\u001b[1;33m]\u001b[0m\u001b[1;33m\u001b[0m\u001b[1;33m\u001b[0m\u001b[0m\n",
      "\u001b[1;32mc:\\python37\\lib\\site-packages\\lightgbm\\basic.py\u001b[0m in \u001b[0;36mupdate\u001b[1;34m(self, train_set, fobj)\u001b[0m\n\u001b[0;32m   1917\u001b[0m             _safe_call(_LIB.LGBM_BoosterUpdateOneIter(\n\u001b[0;32m   1918\u001b[0m                 \u001b[0mself\u001b[0m\u001b[1;33m.\u001b[0m\u001b[0mhandle\u001b[0m\u001b[1;33m,\u001b[0m\u001b[1;33m\u001b[0m\u001b[1;33m\u001b[0m\u001b[0m\n\u001b[1;32m-> 1919\u001b[1;33m                 ctypes.byref(is_finished)))\n\u001b[0m\u001b[0;32m   1920\u001b[0m             \u001b[0mself\u001b[0m\u001b[1;33m.\u001b[0m\u001b[0m__is_predicted_cur_iter\u001b[0m \u001b[1;33m=\u001b[0m \u001b[1;33m[\u001b[0m\u001b[1;32mFalse\u001b[0m \u001b[1;32mfor\u001b[0m \u001b[0m_\u001b[0m \u001b[1;32min\u001b[0m \u001b[0mrange_\u001b[0m\u001b[1;33m(\u001b[0m\u001b[0mself\u001b[0m\u001b[1;33m.\u001b[0m\u001b[0m__num_dataset\u001b[0m\u001b[1;33m)\u001b[0m\u001b[1;33m]\u001b[0m\u001b[1;33m\u001b[0m\u001b[1;33m\u001b[0m\u001b[0m\n\u001b[0;32m   1921\u001b[0m             \u001b[1;32mreturn\u001b[0m \u001b[0mis_finished\u001b[0m\u001b[1;33m.\u001b[0m\u001b[0mvalue\u001b[0m \u001b[1;33m==\u001b[0m \u001b[1;36m1\u001b[0m\u001b[1;33m\u001b[0m\u001b[1;33m\u001b[0m\u001b[0m\n",
      "\u001b[1;31mKeyboardInterrupt\u001b[0m: "
     ]
    }
   ],
   "source": [
    "from sklearn.model_selection import KFold\n",
    "from sklearn.model_selection import StratifiedKFold\n",
    "import lightgbm as lgb\n",
    "lgb_params = {\n",
    "    'boosting_type': 'gbdt',\n",
    "    'objective': 'regression',\n",
    "    'n_estimators': 1000,\n",
    "    'metric': 'mae',\n",
    "    'learning_rate': 0.01,\n",
    "    'min_child_samples': 5,\n",
    "    'min_child_weight': 0.01,\n",
    "    'subsample_freq': 1,\n",
    "    'num_leaves': 31,\n",
    "    'max_depth': -1,\n",
    "    'subsample': 0.8,\n",
    "    'colsample_bytree': 0.6,\n",
    "    'reg_alpha': 0,\n",
    "    'reg_lambda': 5,\n",
    "    'verbose': -1,\n",
    "    'random_state': 4590,\n",
    "    'n_jobs': 4,\n",
    "}\n",
    "logging.basicConfig(\n",
    "    format='%(asctime)s:%(levelname)s:%(message)s', level=logging.INFO)\n",
    "def lr_pred(pred_y):\n",
    "    cv = True\n",
    "    model_type = 'lgb'\n",
    "    seed = 2020\n",
    "    train_filter = 700000\n",
    "    train_x = creative_id_tfidf_matrix[0:train_filter]\n",
    "    train_y = user_ids[pred_y][0:train_filter]\n",
    "    test_x =  creative_id_tfidf_matrix[train_filter:900000]\n",
    "    if cv:\n",
    "        n_fold = 2\n",
    "        count_fold = 0\n",
    "        preds_list = list()\n",
    "        oof = np.zeros(train_x.shape[0])\n",
    "        kfolder = KFold(n_splits=n_fold, shuffle=True, random_state=seed)\n",
    "        kfold = kfolder.split(train_x, train_y)\n",
    "        for train_index, vali_index in kfold:\n",
    "            print(\"training......fold\",count_fold)\n",
    "            count_fold = count_fold + 1\n",
    "            k_x_train = train_x[train_index]\n",
    "            k_y_train = train_y[train_index]\n",
    "            k_x_vali = train_x[vali_index]\n",
    "            k_y_vali = train_y[vali_index]\n",
    "            if model_type == 'lgb':\n",
    "#                 reg = LogisticRegression(solver='lbfgs', multi_class='multinomial', n_jobs=-1)\n",
    "#                 reg_model = reg.fit(k_x_train, k_y_train)\n",
    "#                 k_pred = reg_model.predict(k_x_vali)\n",
    "#                 pred = reg_model.predict(test_x)\n",
    "                lgb_model = lgb.LGBMRegressor(**lgb_params)\n",
    "                lgb_model = lgb_model.fit(k_x_train, k_y_train, eval_set=[(k_x_vali, k_y_vali)],\n",
    "                                          early_stopping_rounds=200, verbose=100, eval_metric=\"mae\",\n",
    "                                          )\n",
    "                k_pred = lgb_model.predict(k_x_vali, num_iteration=lgb_model.best_iteration_)\n",
    "                pred = lgb_model.predict(test_x, num_iteration=lgb_model.best_iteration_)\n",
    "            preds_list.append(pred)\n",
    "            oof[vali_index] = k_pred\n",
    "    preds_columns = ['preds_{id}'.format(id=i) for i in range(n_fold)]\n",
    "    preds_df = pd.DataFrame(data=preds_list)\n",
    "    preds_df = preds_df.T\n",
    "    preds_df.columns = preds_columns\n",
    "    preds = list(preds_df.mean(axis=1))\n",
    "    return preds, oof\n",
    "#gender_pre, gender_oof = lr_pred('gender')\n",
    "age_pre, age_oof = lr_pred('age')"
   ]
  },
  {
   "cell_type": "markdown",
   "metadata": {},
   "source": [
    "(0.920505, (200000,))  \n",
    "(0.921845, (200000,))  +ad  \n",
    "(0.923885, (200000,))  \n",
    "(0.92392, (200000,))  all 5  \n"
   ]
  },
  {
   "cell_type": "code",
   "execution_count": 30,
   "metadata": {
    "ExecuteTime": {
     "end_time": "2020-05-19T14:43:38.479690Z",
     "start_time": "2020-05-19T14:43:38.418853Z"
    }
   },
   "outputs": [
    {
     "data": {
      "text/plain": [
       "(0.91048, (200000,))"
      ]
     },
     "execution_count": 30,
     "metadata": {},
     "output_type": "execute_result"
    }
   ],
   "source": [
    "lr_pred_r = np.rint(gender_pre)\n",
    "lr_pred_r = np.clip(lr_pred_r, 1, 2)\n",
    "gender_accuracy = accuracy_score(user_ids['gender'][train_filter:900000], lr_pred_r)\n",
    "gender_accuracy,lr_pred_r.shape"
   ]
  },
  {
   "cell_type": "code",
   "execution_count": 56,
   "metadata": {
    "ExecuteTime": {
     "end_time": "2020-05-22T23:56:28.495568Z",
     "start_time": "2020-05-22T23:56:28.454920Z"
    }
   },
   "outputs": [],
   "source": [
    "def lgb_class(pred_y, num_class):    \n",
    "    lgb_params = {  \n",
    "        'boosting_type': 'gbdt',  \n",
    "        'objective': 'multiclass',  \n",
    "        'num_class': num_class,  \n",
    "        'metric': 'multi_error',  \n",
    "        'num_leaves': 31,  \n",
    "        'learning_rate': 0.05,  \n",
    "        'feature_fraction': 0.8,  \n",
    "        'bagging_fraction': 0.8,  \n",
    "        'bagging_freq': 5,  \n",
    "        'lambda_l1': 1,  \n",
    "        'lambda_l2': 5,  \n",
    "        'min_gain_to_split': 0.2,  \n",
    "        'verbose': -1, \n",
    "        'n_jobs':6\n",
    "    }\n",
    "    \n",
    "    \n",
    "    train_filter = 700000\n",
    "    train_x = creative_id_tfidf_matrix[0:train_filter]\n",
    "    train_y = (user_ids[pred_y]-1)[0:train_filter].astype(np.int)\n",
    "    test_x =  creative_id_tfidf_matrix[train_filter:900000]\n",
    "\n",
    "\n",
    "    n_fold = 2\n",
    "    result = np.zeros((test_x.shape[0],2))\n",
    "    oof = np.zeros((train_x.shape[0],2))\n",
    "    skf = StratifiedKFold(n_splits=n_fold, shuffle=True, random_state=2019)\n",
    "    kfold = skf.split(train_x, train_y)\n",
    "    count_fold = 0\n",
    "    for train_index, vali_index in kfold:\n",
    "        print(\"training......fold\",count_fold)\n",
    "        count_fold = count_fold + 1\n",
    "        k_x_train = train_x[train_index]\n",
    "        k_y_train = train_y[train_index]\n",
    "        k_x_vali = train_x[vali_index]\n",
    "        k_y_vali = train_y[vali_index]\n",
    "\n",
    "\n",
    "        trn = lgb.Dataset(k_x_train, k_y_train)\n",
    "        val = lgb.Dataset(k_x_vali, k_y_vali)\n",
    "        lgb_model = lgb.train(lgb_params, train_set=trn, valid_sets=[trn, val],\n",
    "                      num_boost_round=4000,early_stopping_rounds=200, verbose_eval=50)\n",
    "        test_pred_proba = lgb_model.predict(test_x, num_iteration=lgb_model.best_iteration)\n",
    "        val_pred_proba = lgb_model.predict(k_x_vali, num_iteration=lgb_model.best_iteration)\n",
    "\n",
    "        result = result + test_pred_proba\n",
    "        oof[vali_index] = val_pred_proba\n",
    "    return result, oof"
   ]
  },
  {
   "cell_type": "code",
   "execution_count": 57,
   "metadata": {
    "ExecuteTime": {
     "end_time": "2020-05-22T23:58:21.852413Z",
     "start_time": "2020-05-22T23:58:20.861649Z"
    }
   },
   "outputs": [
    {
     "ename": "NameError",
     "evalue": "name 'StratifiedKFold' is not defined",
     "output_type": "error",
     "traceback": [
      "\u001b[1;31m---------------------------------------------------------------------------\u001b[0m",
      "\u001b[1;31mNameError\u001b[0m                                 Traceback (most recent call last)",
      "\u001b[1;32m<ipython-input-57-cf8fe4a6d89b>\u001b[0m in \u001b[0;36m<module>\u001b[1;34m\u001b[0m\n\u001b[1;32m----> 1\u001b[1;33m \u001b[0mage_pre\u001b[0m\u001b[1;33m,\u001b[0m \u001b[0mage_oof\u001b[0m \u001b[1;33m=\u001b[0m \u001b[0mlgb_class\u001b[0m\u001b[1;33m(\u001b[0m\u001b[1;34m'age'\u001b[0m\u001b[1;33m,\u001b[0m\u001b[1;36m10\u001b[0m\u001b[1;33m)\u001b[0m\u001b[1;33m\u001b[0m\u001b[1;33m\u001b[0m\u001b[0m\n\u001b[0m",
      "\u001b[1;32m<ipython-input-56-807ba3ebb094>\u001b[0m in \u001b[0;36mlgb_class\u001b[1;34m(pred_y, num_class)\u001b[0m\n\u001b[0;32m     27\u001b[0m     \u001b[0mresult\u001b[0m \u001b[1;33m=\u001b[0m \u001b[0mnp\u001b[0m\u001b[1;33m.\u001b[0m\u001b[0mzeros\u001b[0m\u001b[1;33m(\u001b[0m\u001b[1;33m(\u001b[0m\u001b[0mtest_x\u001b[0m\u001b[1;33m.\u001b[0m\u001b[0mshape\u001b[0m\u001b[1;33m[\u001b[0m\u001b[1;36m0\u001b[0m\u001b[1;33m]\u001b[0m\u001b[1;33m,\u001b[0m\u001b[1;36m2\u001b[0m\u001b[1;33m)\u001b[0m\u001b[1;33m)\u001b[0m\u001b[1;33m\u001b[0m\u001b[1;33m\u001b[0m\u001b[0m\n\u001b[0;32m     28\u001b[0m     \u001b[0moof\u001b[0m \u001b[1;33m=\u001b[0m \u001b[0mnp\u001b[0m\u001b[1;33m.\u001b[0m\u001b[0mzeros\u001b[0m\u001b[1;33m(\u001b[0m\u001b[1;33m(\u001b[0m\u001b[0mtrain_x\u001b[0m\u001b[1;33m.\u001b[0m\u001b[0mshape\u001b[0m\u001b[1;33m[\u001b[0m\u001b[1;36m0\u001b[0m\u001b[1;33m]\u001b[0m\u001b[1;33m,\u001b[0m\u001b[1;36m2\u001b[0m\u001b[1;33m)\u001b[0m\u001b[1;33m)\u001b[0m\u001b[1;33m\u001b[0m\u001b[1;33m\u001b[0m\u001b[0m\n\u001b[1;32m---> 29\u001b[1;33m     \u001b[0mskf\u001b[0m \u001b[1;33m=\u001b[0m \u001b[0mStratifiedKFold\u001b[0m\u001b[1;33m(\u001b[0m\u001b[0mn_splits\u001b[0m\u001b[1;33m=\u001b[0m\u001b[0mn_fold\u001b[0m\u001b[1;33m,\u001b[0m \u001b[0mshuffle\u001b[0m\u001b[1;33m=\u001b[0m\u001b[1;32mTrue\u001b[0m\u001b[1;33m,\u001b[0m \u001b[0mrandom_state\u001b[0m\u001b[1;33m=\u001b[0m\u001b[1;36m2019\u001b[0m\u001b[1;33m)\u001b[0m\u001b[1;33m\u001b[0m\u001b[1;33m\u001b[0m\u001b[0m\n\u001b[0m\u001b[0;32m     30\u001b[0m     \u001b[0mkfold\u001b[0m \u001b[1;33m=\u001b[0m \u001b[0mskf\u001b[0m\u001b[1;33m.\u001b[0m\u001b[0msplit\u001b[0m\u001b[1;33m(\u001b[0m\u001b[0mtrain_x\u001b[0m\u001b[1;33m,\u001b[0m \u001b[0mtrain_y\u001b[0m\u001b[1;33m)\u001b[0m\u001b[1;33m\u001b[0m\u001b[1;33m\u001b[0m\u001b[0m\n\u001b[0;32m     31\u001b[0m     \u001b[0mcount_fold\u001b[0m \u001b[1;33m=\u001b[0m \u001b[1;36m0\u001b[0m\u001b[1;33m\u001b[0m\u001b[1;33m\u001b[0m\u001b[0m\n",
      "\u001b[1;31mNameError\u001b[0m: name 'StratifiedKFold' is not defined"
     ]
    }
   ],
   "source": [
    "age_pre, age_oof = lgb_class('age',10)\n"
   ]
  },
  {
   "cell_type": "code",
   "execution_count": 71,
   "metadata": {
    "ExecuteTime": {
     "end_time": "2020-05-19T22:56:52.048755Z",
     "start_time": "2020-05-19T22:56:52.017822Z"
    }
   },
   "outputs": [
    {
     "data": {
      "text/plain": [
       "0.928275"
      ]
     },
     "execution_count": 71,
     "metadata": {},
     "output_type": "execute_result"
    }
   ],
   "source": [
    "gender_pre2 = gender_pre.argmax(axis=1) + 1\n",
    "gender_accuracy = accuracy_score(user_ids['gender'][train_filter:900000], gender_pre2)\n",
    "gender_accuracy\n"
   ]
  },
  {
   "cell_type": "code",
   "execution_count": 42,
   "metadata": {
    "ExecuteTime": {
     "end_time": "2020-05-19T15:24:10.077644Z",
     "start_time": "2020-05-19T15:24:09.985919Z"
    }
   },
   "outputs": [
    {
     "data": {
      "text/plain": [
       "(0.33007, (200000,))"
      ]
     },
     "execution_count": 42,
     "metadata": {},
     "output_type": "execute_result"
    }
   ],
   "source": [
    "lr_pred_r = np.rint(gender_pre)\n",
    "lr_pred_r = np.clip(lr_pred_r, 1, 2)\n",
    "gender_accuracy = accuracy_score(user_ids['gender'][train_filter:900000], lr_pred_r)\n",
    "gender_accuracy,lr_pred_r.shape"
   ]
  },
  {
   "cell_type": "markdown",
   "metadata": {
    "ExecuteTime": {
     "end_time": "2020-05-19T15:35:00.386989Z",
     "start_time": "2020-05-19T15:35:00.382002Z"
    }
   },
   "source": [
    "0.928275"
   ]
  },
  {
   "cell_type": "code",
   "execution_count": null,
   "metadata": {},
   "outputs": [],
   "source": []
  }
 ],
 "metadata": {
  "kernelspec": {
   "display_name": "Python 3",
   "language": "python",
   "name": "python3"
  },
  "language_info": {
   "codemirror_mode": {
    "name": "ipython",
    "version": 3
   },
   "file_extension": ".py",
   "mimetype": "text/x-python",
   "name": "python",
   "nbconvert_exporter": "python",
   "pygments_lexer": "ipython3",
   "version": "3.7.4rc1"
  },
  "toc": {
   "base_numbering": 1,
   "nav_menu": {},
   "number_sections": true,
   "sideBar": true,
   "skip_h1_title": false,
   "title_cell": "Table of Contents",
   "title_sidebar": "Contents",
   "toc_cell": false,
   "toc_position": {},
   "toc_section_display": true,
   "toc_window_display": false
  },
  "varInspector": {
   "cols": {
    "lenName": 16,
    "lenType": 16,
    "lenVar": 40
   },
   "kernels_config": {
    "python": {
     "delete_cmd_postfix": "",
     "delete_cmd_prefix": "del ",
     "library": "var_list.py",
     "varRefreshCmd": "print(var_dic_list())"
    },
    "r": {
     "delete_cmd_postfix": ") ",
     "delete_cmd_prefix": "rm(",
     "library": "var_list.r",
     "varRefreshCmd": "cat(var_dic_list()) "
    }
   },
   "position": {
    "height": "865.8px",
    "left": "1613px",
    "right": "20px",
    "top": "78px",
    "width": "350px"
   },
   "types_to_exclude": [
    "module",
    "function",
    "builtin_function_or_method",
    "instance",
    "_Feature"
   ],
   "window_display": true
  }
 },
 "nbformat": 4,
 "nbformat_minor": 2
}

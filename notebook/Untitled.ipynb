{
 "cells": [
  {
   "cell_type": "code",
   "execution_count": 26,
   "metadata": {
    "ExecuteTime": {
     "end_time": "2020-05-30T01:03:09.035917Z",
     "start_time": "2020-05-30T01:03:08.929205Z"
    }
   },
   "outputs": [
    {
     "name": "stdout",
     "output_type": "stream",
     "text": [
      "-2 0 -1563847412\n",
      "-1 -2 -156384741\n",
      "-4 -21 -15638474\n",
      "-7 -214 -1563847\n",
      "-4 -2147 -156384\n",
      "-8 -21474 -15638\n",
      "-3 -214748 -1563\n",
      "-6 -2147483 -156\n",
      "-5 -21474836 -15\n",
      "-1 -214748365 -1\n"
     ]
    },
    {
     "data": {
      "text/plain": [
       "0"
      ]
     },
     "execution_count": 26,
     "metadata": {},
     "output_type": "execute_result"
    }
   ],
   "source": [
    "def reverse(x: int) -> int:\n",
    "        ans = 0\n",
    "        mmax = int((2**31-1)/10)\n",
    "        mmin = int(-(2**31)/10)\n",
    "        while ( x != 0):\n",
    "            if x < 0:\n",
    "                y = -x\n",
    "                pop = -(y % 10)\n",
    "            else:\n",
    "                y = x\n",
    "                pop = y % 10\n",
    "\n",
    "            if (ans > mmax) | ( (ans==mmax) & (pop>7)):\n",
    "                return 0\n",
    "            if (ans < mmin) | ( (ans==mmax) & (pop<-8)):\n",
    "                return 0\n",
    "            ans = ans * 10 + pop\n",
    "            x = int(x/10)\n",
    "        return ans\n",
    "reverse(-1563847412)"
   ]
  },
  {
   "cell_type": "code",
   "execution_count": 18,
   "metadata": {
    "ExecuteTime": {
     "end_time": "2020-05-30T00:56:14.496388Z",
     "start_time": "2020-05-30T00:56:14.480430Z"
    }
   },
   "outputs": [
    {
     "data": {
      "text/plain": [
       "-123"
      ]
     },
     "execution_count": 18,
     "metadata": {},
     "output_type": "execute_result"
    }
   ],
   "source": [
    "int(-123)"
   ]
  }
 ],
 "metadata": {
  "kernelspec": {
   "display_name": "Python 3",
   "language": "python",
   "name": "python3"
  },
  "language_info": {
   "codemirror_mode": {
    "name": "ipython",
    "version": 3
   },
   "file_extension": ".py",
   "mimetype": "text/x-python",
   "name": "python",
   "nbconvert_exporter": "python",
   "pygments_lexer": "ipython3",
   "version": "3.7.4rc1"
  },
  "toc": {
   "base_numbering": 1,
   "nav_menu": {},
   "number_sections": true,
   "sideBar": true,
   "skip_h1_title": false,
   "title_cell": "Table of Contents",
   "title_sidebar": "Contents",
   "toc_cell": false,
   "toc_position": {},
   "toc_section_display": true,
   "toc_window_display": false
  },
  "varInspector": {
   "cols": {
    "lenName": 16,
    "lenType": 16,
    "lenVar": 40
   },
   "kernels_config": {
    "python": {
     "delete_cmd_postfix": "",
     "delete_cmd_prefix": "del ",
     "library": "var_list.py",
     "varRefreshCmd": "print(var_dic_list())"
    },
    "r": {
     "delete_cmd_postfix": ") ",
     "delete_cmd_prefix": "rm(",
     "library": "var_list.r",
     "varRefreshCmd": "cat(var_dic_list()) "
    }
   },
   "types_to_exclude": [
    "module",
    "function",
    "builtin_function_or_method",
    "instance",
    "_Feature"
   ],
   "window_display": false
  }
 },
 "nbformat": 4,
 "nbformat_minor": 2
}

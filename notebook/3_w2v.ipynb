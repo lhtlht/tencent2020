{
 "cells": [
  {
   "cell_type": "code",
   "execution_count": 19,
   "metadata": {
    "ExecuteTime": {
     "end_time": "2020-05-31T01:23:34.864062Z",
     "start_time": "2020-05-31T01:23:25.211563Z"
    }
   },
   "outputs": [],
   "source": [
    "import sys\n",
    "import os\n",
    "sys.path.append(r\"..\")\n",
    "\n",
    "from utils import *\n",
    "import pandas as pd\n",
    "import numpy as np\n",
    "from sklearn.model_selection import train_test_split\n",
    "from sklearn.feature_extraction.text import TfidfTransformer\n",
    "from sklearn.feature_extraction.text import CountVectorizer\n",
    "from sklearn.naive_bayes import MultinomialNB\n",
    "from sklearn.linear_model import LogisticRegression\n",
    "\n",
    "from sklearn.metrics import accuracy_score,roc_auc_score,f1_score,recall_score\n",
    "from gensim import models\n",
    "from scipy import sparse\n",
    "from scipy.sparse import csr_matrix, coo_matrix \n",
    "path_build = \"../../data/tencent2020/build/\"\n",
    "path_save = \"../../data/tencent2020/save/\"\n",
    "pickle_path = \"../../data/tencent2020/pickle\"\n",
    "sub_path = \"../../data/tencent2020/sub\"\n",
    "\n",
    "train_preliminary_p = path_build + \"train_preliminary/\"\n",
    "\n",
    "if not os.path.exists(pickle_path):\n",
    "    os.mkdir(pickle_path) \n",
    "if not os.path.exists(sub_path):\n",
    "    os.mkdir(sub_path)"
   ]
  },
  {
   "cell_type": "code",
   "execution_count": 20,
   "metadata": {
    "ExecuteTime": {
     "end_time": "2020-05-31T01:24:21.653946Z",
     "start_time": "2020-05-31T01:23:34.876030Z"
    }
   },
   "outputs": [
    {
     "data": {
      "text/html": [
       "<div>\n",
       "<style scoped>\n",
       "    .dataframe tbody tr th:only-of-type {\n",
       "        vertical-align: middle;\n",
       "    }\n",
       "\n",
       "    .dataframe tbody tr th {\n",
       "        vertical-align: top;\n",
       "    }\n",
       "\n",
       "    .dataframe thead th {\n",
       "        text-align: right;\n",
       "    }\n",
       "</style>\n",
       "<table border=\"1\" class=\"dataframe\">\n",
       "  <thead>\n",
       "    <tr style=\"text-align: right;\">\n",
       "      <th></th>\n",
       "      <th>user_id</th>\n",
       "      <th>creative_id</th>\n",
       "      <th>ad_id</th>\n",
       "      <th>product_id</th>\n",
       "      <th>product_category</th>\n",
       "      <th>advertiser_id</th>\n",
       "      <th>industry</th>\n",
       "      <th>click_times</th>\n",
       "      <th>time</th>\n",
       "      <th>creative_id_times</th>\n",
       "      <th>...</th>\n",
       "      <th>industry_len</th>\n",
       "      <th>mean_clicktimes</th>\n",
       "      <th>max_clicktimes</th>\n",
       "      <th>min_clicktimes</th>\n",
       "      <th>mean_time</th>\n",
       "      <th>max_time</th>\n",
       "      <th>min_time</th>\n",
       "      <th>time_len</th>\n",
       "      <th>age</th>\n",
       "      <th>gender</th>\n",
       "    </tr>\n",
       "  </thead>\n",
       "  <tbody>\n",
       "    <tr>\n",
       "      <th>0</th>\n",
       "      <td>1</td>\n",
       "      <td>[642275, 170988, 685687, 1307085, 100774, 5953...</td>\n",
       "      <td>[581171, 156554, 620126, 1166887, 92441, 55685...</td>\n",
       "      <td>[1, 125, 1, 1, 1132, 1, 1, 1, 1, 1244, 55, 55,...</td>\n",
       "      <td>[5, 2, 5, 5, 2, 18, 5, 5, 18, 2, 2, 2, 2]</td>\n",
       "      <td>[6411, 8522, 26781, 12996, 10113, 13007, 15341...</td>\n",
       "      <td>[323, 7, 104, 323, 1, 323, 73, 214, 64, 235, 2...</td>\n",
       "      <td>[1, 1, 1, 1, 1, 1, 1, 1, 1, 1, 1, 1, 2]</td>\n",
       "      <td>[20, 20, 20, 39, 40, 43, 46, 52, 60, 64, 64, 7...</td>\n",
       "      <td>[3872964, 1123872, 3935014, 706993, 226871, 37...</td>\n",
       "      <td>...</td>\n",
       "      <td>9</td>\n",
       "      <td>1.076923</td>\n",
       "      <td>2</td>\n",
       "      <td>1</td>\n",
       "      <td>47.461538</td>\n",
       "      <td>76</td>\n",
       "      <td>20</td>\n",
       "      <td>10</td>\n",
       "      <td>4.0</td>\n",
       "      <td>1.0</td>\n",
       "    </tr>\n",
       "    <tr>\n",
       "      <th>1</th>\n",
       "      <td>2</td>\n",
       "      <td>[52634, 128035, 32734, 478744, 10372, 349730, ...</td>\n",
       "      <td>[49388, 117016, 31581, 435462, 11432, 318236, ...</td>\n",
       "      <td>[76, 69, 118, 118, 1193, 76, 1, 1064, 1, 1, 10...</td>\n",
       "      <td>[2, 2, 2, 2, 2, 2, 18, 2, 18, 18, 2, 18, 2, 18...</td>\n",
       "      <td>[20681, 9438, 16619, 23545, 705, 20681, 31504,...</td>\n",
       "      <td>[315, 235, 7, 7, 314, 315, 47, 7, 47, 47, 239,...</td>\n",
       "      <td>[1, 1, 1, 1, 1, 1, 1, 1, 1, 1, 1, 1, 1, 1, 1, ...</td>\n",
       "      <td>[10, 11, 14, 17, 28, 28, 28, 38, 38, 39, 41, 4...</td>\n",
       "      <td>[3670932, 575824, 3013599, 3644043, 316325, 34...</td>\n",
       "      <td>...</td>\n",
       "      <td>15</td>\n",
       "      <td>1.022222</td>\n",
       "      <td>2</td>\n",
       "      <td>1</td>\n",
       "      <td>53.822222</td>\n",
       "      <td>90</td>\n",
       "      <td>10</td>\n",
       "      <td>28</td>\n",
       "      <td>10.0</td>\n",
       "      <td>1.0</td>\n",
       "    </tr>\n",
       "    <tr>\n",
       "      <th>2</th>\n",
       "      <td>3</td>\n",
       "      <td>[518448, 632295, 556265, 645498, 466848, 56861...</td>\n",
       "      <td>[470940, 572190, 504577, 584182, 424822, 51556...</td>\n",
       "      <td>[31600, 35900, 1444, 31352, 1444, 1, 1, 857, 1...</td>\n",
       "      <td>[17, 17, 2, 17, 2, 18, 18, 2, 2, 2, 18, 12, 2,...</td>\n",
       "      <td>[30056, 8682, 16554, 12593, 15183, 7955, 7362,...</td>\n",
       "      <td>[1, 1, 319, 1, 319, 7, 54, 7, 319, 319, 202, 2...</td>\n",
       "      <td>[1, 1, 1, 1, 1, 1, 1, 1, 1, 1, 1, 1, 1, 1, 1, ...</td>\n",
       "      <td>[12, 13, 14, 14, 14, 17, 19, 22, 31, 36, 37, 4...</td>\n",
       "      <td>[3698944, 3858546, 3751294, 3877415, 3627528, ...</td>\n",
       "      <td>...</td>\n",
       "      <td>8</td>\n",
       "      <td>1.000000</td>\n",
       "      <td>1</td>\n",
       "      <td>1</td>\n",
       "      <td>50.266667</td>\n",
       "      <td>88</td>\n",
       "      <td>12</td>\n",
       "      <td>23</td>\n",
       "      <td>7.0</td>\n",
       "      <td>2.0</td>\n",
       "    </tr>\n",
       "    <tr>\n",
       "      <th>3</th>\n",
       "      <td>4</td>\n",
       "      <td>[32621, 464022, 452725, 1466785, 1520025, 1750...</td>\n",
       "      <td>[31491, 422207, 412076, 1308931, 1355934, 1558...</td>\n",
       "      <td>[1620, 1, 2363, 33897, 36230, 32982, 34972, 34...</td>\n",
       "      <td>[2, 18, 2, 17, 17, 4, 17, 17, 18, 2, 2, 2, 2, ...</td>\n",
       "      <td>[17456, 7015, 11589, 10744, 21413, 745, 8954, ...</td>\n",
       "      <td>[235, 26, 245, 1, 1, 1, 1, 1, 86, 316, 235, 7,...</td>\n",
       "      <td>[1, 1, 1, 1, 1, 1, 1, 1, 1, 1, 1, 1, 1, 1, 1, ...</td>\n",
       "      <td>[8, 15, 41, 44, 48, 48, 48, 48, 49, 52, 58, 58...</td>\n",
       "      <td>[3000797, 3623682, 3608553, 918527, 988666, 12...</td>\n",
       "      <td>...</td>\n",
       "      <td>10</td>\n",
       "      <td>1.000000</td>\n",
       "      <td>1</td>\n",
       "      <td>1</td>\n",
       "      <td>57.724138</td>\n",
       "      <td>84</td>\n",
       "      <td>8</td>\n",
       "      <td>15</td>\n",
       "      <td>5.0</td>\n",
       "      <td>1.0</td>\n",
       "    </tr>\n",
       "    <tr>\n",
       "      <th>4</th>\n",
       "      <td>5</td>\n",
       "      <td>[238161, 280415, 19832, 35721, 666206, 821172,...</td>\n",
       "      <td>[218107, 256798, 20328, 34244, 602347, 740737,...</td>\n",
       "      <td>[1, 1, 76, 125, 1, 125, 1, 1, 1, 889, 1, 2358,...</td>\n",
       "      <td>[5, 8, 2, 2, 18, 2, 5, 18, 18, 2, 18, 2, 5, 5,...</td>\n",
       "      <td>[10525, 923, 20681, 8526, 35446, 2611, 15865, ...</td>\n",
       "      <td>[294, 1, 315, 7, 319, 7, 285, 319, 316, 235, 3...</td>\n",
       "      <td>[1, 1, 1, 1, 1, 2, 1, 1, 1, 1, 1, 1, 1, 1, 1, ...</td>\n",
       "      <td>[3, 13, 14, 15, 20, 21, 24, 25, 27, 28, 29, 30...</td>\n",
       "      <td>[1996086, 2547847, 1466359, 3357252, 3907306, ...</td>\n",
       "      <td>...</td>\n",
       "      <td>18</td>\n",
       "      <td>1.030303</td>\n",
       "      <td>2</td>\n",
       "      <td>1</td>\n",
       "      <td>44.424242</td>\n",
       "      <td>87</td>\n",
       "      <td>3</td>\n",
       "      <td>26</td>\n",
       "      <td>4.0</td>\n",
       "      <td>1.0</td>\n",
       "    </tr>\n",
       "  </tbody>\n",
       "</table>\n",
       "<p>5 rows × 30 columns</p>\n",
       "</div>"
      ],
      "text/plain": [
       "   user_id                                        creative_id  \\\n",
       "0        1  [642275, 170988, 685687, 1307085, 100774, 5953...   \n",
       "1        2  [52634, 128035, 32734, 478744, 10372, 349730, ...   \n",
       "2        3  [518448, 632295, 556265, 645498, 466848, 56861...   \n",
       "3        4  [32621, 464022, 452725, 1466785, 1520025, 1750...   \n",
       "4        5  [238161, 280415, 19832, 35721, 666206, 821172,...   \n",
       "\n",
       "                                               ad_id  \\\n",
       "0  [581171, 156554, 620126, 1166887, 92441, 55685...   \n",
       "1  [49388, 117016, 31581, 435462, 11432, 318236, ...   \n",
       "2  [470940, 572190, 504577, 584182, 424822, 51556...   \n",
       "3  [31491, 422207, 412076, 1308931, 1355934, 1558...   \n",
       "4  [218107, 256798, 20328, 34244, 602347, 740737,...   \n",
       "\n",
       "                                          product_id  \\\n",
       "0  [1, 125, 1, 1, 1132, 1, 1, 1, 1, 1244, 55, 55,...   \n",
       "1  [76, 69, 118, 118, 1193, 76, 1, 1064, 1, 1, 10...   \n",
       "2  [31600, 35900, 1444, 31352, 1444, 1, 1, 857, 1...   \n",
       "3  [1620, 1, 2363, 33897, 36230, 32982, 34972, 34...   \n",
       "4  [1, 1, 76, 125, 1, 125, 1, 1, 1, 889, 1, 2358,...   \n",
       "\n",
       "                                    product_category  \\\n",
       "0          [5, 2, 5, 5, 2, 18, 5, 5, 18, 2, 2, 2, 2]   \n",
       "1  [2, 2, 2, 2, 2, 2, 18, 2, 18, 18, 2, 18, 2, 18...   \n",
       "2  [17, 17, 2, 17, 2, 18, 18, 2, 2, 2, 18, 12, 2,...   \n",
       "3  [2, 18, 2, 17, 17, 4, 17, 17, 18, 2, 2, 2, 2, ...   \n",
       "4  [5, 8, 2, 2, 18, 2, 5, 18, 18, 2, 18, 2, 5, 5,...   \n",
       "\n",
       "                                       advertiser_id  \\\n",
       "0  [6411, 8522, 26781, 12996, 10113, 13007, 15341...   \n",
       "1  [20681, 9438, 16619, 23545, 705, 20681, 31504,...   \n",
       "2  [30056, 8682, 16554, 12593, 15183, 7955, 7362,...   \n",
       "3  [17456, 7015, 11589, 10744, 21413, 745, 8954, ...   \n",
       "4  [10525, 923, 20681, 8526, 35446, 2611, 15865, ...   \n",
       "\n",
       "                                            industry  \\\n",
       "0  [323, 7, 104, 323, 1, 323, 73, 214, 64, 235, 2...   \n",
       "1  [315, 235, 7, 7, 314, 315, 47, 7, 47, 47, 239,...   \n",
       "2  [1, 1, 319, 1, 319, 7, 54, 7, 319, 319, 202, 2...   \n",
       "3  [235, 26, 245, 1, 1, 1, 1, 1, 86, 316, 235, 7,...   \n",
       "4  [294, 1, 315, 7, 319, 7, 285, 319, 316, 235, 3...   \n",
       "\n",
       "                                         click_times  \\\n",
       "0            [1, 1, 1, 1, 1, 1, 1, 1, 1, 1, 1, 1, 2]   \n",
       "1  [1, 1, 1, 1, 1, 1, 1, 1, 1, 1, 1, 1, 1, 1, 1, ...   \n",
       "2  [1, 1, 1, 1, 1, 1, 1, 1, 1, 1, 1, 1, 1, 1, 1, ...   \n",
       "3  [1, 1, 1, 1, 1, 1, 1, 1, 1, 1, 1, 1, 1, 1, 1, ...   \n",
       "4  [1, 1, 1, 1, 1, 2, 1, 1, 1, 1, 1, 1, 1, 1, 1, ...   \n",
       "\n",
       "                                                time  \\\n",
       "0  [20, 20, 20, 39, 40, 43, 46, 52, 60, 64, 64, 7...   \n",
       "1  [10, 11, 14, 17, 28, 28, 28, 38, 38, 39, 41, 4...   \n",
       "2  [12, 13, 14, 14, 14, 17, 19, 22, 31, 36, 37, 4...   \n",
       "3  [8, 15, 41, 44, 48, 48, 48, 48, 49, 52, 58, 58...   \n",
       "4  [3, 13, 14, 15, 20, 21, 24, 25, 27, 28, 29, 30...   \n",
       "\n",
       "                                   creative_id_times  ... industry_len  \\\n",
       "0  [3872964, 1123872, 3935014, 706993, 226871, 37...  ...            9   \n",
       "1  [3670932, 575824, 3013599, 3644043, 316325, 34...  ...           15   \n",
       "2  [3698944, 3858546, 3751294, 3877415, 3627528, ...  ...            8   \n",
       "3  [3000797, 3623682, 3608553, 918527, 988666, 12...  ...           10   \n",
       "4  [1996086, 2547847, 1466359, 3357252, 3907306, ...  ...           18   \n",
       "\n",
       "  mean_clicktimes max_clicktimes min_clicktimes  mean_time  max_time  \\\n",
       "0        1.076923              2              1  47.461538        76   \n",
       "1        1.022222              2              1  53.822222        90   \n",
       "2        1.000000              1              1  50.266667        88   \n",
       "3        1.000000              1              1  57.724138        84   \n",
       "4        1.030303              2              1  44.424242        87   \n",
       "\n",
       "   min_time  time_len   age  gender  \n",
       "0        20        10   4.0     1.0  \n",
       "1        10        28  10.0     1.0  \n",
       "2        12        23   7.0     2.0  \n",
       "3         8        15   5.0     1.0  \n",
       "4         3        26   4.0     1.0  \n",
       "\n",
       "[5 rows x 30 columns]"
      ]
     },
     "execution_count": 20,
     "metadata": {},
     "output_type": "execute_result"
    }
   ],
   "source": [
    "user_ids = pd.read_pickle(f\"{pickle_path}/user_ids_relencode.pickle\")\n",
    "user = pd.read_csv(train_preliminary_p + \"user.csv\", encoding='utf-8')\n",
    "user_ids = user_ids.merge(user, how='left', on='user_id')\n",
    "user_ids.head()"
   ]
  },
  {
   "cell_type": "code",
   "execution_count": 21,
   "metadata": {
    "ExecuteTime": {
     "end_time": "2020-05-31T07:17:16.505272Z",
     "start_time": "2020-05-31T07:14:02.422587Z"
    }
   },
   "outputs": [
    {
     "name": "stdout",
     "output_type": "stream",
     "text": [
      "{'name': 'creative_id_times', 'size': 128, 'windows': 5, 'min_count': 1, 'version': 2}\n",
      "{'name': 'ad_id_times', 'size': 128, 'windows': 5, 'min_count': 1, 'version': 2}\n",
      "{'name': 'product_id_times', 'size': 64, 'windows': 5, 'min_count': 1, 'version': 2}\n",
      "{'name': 'advertiser_id_times', 'size': 64, 'windows': 5, 'min_count': 1, 'version': 2}\n",
      "{'name': 'product_category_times', 'size': 32, 'windows': 5, 'min_count': 1, 'version': 2}\n",
      "{'name': 'industry_times', 'size': 32, 'windows': 5, 'min_count': 1, 'version': 2}\n"
     ]
    }
   ],
   "source": [
    "w2v_features = [\n",
    "#     {'name':'creative_id', 'size':128, 'windows':5, 'min_count':1, 'version':2},\n",
    "#     {'name':'ad_id', 'size':128, 'windows':5, 'min_count':1, 'version':2},\n",
    "#     {'name':'advertiser_id', 'size':64, 'windows':5, 'min_count':1, 'version':2},\n",
    "#     {'name':'product_id', 'size':64, 'windows':5, 'min_count':1, 'version':2},\n",
    "#     {'name':'industry', 'size':32, 'windows':5, 'min_count':1, 'version':2},\n",
    "#     {'name':'product_category', 'size':16, 'windows':5, 'min_count':1, 'version':2},\n",
    "#     {'name':'time', 'size':16, 'windows':5, 'min_count':1, 'version':2},\n",
    "#     {'name':'click_times', 'size':8, 'windows':5, 'min_count':1, 'version':2},\n",
    "    \n",
    "    {'name':'creative_id_times', 'size':128, 'windows':5, 'min_count':1, 'version':2},\n",
    "    {'name':'ad_id_times', 'size':128, 'windows':5, 'min_count':1, 'version':2},\n",
    "    {'name':'product_id_times', 'size':64, 'windows':5, 'min_count':1, 'version':2},\n",
    "    {'name':'advertiser_id_times', 'size':64, 'windows':5, 'min_count':1, 'version':2},\n",
    "    {'name':'product_category_times', 'size':32, 'windows':5, 'min_count':1, 'version':2},\n",
    "    {'name':'industry_times', 'size':32, 'windows':5, 'min_count':1, 'version':2},\n",
    "]\n",
    "for fea_dict in w2v_features:\n",
    "    print(fea_dict)\n",
    "    name = fea_dict['name']\n",
    "    size = fea_dict['size']\n",
    "    windows = fea_dict['windows']\n",
    "    min_count = fea_dict['min_count']\n",
    "    version = fea_dict['version']\n",
    "    user_ids[name] = user_ids[name].map(lambda x: [str(i) for i in x])\n",
    "    w2v = models.Word2Vec(user_ids[name].values, sg=1, size=size, window=windows, workers=6,hs=1, min_count=min_count,)\n",
    "    w2v.wv.save_word2vec_format(f\"{path_save}/{name}_w2v_{windows}_{version}.bin\",binary=True)\n",
    "\n",
    "    #保存矩阵\n",
    "    #w2v = models.KeyedVectors.load_word2vec_format(f\"{path_save}/{name}_w2v_{size}.bin\",binary=True)\n",
    "    w2v = models.KeyedVectors.load_word2vec_format(f\"{path_save}/{name}_w2v_{windows}_{version}.bin\",binary=True)\n",
    "    w2v_vocab_size = len(w2v.vocab) + 1\n",
    "    w2v_matrix = np.zeros((w2v_vocab_size, w2v.vector_size))\n",
    "    for w in w2v.vocab:\n",
    "        w2v_matrix[int(w)] = w2v[w]\n",
    "    save_pickle(w2v_matrix, f\"{path_save}/{name}_w2v_matrix2.pkl\",)"
   ]
  },
  {
   "cell_type": "code",
   "execution_count": 18,
   "metadata": {},
   "outputs": [],
   "source": [
    "# w2v = models.KeyedVectors.load_word2vec_format(f\"{path_save}/{name}_w2v_{windows}_{version}.bin\",binary=True)\n",
    "# w2v_vocab_size = len(w2v.vocab) + 1\n",
    "# w2v_matrix = np.zeros((w2v_vocab_size, w2v.vector_size))\n",
    "# for w in w2v.vocab:\n",
    "#     w2v_matrix[int(w)] = w2v[w]\n",
    "# save_pickle(w2v_matrix, f\"{path_save}/{name}_w2v_matrix2.pkl\",)"
   ]
  },
  {
   "cell_type": "code",
   "execution_count": 3,
   "metadata": {
    "ExecuteTime": {
     "end_time": "2020-05-30T10:41:58.400686Z",
     "start_time": "2020-05-30T10:36:45.977520Z"
    }
   },
   "outputs": [],
   "source": [
    "user_ids['creative_id'] = user_ids['creative_id'].map(lambda x: [str(i) for i in x])\n",
    "user_ids['ad_id'] = user_ids['ad_id'].map(lambda x: [str(i) for i in x])\n",
    "user_ids['advertiser_id'] = user_ids['advertiser_id'].map(lambda x: [str(i) for i in x])\n",
    "user_ids['product_id'] = user_ids['product_id'].map(lambda x: [str(i) for i in x])\n",
    "user_ids['product_category'] = user_ids['product_category'].map(lambda x: [str(i) for i in x])\n",
    "user_ids['industry'] = user_ids['industry'].map(lambda x: [str(i) for i in x])\n",
    "user_ids['time'] = user_ids['time'].map(lambda x: [str(i) for i in x])\n",
    "user_ids['click_times'] = user_ids['click_times'].map(lambda x: [str(i) for i in x])"
   ]
  },
  {
   "cell_type": "markdown",
   "metadata": {},
   "source": [
    "Word2Vec参数：  \n",
    "hs ({0, 1}, optional) – 1: 采用hierarchical softmax训练模型; 0: 使用负采样。  \n",
    "1.skip-gram （训练速度慢，对罕见字有效），CBOW（训练速度快）。一般选择Skip-gram模型；  \n",
    "\n",
    "2.训练方法：Hierarchical Softmax（对罕见字有利），Negative Sampling（对常见字和低维向量有利）；  \n",
    "\n",
    "3.欠采样频繁词可以提高结果的准确性和速度（1e-3~1e-5）  \n",
    "\n",
    "4.Window大小：Skip-gram通常选择10左右，CBOW通常选择5左右。  "
   ]
  },
  {
   "cell_type": "code",
   "execution_count": 5,
   "metadata": {
    "ExecuteTime": {
     "end_time": "2020-05-27T17:38:09.158261Z",
     "start_time": "2020-05-27T16:10:22.921760Z"
    }
   },
   "outputs": [],
   "source": [
    "# Gen W2V Vector\n",
    "w2v = models.Word2Vec(user_ids['creative_id'].values, sg=1, size=128, window=5, workers=6,hs=1, min_count=1,)\n",
    "w2v.wv.save_word2vec_format(f\"{path_save}/creative_id_w2v_128.bin\",binary=True)\n",
    "\n",
    "#w2v = models.KeyedVectors.load_word2vec_format(f\"{path_save}/creative_id_w2v200.model\")"
   ]
  },
  {
   "cell_type": "code",
   "execution_count": 6,
   "metadata": {
    "ExecuteTime": {
     "end_time": "2020-05-27T19:01:49.322136Z",
     "start_time": "2020-05-27T17:38:09.525306Z"
    }
   },
   "outputs": [],
   "source": [
    "# Gen W2V Vector\n",
    "w2v = models.Word2Vec(user_ids['ad_id'].values, sg=1, size=128, window=5, workers=6, hs=1, min_count=1)\n",
    "w2v.wv.save_word2vec_format(f\"{path_save}/ad_id_w2v_128.bin\", binary=True)\n",
    "\n",
    "#w2v = models.KeyedVectors.load_word2vec_format(f\"{path_save}/creative_id_w2v200.model\")"
   ]
  },
  {
   "cell_type": "code",
   "execution_count": 7,
   "metadata": {
    "ExecuteTime": {
     "end_time": "2020-05-27T19:32:26.558707Z",
     "start_time": "2020-05-27T19:01:49.753558Z"
    }
   },
   "outputs": [],
   "source": [
    "# Gen W2V Vector\n",
    "w2v = models.Word2Vec(user_ids['advertiser_id'].values, sg=1, size=64, window=5, workers=6,hs=1, min_count=1)\n",
    "w2v.wv.save_word2vec_format(f\"{path_save}/advertiser_id_w2v_64.bin\", binary=True)\n",
    "\n",
    "#w2v = models.KeyedVectors.load_word2vec_format(f\"{path_save}/creative_id_w2v200.model\")"
   ]
  },
  {
   "cell_type": "code",
   "execution_count": 8,
   "metadata": {
    "ExecuteTime": {
     "end_time": "2020-05-27T19:46:41.737139Z",
     "start_time": "2020-05-27T19:32:27.037131Z"
    }
   },
   "outputs": [],
   "source": [
    "# Gen W2V Vector\n",
    "w2v = models.Word2Vec(user_ids['product_id'].values, sg=1, size=64, window=5, workers=6, hs=1, min_count=1)\n",
    "w2v.wv.save_word2vec_format(f\"{path_save}/product_id_w2v_64.bin\", binary=True)\n",
    "\n",
    "#w2v = models.KeyedVectors.load_word2vec_format(f\"{path_save}/creative_id_w2v200.model\")"
   ]
  },
  {
   "cell_type": "code",
   "execution_count": 4,
   "metadata": {
    "ExecuteTime": {
     "end_time": "2020-05-30T11:24:57.852457Z",
     "start_time": "2020-05-30T10:44:12.420450Z"
    }
   },
   "outputs": [],
   "source": [
    "w2v = models.Word2Vec(user_ids['industry'].values, sg=1, size=32, window=10, workers=6, hs=1, min_count=1)\n",
    "w2v.wv.save_word2vec_format(f\"{path_save}/industry_w2v_32.bin\", binary=True)\n",
    "\n",
    "w2v = models.Word2Vec(user_ids['product_category'].values, sg=1, size=16, window=10, workers=6, hs=1, min_count=1)\n",
    "w2v.wv.save_word2vec_format(f\"{path_save}/product_category_w2v_16.bin\", binary=True)\n",
    "\n",
    "w2v = models.Word2Vec(user_ids['click_times'].values, sg=1, size=8, window=10, workers=6, hs=1, min_count=1)\n",
    "w2v.wv.save_word2vec_format(f\"{path_save}/click_times_w2v_8.bin\", binary=True)\n",
    "\n",
    "w2v = models.Word2Vec(user_ids['time'].values, sg=1, size=16, window=10, workers=6, hs=1, min_count=1)\n",
    "w2v.wv.save_word2vec_format(f\"{path_save}/time_w2v_16.bin\", binary=True)\n"
   ]
  },
  {
   "cell_type": "code",
   "execution_count": 9,
   "metadata": {
    "ExecuteTime": {
     "end_time": "2020-05-27T20:02:28.052011Z",
     "start_time": "2020-05-27T19:46:42.475185Z"
    }
   },
   "outputs": [],
   "source": [
    "creative_id_v = models.KeyedVectors.load_word2vec_format(f\"{path_save}/creative_id_w2v100.model\")\n",
    "ad_id_v = models.KeyedVectors.load_word2vec_format(f\"{path_save}/ad_id_w2v100.model\")\n",
    "advertiser_id_v = models.KeyedVectors.load_word2vec_format(f\"{path_save}/advertiser_id_w2v50.model\")\n",
    "product_id_v = models.KeyedVectors.load_word2vec_format(f\"{path_save}/product_id_w2v50.model\")\n"
   ]
  },
  {
   "cell_type": "code",
   "execution_count": 16,
   "metadata": {
    "ExecuteTime": {
     "end_time": "2020-05-25T17:58:38.723210Z",
     "start_time": "2020-05-25T17:44:27.724231Z"
    }
   },
   "outputs": [],
   "source": [
    "w2v.wv.save_word2vec_format(f\"{path_save}/creative_id_w2v100.bin\",binary=True)\n",
    "#ad_id_v.wv.save_word2vec_format(f\"{path_save}/ad_id_w2v100.bin\",binary=True)\n",
    "#advertiser_id_v.wv.save_word2vec_format(f\"{path_save}/advertiser_id_w2v50.bin\",binary=True)\n",
    "#product_id_v.wv.save_word2vec_format(f\"{path_save}/product_id_w2v50.bin\",binary=True)"
   ]
  },
  {
   "cell_type": "code",
   "execution_count": 18,
   "metadata": {
    "ExecuteTime": {
     "end_time": "2020-06-04T00:13:59.101678Z",
     "start_time": "2020-06-04T00:13:59.086719Z"
    }
   },
   "outputs": [
    {
     "data": {
      "text/plain": [
       "False"
      ]
     },
     "execution_count": 18,
     "metadata": {},
     "output_type": "execute_result"
    }
   ],
   "source": [
    "def isValid(s: str) -> bool:\n",
    "        m_stack = []\n",
    "        left_p = {'(':')', '[':']', '{':'}'}\n",
    "        for i in s:\n",
    "            if i in left_p:\n",
    "                m_stack.append(i)\n",
    "            else:\n",
    "                if m_stack:\n",
    "                    if i == left_p[m_stack.pop()]:\n",
    "                        continue\n",
    "                    else:\n",
    "                        return False\n",
    "                else:\n",
    "                    return False\n",
    "        if m_stack:\n",
    "            return False\n",
    "        else:\n",
    "            return True\n",
    "isValid(\"{\")    "
   ]
  },
  {
   "cell_type": "code",
   "execution_count": 17,
   "metadata": {
    "ExecuteTime": {
     "end_time": "2020-06-04T00:13:35.549559Z",
     "start_time": "2020-06-04T00:13:35.544573Z"
    }
   },
   "outputs": [
    {
     "name": "stdout",
     "output_type": "stream",
     "text": [
      "1\n"
     ]
    }
   ],
   "source": [
    "a = [1]\n",
    "if a:\n",
    "    print(1)"
   ]
  }
 ],
 "metadata": {
  "kernelspec": {
   "display_name": "Python 3",
   "language": "python",
   "name": "python3"
  },
  "language_info": {
   "codemirror_mode": {
    "name": "ipython",
    "version": 3
   },
   "file_extension": ".py",
   "mimetype": "text/x-python",
   "name": "python",
   "nbconvert_exporter": "python",
   "pygments_lexer": "ipython3",
   "version": "3.7.4rc1"
  },
  "toc": {
   "base_numbering": 1,
   "nav_menu": {},
   "number_sections": true,
   "sideBar": true,
   "skip_h1_title": false,
   "title_cell": "Table of Contents",
   "title_sidebar": "Contents",
   "toc_cell": false,
   "toc_position": {},
   "toc_section_display": true,
   "toc_window_display": false
  },
  "varInspector": {
   "cols": {
    "lenName": 16,
    "lenType": 16,
    "lenVar": 40
   },
   "kernels_config": {
    "python": {
     "delete_cmd_postfix": "",
     "delete_cmd_prefix": "del ",
     "library": "var_list.py",
     "varRefreshCmd": "print(var_dic_list())"
    },
    "r": {
     "delete_cmd_postfix": ") ",
     "delete_cmd_prefix": "rm(",
     "library": "var_list.r",
     "varRefreshCmd": "cat(var_dic_list()) "
    }
   },
   "oldHeight": 696.8,
   "position": {
    "height": "718.4px",
    "left": "1678px",
    "right": "20px",
    "top": "120px",
    "width": "350px"
   },
   "types_to_exclude": [
    "module",
    "function",
    "builtin_function_or_method",
    "instance",
    "_Feature"
   ],
   "varInspector_section_display": "block",
   "window_display": true
  }
 },
 "nbformat": 4,
 "nbformat_minor": 2
}

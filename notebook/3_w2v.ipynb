{
 "cells": [
  {
   "cell_type": "code",
   "execution_count": 1,
   "metadata": {
    "ExecuteTime": {
     "end_time": "2020-05-30T10:23:38.404382Z",
     "start_time": "2020-05-30T10:23:25.321332Z"
    }
   },
   "outputs": [],
   "source": [
    "import sys\n",
    "import os\n",
    "sys.path.append(r\"..\")\n",
    "\n",
    "from utils import *\n",
    "import pandas as pd\n",
    "import numpy as np\n",
    "from sklearn.model_selection import train_test_split\n",
    "from sklearn.feature_extraction.text import TfidfTransformer\n",
    "from sklearn.feature_extraction.text import CountVectorizer\n",
    "from sklearn.naive_bayes import MultinomialNB\n",
    "from sklearn.linear_model import LogisticRegression\n",
    "\n",
    "from sklearn.metrics import accuracy_score,roc_auc_score,f1_score,recall_score\n",
    "from gensim import models\n",
    "from scipy import sparse\n",
    "from scipy.sparse import csr_matrix, coo_matrix \n",
    "path_build = \"../../data/tencent2020/build/\"\n",
    "path_save = \"../../data/tencent2020/save/\"\n",
    "pickle_path = \"../../data/tencent2020/pickle\"\n",
    "sub_path = \"../../data/tencent2020/sub\"\n",
    "\n",
    "train_preliminary_p = path_build + \"train_preliminary/\"\n",
    "\n",
    "if not os.path.exists(pickle_path):\n",
    "    os.mkdir(pickle_path) \n",
    "if not os.path.exists(sub_path):\n",
    "    os.mkdir(sub_path)"
   ]
  },
  {
   "cell_type": "code",
   "execution_count": 2,
   "metadata": {
    "ExecuteTime": {
     "end_time": "2020-05-30T10:25:16.350595Z",
     "start_time": "2020-05-30T10:23:41.542111Z"
    }
   },
   "outputs": [
    {
     "data": {
      "text/html": [
       "<div>\n",
       "<style scoped>\n",
       "    .dataframe tbody tr th:only-of-type {\n",
       "        vertical-align: middle;\n",
       "    }\n",
       "\n",
       "    .dataframe tbody tr th {\n",
       "        vertical-align: top;\n",
       "    }\n",
       "\n",
       "    .dataframe thead th {\n",
       "        text-align: right;\n",
       "    }\n",
       "</style>\n",
       "<table border=\"1\" class=\"dataframe\">\n",
       "  <thead>\n",
       "    <tr style=\"text-align: right;\">\n",
       "      <th></th>\n",
       "      <th>user_id</th>\n",
       "      <th>creative_id</th>\n",
       "      <th>ad_id</th>\n",
       "      <th>product_id</th>\n",
       "      <th>product_category</th>\n",
       "      <th>advertiser_id</th>\n",
       "      <th>industry</th>\n",
       "      <th>click_times</th>\n",
       "      <th>time</th>\n",
       "      <th>creative_id_len</th>\n",
       "      <th>ad_id_len</th>\n",
       "      <th>product_id_len</th>\n",
       "      <th>product_category_len</th>\n",
       "      <th>advertiser_len</th>\n",
       "      <th>industry_len</th>\n",
       "      <th>age</th>\n",
       "      <th>gender</th>\n",
       "    </tr>\n",
       "  </thead>\n",
       "  <tbody>\n",
       "    <tr>\n",
       "      <th>0</th>\n",
       "      <td>1</td>\n",
       "      <td>[642275, 170988, 685687, 1307085, 100774, 5953...</td>\n",
       "      <td>[581171, 156554, 620126, 1166887, 92441, 55685...</td>\n",
       "      <td>[1, 125, 1, 1, 1132, 1, 1, 1, 1, 1244, 55, 55,...</td>\n",
       "      <td>[5, 2, 5, 5, 2, 18, 5, 5, 18, 2, 2, 2, 2]</td>\n",
       "      <td>[6411, 8522, 26781, 12996, 10113, 13007, 15341...</td>\n",
       "      <td>[323, 7, 104, 323, 1, 323, 73, 214, 64, 235, 2...</td>\n",
       "      <td>[1, 1, 1, 1, 1, 1, 1, 1, 1, 1, 1, 1, 2]</td>\n",
       "      <td>[20, 20, 20, 39, 40, 43, 46, 52, 60, 64, 64, 7...</td>\n",
       "      <td>12</td>\n",
       "      <td>12</td>\n",
       "      <td>6</td>\n",
       "      <td>3</td>\n",
       "      <td>12</td>\n",
       "      <td>9</td>\n",
       "      <td>4.0</td>\n",
       "      <td>1.0</td>\n",
       "    </tr>\n",
       "    <tr>\n",
       "      <th>1</th>\n",
       "      <td>2</td>\n",
       "      <td>[52634, 128035, 32734, 478744, 10372, 349730, ...</td>\n",
       "      <td>[49388, 117016, 31581, 435462, 11432, 318236, ...</td>\n",
       "      <td>[76, 69, 118, 118, 1193, 76, 1, 1064, 1, 1, 10...</td>\n",
       "      <td>[2, 2, 2, 2, 2, 2, 18, 2, 18, 18, 2, 18, 2, 18...</td>\n",
       "      <td>[20681, 9438, 16619, 23545, 705, 20681, 31504,...</td>\n",
       "      <td>[315, 235, 7, 7, 314, 315, 47, 7, 47, 47, 239,...</td>\n",
       "      <td>[1, 1, 1, 1, 1, 1, 1, 1, 1, 1, 1, 1, 1, 1, 1, ...</td>\n",
       "      <td>[10, 11, 14, 17, 28, 28, 28, 38, 38, 39, 41, 4...</td>\n",
       "      <td>42</td>\n",
       "      <td>42</td>\n",
       "      <td>20</td>\n",
       "      <td>3</td>\n",
       "      <td>36</td>\n",
       "      <td>15</td>\n",
       "      <td>10.0</td>\n",
       "      <td>1.0</td>\n",
       "    </tr>\n",
       "    <tr>\n",
       "      <th>2</th>\n",
       "      <td>3</td>\n",
       "      <td>[518448, 632295, 556265, 645498, 466848, 56861...</td>\n",
       "      <td>[470940, 572190, 504577, 584182, 424822, 51556...</td>\n",
       "      <td>[31600, 35900, 1444, 31352, 1444, 1, 1, 857, 1...</td>\n",
       "      <td>[17, 17, 2, 17, 2, 18, 18, 2, 2, 2, 18, 12, 2,...</td>\n",
       "      <td>[30056, 8682, 16554, 12593, 15183, 7955, 7362,...</td>\n",
       "      <td>[1, 1, 319, 1, 319, 7, 54, 7, 319, 319, 202, 2...</td>\n",
       "      <td>[1, 1, 1, 1, 1, 1, 1, 1, 1, 1, 1, 1, 1, 1, 1, ...</td>\n",
       "      <td>[12, 13, 14, 14, 14, 17, 19, 22, 31, 36, 37, 4...</td>\n",
       "      <td>30</td>\n",
       "      <td>30</td>\n",
       "      <td>17</td>\n",
       "      <td>6</td>\n",
       "      <td>28</td>\n",
       "      <td>8</td>\n",
       "      <td>7.0</td>\n",
       "      <td>2.0</td>\n",
       "    </tr>\n",
       "    <tr>\n",
       "      <th>3</th>\n",
       "      <td>4</td>\n",
       "      <td>[32621, 464022, 452725, 1466785, 1520025, 1750...</td>\n",
       "      <td>[31491, 422207, 412076, 1308931, 1355934, 1558...</td>\n",
       "      <td>[1620, 1, 2363, 33897, 36230, 32982, 34972, 34...</td>\n",
       "      <td>[2, 18, 2, 17, 17, 4, 17, 17, 18, 2, 2, 2, 2, ...</td>\n",
       "      <td>[17456, 7015, 11589, 10744, 21413, 745, 8954, ...</td>\n",
       "      <td>[235, 26, 245, 1, 1, 1, 1, 1, 86, 316, 235, 7,...</td>\n",
       "      <td>[1, 1, 1, 1, 1, 1, 1, 1, 1, 1, 1, 1, 1, 1, 1, ...</td>\n",
       "      <td>[8, 15, 41, 44, 48, 48, 48, 48, 49, 52, 58, 58...</td>\n",
       "      <td>29</td>\n",
       "      <td>29</td>\n",
       "      <td>18</td>\n",
       "      <td>6</td>\n",
       "      <td>26</td>\n",
       "      <td>10</td>\n",
       "      <td>5.0</td>\n",
       "      <td>1.0</td>\n",
       "    </tr>\n",
       "    <tr>\n",
       "      <th>4</th>\n",
       "      <td>5</td>\n",
       "      <td>[238161, 280415, 19832, 35721, 666206, 821172,...</td>\n",
       "      <td>[218107, 256798, 20328, 34244, 602347, 740737,...</td>\n",
       "      <td>[1, 1, 76, 125, 1, 125, 1, 1, 1, 889, 1, 2358,...</td>\n",
       "      <td>[5, 8, 2, 2, 18, 2, 5, 18, 18, 2, 18, 2, 5, 5,...</td>\n",
       "      <td>[10525, 923, 20681, 8526, 35446, 2611, 15865, ...</td>\n",
       "      <td>[294, 1, 315, 7, 319, 7, 285, 319, 316, 235, 3...</td>\n",
       "      <td>[1, 1, 1, 1, 1, 2, 1, 1, 1, 1, 1, 1, 1, 1, 1, ...</td>\n",
       "      <td>[3, 13, 14, 15, 20, 21, 24, 25, 27, 28, 29, 30...</td>\n",
       "      <td>33</td>\n",
       "      <td>33</td>\n",
       "      <td>7</td>\n",
       "      <td>4</td>\n",
       "      <td>30</td>\n",
       "      <td>18</td>\n",
       "      <td>4.0</td>\n",
       "      <td>1.0</td>\n",
       "    </tr>\n",
       "  </tbody>\n",
       "</table>\n",
       "</div>"
      ],
      "text/plain": [
       "   user_id                                        creative_id  \\\n",
       "0        1  [642275, 170988, 685687, 1307085, 100774, 5953...   \n",
       "1        2  [52634, 128035, 32734, 478744, 10372, 349730, ...   \n",
       "2        3  [518448, 632295, 556265, 645498, 466848, 56861...   \n",
       "3        4  [32621, 464022, 452725, 1466785, 1520025, 1750...   \n",
       "4        5  [238161, 280415, 19832, 35721, 666206, 821172,...   \n",
       "\n",
       "                                               ad_id  \\\n",
       "0  [581171, 156554, 620126, 1166887, 92441, 55685...   \n",
       "1  [49388, 117016, 31581, 435462, 11432, 318236, ...   \n",
       "2  [470940, 572190, 504577, 584182, 424822, 51556...   \n",
       "3  [31491, 422207, 412076, 1308931, 1355934, 1558...   \n",
       "4  [218107, 256798, 20328, 34244, 602347, 740737,...   \n",
       "\n",
       "                                          product_id  \\\n",
       "0  [1, 125, 1, 1, 1132, 1, 1, 1, 1, 1244, 55, 55,...   \n",
       "1  [76, 69, 118, 118, 1193, 76, 1, 1064, 1, 1, 10...   \n",
       "2  [31600, 35900, 1444, 31352, 1444, 1, 1, 857, 1...   \n",
       "3  [1620, 1, 2363, 33897, 36230, 32982, 34972, 34...   \n",
       "4  [1, 1, 76, 125, 1, 125, 1, 1, 1, 889, 1, 2358,...   \n",
       "\n",
       "                                    product_category  \\\n",
       "0          [5, 2, 5, 5, 2, 18, 5, 5, 18, 2, 2, 2, 2]   \n",
       "1  [2, 2, 2, 2, 2, 2, 18, 2, 18, 18, 2, 18, 2, 18...   \n",
       "2  [17, 17, 2, 17, 2, 18, 18, 2, 2, 2, 18, 12, 2,...   \n",
       "3  [2, 18, 2, 17, 17, 4, 17, 17, 18, 2, 2, 2, 2, ...   \n",
       "4  [5, 8, 2, 2, 18, 2, 5, 18, 18, 2, 18, 2, 5, 5,...   \n",
       "\n",
       "                                       advertiser_id  \\\n",
       "0  [6411, 8522, 26781, 12996, 10113, 13007, 15341...   \n",
       "1  [20681, 9438, 16619, 23545, 705, 20681, 31504,...   \n",
       "2  [30056, 8682, 16554, 12593, 15183, 7955, 7362,...   \n",
       "3  [17456, 7015, 11589, 10744, 21413, 745, 8954, ...   \n",
       "4  [10525, 923, 20681, 8526, 35446, 2611, 15865, ...   \n",
       "\n",
       "                                            industry  \\\n",
       "0  [323, 7, 104, 323, 1, 323, 73, 214, 64, 235, 2...   \n",
       "1  [315, 235, 7, 7, 314, 315, 47, 7, 47, 47, 239,...   \n",
       "2  [1, 1, 319, 1, 319, 7, 54, 7, 319, 319, 202, 2...   \n",
       "3  [235, 26, 245, 1, 1, 1, 1, 1, 86, 316, 235, 7,...   \n",
       "4  [294, 1, 315, 7, 319, 7, 285, 319, 316, 235, 3...   \n",
       "\n",
       "                                         click_times  \\\n",
       "0            [1, 1, 1, 1, 1, 1, 1, 1, 1, 1, 1, 1, 2]   \n",
       "1  [1, 1, 1, 1, 1, 1, 1, 1, 1, 1, 1, 1, 1, 1, 1, ...   \n",
       "2  [1, 1, 1, 1, 1, 1, 1, 1, 1, 1, 1, 1, 1, 1, 1, ...   \n",
       "3  [1, 1, 1, 1, 1, 1, 1, 1, 1, 1, 1, 1, 1, 1, 1, ...   \n",
       "4  [1, 1, 1, 1, 1, 2, 1, 1, 1, 1, 1, 1, 1, 1, 1, ...   \n",
       "\n",
       "                                                time  creative_id_len  \\\n",
       "0  [20, 20, 20, 39, 40, 43, 46, 52, 60, 64, 64, 7...               12   \n",
       "1  [10, 11, 14, 17, 28, 28, 28, 38, 38, 39, 41, 4...               42   \n",
       "2  [12, 13, 14, 14, 14, 17, 19, 22, 31, 36, 37, 4...               30   \n",
       "3  [8, 15, 41, 44, 48, 48, 48, 48, 49, 52, 58, 58...               29   \n",
       "4  [3, 13, 14, 15, 20, 21, 24, 25, 27, 28, 29, 30...               33   \n",
       "\n",
       "   ad_id_len  product_id_len  product_category_len  advertiser_len  \\\n",
       "0         12               6                     3              12   \n",
       "1         42              20                     3              36   \n",
       "2         30              17                     6              28   \n",
       "3         29              18                     6              26   \n",
       "4         33               7                     4              30   \n",
       "\n",
       "   industry_len   age  gender  \n",
       "0             9   4.0     1.0  \n",
       "1            15  10.0     1.0  \n",
       "2             8   7.0     2.0  \n",
       "3            10   5.0     1.0  \n",
       "4            18   4.0     1.0  "
      ]
     },
     "execution_count": 2,
     "metadata": {},
     "output_type": "execute_result"
    }
   ],
   "source": [
    "user_ids = pd.read_pickle(f\"{pickle_path}/user_ids_relencode.pickle\")\n",
    "user = pd.read_csv(train_preliminary_p + \"user.csv\", encoding='utf-8')\n",
    "user_ids = user_ids.merge(user, how='left', on='user_id')\n",
    "user_ids.head()"
   ]
  },
  {
   "cell_type": "code",
   "execution_count": 3,
   "metadata": {
    "ExecuteTime": {
     "end_time": "2020-05-30T10:41:58.400686Z",
     "start_time": "2020-05-30T10:36:45.977520Z"
    }
   },
   "outputs": [],
   "source": [
    "user_ids['creative_id'] = user_ids['creative_id'].map(lambda x: [str(i) for i in x])\n",
    "user_ids['ad_id'] = user_ids['ad_id'].map(lambda x: [str(i) for i in x])\n",
    "user_ids['advertiser_id'] = user_ids['advertiser_id'].map(lambda x: [str(i) for i in x])\n",
    "user_ids['product_id'] = user_ids['product_id'].map(lambda x: [str(i) for i in x])\n",
    "user_ids['product_category'] = user_ids['product_category'].map(lambda x: [str(i) for i in x])\n",
    "user_ids['industry'] = user_ids['industry'].map(lambda x: [str(i) for i in x])\n",
    "user_ids['time'] = user_ids['time'].map(lambda x: [str(i) for i in x])\n",
    "user_ids['click_times'] = user_ids['click_times'].map(lambda x: [str(i) for i in x])"
   ]
  },
  {
   "cell_type": "markdown",
   "metadata": {},
   "source": [
    "Word2Vec参数：  \n",
    "hs ({0, 1}, optional) – 1: 采用hierarchical softmax训练模型; 0: 使用负采样。  \n",
    "1.skip-gram （训练速度慢，对罕见字有效），CBOW（训练速度快）。一般选择Skip-gram模型；  \n",
    "\n",
    "2.训练方法：Hierarchical Softmax（对罕见字有利），Negative Sampling（对常见字和低维向量有利）；  \n",
    "\n",
    "3.欠采样频繁词可以提高结果的准确性和速度（1e-3~1e-5）  \n",
    "\n",
    "4.Window大小：Skip-gram通常选择10左右，CBOW通常选择5左右。  "
   ]
  },
  {
   "cell_type": "code",
   "execution_count": 5,
   "metadata": {
    "ExecuteTime": {
     "end_time": "2020-05-27T17:38:09.158261Z",
     "start_time": "2020-05-27T16:10:22.921760Z"
    }
   },
   "outputs": [],
   "source": [
    "# Gen W2V Vector\n",
    "w2v = models.Word2Vec(user_ids['creative_id'].values, sg=1, size=128, window=5, workers=6,hs=1, min_count=1,)\n",
    "w2v.wv.save_word2vec_format(f\"{path_save}/creative_id_w2v_128.bin\",binary=True)\n",
    "\n",
    "#w2v = models.KeyedVectors.load_word2vec_format(f\"{path_save}/creative_id_w2v200.model\")"
   ]
  },
  {
   "cell_type": "code",
   "execution_count": 6,
   "metadata": {
    "ExecuteTime": {
     "end_time": "2020-05-27T19:01:49.322136Z",
     "start_time": "2020-05-27T17:38:09.525306Z"
    }
   },
   "outputs": [],
   "source": [
    "# Gen W2V Vector\n",
    "w2v = models.Word2Vec(user_ids['ad_id'].values, sg=1, size=128, window=5, workers=6, hs=1, min_count=1)\n",
    "w2v.wv.save_word2vec_format(f\"{path_save}/ad_id_w2v_128.bin\", binary=True)\n",
    "\n",
    "#w2v = models.KeyedVectors.load_word2vec_format(f\"{path_save}/creative_id_w2v200.model\")"
   ]
  },
  {
   "cell_type": "code",
   "execution_count": 7,
   "metadata": {
    "ExecuteTime": {
     "end_time": "2020-05-27T19:32:26.558707Z",
     "start_time": "2020-05-27T19:01:49.753558Z"
    }
   },
   "outputs": [],
   "source": [
    "# Gen W2V Vector\n",
    "w2v = models.Word2Vec(user_ids['advertiser_id'].values, sg=1, size=64, window=5, workers=6,hs=1, min_count=1)\n",
    "w2v.wv.save_word2vec_format(f\"{path_save}/advertiser_id_w2v_64.bin\", binary=True)\n",
    "\n",
    "#w2v = models.KeyedVectors.load_word2vec_format(f\"{path_save}/creative_id_w2v200.model\")"
   ]
  },
  {
   "cell_type": "code",
   "execution_count": 8,
   "metadata": {
    "ExecuteTime": {
     "end_time": "2020-05-27T19:46:41.737139Z",
     "start_time": "2020-05-27T19:32:27.037131Z"
    }
   },
   "outputs": [],
   "source": [
    "# Gen W2V Vector\n",
    "w2v = models.Word2Vec(user_ids['product_id'].values, sg=1, size=64, window=5, workers=6, hs=1, min_count=1)\n",
    "w2v.wv.save_word2vec_format(f\"{path_save}/product_id_w2v_64.bin\", binary=True)\n",
    "\n",
    "#w2v = models.KeyedVectors.load_word2vec_format(f\"{path_save}/creative_id_w2v200.model\")"
   ]
  },
  {
   "cell_type": "code",
   "execution_count": 4,
   "metadata": {
    "ExecuteTime": {
     "end_time": "2020-05-30T11:24:57.852457Z",
     "start_time": "2020-05-30T10:44:12.420450Z"
    }
   },
   "outputs": [],
   "source": [
    "w2v = models.Word2Vec(user_ids['industry'].values, sg=1, size=32, window=10, workers=6, hs=1, min_count=1)\n",
    "w2v.wv.save_word2vec_format(f\"{path_save}/industry_w2v_32.bin\", binary=True)\n",
    "\n",
    "w2v = models.Word2Vec(user_ids['product_category'].values, sg=1, size=16, window=10, workers=6, hs=1, min_count=1)\n",
    "w2v.wv.save_word2vec_format(f\"{path_save}/product_category_w2v_16.bin\", binary=True)\n",
    "\n",
    "w2v = models.Word2Vec(user_ids['click_times'].values, sg=1, size=8, window=10, workers=6, hs=1, min_count=1)\n",
    "w2v.wv.save_word2vec_format(f\"{path_save}/click_times_w2v_8.bin\", binary=True)\n",
    "\n",
    "w2v = models.Word2Vec(user_ids['time'].values, sg=1, size=16, window=10, workers=6, hs=1, min_count=1)\n",
    "w2v.wv.save_word2vec_format(f\"{path_save}/time_w2v_16.bin\", binary=True)\n"
   ]
  },
  {
   "cell_type": "code",
   "execution_count": 9,
   "metadata": {
    "ExecuteTime": {
     "end_time": "2020-05-27T20:02:28.052011Z",
     "start_time": "2020-05-27T19:46:42.475185Z"
    }
   },
   "outputs": [],
   "source": [
    "creative_id_v = models.KeyedVectors.load_word2vec_format(f\"{path_save}/creative_id_w2v100.model\")\n",
    "ad_id_v = models.KeyedVectors.load_word2vec_format(f\"{path_save}/ad_id_w2v100.model\")\n",
    "advertiser_id_v = models.KeyedVectors.load_word2vec_format(f\"{path_save}/advertiser_id_w2v50.model\")\n",
    "product_id_v = models.KeyedVectors.load_word2vec_format(f\"{path_save}/product_id_w2v50.model\")\n"
   ]
  },
  {
   "cell_type": "code",
   "execution_count": 16,
   "metadata": {
    "ExecuteTime": {
     "end_time": "2020-05-25T17:58:38.723210Z",
     "start_time": "2020-05-25T17:44:27.724231Z"
    }
   },
   "outputs": [],
   "source": [
    "w2v.wv.save_word2vec_format(f\"{path_save}/creative_id_w2v100.bin\",binary=True)\n",
    "#ad_id_v.wv.save_word2vec_format(f\"{path_save}/ad_id_w2v100.bin\",binary=True)\n",
    "#advertiser_id_v.wv.save_word2vec_format(f\"{path_save}/advertiser_id_w2v50.bin\",binary=True)\n",
    "#product_id_v.wv.save_word2vec_format(f\"{path_save}/product_id_w2v50.bin\",binary=True)"
   ]
  },
  {
   "cell_type": "code",
   "execution_count": null,
   "metadata": {},
   "outputs": [],
   "source": []
  }
 ],
 "metadata": {
  "kernelspec": {
   "display_name": "Python 3",
   "language": "python",
   "name": "python3"
  },
  "language_info": {
   "codemirror_mode": {
    "name": "ipython",
    "version": 3
   },
   "file_extension": ".py",
   "mimetype": "text/x-python",
   "name": "python",
   "nbconvert_exporter": "python",
   "pygments_lexer": "ipython3",
   "version": "3.7.4rc1"
  },
  "toc": {
   "base_numbering": 1,
   "nav_menu": {},
   "number_sections": true,
   "sideBar": true,
   "skip_h1_title": false,
   "title_cell": "Table of Contents",
   "title_sidebar": "Contents",
   "toc_cell": false,
   "toc_position": {},
   "toc_section_display": true,
   "toc_window_display": false
  },
  "varInspector": {
   "cols": {
    "lenName": 16,
    "lenType": 16,
    "lenVar": 40
   },
   "kernels_config": {
    "python": {
     "delete_cmd_postfix": "",
     "delete_cmd_prefix": "del ",
     "library": "var_list.py",
     "varRefreshCmd": "print(var_dic_list())"
    },
    "r": {
     "delete_cmd_postfix": ") ",
     "delete_cmd_prefix": "rm(",
     "library": "var_list.r",
     "varRefreshCmd": "cat(var_dic_list()) "
    }
   },
   "oldHeight": 696.8,
   "position": {
    "height": "718.4px",
    "left": "1678px",
    "right": "20px",
    "top": "120px",
    "width": "350px"
   },
   "types_to_exclude": [
    "module",
    "function",
    "builtin_function_or_method",
    "instance",
    "_Feature"
   ],
   "varInspector_section_display": "block",
   "window_display": true
  }
 },
 "nbformat": 4,
 "nbformat_minor": 2
}

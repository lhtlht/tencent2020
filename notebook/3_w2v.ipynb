{
 "cells": [
  {
   "cell_type": "code",
   "execution_count": 1,
   "metadata": {
    "ExecuteTime": {
     "end_time": "2020-05-14T22:13:48.374204Z",
     "start_time": "2020-05-14T22:13:46.041012Z"
    }
   },
   "outputs": [],
   "source": [
    "import sys\n",
    "import os\n",
    "sys.path.append(r\"..\")\n",
    "\n",
    "from utils import *\n",
    "import pandas as pd\n",
    "import numpy as np\n",
    "from sklearn.model_selection import train_test_split\n",
    "from sklearn.feature_extraction.text import TfidfTransformer\n",
    "from sklearn.feature_extraction.text import CountVectorizer\n",
    "from sklearn.naive_bayes import MultinomialNB\n",
    "from sklearn.metrics import accuracy_score,roc_auc_score,f1_score,recall_score\n",
    "from gensim import models\n",
    "\n",
    "path_build = \"../../data/tencent2020/build/\"\n",
    "path_save = \"../../data/tencent2020/save/\"\n",
    "pickle_path = \"../../data/tencent2020/pickle\"\n",
    "sub_path = \"../../data/tencent2020/sub\"\n",
    "\n",
    "train_preliminary_p = path_build + \"train_preliminary/\"\n",
    "\n",
    "if not os.path.exists(pickle_path):\n",
    "    os.mkdir(pickle_path) \n",
    "if not os.path.exists(sub_path):\n",
    "    os.mkdir(sub_path)"
   ]
  },
  {
   "cell_type": "code",
   "execution_count": 3,
   "metadata": {
    "ExecuteTime": {
     "end_time": "2020-05-14T22:14:55.153494Z",
     "start_time": "2020-05-14T22:14:46.035934Z"
    }
   },
   "outputs": [
    {
     "data": {
      "text/html": [
       "<div>\n",
       "<style scoped>\n",
       "    .dataframe tbody tr th:only-of-type {\n",
       "        vertical-align: middle;\n",
       "    }\n",
       "\n",
       "    .dataframe tbody tr th {\n",
       "        vertical-align: top;\n",
       "    }\n",
       "\n",
       "    .dataframe thead th {\n",
       "        text-align: right;\n",
       "    }\n",
       "</style>\n",
       "<table border=\"1\" class=\"dataframe\">\n",
       "  <thead>\n",
       "    <tr style=\"text-align: right;\">\n",
       "      <th></th>\n",
       "      <th>user_id</th>\n",
       "      <th>creative_id</th>\n",
       "      <th>age</th>\n",
       "      <th>gender</th>\n",
       "    </tr>\n",
       "  </thead>\n",
       "  <tbody>\n",
       "    <tr>\n",
       "      <th>0</th>\n",
       "      <td>1</td>\n",
       "      <td>[821396, 209778, 877468, 1683713, 122032, 7169...</td>\n",
       "      <td>4.0</td>\n",
       "      <td>1.0</td>\n",
       "    </tr>\n",
       "    <tr>\n",
       "      <th>1</th>\n",
       "      <td>2</td>\n",
       "      <td>[63441, 155822, 39714, 609050, 13069, 441462, ...</td>\n",
       "      <td>10.0</td>\n",
       "      <td>1.0</td>\n",
       "    </tr>\n",
       "    <tr>\n",
       "      <th>2</th>\n",
       "      <td>3</td>\n",
       "      <td>[661347, 808612, 710859, 825434, 593522, 72694...</td>\n",
       "      <td>7.0</td>\n",
       "      <td>2.0</td>\n",
       "    </tr>\n",
       "    <tr>\n",
       "      <th>3</th>\n",
       "      <td>4</td>\n",
       "      <td>[39588, 589886, 574787, 1892854, 1962706, 2264...</td>\n",
       "      <td>5.0</td>\n",
       "      <td>1.0</td>\n",
       "    </tr>\n",
       "    <tr>\n",
       "      <th>4</th>\n",
       "      <td>5</td>\n",
       "      <td>[296145, 350759, 24333, 43235, 852327, 1054434...</td>\n",
       "      <td>4.0</td>\n",
       "      <td>1.0</td>\n",
       "    </tr>\n",
       "  </tbody>\n",
       "</table>\n",
       "</div>"
      ],
      "text/plain": [
       "   user_id                                        creative_id   age  gender\n",
       "0        1  [821396, 209778, 877468, 1683713, 122032, 7169...   4.0     1.0\n",
       "1        2  [63441, 155822, 39714, 609050, 13069, 441462, ...  10.0     1.0\n",
       "2        3  [661347, 808612, 710859, 825434, 593522, 72694...   7.0     2.0\n",
       "3        4  [39588, 589886, 574787, 1892854, 1962706, 2264...   5.0     1.0\n",
       "4        5  [296145, 350759, 24333, 43235, 852327, 1054434...   4.0     1.0"
      ]
     },
     "execution_count": 3,
     "metadata": {},
     "output_type": "execute_result"
    }
   ],
   "source": [
    "user_creative_ids = pd.read_pickle(f\"{pickle_path}/user_creative_ids.pickle\")\n",
    "user = pd.read_csv(train_preliminary_p + \"user.csv\", encoding='utf-8')\n",
    "user_creative_ids = user_creative_ids.merge(user, how='left', on='user_id')\n",
    "user_creative_ids.head()"
   ]
  },
  {
   "cell_type": "code",
   "execution_count": 4,
   "metadata": {
    "ExecuteTime": {
     "end_time": "2020-05-14T22:16:21.310215Z",
     "start_time": "2020-05-14T22:15:51.245585Z"
    }
   },
   "outputs": [],
   "source": [
    "user_creative_ids['creative_id'] = user_creative_ids['creative_id'].map(lambda x: [str(i) for i in x])"
   ]
  },
  {
   "cell_type": "code",
   "execution_count": 5,
   "metadata": {
    "ExecuteTime": {
     "end_time": "2020-05-14T22:17:08.659177Z",
     "start_time": "2020-05-14T22:17:08.653194Z"
    }
   },
   "outputs": [
    {
     "data": {
      "text/plain": [
       "0    [821396, 209778, 877468, 1683713, 122032, 7169...\n",
       "1    [63441, 155822, 39714, 609050, 13069, 441462, ...\n",
       "2    [661347, 808612, 710859, 825434, 593522, 72694...\n",
       "3    [39588, 589886, 574787, 1892854, 1962706, 2264...\n",
       "4    [296145, 350759, 24333, 43235, 852327, 1054434...\n",
       "Name: creative_id, dtype: object"
      ]
     },
     "execution_count": 5,
     "metadata": {},
     "output_type": "execute_result"
    }
   ],
   "source": [
    "user_creative_ids['creative_id'].head()"
   ]
  },
  {
   "cell_type": "markdown",
   "metadata": {},
   "source": [
    "Word2Vec参数：  \n",
    "hs ({0, 1}, optional) – 1: 采用hierarchical softmax训练模型; 0: 使用负采样。  \n",
    "1.skip-gram （训练速度慢，对罕见字有效），CBOW（训练速度快）。一般选择Skip-gram模型；  \n",
    "\n",
    "2.训练方法：Hierarchical Softmax（对罕见字有利），Negative Sampling（对常见字和低维向量有利）；  \n",
    "\n",
    "3.欠采样频繁词可以提高结果的准确性和速度（1e-3~1e-5）  \n",
    "\n",
    "4.Window大小：Skip-gram通常选择10左右，CBOW通常选择5左右。  "
   ]
  },
  {
   "cell_type": "code",
   "execution_count": null,
   "metadata": {
    "ExecuteTime": {
     "start_time": "2020-05-15T00:12:29.120Z"
    }
   },
   "outputs": [],
   "source": [
    "# Gen W2V Vector\n",
    "w2v = models.Word2Vec(user_creative_ids['creative_id'].values, sg=1, size=200, window=10, workers=20,hs=1, min_count=25)\n",
    "w2v.wv.save_word2vec_format(f\"{path_save}/creative_id_w2v200.model\")\n",
    "\n",
    "#w2v = models.KeyedVectors.load_word2vec_format(f\"{path_save}/creative_id_w2v200.model\")"
   ]
  },
  {
   "cell_type": "code",
   "execution_count": null,
   "metadata": {},
   "outputs": [],
   "source": []
  },
  {
   "cell_type": "code",
   "execution_count": null,
   "metadata": {
    "ExecuteTime": {
     "start_time": "2020-05-15T00:12:29.122Z"
    }
   },
   "outputs": [],
   "source": [
    "def embedding_mean(ll):\n",
    "    id_list = []\n",
    "    for l in ll:\n",
    "        if l in w2v:\n",
    "            id_list.append(w2v[l])\n",
    "    id_array = np.array(id_list).mean(axis=0)\n",
    "    return id_array\n",
    "user_creative_ids_matrix =  np.matrix(np.array([user_creative_ids['creative_id'].map(lambda x : embedding_mean(x))])[0])"
   ]
  },
  {
   "cell_type": "code",
   "execution_count": null,
   "metadata": {
    "ExecuteTime": {
     "start_time": "2020-05-15T00:12:29.125Z"
    }
   },
   "outputs": [],
   "source": [
    "dd = pd.DataFrame(user_creative_ids_matrix)\n",
    "dd.head()"
   ]
  },
  {
   "cell_type": "code",
   "execution_count": null,
   "metadata": {
    "ExecuteTime": {
     "start_time": "2020-05-15T00:12:29.127Z"
    }
   },
   "outputs": [],
   "source": [
    "from sklearn.model_selection import KFold\n",
    "from sklearn.model_selection import StratifiedKFold\n",
    "import lightgbm as lgb\n",
    "lgb_params = {\n",
    "    'boosting_type': 'gbdt',\n",
    "    'objective': 'regression',\n",
    "    'n_estimators': 1000,\n",
    "    'metric': 'mae',\n",
    "    'learning_rate': 0.01,\n",
    "    'min_child_samples': 5,\n",
    "    'min_child_weight': 0.01,\n",
    "    'subsample_freq': 1,\n",
    "    'num_leaves': 31,\n",
    "    'max_depth': -1,\n",
    "    'subsample': 0.8,\n",
    "    'colsample_bytree': 0.6,\n",
    "    'reg_alpha': 0,\n",
    "    'reg_lambda': 5,\n",
    "    'verbose': -1,\n",
    "    'random_state': 4590,\n",
    "    'n_jobs': 4,\n",
    "}"
   ]
  },
  {
   "cell_type": "code",
   "execution_count": null,
   "metadata": {
    "ExecuteTime": {
     "start_time": "2020-05-15T00:12:29.128Z"
    }
   },
   "outputs": [],
   "source": [
    "cv = True\n",
    "model_type = 'lgb'\n",
    "seed = 2020\n",
    "train_filter = 700000\n",
    "train_x = dd.values[0:train_filter]\n",
    "train_y = user_creative_ids['age'][0:train_filter]\n",
    "test_x =  dd.values[train_filter:900000]\n",
    "if cv:\n",
    "    n_fold = 5\n",
    "    count_fold = 0\n",
    "    preds_list = list()\n",
    "    oof = np.zeros(train_x.shape[0])\n",
    "    kfolder = KFold(n_splits=n_fold, shuffle=True, random_state=seed)\n",
    "    kfold = kfolder.split(train_x, train_y)\n",
    "    for train_index, vali_index in kfold:\n",
    "        print(\"training......fold\",count_fold)\n",
    "        count_fold = count_fold + 1\n",
    "        k_x_train = train_x[train_index]\n",
    "        k_y_train = train_y[train_index]\n",
    "        k_x_vali = train_x[vali_index]\n",
    "        k_y_vali = train_y[vali_index]\n",
    "        if model_type == 'lgb':\n",
    "            lgb_model = lgb.LGBMRegressor(**lgb_params)\n",
    "            lgb_model = lgb_model.fit(k_x_train, k_y_train, eval_set=[(k_x_vali, k_y_vali)],\n",
    "                                      early_stopping_rounds=200, verbose=False, eval_metric=\"mae\",\n",
    "                                      )\n",
    "            k_pred = lgb_model.predict(k_x_vali, num_iteration=lgb_model.best_iteration_)\n",
    "            pred = lgb_model.predict(test_x, num_iteration=lgb_model.best_iteration_)\n",
    "        preds_list.append(pred)\n",
    "        oof[vali_index] = k_pred"
   ]
  },
  {
   "cell_type": "code",
   "execution_count": null,
   "metadata": {
    "ExecuteTime": {
     "start_time": "2020-05-15T00:12:29.129Z"
    }
   },
   "outputs": [],
   "source": [
    "preds_columns = ['preds_{id}'.format(id=i) for i in range(n_fold)]\n",
    "preds_df = pd.DataFrame(data=preds_list)\n",
    "preds_df = preds_df.T\n",
    "preds_df.columns = preds_columns\n",
    "preds = list(preds_df.mean(axis=1))"
   ]
  },
  {
   "cell_type": "code",
   "execution_count": null,
   "metadata": {
    "ExecuteTime": {
     "start_time": "2020-05-15T00:12:29.131Z"
    }
   },
   "outputs": [],
   "source": [
    "preds22 = np.rint(preds)\n",
    "preds22 = np.clip(preds22, 1, 10)\n",
    "gender_accuracy = accuracy_score(user_creative_ids['age'][train_filter:900000], preds22)\n",
    "gender_accuracy,preds22.shape"
   ]
  },
  {
   "cell_type": "markdown",
   "metadata": {},
   "source": [
    "(0.904855, (200000,))  \n",
    "(0.311965, (200000,))\n",
    "\n"
   ]
  },
  {
   "cell_type": "code",
   "execution_count": null,
   "metadata": {
    "ExecuteTime": {
     "start_time": "2020-05-15T00:12:29.132Z"
    }
   },
   "outputs": [],
   "source": [
    "preds22.min(),preds22.max()"
   ]
  },
  {
   "cell_type": "code",
   "execution_count": null,
   "metadata": {
    "ExecuteTime": {
     "start_time": "2020-05-15T00:12:29.133Z"
    }
   },
   "outputs": [],
   "source": [
    "from sklearn import linear_model\n",
    "reg = linear_model.LinearRegression()\n",
    "reg_model = reg.fit(dd.values[0:train_filter], user_creative_ids['age'][0:train_filter])\n",
    "reg_pred = reg_model.predict(test_x)\n"
   ]
  },
  {
   "cell_type": "code",
   "execution_count": null,
   "metadata": {
    "ExecuteTime": {
     "start_time": "2020-05-15T00:12:29.135Z"
    }
   },
   "outputs": [],
   "source": [
    "preds22 = np.rint(reg_pred)\n",
    "preds22 = np.clip(preds22, 1, 10)\n",
    "gender_accuracy = accuracy_score(user_creative_ids['age'][train_filter:900000], preds22)\n",
    "gender_accuracy,preds22.shape"
   ]
  },
  {
   "cell_type": "markdown",
   "metadata": {},
   "source": [
    "(0.907675, (200000,))  \n",
    " (0.29759, (200000,))\n"
   ]
  },
  {
   "cell_type": "code",
   "execution_count": null,
   "metadata": {},
   "outputs": [],
   "source": []
  }
 ],
 "metadata": {
  "kernelspec": {
   "display_name": "Python 3",
   "language": "python",
   "name": "python3"
  },
  "language_info": {
   "codemirror_mode": {
    "name": "ipython",
    "version": 3
   },
   "file_extension": ".py",
   "mimetype": "text/x-python",
   "name": "python",
   "nbconvert_exporter": "python",
   "pygments_lexer": "ipython3",
   "version": "3.7.4rc1"
  },
  "toc": {
   "base_numbering": 1,
   "nav_menu": {},
   "number_sections": true,
   "sideBar": true,
   "skip_h1_title": false,
   "title_cell": "Table of Contents",
   "title_sidebar": "Contents",
   "toc_cell": false,
   "toc_position": {},
   "toc_section_display": true,
   "toc_window_display": false
  },
  "varInspector": {
   "cols": {
    "lenName": 16,
    "lenType": 16,
    "lenVar": 40
   },
   "kernels_config": {
    "python": {
     "delete_cmd_postfix": "",
     "delete_cmd_prefix": "del ",
     "library": "var_list.py",
     "varRefreshCmd": "print(var_dic_list())"
    },
    "r": {
     "delete_cmd_postfix": ") ",
     "delete_cmd_prefix": "rm(",
     "library": "var_list.r",
     "varRefreshCmd": "cat(var_dic_list()) "
    }
   },
   "types_to_exclude": [
    "module",
    "function",
    "builtin_function_or_method",
    "instance",
    "_Feature"
   ],
   "window_display": false
  }
 },
 "nbformat": 4,
 "nbformat_minor": 2
}

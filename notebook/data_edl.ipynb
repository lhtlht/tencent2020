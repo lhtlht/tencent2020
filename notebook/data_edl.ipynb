{
 "cells": [
  {
   "cell_type": "code",
   "execution_count": 2,
   "metadata": {
    "ExecuteTime": {
     "end_time": "2020-05-15T17:54:20.381523Z",
     "start_time": "2020-05-15T17:54:20.378554Z"
    }
   },
   "outputs": [],
   "source": [
    "path = \"../../data/tencent2020/build/\"\n",
    "train_preliminary = path + \"train_preliminary/\"\n",
    "test = path + \"test/\""
   ]
  },
  {
   "cell_type": "code",
   "execution_count": 3,
   "metadata": {
    "ExecuteTime": {
     "end_time": "2020-05-15T17:54:22.729697Z",
     "start_time": "2020-05-15T17:54:21.735331Z"
    }
   },
   "outputs": [],
   "source": [
    "import pandas as pd\n",
    "import numpy as np"
   ]
  },
  {
   "cell_type": "code",
   "execution_count": 4,
   "metadata": {
    "ExecuteTime": {
     "end_time": "2020-05-15T17:54:37.825652Z",
     "start_time": "2020-05-15T17:54:24.052731Z"
    }
   },
   "outputs": [],
   "source": [
    "train_ad = pd.read_csv(train_preliminary + \"ad.csv\", encoding=\"utf-8\")\n",
    "train_click_log = pd.read_csv(train_preliminary + \"click_log.csv\", encoding=\"utf-8\")\n",
    "train_user = pd.read_csv(train_preliminary + \"user.csv\", encoding=\"utf-8\")"
   ]
  },
  {
   "cell_type": "code",
   "execution_count": null,
   "metadata": {},
   "outputs": [],
   "source": [
    "train_ad"
   ]
  },
  {
   "cell_type": "code",
   "execution_count": 4,
   "metadata": {
    "ExecuteTime": {
     "end_time": "2020-05-10T09:10:20.120344Z",
     "start_time": "2020-05-10T09:10:18.187778Z"
    }
   },
   "outputs": [
    {
     "name": "stdout",
     "output_type": "stream",
     "text": [
      "<class 'pandas.core.frame.DataFrame'>\n",
      "RangeIndex: 2481135 entries, 0 to 2481134\n",
      "Data columns (total 6 columns):\n",
      "creative_id         int64\n",
      "ad_id               int64\n",
      "product_id          object\n",
      "product_category    int64\n",
      "advertiser_id       int64\n",
      "industry            object\n",
      "dtypes: int64(4), object(2)\n",
      "memory usage: 113.6+ MB\n",
      "None\n",
      "(2481135, 6)\n",
      "creative_id: 2481135\n",
      "ad_id: 2264190\n",
      "product_id: 33273\n",
      "product_category: 18\n",
      "advertiser_id: 52090\n",
      "industry: 326\n",
      "industry: ['78' '202' '297' '213' '73' '6' '267' '1' '254' '25' '168' '247' '242'\n",
      " '141' '32' '281' '36' '183' '248' '135' '82' '283' '317' '259' '188'\n",
      " '238' '18' '100' '134' '271' '270' '321' '200' '5' '89' '261' '69' '234'\n",
      " '253' '8' '285' '265' '20' '31' '154' '301' '326' '322' '155' '250' '244'\n",
      " '173' '277' '312' '215' '107' '126' '300' '60' '323' '328' '203' '27'\n",
      " '98' '252' '114' '28' '237' '230' '12' '216' '187' '232' '167' '88' '272'\n",
      " '138' '46' '292' '196' '209' '333' '329' '302' '195' '205' '67' '161'\n",
      " '54' '34' '53' '2' '26' '231' '71' '123' '151' '207' '84' '245' '319'\n",
      " '235' '229' '104' '\\\\N' '35' '74' '295' '19' '289' '133' '29' '96' '99'\n",
      " '24' '125' '175' '93' '57' '137' '264' '217' '288' '106' '124' '147'\n",
      " '171' '132' '103' '30' '172' '158' '204' '178' '335' '177' '296' '179'\n",
      " '127' '334' '294' '287' '50' '182' '192' '21' '291' '136' '306' '304'\n",
      " '311' '307' '241' '299' '146' '68' '320' '143' '303' '227' '249' '305'\n",
      " '40' '102' '17' '47' '258' '150' '310' '48' '239' '92' '166' '129' '51'\n",
      " '109' '308' '284' '266' '81' '70' '58' '240' '23' '251' '246' '212' '181'\n",
      " '94' '275' '144' '293' '190' '176' '269' '197' '191' '13' '86' '75' '149'\n",
      " '327' '142' '61' '79' '163' '220' '116' '55' '108' '282' '145' '45' '90'\n",
      " '255' '206' '260' '236' '268' '162' '11' '59' '180' '72' '152' '164'\n",
      " '233' '219' '221' '3' '276' '9' '298' '318' '122' '165' '210' '111' '4'\n",
      " '174' '148' '159' '62' '85' '157' '315' '201' '120' '87' '139' '76' '228'\n",
      " '309' '263' '14' '256' '185' '118' '33' '222' '214' '128' '66' '105'\n",
      " '112' '262' '113' '156' '65' '130' '257' '38' '286' '330' '226' '44' '16'\n",
      " '15' '119' '331' '110' '208' '278' '169' '218' '290' '313' '316' '121'\n",
      " '186' '170' '97' '324' '63' '37' '243' '22' '115' '56' '224' '160' '225'\n",
      " '39' '279' '83' '42' '64' '117' '101' '273' '314' '131' '193' '332' '184'\n",
      " '194' '223' '41' '49' '211' '274' '280' '140' '325' '10' '52']\n"
     ]
    },
    {
     "data": {
      "text/html": [
       "<div>\n",
       "<style scoped>\n",
       "    .dataframe tbody tr th:only-of-type {\n",
       "        vertical-align: middle;\n",
       "    }\n",
       "\n",
       "    .dataframe tbody tr th {\n",
       "        vertical-align: top;\n",
       "    }\n",
       "\n",
       "    .dataframe thead th {\n",
       "        text-align: right;\n",
       "    }\n",
       "</style>\n",
       "<table border=\"1\" class=\"dataframe\">\n",
       "  <thead>\n",
       "    <tr style=\"text-align: right;\">\n",
       "      <th></th>\n",
       "      <th>creative_id</th>\n",
       "      <th>ad_id</th>\n",
       "      <th>product_id</th>\n",
       "      <th>product_category</th>\n",
       "      <th>advertiser_id</th>\n",
       "      <th>industry</th>\n",
       "    </tr>\n",
       "  </thead>\n",
       "  <tbody>\n",
       "    <tr>\n",
       "      <th>0</th>\n",
       "      <td>1</td>\n",
       "      <td>1</td>\n",
       "      <td>\\N</td>\n",
       "      <td>5</td>\n",
       "      <td>381</td>\n",
       "      <td>78</td>\n",
       "    </tr>\n",
       "    <tr>\n",
       "      <th>1</th>\n",
       "      <td>4</td>\n",
       "      <td>4</td>\n",
       "      <td>\\N</td>\n",
       "      <td>5</td>\n",
       "      <td>108</td>\n",
       "      <td>202</td>\n",
       "    </tr>\n",
       "    <tr>\n",
       "      <th>2</th>\n",
       "      <td>7</td>\n",
       "      <td>7</td>\n",
       "      <td>\\N</td>\n",
       "      <td>5</td>\n",
       "      <td>148</td>\n",
       "      <td>297</td>\n",
       "    </tr>\n",
       "    <tr>\n",
       "      <th>3</th>\n",
       "      <td>8</td>\n",
       "      <td>8</td>\n",
       "      <td>\\N</td>\n",
       "      <td>5</td>\n",
       "      <td>713</td>\n",
       "      <td>213</td>\n",
       "    </tr>\n",
       "    <tr>\n",
       "      <th>4</th>\n",
       "      <td>9</td>\n",
       "      <td>9</td>\n",
       "      <td>\\N</td>\n",
       "      <td>5</td>\n",
       "      <td>695</td>\n",
       "      <td>213</td>\n",
       "    </tr>\n",
       "  </tbody>\n",
       "</table>\n",
       "</div>"
      ],
      "text/plain": [
       "   creative_id  ad_id product_id  product_category  advertiser_id industry\n",
       "0            1      1         \\N                 5            381       78\n",
       "1            4      4         \\N                 5            108      202\n",
       "2            7      7         \\N                 5            148      297\n",
       "3            8      8         \\N                 5            713      213\n",
       "4            9      9         \\N                 5            695      213"
      ]
     },
     "execution_count": 4,
     "metadata": {},
     "output_type": "execute_result"
    }
   ],
   "source": [
    "print(train_ad.info())\n",
    "print(train_ad.shape)\n",
    "print('creative_id:',train_ad['creative_id'].nunique())\n",
    "print('ad_id:',train_ad['ad_id'].nunique())\n",
    "print('product_id:',train_ad['product_id'].nunique())\n",
    "print('product_category:',train_ad['product_category'].nunique())\n",
    "print('advertiser_id:',train_ad['advertiser_id'].nunique())\n",
    "print('industry:',train_ad['industry'].nunique())\n",
    "print('industry:',train_ad['industry'].unique())\n",
    "train_ad.head()"
   ]
  },
  {
   "cell_type": "code",
   "execution_count": 5,
   "metadata": {
    "ExecuteTime": {
     "end_time": "2020-05-15T17:54:47.916264Z",
     "start_time": "2020-05-15T17:54:47.616040Z"
    }
   },
   "outputs": [
    {
     "data": {
      "text/plain": [
       "247    262634\n",
       "319    178677\n",
       "6      161962\n",
       "322    159928\n",
       "\\N     101048\n",
       "242     77113\n",
       "238     76788\n",
       "326     65196\n",
       "54      64318\n",
       "73      64130\n",
       "248     55553\n",
       "317     54328\n",
       "329     49460\n",
       "25      46671\n",
       "36      44458\n",
       "47      44245\n",
       "27      36904\n",
       "21      33202\n",
       "259     26424\n",
       "133     25506\n",
       "60      25320\n",
       "297     25284\n",
       "40      23853\n",
       "253     22885\n",
       "246     22739\n",
       "13      22078\n",
       "24      21763\n",
       "252     21615\n",
       "26      21259\n",
       "289     20764\n",
       "        ...  \n",
       "97          3\n",
       "102         3\n",
       "103         3\n",
       "269         3\n",
       "37          3\n",
       "181         3\n",
       "180         2\n",
       "101         2\n",
       "244         2\n",
       "93          2\n",
       "83          2\n",
       "212         2\n",
       "273         2\n",
       "71          2\n",
       "325         1\n",
       "268         1\n",
       "68          1\n",
       "152         1\n",
       "314         1\n",
       "96          1\n",
       "283         1\n",
       "78          1\n",
       "143         1\n",
       "94          1\n",
       "142         1\n",
       "59          1\n",
       "287         1\n",
       "282         1\n",
       "42          1\n",
       "266         1\n",
       "Name: industry, Length: 326, dtype: int64"
      ]
     },
     "execution_count": 5,
     "metadata": {},
     "output_type": "execute_result"
    }
   ],
   "source": [
    "train_ad['industry'].value_counts()"
   ]
  },
  {
   "cell_type": "code",
   "execution_count": 5,
   "metadata": {
    "ExecuteTime": {
     "end_time": "2020-05-10T09:10:20.918408Z",
     "start_time": "2020-05-10T09:10:20.127325Z"
    }
   },
   "outputs": [
    {
     "name": "stdout",
     "output_type": "stream",
     "text": [
      "industry: [ 78 202 297 213  73   6 267   1 254  25 168 247 242 141  32 281  36 183\n",
      " 248 135  82 283 317 259 188 238  18 100 134 271 270 321 200   5  89 261\n",
      "  69 234 253   8 285 265  20  31 154 301 326 322 155 250 244 173 277 312\n",
      " 215 107 126 300  60 323 328 203  27  98 252 114  28 237 230  12 216 187\n",
      " 232 167  88 272 138  46 292 196 209 333 329 302 195 205  67 161  54  34\n",
      "  53   2  26 231  71 123 151 207  84 245 319 235 229 104  -1  35  74 295\n",
      "  19 289 133  29  96  99  24 125 175  93  57 137 264 217 288 106 124 147\n",
      " 171 132 103  30 172 158 204 178 335 177 296 179 127 334 294 287  50 182\n",
      " 192  21 291 136 306 304 311 307 241 299 146  68 320 143 303 227 249 305\n",
      "  40 102  17  47 258 150 310  48 239  92 166 129  51 109 308 284 266  81\n",
      "  70  58 240  23 251 246 212 181  94 275 144 293 190 176 269 197 191  13\n",
      "  86  75 149 327 142  61  79 163 220 116  55 108 282 145  45  90 255 206\n",
      " 260 236 268 162  11  59 180  72 152 164 233 219 221   3 276   9 298 318\n",
      " 122 165 210 111   4 174 148 159  62  85 157 315 201 120  87 139  76 228\n",
      " 309 263  14 256 185 118  33 222 214 128  66 105 112 262 113 156  65 130\n",
      " 257  38 286 330 226  44  16  15 119 331 110 208 278 169 218 290 313 316\n",
      " 121 186 170  97 324  63  37 243  22 115  56 224 160 225  39 279  83  42\n",
      "  64 117 101 273 314 131 193 332 184 194 223  41  49 211 274 280 140 325\n",
      "  10  52]\n"
     ]
    }
   ],
   "source": [
    "train_ad['industry'] = train_ad['industry'].replace('\\\\N', '-1').astype(int)\n",
    "print('industry:',train_ad['industry'].unique())\n"
   ]
  },
  {
   "cell_type": "code",
   "execution_count": 6,
   "metadata": {
    "ExecuteTime": {
     "end_time": "2020-05-10T09:10:21.712796Z",
     "start_time": "2020-05-10T09:10:20.924391Z"
    }
   },
   "outputs": [
    {
     "name": "stdout",
     "output_type": "stream",
     "text": [
      "<class 'pandas.core.frame.DataFrame'>\n",
      "RangeIndex: 2481135 entries, 0 to 2481134\n",
      "Data columns (total 6 columns):\n",
      "creative_id         int64\n",
      "ad_id               int64\n",
      "product_id          int32\n",
      "product_category    int64\n",
      "advertiser_id       int64\n",
      "industry            int32\n",
      "dtypes: int32(2), int64(4)\n",
      "memory usage: 94.6 MB\n",
      "None\n"
     ]
    }
   ],
   "source": [
    "train_ad['product_id'] = train_ad['product_id'].replace('\\\\N', '-1').astype(int)\n",
    "print(train_ad.info())"
   ]
  },
  {
   "cell_type": "code",
   "execution_count": 7,
   "metadata": {
    "ExecuteTime": {
     "end_time": "2020-05-10T09:10:26.167533Z",
     "start_time": "2020-05-10T09:10:21.719777Z"
    }
   },
   "outputs": [
    {
     "name": "stdout",
     "output_type": "stream",
     "text": [
      "time: 91\n",
      "user_id: 900000\n",
      "creative_id: 2481135\n",
      "click_times: 41\n"
     ]
    },
    {
     "data": {
      "text/html": [
       "<div>\n",
       "<style scoped>\n",
       "    .dataframe tbody tr th:only-of-type {\n",
       "        vertical-align: middle;\n",
       "    }\n",
       "\n",
       "    .dataframe tbody tr th {\n",
       "        vertical-align: top;\n",
       "    }\n",
       "\n",
       "    .dataframe thead th {\n",
       "        text-align: right;\n",
       "    }\n",
       "</style>\n",
       "<table border=\"1\" class=\"dataframe\">\n",
       "  <thead>\n",
       "    <tr style=\"text-align: right;\">\n",
       "      <th></th>\n",
       "      <th>time</th>\n",
       "      <th>user_id</th>\n",
       "      <th>creative_id</th>\n",
       "      <th>click_times</th>\n",
       "    </tr>\n",
       "  </thead>\n",
       "  <tbody>\n",
       "    <tr>\n",
       "      <th>0</th>\n",
       "      <td>9</td>\n",
       "      <td>30920</td>\n",
       "      <td>567330</td>\n",
       "      <td>1</td>\n",
       "    </tr>\n",
       "    <tr>\n",
       "      <th>1</th>\n",
       "      <td>65</td>\n",
       "      <td>30920</td>\n",
       "      <td>3072255</td>\n",
       "      <td>1</td>\n",
       "    </tr>\n",
       "    <tr>\n",
       "      <th>2</th>\n",
       "      <td>56</td>\n",
       "      <td>30920</td>\n",
       "      <td>2361327</td>\n",
       "      <td>1</td>\n",
       "    </tr>\n",
       "    <tr>\n",
       "      <th>3</th>\n",
       "      <td>6</td>\n",
       "      <td>309204</td>\n",
       "      <td>325532</td>\n",
       "      <td>1</td>\n",
       "    </tr>\n",
       "    <tr>\n",
       "      <th>4</th>\n",
       "      <td>59</td>\n",
       "      <td>309204</td>\n",
       "      <td>2746730</td>\n",
       "      <td>1</td>\n",
       "    </tr>\n",
       "  </tbody>\n",
       "</table>\n",
       "</div>"
      ],
      "text/plain": [
       "   time  user_id  creative_id  click_times\n",
       "0     9    30920       567330            1\n",
       "1    65    30920      3072255            1\n",
       "2    56    30920      2361327            1\n",
       "3     6   309204       325532            1\n",
       "4    59   309204      2746730            1"
      ]
     },
     "execution_count": 7,
     "metadata": {},
     "output_type": "execute_result"
    }
   ],
   "source": [
    "print('time:',train_click_log['time'].nunique())\n",
    "print('user_id:',train_click_log['user_id'].nunique())\n",
    "print('creative_id:',train_click_log['creative_id'].nunique())\n",
    "print('click_times:',train_click_log['click_times'].nunique())\n",
    "\n",
    "train_click_log.head()"
   ]
  },
  {
   "cell_type": "code",
   "execution_count": 8,
   "metadata": {
    "ExecuteTime": {
     "end_time": "2020-05-10T09:10:27.111248Z",
     "start_time": "2020-05-10T09:10:26.180523Z"
    }
   },
   "outputs": [
    {
     "name": "stdout",
     "output_type": "stream",
     "text": [
      "user_id: 900000\n",
      "age: 3     202909\n",
      "4     150578\n",
      "2     149271\n",
      "5     130667\n",
      "6     101720\n",
      "7      66711\n",
      "1      35195\n",
      "8      31967\n",
      "9      19474\n",
      "10     11508\n",
      "Name: age, dtype: int64\n",
      "gender: 1    602610\n",
      "2    297390\n",
      "Name: gender, dtype: int64\n",
      "<class 'pandas.core.frame.DataFrame'>\n",
      "RangeIndex: 900000 entries, 0 to 899999\n",
      "Data columns (total 3 columns):\n",
      "user_id    900000 non-null int64\n",
      "age        900000 non-null int64\n",
      "gender     900000 non-null int64\n",
      "dtypes: int64(3)\n",
      "memory usage: 20.6 MB\n",
      "None\n"
     ]
    },
    {
     "data": {
      "text/html": [
       "<div>\n",
       "<style scoped>\n",
       "    .dataframe tbody tr th:only-of-type {\n",
       "        vertical-align: middle;\n",
       "    }\n",
       "\n",
       "    .dataframe tbody tr th {\n",
       "        vertical-align: top;\n",
       "    }\n",
       "\n",
       "    .dataframe thead th {\n",
       "        text-align: right;\n",
       "    }\n",
       "</style>\n",
       "<table border=\"1\" class=\"dataframe\">\n",
       "  <thead>\n",
       "    <tr style=\"text-align: right;\">\n",
       "      <th></th>\n",
       "      <th>user_id</th>\n",
       "      <th>age</th>\n",
       "      <th>gender</th>\n",
       "    </tr>\n",
       "  </thead>\n",
       "  <tbody>\n",
       "    <tr>\n",
       "      <th>0</th>\n",
       "      <td>1</td>\n",
       "      <td>4</td>\n",
       "      <td>1</td>\n",
       "    </tr>\n",
       "    <tr>\n",
       "      <th>1</th>\n",
       "      <td>2</td>\n",
       "      <td>10</td>\n",
       "      <td>1</td>\n",
       "    </tr>\n",
       "    <tr>\n",
       "      <th>2</th>\n",
       "      <td>3</td>\n",
       "      <td>7</td>\n",
       "      <td>2</td>\n",
       "    </tr>\n",
       "    <tr>\n",
       "      <th>3</th>\n",
       "      <td>4</td>\n",
       "      <td>5</td>\n",
       "      <td>1</td>\n",
       "    </tr>\n",
       "    <tr>\n",
       "      <th>4</th>\n",
       "      <td>5</td>\n",
       "      <td>4</td>\n",
       "      <td>1</td>\n",
       "    </tr>\n",
       "  </tbody>\n",
       "</table>\n",
       "</div>"
      ],
      "text/plain": [
       "   user_id  age  gender\n",
       "0        1    4       1\n",
       "1        2   10       1\n",
       "2        3    7       2\n",
       "3        4    5       1\n",
       "4        5    4       1"
      ]
     },
     "execution_count": 8,
     "metadata": {},
     "output_type": "execute_result"
    }
   ],
   "source": [
    "print('user_id:',train_user['user_id'].nunique())\n",
    "print('age:',train_user['age'].value_counts())\n",
    "print('gender:',train_user['gender'].value_counts())\n",
    "print(train_user.info())\n",
    "train_user.head()\n"
   ]
  },
  {
   "cell_type": "code",
   "execution_count": null,
   "metadata": {
    "ExecuteTime": {
     "start_time": "2020-05-10T09:09:54.959Z"
    }
   },
   "outputs": [],
   "source": [
    "test_ad = pd.read_csv(test + \"ad.csv\", encoding=\"utf-8\")\n",
    "test_click_log = pd.read_csv(test + \"click_log.csv\", encoding=\"utf-8\")"
   ]
  },
  {
   "cell_type": "code",
   "execution_count": null,
   "metadata": {
    "ExecuteTime": {
     "start_time": "2020-05-10T09:09:54.963Z"
    }
   },
   "outputs": [],
   "source": [
    "print('industry:',test_ad['industry'].nunique())\n",
    "print('industry:',test_ad['industry'].unique())\n",
    "print('industry:',test_ad['industry'].min())\n",
    "print('product_id:',test_ad['product_id'].min())\n",
    "\n",
    "\n",
    "test_ad['industry'] = test_ad['industry'].replace('\\\\N', '0').astype(int)\n",
    "test_ad['product_id'] = test_ad['product_id'].replace('\\\\N', '0').astype(int)\n",
    "\n",
    "\n",
    "print(test_ad.info())\n",
    "print(test_ad.shape)\n",
    "test_ad.head()"
   ]
  },
  {
   "cell_type": "code",
   "execution_count": null,
   "metadata": {
    "ExecuteTime": {
     "start_time": "2020-05-10T09:09:54.966Z"
    }
   },
   "outputs": [],
   "source": [
    "print('time:',test_click_log['time'].nunique())\n",
    "print('user_id:',test_click_log['user_id'].nunique())\n",
    "print('creative_id:',test_click_log['creative_id'].nunique())\n",
    "\n",
    "test_click_log.head()"
   ]
  },
  {
   "cell_type": "code",
   "execution_count": null,
   "metadata": {},
   "outputs": [],
   "source": []
  }
 ],
 "metadata": {
  "kernelspec": {
   "display_name": "Python 3",
   "language": "python",
   "name": "python3"
  },
  "language_info": {
   "codemirror_mode": {
    "name": "ipython",
    "version": 3
   },
   "file_extension": ".py",
   "mimetype": "text/x-python",
   "name": "python",
   "nbconvert_exporter": "python",
   "pygments_lexer": "ipython3",
   "version": "3.7.4rc1"
  },
  "toc": {
   "base_numbering": 1,
   "nav_menu": {},
   "number_sections": true,
   "sideBar": true,
   "skip_h1_title": false,
   "title_cell": "Table of Contents",
   "title_sidebar": "Contents",
   "toc_cell": false,
   "toc_position": {},
   "toc_section_display": true,
   "toc_window_display": false
  },
  "varInspector": {
   "cols": {
    "lenName": 16,
    "lenType": 16,
    "lenVar": 40
   },
   "kernels_config": {
    "python": {
     "delete_cmd_postfix": "",
     "delete_cmd_prefix": "del ",
     "library": "var_list.py",
     "varRefreshCmd": "print(var_dic_list())"
    },
    "r": {
     "delete_cmd_postfix": ") ",
     "delete_cmd_prefix": "rm(",
     "library": "var_list.r",
     "varRefreshCmd": "cat(var_dic_list()) "
    }
   },
   "types_to_exclude": [
    "module",
    "function",
    "builtin_function_or_method",
    "instance",
    "_Feature"
   ],
   "window_display": false
  }
 },
 "nbformat": 4,
 "nbformat_minor": 2
}

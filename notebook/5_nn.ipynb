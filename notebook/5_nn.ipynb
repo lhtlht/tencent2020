{
 "cells": [
  {
   "cell_type": "code",
   "execution_count": 1,
   "metadata": {
    "ExecuteTime": {
     "end_time": "2020-06-10T16:20:11.782753Z",
     "start_time": "2020-06-10T16:20:00.586672Z"
    }
   },
   "outputs": [],
   "source": [
    "import sys\n",
    "import os\n",
    "import logging\n",
    "sys.path.append(r\"..\")\n",
    "from utils import *\n",
    "from model import *\n",
    "import numpy as np\n",
    "import pandas as pd\n",
    "from sklearn.model_selection import train_test_split\n",
    "from sklearn.model_selection import KFold\n",
    "from sklearn.model_selection import StratifiedKFold\n",
    "from sklearn.metrics import accuracy_score,roc_auc_score,f1_score,recall_score\n",
    "from scipy import sparse\n",
    "from scipy.sparse import csr_matrix, coo_matrix\n",
    "\n",
    "from collections import defaultdict\n",
    "from collections import Counter\n",
    "\n",
    "import tensorflow as tf\n",
    "from tensorflow import keras\n",
    "from tensorflow.keras import layers\n",
    "from tensorflow.keras.preprocessing.text import Tokenizer\n",
    "from tensorflow.keras.preprocessing.sequence import pad_sequences\n",
    "from tensorflow.python.client import device_lib\n",
    "#print(tf.__version__)\n",
    "#print(tf.test.is_built_with_gpu_support)\n",
    "#print(tf.test.is_gpu_available())\n",
    "#print(device_lib.list_local_devices())\n",
    "os.environ[\"CUDA_VISIBLE_DEVICES\"] = '0' #use GPU with ID=0\n",
    "gpus = tf.config.experimental.list_physical_devices('GPU')\n",
    "#tf.config.experimental.set_memory_growth(gpus[0], True)\n",
    "#对需要进行限制的GPU进行设置\n",
    "# tf.config.experimental.set_virtual_device_configuration(gpus[0],\n",
    "#                                                       [tf.config.experimental.VirtualDeviceConfiguration(memory_limit=4096)])\n",
    "# gpus"
   ]
  },
  {
   "cell_type": "code",
   "execution_count": 2,
   "metadata": {
    "ExecuteTime": {
     "end_time": "2020-06-10T16:23:39.291862Z",
     "start_time": "2020-06-10T16:20:16.478177Z"
    }
   },
   "outputs": [
    {
     "name": "stdout",
     "output_type": "stream",
     "text": [
      "(1900000, 36)\n"
     ]
    }
   ],
   "source": [
    "#user_ids = pd.read_pickle(f\"{pickle_path}/user_ids_relencode.pickle\")\n",
    "#user = pd.read_csv(train_preliminary_p + \"user.csv\", encoding='utf-8')\n",
    "#user_ids = user_ids.merge(user, how='left', on='user_id')\n",
    "#save_pickle(user_ids, f\"{pickle_path}/train_user_ids.pickle\")\n",
    "user_ids = pd.read_pickle(f\"{pickle_path}/train_user_ids.pickle\") #保存从8min缩小到3min\n",
    "print(user_ids.shape)\n",
    "#user_ids.head(2)"
   ]
  },
  {
   "cell_type": "code",
   "execution_count": 3,
   "metadata": {
    "ExecuteTime": {
     "end_time": "2020-06-10T16:26:01.673157Z",
     "start_time": "2020-06-10T16:23:39.295852Z"
    }
   },
   "outputs": [],
   "source": [
    "creative_id_em = load_pickle(f\"{path_save}/creative_id_w2v_matrix2.pkl\")\n",
    "ad_id_em = load_pickle(f\"{path_save}/ad_id_w2v_matrix2.pkl\")\n",
    "advertiser_id_em = load_pickle(f\"{path_save}/advertiser_id_w2v_matrix2.pkl\")\n",
    "product_id_em = load_pickle(f\"{path_save}/product_id_w2v_matrix2.pkl\")\n",
    "industry_em = load_pickle(f\"{path_save}/industry_w2v_matrix2.pkl\")\n",
    "product_category_em = load_pickle(f\"{path_save}/product_category_w2v_matrix2.pkl\")\n",
    "# click_times_em = load_pickle(f\"{path_save}/click_times_w2v_matrix2.pkl\")\n",
    "# time_em = load_pickle(f\"{path_save}/time_w2v_matrix2.pkl\")\n",
    "\n",
    "creative_id_times_em = load_pickle(f\"{path_save}/creative_id_times_w2v_matrix2.pkl\")\n",
    "ad_id_times_em = load_pickle(f\"{path_save}/ad_id_times_w2v_matrix2.pkl\")\n",
    "product_id_times_em = load_pickle(f\"{path_save}/product_id_times_w2v_matrix2.pkl\")\n",
    "advertiser_id_times_em = load_pickle(f\"{path_save}/advertiser_id_times_w2v_matrix2.pkl\")\n",
    "product_category_times_em = load_pickle(f\"{path_save}/product_category_times_w2v_matrix2.pkl\")\n",
    "industry_times_em = load_pickle(f\"{path_save}/industry_times_w2v_matrix2.pkl\")\n",
    "\n",
    "# creative_id_t_em = load_pickle(f\"{path_save}/creative_id_t_w2v_matrix2.pkl\")\n",
    "# # ad_id_t_em = load_pickle(f\"{path_save}/ad_id_t_w2v_matrix2.pkl\")\n",
    "# product_id_t_em = load_pickle(f\"{path_save}/product_id_t_w2v_matrix2.pkl\")\n",
    "# advertiser_id_t_em = load_pickle(f\"{path_save}/advertiser_id_t_w2v_matrix2.pkl\")\n",
    "# product_category_t_em = load_pickle(f\"{path_save}/product_category_t_w2v_matrix2.pkl\")\n",
    "# industry_t_em = load_pickle(f\"{path_save}/industry_t_w2v_matrix2.pkl\")\n",
    "\n",
    "\n",
    "w2v_features = [\n",
    "    {'name':'creative_id', 'size':128, 'windows':5, 'min_count':1, 'version':2, 'max_len':128, 'em':creative_id_em},\n",
    "    {'name':'ad_id', 'size':128, 'windows':5, 'min_count':1, 'version':2, 'max_len':128, 'em':ad_id_em},\n",
    "    {'name':'advertiser_id', 'size':64, 'windows':5, 'min_count':1, 'version':2, 'max_len':128, 'em':advertiser_id_em},\n",
    "    {'name':'product_id', 'size':64, 'windows':5, 'min_count':1, 'version':2, 'max_len':128, 'em':product_id_em},\n",
    "    {'name':'industry', 'size':32, 'windows':5, 'min_count':1, 'version':2, 'max_len':128, 'em':industry_em},\n",
    "    {'name':'product_category', 'size':16, 'windows':5, 'min_count':1, 'version':2, 'max_len':128, 'em':product_category_em},\n",
    "#     {'name':'time', 'size':16, 'windows':5, 'min_count':1, 'version':2, 'max_len':128, 'em':time_em},\n",
    "#     {'name':'click_times', 'size':8, 'windows':5, 'min_count':1, 'version':2, 'max_len':128, 'em':click_times_em},\n",
    "    \n",
    "    {'name':'creative_id_times', 'size':128, 'windows':5, 'min_count':1, 'version':2, 'max_len':128, 'em':creative_id_times_em},\n",
    "    #{'name': 'ad_id_times', 'size': 128, 'windows': 5, 'min_count': 1, 'version': 2, 'max_len':128, 'em':ad_id_times_em},\n",
    "    {'name':'product_id_times', 'size':64, 'windows':5, 'min_count':1, 'version':2, 'max_len':128, 'em':product_id_times_em},\n",
    "    {'name':'advertiser_id_times', 'size':64, 'windows':5, 'min_count':1, 'version':2, 'max_len':128, 'em':advertiser_id_times_em},\n",
    "    {'name':'product_category_times', 'size':32, 'windows':5, 'min_count':1, 'version':2,'max_len':128, 'em':product_category_times_em},\n",
    "    {'name':'industry_times', 'size':32, 'windows':5, 'min_count':1, 'version':2,'max_len':128, 'em':industry_times_em},   \n",
    "    \n",
    "]\n",
    "#dense_features = ['creative_id_len', 'ad_id_len', 'product_id_len', 'product_category_len', 'advertiser_len', 'industry_len','time_len',\n",
    "#                  'mean_clicktimes', 'max_clicktimes', 'min_clicktimes', 'mean_time', 'max_time', 'min_time']  \n",
    "dense_features = []\n",
    "\n",
    "#print(creative_id_em.shape,ad_id_em.shape,advertiser_id_em.shape,product_id_em.shape)\n",
    "#print(industry_em.shape,product_category_em.shape,click_times_em.shape,time_em.shape)"
   ]
  },
  {
   "cell_type": "code",
   "execution_count": 15,
   "metadata": {
    "ExecuteTime": {
     "end_time": "2020-06-10T23:32:43.315768Z",
     "start_time": "2020-06-10T23:32:43.190104Z"
    }
   },
   "outputs": [],
   "source": [
    "def lstm_model(units,num_classes,w2v_features, dense_features):\n",
    "    inputs_dict = dict()\n",
    "    embed_layer_list = []\n",
    "    for w2v_f in w2v_features:\n",
    "        em_name = w2v_f['name']\n",
    "        em_size = w2v_f['em'].shape[0]\n",
    "        em_dim = w2v_f['size']\n",
    "        em_m = w2v_f['em']\n",
    "        max_len = w2v_f['max_len']\n",
    "\n",
    "        inputs = keras.Input(shape=(max_len,), name=em_name)\n",
    "        inputs_dict[em_name] = inputs\n",
    "\n",
    "        embed_layer_list.append( keras.layers.Embedding(\n",
    "                em_size, em_dim, input_length=max_len, trainable=False, weights=[em_m],mask_zero=True)(inputs))\n",
    "    embed_output = keras.layers.concatenate(embed_layer_list, axis=-1)\n",
    "    lstm_output = keras.layers.Bidirectional(keras.layers.LSTM(units,return_sequences=True))(embed_output)\n",
    "    \n",
    "    #lstm_output = layers.GlobalMaxPooling1D()(lstm_output)\n",
    "                                     \n",
    "    \n",
    "    lstm_output = layers.concatenate([layers.GlobalAveragePooling1D()(lstm_output),\n",
    "                                      layers.GlobalMaxPooling1D()(lstm_output),\n",
    "                                     ], axis=-1)\n",
    "    lstm_output = layers.Dropout(0.2)(lstm_output)\n",
    "    fc = keras.layers.Dense(units, activation='relu')(lstm_output)\n",
    "    #数值型特征\n",
    "    numeric_list = []\n",
    "    for den_f in dense_features:\n",
    "        inputs = keras.Input(shape=(1,), name=den_f)\n",
    "        inputs_dict[den_f] = inputs\n",
    "        numeric_list.append(inputs)   \n",
    "    if dense_features != []:\n",
    "        numeric_output = keras.layers.concatenate(numeric_list, axis=-1)\n",
    "        lstm_numeric_output = keras.layers.concatenate([fc,numeric_output], axis=-1)\n",
    "    else:\n",
    "        lstm_numeric_output = fc\n",
    "    \n",
    "    \n",
    "    outputs = keras.layers.Dense(num_classes, activation='softmax')(lstm_numeric_output)\n",
    "    \n",
    "    \n",
    "    model = keras.Model(inputs=inputs_dict, outputs=outputs)\n",
    "    model.compile(optimizer = keras.optimizers.Adam(0.001),\n",
    "              loss = keras.losses.sparse_categorical_crossentropy,\n",
    "              metrics = ['accuracy'])\n",
    "    return model"
   ]
  },
  {
   "cell_type": "code",
   "execution_count": 5,
   "metadata": {
    "ExecuteTime": {
     "end_time": "2020-06-10T16:26:01.709056Z",
     "start_time": "2020-06-10T16:26:01.700065Z"
    }
   },
   "outputs": [],
   "source": [
    "def input_fn(feature_dict, label=None, epochs=5, shuffle=True, batch_size=64, fit_key='train'):\n",
    "    if fit_key == 'train':\n",
    "        dataset = tf.data.Dataset.from_tensor_slices((feature_dict, label))\n",
    "    else:\n",
    "        dataset = tf.data.Dataset.from_tensor_slices((feature_dict))\n",
    "    if shuffle:\n",
    "        dataset = dataset.shuffle(100*batch_size)\n",
    "    dataset = dataset.repeat(epochs).batch(batch_size)\n",
    "    return dataset"
   ]
  },
  {
   "cell_type": "code",
   "execution_count": 6,
   "metadata": {
    "ExecuteTime": {
     "end_time": "2020-06-10T16:29:47.920177Z",
     "start_time": "2020-06-10T16:26:01.713031Z"
    }
   },
   "outputs": [
    {
     "name": "stdout",
     "output_type": "stream",
     "text": [
      "creative_id\n",
      "ad_id\n",
      "advertiser_id\n",
      "product_id\n",
      "industry\n",
      "product_category\n",
      "creative_id_times\n",
      "product_id_times\n",
      "advertiser_id_times\n",
      "product_category_times\n",
      "industry_times\n"
     ]
    }
   ],
   "source": [
    "train_split = [0,810000]\n",
    "val_split = [810000, 900000]\n",
    "test_split = [900000]\n",
    "train_feature_dict = dict()\n",
    "val_feature_dict = dict()\n",
    "test_feature_dict = dict()\n",
    "\n",
    "for fea in w2v_features:\n",
    "    name = fea['name']\n",
    "    max_length = fea['max_len']\n",
    "    print(name)\n",
    "    train_feature_dict[name] = keras.preprocessing.sequence.pad_sequences(\n",
    "        user_ids[name][train_split[0]:train_split[1]],value = 0,padding = 'post',maxlen = max_length )\n",
    "    val_feature_dict[name] = keras.preprocessing.sequence.pad_sequences(\n",
    "        user_ids[name][val_split[0]:val_split[1]],value = 0,padding = 'post',maxlen = max_length )\n",
    "    test_feature_dict[name] = keras.preprocessing.sequence.pad_sequences(\n",
    "        user_ids[name][test_split[0]:],value = 0,padding = 'post',maxlen = max_length )\n",
    "for fea in dense_features:\n",
    "    print(fea)\n",
    "    train_feature_dict[fea] = user_ids[fea][train_split[0]:train_split[1]]\n",
    "    val_feature_dict[fea] = user_ids[fea][val_split[0]:val_split[1]]\n",
    "    test_feature_dict[fea] = user_ids[fea][test_split[0]:]\n",
    "    \n",
    "gender_train_label = np.array(user_ids['gender'][train_split[0]:train_split[1]])\n",
    "gender_val_label = np.array(user_ids['gender'][val_split[0]:val_split[1]])\n",
    "\n",
    "age_train_label = np.array(user_ids['age'][train_split[0]:train_split[1]])\n",
    "age_val_label = np.array(user_ids['age'][val_split[0]:val_split[1]])"
   ]
  },
  {
   "cell_type": "code",
   "execution_count": 16,
   "metadata": {
    "ExecuteTime": {
     "end_time": "2020-06-11T01:08:07.977621Z",
     "start_time": "2020-06-10T23:33:07.771886Z"
    }
   },
   "outputs": [
    {
     "name": "stdout",
     "output_type": "stream",
     "text": [
      "Train for 31641 steps, validate for 88 steps\n",
      "31641/31641 [==============================] - 5649s 179ms/step - loss: 0.1598 - accuracy: 0.9436 - val_loss: 0.1557 - val_accuracy: 0.9452\n"
     ]
    },
    {
     "data": {
      "text/plain": [
       "<tensorflow.python.keras.callbacks.History at 0x1b540378908>"
      ]
     },
     "execution_count": 16,
     "metadata": {},
     "output_type": "execute_result"
    }
   ],
   "source": [
    "num_classes = 2\n",
    "units = 128\n",
    "gender_model = lstm_model(units, num_classes, w2v_features, [])\n",
    "train_dataset = input_fn(train_feature_dict, gender_train_label-1, epochs=5, shuffle=True, batch_size=128)\n",
    "val_dataset = input_fn(val_feature_dict, gender_val_label-1, epochs=1, shuffle=False, batch_size=1024)\n",
    "gender_model.fit(train_dataset, validation_data=val_dataset)"
   ]
  },
  {
   "cell_type": "code",
   "execution_count": 17,
   "metadata": {
    "ExecuteTime": {
     "end_time": "2020-06-11T01:19:36.367465Z",
     "start_time": "2020-06-11T01:08:56.273441Z"
    }
   },
   "outputs": [
    {
     "name": "stdout",
     "output_type": "stream",
     "text": [
      "(1000000, 2) (90000, 2)\n",
      "round:  1\n",
      "0.9452333333333334\n",
      "0.9452888888888888\n",
      "0.9453444444444444\n",
      "0.9453555555555555\n",
      "0.9453666666666667\n",
      "0.9454222222222223\n",
      "0.9454333333333333\n",
      "0.9454555555555556\n",
      "0.9454666666666667\n",
      "0.9455111111111111\n",
      "0.9455333333333333\n",
      "round:  2\n"
     ]
    }
   ],
   "source": [
    "test_dataset = input_fn(test_feature_dict, epochs=1, shuffle=False, batch_size=1024, fit_key='predict')\n",
    "gender_prob = gender_model.predict(test_dataset)\n",
    "gender_val_prob = gender_model.predict(val_dataset)\n",
    "print(gender_prob.shape,gender_val_prob.shape)\n",
    "tune_weight = search_weight(gender_val_label-1, gender_val_prob, init_weight=[1.0]*2,class_num=2, step=0.001)"
   ]
  },
  {
   "cell_type": "code",
   "execution_count": 18,
   "metadata": {
    "ExecuteTime": {
     "end_time": "2020-06-11T03:43:39.965631Z",
     "start_time": "2020-06-11T01:20:11.334963Z"
    }
   },
   "outputs": [
    {
     "name": "stdout",
     "output_type": "stream",
     "text": [
      "Train for 37969 steps, validate for 88 steps\n",
      "37969/37969 [==============================] - 7541s 199ms/step - loss: 1.3003 - accuracy: 0.4605 - val_loss: 1.2782 - val_accuracy: 0.4721- ETA:\n",
      "(1000000, 10) (90000, 10)\n",
      "round:  1\n",
      "0.47215555555555555\n",
      "0.4721666666666667\n",
      "0.4722\n",
      "0.4722222222222222\n",
      "0.47224444444444447\n",
      "0.4722777777777778\n",
      "0.47228888888888887\n",
      "0.4723111111111111\n",
      "0.47235555555555553\n",
      "0.4724\n",
      "0.4724111111111111\n",
      "0.47244444444444444\n",
      "0.47276666666666667\n",
      "0.4731444444444444\n",
      "0.4733111111111111\n",
      "0.4733222222222222\n",
      "0.4735666666666667\n",
      "0.4735888888888889\n",
      "0.47374444444444447\n",
      "0.4737777777777778\n",
      "0.4738222222222222\n",
      "0.47385555555555553\n",
      "0.4739\n",
      "0.47394444444444445\n",
      "0.47396666666666665\n",
      "0.474\n",
      "0.4740111111111111\n",
      "0.47405555555555556\n",
      "0.4741444444444444\n",
      "0.47415555555555555\n",
      "0.4741666666666667\n",
      "0.47417777777777775\n",
      "0.4742222222222222\n",
      "0.47426666666666667\n",
      "0.4742777777777778\n",
      "0.4743222222222222\n",
      "0.4743777777777778\n",
      "0.4743888888888889\n",
      "0.4744333333333333\n",
      "0.47444444444444445\n",
      "0.47446666666666665\n",
      "0.4744777777777778\n",
      "0.4744888888888889\n",
      "0.4745\n",
      "0.47452222222222223\n",
      "0.4745666666666667\n",
      "0.4745888888888889\n",
      "0.4746\n",
      "0.47463333333333335\n",
      "0.4746444444444444\n",
      "0.47465555555555555\n",
      "0.47467777777777775\n",
      "0.4747111111111111\n",
      "0.47473333333333334\n",
      "0.47474444444444447\n",
      "0.47476666666666667\n",
      "0.47478888888888887\n",
      "0.4748222222222222\n",
      "0.47484444444444446\n",
      "0.47485555555555553\n",
      "0.4748777777777778\n",
      "0.4748888888888889\n",
      "0.4749111111111111\n",
      "0.47492222222222225\n",
      "0.4749333333333333\n",
      "0.47496666666666665\n",
      "round:  2\n",
      "0.4749888888888889\n",
      "0.47504444444444444\n",
      "0.4750666666666667\n",
      "0.47507777777777777\n",
      "0.4751\n",
      "0.4751111111111111\n",
      "0.4751222222222222\n",
      "0.47517777777777775\n",
      "0.4752\n",
      "round:  3\n",
      "[1.95, 1.1400000000000001, 1.0, 1.0, 1.03, 1.0, 0.8200000000000001, 1.0, 1.78, 1.9000000000000001]\n"
     ]
    }
   ],
   "source": [
    "#def age_model_run():\n",
    "num_classes = 10\n",
    "units = 128\n",
    "age_model = lstm_model(units, num_classes, w2v_features, [])\n",
    "#age_model.summary()\n",
    "train_dataset = input_fn(train_feature_dict, age_train_label-1, epochs=6, shuffle=True, batch_size=128)\n",
    "val_dataset = input_fn(val_feature_dict, age_val_label-1, epochs=1, shuffle=False, batch_size=1024)\n",
    "age_model.fit(train_dataset, validation_data=val_dataset)\n",
    "\n",
    "test_dataset = input_fn(test_feature_dict, epochs=1, shuffle=False, batch_size=1024, fit_key='predict')\n",
    "age_prob = age_model.predict(test_dataset)\n",
    "age_val_prob = age_model.predict(val_dataset)\n",
    "print(age_prob.shape,age_val_prob.shape)\n",
    "age_tune_weight = search_weight(age_val_label-1, age_val_prob, init_weight=[1.0]*10,class_num=10, step=0.001)\n",
    "print(age_tune_weight)\n"
   ]
  },
  {
   "cell_type": "code",
   "execution_count": 19,
   "metadata": {
    "ExecuteTime": {
     "end_time": "2020-06-11T03:44:16.080064Z",
     "start_time": "2020-06-11T03:44:16.073055Z"
    }
   },
   "outputs": [],
   "source": [
    "# from multiprocessing import Pool\n",
    "# p = Pool(1)\n",
    "# p.apply_async(age_model_run)\n",
    "# p.close()\n",
    "# p.join()"
   ]
  },
  {
   "cell_type": "code",
   "execution_count": 20,
   "metadata": {
    "ExecuteTime": {
     "end_time": "2020-06-11T03:45:00.104341Z",
     "start_time": "2020-06-11T03:44:49.708117Z"
    }
   },
   "outputs": [
    {
     "name": "stdout",
     "output_type": "stream",
     "text": [
      "ok！\n"
     ]
    }
   ],
   "source": [
    "gender_prob_tune = np.array(tune_weight)*gender_prob\n",
    "gender_pre = np.argmax(gender_prob_tune,axis=1) + 1\n",
    "\n",
    "age_prob_tune = np.array(age_tune_weight)*age_prob\n",
    "age_pre = np.argmax(age_prob_tune,axis=1) + 1\n",
    "\n",
    "np.save(f\"{sub_path}/age_prob.npy\", age_prob)\n",
    "np.save(f\"{sub_path}/gender_prob.npy\", gender_prob)\n",
    "\n",
    "\n",
    "sub = pd.DataFrame()\n",
    "sub['user_id'] = range(3000001,4000001)\n",
    "sub['predicted_age'] = age_pre\n",
    "sub['predicted_gender'] = gender_pre\n",
    "print('ok！')\n",
    "sub.to_csv(f\"{sub_path}/submission.csv\", index=False, encoding='utf-8')"
   ]
  },
  {
   "cell_type": "code",
   "execution_count": 21,
   "metadata": {
    "ExecuteTime": {
     "end_time": "2020-06-11T03:45:33.617706Z",
     "start_time": "2020-06-11T03:45:33.588778Z"
    }
   },
   "outputs": [],
   "source": [
    "# # 放入cpu中\n",
    "# with tf.device(\"/CPU:0\"):\n",
    "#     creative_id_em = tf.constant(creative_id_em)\n",
    "#     ad_id_em = tf.constant(ad_id_em)\n",
    "\n",
    "np.save(f\"{sub_path}/val_age_prob.npy\", age_val_prob)\n",
    "np.save(f\"{sub_path}/val_gender_prob.npy\", gender_val_prob)"
   ]
  },
  {
   "cell_type": "code",
   "execution_count": 13,
   "metadata": {
    "ExecuteTime": {
     "end_time": "2020-06-10T18:39:54.226208Z",
     "start_time": "2020-06-10T18:39:54.221242Z"
    }
   },
   "outputs": [],
   "source": [
    "# tf.keras.backend.clear_session()\n",
    "# import random\n",
    "# #del gender_model\n",
    "# del age_model\n",
    "# def reset_seeds():\n",
    "#     np.random.seed(1)\n",
    "#     random.seed(2)\n",
    "#     if tf.__version__[0] == '2':\n",
    "#         tf.random.set_seed(3)\n",
    "#     else:\n",
    "#         tf.set_random_seed(3)\n",
    "#     print(\"RANDOM SEEDS RESET\")\n",
    "    \n",
    "# tf.compat.v1.reset_default_graph()\n",
    "# reset_seeds()    "
   ]
  },
  {
   "cell_type": "code",
   "execution_count": 14,
   "metadata": {
    "ExecuteTime": {
     "end_time": "2020-06-10T18:39:54.602200Z",
     "start_time": "2020-06-10T18:39:54.230194Z"
    }
   },
   "outputs": [
    {
     "name": "stdout",
     "output_type": "stream",
     "text": [
      "Model: \"model\"\n",
      "__________________________________________________________________________________________________\n",
      "Layer (type)                    Output Shape         Param #     Connected to                     \n",
      "==================================================================================================\n",
      "creative_id (InputLayer)        [(None, 128)]        0                                            \n",
      "__________________________________________________________________________________________________\n",
      "ad_id (InputLayer)              [(None, 128)]        0                                            \n",
      "__________________________________________________________________________________________________\n",
      "advertiser_id (InputLayer)      [(None, 128)]        0                                            \n",
      "__________________________________________________________________________________________________\n",
      "product_id (InputLayer)         [(None, 128)]        0                                            \n",
      "__________________________________________________________________________________________________\n",
      "industry (InputLayer)           [(None, 128)]        0                                            \n",
      "__________________________________________________________________________________________________\n",
      "product_category (InputLayer)   [(None, 128)]        0                                            \n",
      "__________________________________________________________________________________________________\n",
      "creative_id_times (InputLayer)  [(None, 128)]        0                                            \n",
      "__________________________________________________________________________________________________\n",
      "product_id_times (InputLayer)   [(None, 128)]        0                                            \n",
      "__________________________________________________________________________________________________\n",
      "advertiser_id_times (InputLayer [(None, 128)]        0                                            \n",
      "__________________________________________________________________________________________________\n",
      "product_category_times (InputLa [(None, 128)]        0                                            \n",
      "__________________________________________________________________________________________________\n",
      "industry_times (InputLayer)     [(None, 128)]        0                                            \n",
      "__________________________________________________________________________________________________\n",
      "embedding (Embedding)           (None, 128, 128)     436834304   creative_id[0][0]                \n",
      "__________________________________________________________________________________________________\n",
      "embedding_1 (Embedding)         (None, 128, 128)     387501952   ad_id[0][0]                      \n",
      "__________________________________________________________________________________________________\n",
      "embedding_2 (Embedding)         (None, 128, 64)      3703744     advertiser_id[0][0]              \n",
      "__________________________________________________________________________________________________\n",
      "embedding_3 (Embedding)         (None, 128, 64)      2499712     product_id[0][0]                 \n",
      "__________________________________________________________________________________________________\n",
      "embedding_4 (Embedding)         (None, 128, 32)      10656       industry[0][0]                   \n",
      "__________________________________________________________________________________________________\n",
      "embedding_5 (Embedding)         (None, 128, 16)      304         product_category[0][0]           \n",
      "__________________________________________________________________________________________________\n",
      "embedding_6 (Embedding)         (None, 128, 128)     519826048   creative_id_times[0][0]          \n",
      "__________________________________________________________________________________________________\n",
      "embedding_7 (Embedding)         (None, 128, 64)      3673536     product_id_times[0][0]           \n",
      "__________________________________________________________________________________________________\n",
      "embedding_8 (Embedding)         (None, 128, 64)      6662528     advertiser_id_times[0][0]        \n",
      "__________________________________________________________________________________________________\n",
      "embedding_9 (Embedding)         (None, 128, 32)      3648        product_category_times[0][0]     \n",
      "__________________________________________________________________________________________________\n",
      "embedding_10 (Embedding)        (None, 128, 32)      54112       industry_times[0][0]             \n",
      "__________________________________________________________________________________________________\n",
      "concatenate (Concatenate)       (None, 128, 752)     0           embedding[0][0]                  \n",
      "                                                                 embedding_1[0][0]                \n",
      "                                                                 embedding_2[0][0]                \n",
      "                                                                 embedding_3[0][0]                \n",
      "                                                                 embedding_4[0][0]                \n",
      "                                                                 embedding_5[0][0]                \n",
      "                                                                 embedding_6[0][0]                \n",
      "                                                                 embedding_7[0][0]                \n",
      "                                                                 embedding_8[0][0]                \n",
      "                                                                 embedding_9[0][0]                \n",
      "                                                                 embedding_10[0][0]               \n",
      "__________________________________________________________________________________________________\n",
      "bidirectional (Bidirectional)   (None, 128, 256)     902144      concatenate[0][0]                \n",
      "__________________________________________________________________________________________________\n",
      "global_average_pooling1d (Globa (None, 256)          0           bidirectional[0][0]              \n",
      "__________________________________________________________________________________________________\n",
      "global_max_pooling1d (GlobalMax (None, 256)          0           bidirectional[0][0]              \n",
      "__________________________________________________________________________________________________\n",
      "concatenate_1 (Concatenate)     (None, 512)          0           global_average_pooling1d[0][0]   \n",
      "                                                                 global_max_pooling1d[0][0]       \n",
      "__________________________________________________________________________________________________\n",
      "dense (Dense)                   (None, 128)          65664       concatenate_1[0][0]              \n",
      "__________________________________________________________________________________________________\n",
      "dense_1 (Dense)                 (None, 2)            258         dense[0][0]                      \n",
      "==================================================================================================\n",
      "Total params: 1,361,738,610\n",
      "Trainable params: 968,066\n",
      "Non-trainable params: 1,360,770,544\n",
      "__________________________________________________________________________________________________\n"
     ]
    }
   ],
   "source": [
    "gender_model.summary()"
   ]
  }
 ],
 "metadata": {
  "kernelspec": {
   "display_name": "Python 3",
   "language": "python",
   "name": "python3"
  },
  "language_info": {
   "codemirror_mode": {
    "name": "ipython",
    "version": 3
   },
   "file_extension": ".py",
   "mimetype": "text/x-python",
   "name": "python",
   "nbconvert_exporter": "python",
   "pygments_lexer": "ipython3",
   "version": "3.7.4rc1"
  },
  "toc": {
   "base_numbering": 1,
   "nav_menu": {},
   "number_sections": true,
   "sideBar": true,
   "skip_h1_title": false,
   "title_cell": "Table of Contents",
   "title_sidebar": "Contents",
   "toc_cell": false,
   "toc_position": {},
   "toc_section_display": true,
   "toc_window_display": false
  },
  "varInspector": {
   "cols": {
    "lenName": 16,
    "lenType": 16,
    "lenVar": 40
   },
   "kernels_config": {
    "python": {
     "delete_cmd_postfix": "",
     "delete_cmd_prefix": "del ",
     "library": "var_list.py",
     "varRefreshCmd": "print(var_dic_list())"
    },
    "r": {
     "delete_cmd_postfix": ") ",
     "delete_cmd_prefix": "rm(",
     "library": "var_list.r",
     "varRefreshCmd": "cat(var_dic_list()) "
    }
   },
   "position": {
    "height": "830.4px",
    "left": "1664px",
    "right": "20px",
    "top": "125px",
    "width": "350px"
   },
   "types_to_exclude": [
    "module",
    "function",
    "builtin_function_or_method",
    "instance",
    "_Feature"
   ],
   "window_display": true
  }
 },
 "nbformat": 4,
 "nbformat_minor": 2
}

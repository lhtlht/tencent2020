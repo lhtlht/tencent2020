{
 "cells": [
  {
   "cell_type": "code",
   "execution_count": 8,
   "metadata": {
    "ExecuteTime": {
     "end_time": "2020-05-30T12:04:23.492192Z",
     "start_time": "2020-05-30T12:04:10.673673Z"
    }
   },
   "outputs": [
    {
     "name": "stdout",
     "output_type": "stream",
     "text": [
      "2.1.1\n",
      "<function is_built_with_gpu_support at 0x0000018C2256FAF8>\n",
      "WARNING:tensorflow:From <ipython-input-8-6863fe286c93>:36: is_gpu_available (from tensorflow.python.framework.test_util) is deprecated and will be removed in a future version.\n",
      "Instructions for updating:\n",
      "Use `tf.config.list_physical_devices('GPU')` instead.\n",
      "True\n",
      "[name: \"/device:CPU:0\"\n",
      "device_type: \"CPU\"\n",
      "memory_limit: 268435456\n",
      "locality {\n",
      "}\n",
      "incarnation: 6520182559309426620\n",
      ", name: \"/device:GPU:0\"\n",
      "device_type: \"GPU\"\n",
      "memory_limit: 4930941747\n",
      "locality {\n",
      "  bus_id: 1\n",
      "  links {\n",
      "  }\n",
      "}\n",
      "incarnation: 9053664380288170245\n",
      "physical_device_desc: \"device: 0, name: GeForce GTX 1060 6GB, pci bus id: 0000:01:00.0, compute capability: 6.1\"\n",
      "]\n"
     ]
    },
    {
     "data": {
      "text/plain": [
       "[PhysicalDevice(name='/physical_device:GPU:0', device_type='GPU')]"
      ]
     },
     "execution_count": 8,
     "metadata": {},
     "output_type": "execute_result"
    }
   ],
   "source": [
    "import sys\n",
    "import os\n",
    "import logging\n",
    "sys.path.append(r\"..\")\n",
    "from utils import *\n",
    "from model import *\n",
    "import numpy as np\n",
    "import pandas as pd\n",
    "import deepctr\n",
    "from sklearn.model_selection import train_test_split\n",
    "from sklearn.feature_extraction.text import TfidfTransformer\n",
    "from sklearn.feature_extraction.text import TfidfVectorizer\n",
    "from sklearn.feature_extraction.text import CountVectorizer\n",
    "from sklearn.naive_bayes import MultinomialNB\n",
    "from sklearn.linear_model import LogisticRegression\n",
    "import lightgbm as lgb\n",
    "from sklearn.model_selection import KFold\n",
    "from sklearn.model_selection import StratifiedKFold\n",
    "from sklearn.metrics import accuracy_score,roc_auc_score,f1_score,recall_score\n",
    "from gensim import models\n",
    "from scipy import sparse\n",
    "from scipy.sparse import csr_matrix, coo_matrix\n",
    "\n",
    "from collections import defaultdict\n",
    "from collections import Counter\n",
    "\n",
    "import tensorflow as tf\n",
    "from tensorflow import keras\n",
    "from tensorflow.keras import layers\n",
    "from tensorflow.keras.preprocessing.text import Tokenizer\n",
    "from tensorflow.keras.preprocessing.sequence import pad_sequences\n",
    "from tensorflow.python.client import device_lib\n",
    "\n",
    "print(tf.__version__)\n",
    "print(tf.test.is_built_with_gpu_support)\n",
    "print(tf.test.is_gpu_available())\n",
    "print(device_lib.list_local_devices())\n",
    "os.environ[\"CUDA_VISIBLE_DEVICES\"] = '0' #use GPU with ID=0\n",
    "#os.environ[\"CUDA_VISIBLE_DEVICES\"]= '-1'\n",
    "gpus = tf.config.experimental.list_physical_devices('GPU')\n",
    "#tf.config.experimental.set_memory_growth(gpus[0], True)\n",
    "#对需要进行限制的GPU进行设置\n",
    "tf.config.experimental.set_virtual_device_configuration(gpus[0],\n",
    "                                                      [tf.config.experimental.VirtualDeviceConfiguration(memory_limit=4096)])\n",
    "gpus"
   ]
  },
  {
   "cell_type": "code",
   "execution_count": 9,
   "metadata": {
    "ExecuteTime": {
     "end_time": "2020-05-30T12:07:28.118822Z",
     "start_time": "2020-05-30T12:05:58.346869Z"
    }
   },
   "outputs": [
    {
     "name": "stdout",
     "output_type": "stream",
     "text": [
      "(1900000, 17)\n"
     ]
    },
    {
     "data": {
      "text/html": [
       "<div>\n",
       "<style scoped>\n",
       "    .dataframe tbody tr th:only-of-type {\n",
       "        vertical-align: middle;\n",
       "    }\n",
       "\n",
       "    .dataframe tbody tr th {\n",
       "        vertical-align: top;\n",
       "    }\n",
       "\n",
       "    .dataframe thead th {\n",
       "        text-align: right;\n",
       "    }\n",
       "</style>\n",
       "<table border=\"1\" class=\"dataframe\">\n",
       "  <thead>\n",
       "    <tr style=\"text-align: right;\">\n",
       "      <th></th>\n",
       "      <th>user_id</th>\n",
       "      <th>creative_id</th>\n",
       "      <th>ad_id</th>\n",
       "      <th>product_id</th>\n",
       "      <th>product_category</th>\n",
       "      <th>advertiser_id</th>\n",
       "      <th>industry</th>\n",
       "      <th>click_times</th>\n",
       "      <th>time</th>\n",
       "      <th>creative_id_len</th>\n",
       "      <th>ad_id_len</th>\n",
       "      <th>product_id_len</th>\n",
       "      <th>product_category_len</th>\n",
       "      <th>advertiser_len</th>\n",
       "      <th>industry_len</th>\n",
       "      <th>age</th>\n",
       "      <th>gender</th>\n",
       "    </tr>\n",
       "  </thead>\n",
       "  <tbody>\n",
       "    <tr>\n",
       "      <th>0</th>\n",
       "      <td>1</td>\n",
       "      <td>[642275, 170988, 685687, 1307085, 100774, 5953...</td>\n",
       "      <td>[581171, 156554, 620126, 1166887, 92441, 55685...</td>\n",
       "      <td>[1, 125, 1, 1, 1132, 1, 1, 1, 1, 1244, 55, 55,...</td>\n",
       "      <td>[5, 2, 5, 5, 2, 18, 5, 5, 18, 2, 2, 2, 2]</td>\n",
       "      <td>[6411, 8522, 26781, 12996, 10113, 13007, 15341...</td>\n",
       "      <td>[323, 7, 104, 323, 1, 323, 73, 214, 64, 235, 2...</td>\n",
       "      <td>[1, 1, 1, 1, 1, 1, 1, 1, 1, 1, 1, 1, 2]</td>\n",
       "      <td>[20, 20, 20, 39, 40, 43, 46, 52, 60, 64, 64, 7...</td>\n",
       "      <td>12</td>\n",
       "      <td>12</td>\n",
       "      <td>6</td>\n",
       "      <td>3</td>\n",
       "      <td>12</td>\n",
       "      <td>9</td>\n",
       "      <td>4.0</td>\n",
       "      <td>1.0</td>\n",
       "    </tr>\n",
       "    <tr>\n",
       "      <th>1</th>\n",
       "      <td>2</td>\n",
       "      <td>[52634, 128035, 32734, 478744, 10372, 349730, ...</td>\n",
       "      <td>[49388, 117016, 31581, 435462, 11432, 318236, ...</td>\n",
       "      <td>[76, 69, 118, 118, 1193, 76, 1, 1064, 1, 1, 10...</td>\n",
       "      <td>[2, 2, 2, 2, 2, 2, 18, 2, 18, 18, 2, 18, 2, 18...</td>\n",
       "      <td>[20681, 9438, 16619, 23545, 705, 20681, 31504,...</td>\n",
       "      <td>[315, 235, 7, 7, 314, 315, 47, 7, 47, 47, 239,...</td>\n",
       "      <td>[1, 1, 1, 1, 1, 1, 1, 1, 1, 1, 1, 1, 1, 1, 1, ...</td>\n",
       "      <td>[10, 11, 14, 17, 28, 28, 28, 38, 38, 39, 41, 4...</td>\n",
       "      <td>42</td>\n",
       "      <td>42</td>\n",
       "      <td>20</td>\n",
       "      <td>3</td>\n",
       "      <td>36</td>\n",
       "      <td>15</td>\n",
       "      <td>10.0</td>\n",
       "      <td>1.0</td>\n",
       "    </tr>\n",
       "  </tbody>\n",
       "</table>\n",
       "</div>"
      ],
      "text/plain": [
       "   user_id                                        creative_id  \\\n",
       "0        1  [642275, 170988, 685687, 1307085, 100774, 5953...   \n",
       "1        2  [52634, 128035, 32734, 478744, 10372, 349730, ...   \n",
       "\n",
       "                                               ad_id  \\\n",
       "0  [581171, 156554, 620126, 1166887, 92441, 55685...   \n",
       "1  [49388, 117016, 31581, 435462, 11432, 318236, ...   \n",
       "\n",
       "                                          product_id  \\\n",
       "0  [1, 125, 1, 1, 1132, 1, 1, 1, 1, 1244, 55, 55,...   \n",
       "1  [76, 69, 118, 118, 1193, 76, 1, 1064, 1, 1, 10...   \n",
       "\n",
       "                                    product_category  \\\n",
       "0          [5, 2, 5, 5, 2, 18, 5, 5, 18, 2, 2, 2, 2]   \n",
       "1  [2, 2, 2, 2, 2, 2, 18, 2, 18, 18, 2, 18, 2, 18...   \n",
       "\n",
       "                                       advertiser_id  \\\n",
       "0  [6411, 8522, 26781, 12996, 10113, 13007, 15341...   \n",
       "1  [20681, 9438, 16619, 23545, 705, 20681, 31504,...   \n",
       "\n",
       "                                            industry  \\\n",
       "0  [323, 7, 104, 323, 1, 323, 73, 214, 64, 235, 2...   \n",
       "1  [315, 235, 7, 7, 314, 315, 47, 7, 47, 47, 239,...   \n",
       "\n",
       "                                         click_times  \\\n",
       "0            [1, 1, 1, 1, 1, 1, 1, 1, 1, 1, 1, 1, 2]   \n",
       "1  [1, 1, 1, 1, 1, 1, 1, 1, 1, 1, 1, 1, 1, 1, 1, ...   \n",
       "\n",
       "                                                time  creative_id_len  \\\n",
       "0  [20, 20, 20, 39, 40, 43, 46, 52, 60, 64, 64, 7...               12   \n",
       "1  [10, 11, 14, 17, 28, 28, 28, 38, 38, 39, 41, 4...               42   \n",
       "\n",
       "   ad_id_len  product_id_len  product_category_len  advertiser_len  \\\n",
       "0         12               6                     3              12   \n",
       "1         42              20                     3              36   \n",
       "\n",
       "   industry_len   age  gender  \n",
       "0             9   4.0     1.0  \n",
       "1            15  10.0     1.0  "
      ]
     },
     "execution_count": 9,
     "metadata": {},
     "output_type": "execute_result"
    }
   ],
   "source": [
    "user_ids = pd.read_pickle(f\"{pickle_path}/user_ids_relencode.pickle\")\n",
    "user = pd.read_csv(train_preliminary_p + \"user.csv\", encoding='utf-8')\n",
    "user_ids = user_ids.merge(user, how='left', on='user_id')\n",
    "del user\n",
    "print(user_ids.shape)\n",
    "user_ids.head(2)"
   ]
  },
  {
   "cell_type": "code",
   "execution_count": 10,
   "metadata": {
    "ExecuteTime": {
     "end_time": "2020-05-30T12:13:11.335331Z",
     "start_time": "2020-05-30T12:11:50.082597Z"
    }
   },
   "outputs": [],
   "source": [
    "creative_id_v = models.KeyedVectors.load_word2vec_format(f\"{path_save}/creative_id_w2v_128.bin\", binary=True)\n",
    "ad_id_v = models.KeyedVectors.load_word2vec_format(f\"{path_save}/ad_id_w2v_128.bin\", binary=True)\n",
    "advertiser_id_v = models.KeyedVectors.load_word2vec_format(f\"{path_save}/advertiser_id_w2v_64.bin\", binary=True)\n",
    "product_id_v = models.KeyedVectors.load_word2vec_format(f\"{path_save}/product_id_w2v_64.bin\", binary=True)\n",
    "\n",
    "industry_v = models.KeyedVectors.load_word2vec_format(f\"{path_save}/industry_w2v_32.bin\", binary=True)\n",
    "product_category_v = models.KeyedVectors.load_word2vec_format(f\"{path_save}/product_category_w2v_16.bin\", binary=True)\n",
    "click_times_v = models.KeyedVectors.load_word2vec_format(f\"{path_save}/click_times_w2v_8.bin\", binary=True)\n",
    "time_v = models.KeyedVectors.load_word2vec_format(f\"{path_save}/time_w2v_16.bin\", binary=True)\n"
   ]
  },
  {
   "cell_type": "code",
   "execution_count": 11,
   "metadata": {
    "ExecuteTime": {
     "end_time": "2020-05-30T12:15:40.082016Z",
     "start_time": "2020-05-30T12:15:40.077003Z"
    }
   },
   "outputs": [],
   "source": [
    "creative_id_vs = len(creative_id_v.vocab) + 1\n",
    "ad_id_vs = len(ad_id_v.vocab) + 1\n",
    "advertiser_id_vs = len(advertiser_id_v.vocab) + 1\n",
    "product_id_vs = len(product_id_v.vocab) + 1\n",
    "\n",
    "industry_vs = len(industry_v.vocab) + 1\n",
    "product_category_vs = len(product_category_v.vocab) + 1\n",
    "click_times_vs = len(click_times_v.vocab) + 1\n",
    "time_vs = len(time_v.vocab) + 1"
   ]
  },
  {
   "cell_type": "code",
   "execution_count": 12,
   "metadata": {
    "ExecuteTime": {
     "end_time": "2020-05-30T12:16:26.390068Z",
     "start_time": "2020-05-30T12:15:48.846432Z"
    }
   },
   "outputs": [
    {
     "data": {
      "text/plain": [
       "((3412768, 128), (3027359, 128), (57871, 64), (39058, 64))"
      ]
     },
     "execution_count": 12,
     "metadata": {},
     "output_type": "execute_result"
    }
   ],
   "source": [
    "creative_id_em = np.zeros((creative_id_vs, creative_id_v.vector_size))\n",
    "ad_id_em = np.zeros((ad_id_vs, ad_id_v.vector_size))\n",
    "advertiser_id_em = np.zeros((advertiser_id_vs, advertiser_id_v.vector_size))\n",
    "product_id_em = np.zeros((product_id_vs, product_id_v.vector_size))\n",
    "\n",
    "industry_em = np.zeros((industry_vs, industry_v.vector_size))\n",
    "product_category_em = np.zeros((product_category_vs, product_category_v.vector_size))\n",
    "click_times_em = np.zeros((click_times_vs, click_times_v.vector_size))\n",
    "time_em = np.zeros((time_vs, time_v.vector_size))\n",
    "\n",
    "\n",
    "for w in creative_id_v.vocab:\n",
    "    creative_id_em[int(w)] = creative_id_v[w]\n",
    "for w in ad_id_v.vocab:\n",
    "    ad_id_em[int(w)] = ad_id_v[w]    \n",
    "for w in advertiser_id_v.vocab:\n",
    "    advertiser_id_em[int(w)] = advertiser_id_v[w]\n",
    "for w in product_id_v.vocab:\n",
    "    product_id_em[int(w)] = product_id_v[w]\n",
    "    \n",
    "for w in industry_v.vocab:\n",
    "    industry_em[int(w)] = industry_v[w]\n",
    "for w in product_category_v.vocab:\n",
    "    product_category_em[int(w)] = product_category_v[w]    \n",
    "for w in click_times_v.vocab:\n",
    "    click_times_em[int(w)] = click_times_v[w]\n",
    "for w in time_v.vocab:\n",
    "    time_em[int(w)] = time_v[w]\n",
    "    \n",
    "    \n",
    "creative_id_em.shape,ad_id_em.shape,advertiser_id_em.shape,product_id_em.shape"
   ]
  },
  {
   "cell_type": "code",
   "execution_count": 13,
   "metadata": {
    "ExecuteTime": {
     "end_time": "2020-05-30T12:17:04.226000Z",
     "start_time": "2020-05-30T12:17:04.220015Z"
    }
   },
   "outputs": [
    {
     "data": {
      "text/plain": [
       "((333, 32), (19, 16), (9, 8), (92, 16))"
      ]
     },
     "execution_count": 13,
     "metadata": {},
     "output_type": "execute_result"
    }
   ],
   "source": [
    "industry_em.shape,product_category_em.shape,click_times_em.shape,time_em.shape"
   ]
  },
  {
   "cell_type": "code",
   "execution_count": 14,
   "metadata": {
    "ExecuteTime": {
     "end_time": "2020-05-30T12:17:32.796949Z",
     "start_time": "2020-05-30T12:17:32.792984Z"
    }
   },
   "outputs": [],
   "source": [
    "# 超参数\n",
    "max_length = 200\n",
    "embedding_dim = 128\n",
    "units = 128\n",
    "num_classes = 2\n",
    "batch_size = 256\n",
    "epochs = 2"
   ]
  },
  {
   "cell_type": "code",
   "execution_count": 15,
   "metadata": {
    "ExecuteTime": {
     "end_time": "2020-05-30T12:24:36.150474Z",
     "start_time": "2020-05-30T12:21:24.850950Z"
    }
   },
   "outputs": [],
   "source": [
    "creative_id_train_seq = keras.preprocessing.sequence.pad_sequences(user_ids['creative_id'][:810000],value = 0,padding = 'post',maxlen = max_length )\n",
    "creative_id_val_seq = keras.preprocessing.sequence.pad_sequences(user_ids['creative_id'][810000:900000],value = 0,padding = 'post',maxlen = max_length )\n",
    "creative_id_test_seq = keras.preprocessing.sequence.pad_sequences(user_ids['creative_id'][900000:],value = 0,padding = 'post',maxlen = max_length )\n",
    "\n",
    "ad_id_train_seq = keras.preprocessing.sequence.pad_sequences(user_ids['ad_id'][:810000],value = 0,padding = 'post',maxlen = max_length )\n",
    "ad_id_val_seq = keras.preprocessing.sequence.pad_sequences(user_ids['ad_id'][810000:900000],value = 0,padding = 'post',maxlen = max_length )\n",
    "ad_id_test_seq = keras.preprocessing.sequence.pad_sequences(user_ids['ad_id'][900000:],value = 0,padding = 'post',maxlen = max_length )\n",
    "\n",
    "advertiser_id_train_seq = keras.preprocessing.sequence.pad_sequences(user_ids['advertiser_id'][:810000],value = 0,padding = 'post',maxlen = max_length )\n",
    "advertiser_id_val_seq = keras.preprocessing.sequence.pad_sequences(user_ids['advertiser_id'][810000:900000],value = 0,padding = 'post',maxlen = max_length )\n",
    "advertiser_id_test_seq = keras.preprocessing.sequence.pad_sequences(user_ids['advertiser_id'][900000:],value = 0,padding = 'post',maxlen = max_length )\n",
    "\n",
    "product_id_train_seq = keras.preprocessing.sequence.pad_sequences(user_ids['product_id'][:810000],value = 0,padding = 'post',maxlen = max_length )\n",
    "product_id_val_seq = keras.preprocessing.sequence.pad_sequences(user_ids['product_id'][810000:900000],value = 0,padding = 'post',maxlen = max_length )\n",
    "product_id_test_seq = keras.preprocessing.sequence.pad_sequences(user_ids['product_id'][900000:],value = 0,padding = 'post',maxlen = max_length )\n",
    "\n",
    "\n",
    "industry_train_seq = keras.preprocessing.sequence.pad_sequences(user_ids['industry'][:810000],value = 0,padding = 'post',maxlen = max_length )\n",
    "industry_val_seq = keras.preprocessing.sequence.pad_sequences(user_ids['industry'][810000:900000],value = 0,padding = 'post',maxlen = max_length )\n",
    "industry_test_seq = keras.preprocessing.sequence.pad_sequences(user_ids['industry'][900000:],value = 0,padding = 'post',maxlen = max_length )\n",
    "\n",
    "\n",
    "product_category_train_seq = keras.preprocessing.sequence.pad_sequences(user_ids['product_category'][:810000],value = 0,padding = 'post',maxlen = max_length )\n",
    "product_category_val_seq = keras.preprocessing.sequence.pad_sequences(user_ids['product_category'][810000:900000],value = 0,padding = 'post',maxlen = max_length )\n",
    "product_category_test_seq = keras.preprocessing.sequence.pad_sequences(user_ids['product_category'][900000:],value = 0,padding = 'post',maxlen = max_length )\n",
    "\n",
    "\n",
    "click_times_train_seq = keras.preprocessing.sequence.pad_sequences(user_ids['click_times'][:810000],value = 0,padding = 'post',maxlen = max_length )\n",
    "click_times_val_seq = keras.preprocessing.sequence.pad_sequences(user_ids['click_times'][810000:900000],value = 0,padding = 'post',maxlen = max_length )\n",
    "click_times_test_seq = keras.preprocessing.sequence.pad_sequences(user_ids['click_times'][900000:],value = 0,padding = 'post',maxlen = max_length )\n",
    "\n",
    "\n",
    "time_train_seq = keras.preprocessing.sequence.pad_sequences(user_ids['time'][:810000],value = 0,padding = 'post',maxlen = max_length )\n",
    "time_val_seq = keras.preprocessing.sequence.pad_sequences(user_ids['time'][810000:900000],value = 0,padding = 'post',maxlen = max_length )\n",
    "time_test_seq = keras.preprocessing.sequence.pad_sequences(user_ids['time'][900000:],value = 0,padding = 'post',maxlen = max_length )\n"
   ]
  },
  {
   "cell_type": "code",
   "execution_count": 7,
   "metadata": {
    "ExecuteTime": {
     "end_time": "2020-05-29T16:21:00.972782Z",
     "start_time": "2020-05-29T16:21:00.798268Z"
    }
   },
   "outputs": [],
   "source": [
    "# # 放入cpu中\n",
    "# with tf.device(\"/CPU:0\"):\n",
    "#     creative_id_em = tf.constant(creative_id_em)\n",
    "#     ad_id_em = tf.constant(ad_id_em)"
   ]
  },
  {
   "cell_type": "code",
   "execution_count": 16,
   "metadata": {
    "ExecuteTime": {
     "end_time": "2020-05-30T12:24:42.698950Z",
     "start_time": "2020-05-30T12:24:42.682964Z"
    }
   },
   "outputs": [],
   "source": [
    "gender_train_label = np.array(user_ids['gender'][:810000])\n",
    "gender_val_label = np.array(user_ids['gender'][810000:900000])"
   ]
  },
  {
   "cell_type": "code",
   "execution_count": 17,
   "metadata": {
    "ExecuteTime": {
     "end_time": "2020-05-30T12:24:49.353161Z",
     "start_time": "2020-05-30T12:24:49.338169Z"
    }
   },
   "outputs": [],
   "source": [
    "age_train_label = np.array(user_ids['age'][:810000])\n",
    "age_val_label = np.array(user_ids['age'][810000:900000])"
   ]
  },
  {
   "cell_type": "code",
   "execution_count": 10,
   "metadata": {
    "ExecuteTime": {
     "end_time": "2020-05-29T16:21:08.500652Z",
     "start_time": "2020-05-29T16:21:08.492674Z"
    }
   },
   "outputs": [],
   "source": [
    "# def lstm_model(max_len,em_dim, units, num_class):\n",
    "#     inputs = keras.Input(shape=(max_len,em_dim), name='input')\n",
    "#     lstm_output = keras.layers.Bidirectional(keras.layers.LSTM(units))(inputs)\n",
    "#     fc = keras.layers.Dense(units, activation='relu')(lstm_output)\n",
    "#     outputs = keras.layers.Dense(num_class, activation='softmax')(fc)\n",
    "#     model = keras.Model(inputs=inputs, outputs=outputs)\n",
    "#     return model"
   ]
  },
  {
   "cell_type": "code",
   "execution_count": 11,
   "metadata": {
    "ExecuteTime": {
     "end_time": "2020-05-29T16:21:10.809500Z",
     "start_time": "2020-05-29T16:21:10.795538Z"
    }
   },
   "outputs": [],
   "source": [
    "# def input_fn(feature_dict, label=None, epochs=5, shuffle=True, batch_size=64, fit_key='train'):\n",
    "#     if fit_key == 'train':\n",
    "#         dataset = tf.data.Dataset.from_tensor_slices((feature_dict, label))\n",
    "#         dataset = dataset.map(lambda X,y: (tf.concat([tf.nn.embedding_lookup(creative_id_em, X['creative_id']),\n",
    "#                                                        tf.nn.embedding_lookup(creative_id_em, X['ad_id']),\n",
    "#                                                       ], axis=-1),y),\n",
    "#                               num_parallel_calls=tf.data.experimental.AUTOTUNE)\n",
    "#     else:\n",
    "#         dataset = tf.data.Dataset.from_tensor_slices((feature_dict))\n",
    "#         dataset = dataset.map(lambda X,y: (tf.concat([tf.nn.embedding_lookup(creative_id_em, X['creative_id']),\n",
    "#                                                        tf.nn.embedding_lookup(creative_id_em, X['ad_id']),\n",
    "#                                                       ], axis=-1)),\n",
    "#                               num_parallel_calls=tf.data.experimental.AUTOTUNE)\n",
    "        \n",
    "    \n",
    "#     if shuffle:\n",
    "#         dataset = dataset.shuffle(100*batch_size)\n",
    "#     dataset = dataset.repeat(epochs).batch(batch_size)\n",
    "#     return dataset"
   ]
  },
  {
   "cell_type": "code",
   "execution_count": 12,
   "metadata": {
    "ExecuteTime": {
     "end_time": "2020-05-29T16:21:15.130033Z",
     "start_time": "2020-05-29T16:21:13.635944Z"
    }
   },
   "outputs": [],
   "source": [
    "# model = lstm_model(max_len=200,\n",
    "#                    em_dim=256,\n",
    "#                    units=128,\n",
    "#                    num_class=2)\n",
    "# model.compile(optimizer = keras.optimizers.Adam(0.001),\n",
    "#               loss = keras.losses.sparse_categorical_crossentropy,\n",
    "#               metrics = ['accuracy'])\n",
    "# train_feature_dict = {'creative_id':creative_id_train_seq,\n",
    "#                 'ad_id':ad_id_train_seq}\n",
    "# val_feature_dict = {'creative_id':creative_id_val_seq,\n",
    "#                     'ad_id':ad_id_val_seq}\n",
    "#train_dataset = input_fn(train_feature_dict, gender_train_label-1, epochs=5, shuffle=True, batch_size=128)\n",
    "#val_dataset = input_fn(val_feature_dict, gender_val_label-1, epochs=1, shuffle=False, batch_size=128)\n",
    "#model.fit(train_dataset, validation_data=val_dataset)\n",
    "#model.save(model_path+'gender', save_format='tf')\n",
    "#model.summary()"
   ]
  },
  {
   "cell_type": "code",
   "execution_count": 15,
   "metadata": {
    "ExecuteTime": {
     "end_time": "2020-05-29T16:26:58.917371Z",
     "start_time": "2020-05-29T16:26:57.085263Z"
    },
    "collapsed": true
   },
   "outputs": [
    {
     "name": "stdout",
     "output_type": "stream",
     "text": [
      "INFO:tensorflow:Using default config.\n",
      "WARNING:tensorflow:Using temporary folder as model directory: C:\\Users\\ADMINI~1\\AppData\\Local\\Temp\\tmpxuwhm4zf\n",
      "INFO:tensorflow:Using the Keras model provided.\n",
      "INFO:tensorflow:Using config: {'_model_dir': 'C:\\\\Users\\\\ADMINI~1\\\\AppData\\\\Local\\\\Temp\\\\tmpxuwhm4zf', '_tf_random_seed': None, '_save_summary_steps': 100, '_save_checkpoints_steps': None, '_save_checkpoints_secs': 600, '_session_config': allow_soft_placement: true\n",
      "graph_options {\n",
      "  rewrite_options {\n",
      "    meta_optimizer_iterations: ONE\n",
      "  }\n",
      "}\n",
      ", '_keep_checkpoint_max': 5, '_keep_checkpoint_every_n_hours': 10000, '_log_step_count_steps': 100, '_train_distribute': None, '_device_fn': None, '_protocol': None, '_eval_distribute': None, '_experimental_distribute': None, '_experimental_max_worker_delay_secs': None, '_session_creation_timeout_secs': 7200, '_service': None, '_cluster_spec': ClusterSpec({}), '_task_type': 'worker', '_task_id': 0, '_global_id_in_cluster': 0, '_master': '', '_evaluation_master': '', '_is_chief': True, '_num_ps_replicas': 0, '_num_worker_replicas': 1}\n"
     ]
    }
   ],
   "source": [
    "# tf.compat.v1.disable_eager_execution()\n",
    "# estimator = tf.keras.estimator.model_to_estimator(model)\n",
    "#estimator.train(input_fn=lambda : input_fn(train_feature_dict, gender_train_label-1, epochs=5, shuffle=True, batch_size=128)   )"
   ]
  },
  {
   "cell_type": "markdown",
   "metadata": {},
   "source": [
    "  \n",
    "--旧版本--  \n",
    "\n"
   ]
  },
  {
   "cell_type": "code",
   "execution_count": 18,
   "metadata": {
    "ExecuteTime": {
     "end_time": "2020-05-30T12:24:56.885985Z",
     "start_time": "2020-05-30T12:24:56.874017Z"
    }
   },
   "outputs": [],
   "source": [
    "def input_fn(feature_dict, label=None, epochs=5, shuffle=True, batch_size=64, fit_key='train'):\n",
    "    if fit_key == 'train':\n",
    "        dataset = tf.data.Dataset.from_tensor_slices((feature_dict, label))\n",
    "    else:\n",
    "        dataset = tf.data.Dataset.from_tensor_slices((feature_dict))\n",
    "    if shuffle:\n",
    "        dataset = dataset.shuffle(100*batch_size)\n",
    "    dataset = dataset.repeat(epochs).batch(batch_size)\n",
    "    return dataset"
   ]
  },
  {
   "cell_type": "code",
   "execution_count": 20,
   "metadata": {
    "ExecuteTime": {
     "end_time": "2020-05-30T12:27:21.795666Z",
     "start_time": "2020-05-30T12:27:21.776697Z"
    },
    "scrolled": true
   },
   "outputs": [],
   "source": [
    "class LSTModel(keras.Model):\n",
    "    def __init__(self, units, num_classes, emb_size, max_len):\n",
    "        super(LSTModel, self).__init__()\n",
    "        self.units = units\n",
    "        self.embedding1 = keras.layers.Embedding(creative_id_vs, 128, input_length=max_len, trainable=False, weights=[creative_id_em],mask_zero=True)\n",
    "        self.embedding2 = keras.layers.Embedding(ad_id_vs, 128, input_length=max_len, trainable=False, weights=[ad_id_em],mask_zero=True)\n",
    "        self.embedding3 = keras.layers.Embedding(advertiser_id_vs, 64, input_length=max_len, trainable=False, weights=[advertiser_id_em],mask_zero=True)\n",
    "        self.embedding4 = keras.layers.Embedding(product_id_vs, 64, input_length=max_len, trainable=False, weights=[product_id_em],mask_zero=True)\n",
    "\n",
    "        self.embedding5 = keras.layers.Embedding(industry_vs, 32, input_length=max_len, trainable=False, weights=[industry_em],mask_zero=True)\n",
    "        self.embedding6 = keras.layers.Embedding(product_category_vs, 16, input_length=max_len, trainable=False, weights=[product_category_em],mask_zero=True)\n",
    "        self.embedding7 = keras.layers.Embedding(click_times_vs, 8, input_length=max_len, trainable=False, weights=[click_times_em],mask_zero=True)\n",
    "        self.embedding8 = keras.layers.Embedding(time_vs, 16, input_length=max_len, trainable=False, weights=[time_em],mask_zero=True)\n",
    "        \n",
    "        \n",
    "        \n",
    "        self.lstm = keras.layers.Bidirectional(keras.layers.LSTM(self.units))\n",
    "        \n",
    "        self.dense1 = keras.layers.Dense(self.units, activation='relu')\n",
    "        self.dense2 = keras.layers.Dense(num_classes, activation='softmax')\n",
    "\n",
    "    def call(self, feature_dict, training=None, mask=None):\n",
    "        x1 = self.embedding1(feature_dict['creative_id'])\n",
    "        x2 = self.embedding2(feature_dict['ad_id'])\n",
    "        x3 = self.embedding3(feature_dict['advertiser_id'])\n",
    "        x4 = self.embedding4(feature_dict['product_id'])\n",
    "        \n",
    "        x5 = self.embedding5(feature_dict['industry'])\n",
    "        x6 = self.embedding6(feature_dict['product_category'])\n",
    "        x7 = self.embedding7(feature_dict['click_times'])\n",
    "        x8 = self.embedding8(feature_dict['time'])\n",
    "        \n",
    "        \n",
    "        e = tf.concat([x1,x2, x3, x4, x5, x6, x7, x8],-1)\n",
    "        x = self.lstm(e)\n",
    "        #x = self.embedding(x)\n",
    "        #x = self.lstm(x)\n",
    "        x = self.dense1(x)\n",
    "        x = self.dense2(x)\n",
    "        return x"
   ]
  },
  {
   "cell_type": "code",
   "execution_count": 25,
   "metadata": {
    "ExecuteTime": {
     "end_time": "2020-05-30T15:39:08.884377Z",
     "start_time": "2020-05-30T14:46:42.088255Z"
    }
   },
   "outputs": [
    {
     "name": "stdout",
     "output_type": "stream",
     "text": [
      "start!!\n",
      "Train for 31641 steps, validate for 704 steps\n",
      "31641/31641 [==============================] - 3108s 98ms/step - loss: 0.1608 - accuracy: 0.9430 - val_loss: 0.1593 - val_accuracy: 0.9434\n",
      "Model: \"lst_model_1\"\n",
      "_________________________________________________________________\n",
      "Layer (type)                 Output Shape              Param #   \n",
      "=================================================================\n",
      "embedding_8 (Embedding)      multiple                  436834304 \n",
      "_________________________________________________________________\n",
      "embedding_9 (Embedding)      multiple                  387501952 \n",
      "_________________________________________________________________\n",
      "embedding_10 (Embedding)     multiple                  3703744   \n",
      "_________________________________________________________________\n",
      "embedding_11 (Embedding)     multiple                  2499712   \n",
      "_________________________________________________________________\n",
      "embedding_12 (Embedding)     multiple                  10656     \n",
      "_________________________________________________________________\n",
      "embedding_13 (Embedding)     multiple                  304       \n",
      "_________________________________________________________________\n",
      "embedding_14 (Embedding)     multiple                  72        \n",
      "_________________________________________________________________\n",
      "embedding_15 (Embedding)     multiple                  1472      \n",
      "_________________________________________________________________\n",
      "bidirectional_1 (Bidirection multiple                  599040    \n",
      "_________________________________________________________________\n",
      "dense_2 (Dense)              multiple                  32896     \n",
      "_________________________________________________________________\n",
      "dense_3 (Dense)              multiple                  258       \n",
      "=================================================================\n",
      "Total params: 831,184,410\n",
      "Trainable params: 632,194\n",
      "Non-trainable params: 830,552,216\n",
      "_________________________________________________________________\n"
     ]
    }
   ],
   "source": [
    "num_classes = 2\n",
    "model = LSTModel(units=units,\n",
    "                 num_classes=num_classes,\n",
    "                 emb_size=embedding_dim, \n",
    "                 max_len=max_length)\n",
    "model.compile(optimizer = keras.optimizers.Adam(0.001),\n",
    "              loss = keras.losses.sparse_categorical_crossentropy,\n",
    "              metrics = ['accuracy'])\n",
    "train_feature_dict = {'creative_id':creative_id_train_seq,\n",
    "                      'ad_id':ad_id_train_seq,\n",
    "                      'advertiser_id':advertiser_id_train_seq,\n",
    "                      'product_id':product_id_train_seq,\n",
    "                     'industry':industry_train_seq,\n",
    "                     'product_category':product_category_train_seq,\n",
    "                     'click_times':click_times_train_seq,\n",
    "                     'time':time_train_seq}\n",
    "\n",
    "val_feature_dict = {'creative_id':creative_id_val_seq,\n",
    "                    'ad_id':ad_id_val_seq,\n",
    "                    'advertiser_id':advertiser_id_val_seq,\n",
    "                    'product_id':product_id_val_seq,\n",
    "                    'industry':industry_val_seq,\n",
    "                     'product_category':product_category_val_seq,\n",
    "                     'click_times':click_times_val_seq,\n",
    "                     'time':time_val_seq\n",
    "                   }\n",
    "train_dataset = input_fn(train_feature_dict, gender_train_label-1, epochs=5, shuffle=True, batch_size=128)\n",
    "val_dataset = input_fn(val_feature_dict, gender_val_label-1, epochs=1, shuffle=False, batch_size=128)\n",
    "print('start!!')\n",
    "model.fit(train_dataset, validation_data=val_dataset)\n",
    "#model.save(model_path+'gender', save_format='tf')\n",
    "model.summary()"
   ]
  },
  {
   "cell_type": "code",
   "execution_count": 21,
   "metadata": {
    "ExecuteTime": {
     "end_time": "2020-05-30T13:31:15.307671Z",
     "start_time": "2020-05-30T12:31:27.371687Z"
    }
   },
   "outputs": [
    {
     "name": "stdout",
     "output_type": "stream",
     "text": [
      "Train for 31641 steps, validate for 704 steps\n",
      "31641/31641 [==============================] - 3558s 112ms/step - loss: 1.3297 - accuracy: 0.4474 - val_loss: 1.3076 - val_accuracy: 0.4569\n",
      "Model: \"lst_model\"\n",
      "_________________________________________________________________\n",
      "Layer (type)                 Output Shape              Param #   \n",
      "=================================================================\n",
      "embedding (Embedding)        multiple                  436834304 \n",
      "_________________________________________________________________\n",
      "embedding_1 (Embedding)      multiple                  387501952 \n",
      "_________________________________________________________________\n",
      "embedding_2 (Embedding)      multiple                  3703744   \n",
      "_________________________________________________________________\n",
      "embedding_3 (Embedding)      multiple                  2499712   \n",
      "_________________________________________________________________\n",
      "embedding_4 (Embedding)      multiple                  10656     \n",
      "_________________________________________________________________\n",
      "embedding_5 (Embedding)      multiple                  304       \n",
      "_________________________________________________________________\n",
      "embedding_6 (Embedding)      multiple                  72        \n",
      "_________________________________________________________________\n",
      "embedding_7 (Embedding)      multiple                  1472      \n",
      "_________________________________________________________________\n",
      "bidirectional (Bidirectional multiple                  599040    \n",
      "_________________________________________________________________\n",
      "dense (Dense)                multiple                  32896     \n",
      "_________________________________________________________________\n",
      "dense_1 (Dense)              multiple                  1290      \n",
      "=================================================================\n",
      "Total params: 831,185,442\n",
      "Trainable params: 633,226\n",
      "Non-trainable params: 830,552,216\n",
      "_________________________________________________________________\n"
     ]
    }
   ],
   "source": [
    "num_classes = 10\n",
    "units = 128\n",
    "age_model = LSTModel(units=units,\n",
    "                 num_classes=num_classes,\n",
    "                 emb_size=embedding_dim, \n",
    "                 max_len=max_length)\n",
    "age_model.compile(optimizer = keras.optimizers.Adam(0.001),\n",
    "              loss = keras.losses.sparse_categorical_crossentropy,\n",
    "              metrics = ['accuracy'])\n",
    "train_feature_dict = {'creative_id':creative_id_train_seq,\n",
    "                      'ad_id':ad_id_train_seq,\n",
    "                      'advertiser_id':advertiser_id_train_seq,\n",
    "                      'product_id':product_id_train_seq,\n",
    "                     'industry':industry_train_seq,\n",
    "                     'product_category':product_category_train_seq,\n",
    "                     'click_times':click_times_train_seq,\n",
    "                     'time':time_train_seq}\n",
    "\n",
    "val_feature_dict = {'creative_id':creative_id_val_seq,\n",
    "                    'ad_id':ad_id_val_seq,\n",
    "                    'advertiser_id':advertiser_id_val_seq,\n",
    "                    'product_id':product_id_val_seq,\n",
    "                    'industry':industry_val_seq,\n",
    "                     'product_category':product_category_val_seq,\n",
    "                     'click_times':click_times_val_seq,\n",
    "                     'time':time_val_seq\n",
    "                   }\n",
    "train_dataset = input_fn(train_feature_dict, age_train_label-1, epochs=5, shuffle=True, batch_size=128)\n",
    "val_dataset = input_fn(val_feature_dict, age_val_label-1, epochs=1, shuffle=False, batch_size=128)\n",
    "age_model.fit(train_dataset, validation_data=val_dataset)\n",
    "#model.save(model_path+'age', save_format='tf')\n",
    "age_model.summary()"
   ]
  },
  {
   "cell_type": "code",
   "execution_count": 6,
   "metadata": {
    "ExecuteTime": {
     "end_time": "2020-05-27T13:07:21.187131Z",
     "start_time": "2020-05-27T13:06:51.907006Z"
    }
   },
   "outputs": [],
   "source": [
    "#gender_model = keras.models.load_model('gender')\n",
    "#age_model = keras.models.load_model('age')\n"
   ]
  },
  {
   "cell_type": "code",
   "execution_count": 26,
   "metadata": {
    "ExecuteTime": {
     "end_time": "2020-05-30T15:46:04.364864Z",
     "start_time": "2020-05-30T15:41:43.265037Z"
    }
   },
   "outputs": [
    {
     "name": "stdout",
     "output_type": "stream",
     "text": [
      "0\n",
      "1\n",
      "2\n",
      "3\n",
      "4\n",
      "5\n",
      "6\n",
      "7\n",
      "8\n",
      "9\n"
     ]
    },
    {
     "data": {
      "text/plain": [
       "([1, 2, 2, 1, 1, 1, 1, 1, 1, 2], 1000000)"
      ]
     },
     "execution_count": 26,
     "metadata": {},
     "output_type": "execute_result"
    }
   ],
   "source": [
    "gender_pre = []\n",
    "gender_prob = []\n",
    "num_index = [0, 100000, 200000, 300000, 400000, 500000, 600000, 700000, 800000, 900000, 1000000]\n",
    "for i in range(10):\n",
    "    test_feature_dict = {'creative_id':creative_id_test_seq[num_index[i]:num_index[i+1]],\n",
    "                    'ad_id':ad_id_test_seq[num_index[i]:num_index[i+1]],\n",
    "                    'advertiser_id':advertiser_id_test_seq[num_index[i]:num_index[i+1]],\n",
    "                    'product_id':product_id_test_seq[num_index[i]:num_index[i+1]],\n",
    "                    'industry':industry_test_seq[num_index[i]:num_index[i+1]],\n",
    "                     'product_category':product_category_test_seq[num_index[i]:num_index[i+1]],\n",
    "                     'click_times':click_times_test_seq[num_index[i]:num_index[i+1]],\n",
    "                     'time':time_test_seq[num_index[i]:num_index[i+1]]\n",
    "                   }\n",
    "    test_dataset = input_fn(test_feature_dict, epochs=1, shuffle=False, batch_size=1024, fit_key='predict')\n",
    "    pre_tmp = model.predict(test_dataset)\n",
    "    gender_pre.extend(pre_tmp.argmax(axis=1) + 1)\n",
    "    gender_prob.extend(pre_tmp)\n",
    "    print(i)\n",
    "\n",
    "# test_feature_dict = {'creative_id':creative_id_test_seq,\n",
    "#                     'ad_id':ad_id_test_seq}\n",
    "# test_dataset = input_fn(test_feature_dict, epochs=1, shuffle=False, batch_size=8192, fit_key='predict')\n",
    "# age_pre = model.predict(test_feature_dict)\n",
    "gender_pre[0:10],len(gender_pre)"
   ]
  },
  {
   "cell_type": "code",
   "execution_count": 23,
   "metadata": {
    "ExecuteTime": {
     "end_time": "2020-05-30T14:33:55.308914Z",
     "start_time": "2020-05-30T14:29:21.164971Z"
    }
   },
   "outputs": [
    {
     "name": "stdout",
     "output_type": "stream",
     "text": [
      "0\n",
      "1\n",
      "2\n",
      "3\n",
      "4\n",
      "5\n",
      "6\n",
      "7\n",
      "8\n",
      "9\n"
     ]
    },
    {
     "data": {
      "text/plain": [
       "([3, 7, 2, 3, 4, 4, 9, 3, 2, 10], 1000000)"
      ]
     },
     "execution_count": 23,
     "metadata": {},
     "output_type": "execute_result"
    }
   ],
   "source": [
    "age_pre = []\n",
    "age_prob = []\n",
    "num_index = [0, 100000, 200000, 300000, 400000, 500000, 600000, 700000, 800000, 900000, 1000000]\n",
    "for i in range(10):\n",
    "    test_feature_dict = {'creative_id':creative_id_test_seq[num_index[i]:num_index[i+1]],\n",
    "                    'ad_id':ad_id_test_seq[num_index[i]:num_index[i+1]],\n",
    "                    'advertiser_id':advertiser_id_test_seq[num_index[i]:num_index[i+1]],\n",
    "                    'product_id':product_id_test_seq[num_index[i]:num_index[i+1]],\n",
    "                    'industry':industry_test_seq[num_index[i]:num_index[i+1]],\n",
    "                     'product_category':product_category_test_seq[num_index[i]:num_index[i+1]],\n",
    "                     'click_times':click_times_test_seq[num_index[i]:num_index[i+1]],\n",
    "                     'time':time_test_seq[num_index[i]:num_index[i+1]]\n",
    "                   }\n",
    "    test_dataset = input_fn(test_feature_dict, epochs=1, shuffle=False, batch_size=1024, fit_key='predict')\n",
    "    pre_tmp = age_model.predict(test_dataset)\n",
    "    age_pre.extend(pre_tmp.argmax(axis=1) + 1)\n",
    "    age_prob.extend(pre_tmp)\n",
    "    print(i)\n",
    "\n",
    "# test_feature_dict = {'creative_id':creative_id_test_seq,\n",
    "#                     'ad_id':ad_id_test_seq}\n",
    "# test_dataset = input_fn(test_feature_dict, epochs=1, shuffle=False, batch_size=8192, fit_key='predict')\n",
    "# age_pre = model.predict(test_feature_dict)\n",
    "age_pre[0:10],len(age_pre)"
   ]
  },
  {
   "cell_type": "code",
   "execution_count": 24,
   "metadata": {
    "ExecuteTime": {
     "end_time": "2020-05-30T14:40:42.450533Z",
     "start_time": "2020-05-30T14:40:36.744745Z"
    }
   },
   "outputs": [
    {
     "name": "stdout",
     "output_type": "stream",
     "text": [
      "ok！\n"
     ]
    }
   ],
   "source": [
    "sub = pd.DataFrame()\n",
    "sub['user_id'] = range(3000001,4000001)\n",
    "sub['predicted_age'] = age_pre\n",
    "#sub['predicted_gender'] = gender_pre\n",
    "print('ok！')\n",
    "sub.to_csv(f\"{sub_path}/submission_8_input.csv\", index=False, encoding='utf-8')"
   ]
  },
  {
   "cell_type": "code",
   "execution_count": 27,
   "metadata": {
    "ExecuteTime": {
     "end_time": "2020-05-30T15:48:03.636439Z",
     "start_time": "2020-05-30T15:47:49.002526Z"
    }
   },
   "outputs": [
    {
     "name": "stdout",
     "output_type": "stream",
     "text": [
      "ok！\n"
     ]
    }
   ],
   "source": [
    "sub = pd.read_csv(f\"{sub_path}/submission_8_input.csv\", encoding='utf-8')\n",
    "#sub['predicted_age'] = age_pre\n",
    "sub['predicted_gender'] = gender_pre\n",
    "print('ok！')\n",
    "\n",
    "sub.to_csv(f\"{sub_path}/submission_8_input.csv\", index=False, encoding='utf-8')\n",
    "sub.to_csv(f\"{sub_path}/submission.csv\", index=False, encoding='utf-8')"
   ]
  },
  {
   "cell_type": "code",
   "execution_count": 7,
   "metadata": {
    "ExecuteTime": {
     "end_time": "2020-05-30T11:18:09.409626Z",
     "start_time": "2020-05-30T11:18:06.107457Z"
    }
   },
   "outputs": [
    {
     "data": {
      "text/html": [
       "<div>\n",
       "<style scoped>\n",
       "    .dataframe tbody tr th:only-of-type {\n",
       "        vertical-align: middle;\n",
       "    }\n",
       "\n",
       "    .dataframe tbody tr th {\n",
       "        vertical-align: top;\n",
       "    }\n",
       "\n",
       "    .dataframe thead th {\n",
       "        text-align: right;\n",
       "    }\n",
       "</style>\n",
       "<table border=\"1\" class=\"dataframe\">\n",
       "  <thead>\n",
       "    <tr style=\"text-align: right;\">\n",
       "      <th></th>\n",
       "      <th>0</th>\n",
       "      <th>1</th>\n",
       "    </tr>\n",
       "  </thead>\n",
       "  <tbody>\n",
       "    <tr>\n",
       "      <th>0</th>\n",
       "      <td>0.25</td>\n",
       "      <td>0.36</td>\n",
       "    </tr>\n",
       "    <tr>\n",
       "      <th>1</th>\n",
       "      <td>0.44</td>\n",
       "      <td>0.88</td>\n",
       "    </tr>\n",
       "    <tr>\n",
       "      <th>2</th>\n",
       "      <td>0.25</td>\n",
       "      <td>0.36</td>\n",
       "    </tr>\n",
       "    <tr>\n",
       "      <th>3</th>\n",
       "      <td>0.44</td>\n",
       "      <td>0.88</td>\n",
       "    </tr>\n",
       "  </tbody>\n",
       "</table>\n",
       "</div>"
      ],
      "text/plain": [
       "      0     1\n",
       "0  0.25  0.36\n",
       "1  0.44  0.88\n",
       "2  0.25  0.36\n",
       "3  0.44  0.88"
      ]
     },
     "execution_count": 7,
     "metadata": {},
     "output_type": "execute_result"
    }
   ],
   "source": [
    "import numpy as np\n",
    "import pandas as pd\n",
    "a = np.array([[0.25,0.36], [0.44,0.88]])\n",
    "b = np.array([[0.25,0.36], [0.44,0.88]])\n",
    "\n",
    "p = []\n",
    "p.extend(a)\n",
    "p.extend(b)\n",
    "\n",
    "dd = pd.DataFrame(p)\n",
    "dd"
   ]
  }
 ],
 "metadata": {
  "kernelspec": {
   "display_name": "Python 3",
   "language": "python",
   "name": "python3"
  },
  "language_info": {
   "codemirror_mode": {
    "name": "ipython",
    "version": 3
   },
   "file_extension": ".py",
   "mimetype": "text/x-python",
   "name": "python",
   "nbconvert_exporter": "python",
   "pygments_lexer": "ipython3",
   "version": "3.7.4rc1"
  },
  "toc": {
   "base_numbering": 1,
   "nav_menu": {},
   "number_sections": true,
   "sideBar": true,
   "skip_h1_title": false,
   "title_cell": "Table of Contents",
   "title_sidebar": "Contents",
   "toc_cell": false,
   "toc_position": {},
   "toc_section_display": true,
   "toc_window_display": false
  },
  "varInspector": {
   "cols": {
    "lenName": 16,
    "lenType": 16,
    "lenVar": 40
   },
   "kernels_config": {
    "python": {
     "delete_cmd_postfix": "",
     "delete_cmd_prefix": "del ",
     "library": "var_list.py",
     "varRefreshCmd": "print(var_dic_list())"
    },
    "r": {
     "delete_cmd_postfix": ") ",
     "delete_cmd_prefix": "rm(",
     "library": "var_list.r",
     "varRefreshCmd": "cat(var_dic_list()) "
    }
   },
   "position": {
    "height": "830.4px",
    "left": "1678px",
    "right": "20px",
    "top": "120px",
    "width": "350px"
   },
   "types_to_exclude": [
    "module",
    "function",
    "builtin_function_or_method",
    "instance",
    "_Feature"
   ],
   "window_display": true
  }
 },
 "nbformat": 4,
 "nbformat_minor": 2
}

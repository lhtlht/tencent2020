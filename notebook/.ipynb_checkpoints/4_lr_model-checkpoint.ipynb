{
 "cells": [
  {
   "cell_type": "code",
   "execution_count": 1,
   "metadata": {
    "ExecuteTime": {
     "end_time": "2020-05-21T15:44:22.284662Z",
     "start_time": "2020-05-21T15:44:13.700576Z"
    }
   },
   "outputs": [],
   "source": [
    "import sys\n",
    "import os\n",
    "import logging\n",
    "sys.path.append(r\"..\")\n",
    "\n",
    "from utils import *\n",
    "import pandas as pd\n",
    "import numpy as np\n",
    "from sklearn.model_selection import train_test_split\n",
    "from sklearn.feature_extraction.text import TfidfTransformer\n",
    "from sklearn.feature_extraction.text import CountVectorizer\n",
    "from sklearn.naive_bayes import MultinomialNB\n",
    "from sklearn.linear_model import LogisticRegression\n",
    "\n",
    "from sklearn.metrics import accuracy_score,roc_auc_score,f1_score,recall_score\n",
    "from gensim import models\n",
    "from scipy import sparse\n",
    "from scipy.sparse import csr_matrix, coo_matrix \n",
    "\n",
    "from collections import defaultdict\n",
    "from collections import Counter\n",
    "path_build = \"../../data/tencent2020/build/\"\n",
    "path_save = \"../../data/tencent2020/save/\"\n",
    "pickle_path = \"../../data/tencent2020/pickle/\"\n",
    "sub_path = \"../../data/tencent2020/sub/\"\n",
    "\n",
    "train_preliminary_p = path_build + \"train_preliminary/\"\n",
    "\n",
    "if not os.path.exists(pickle_path):\n",
    "    os.mkdir(pickle_path) \n",
    "if not os.path.exists(sub_path):\n",
    "    os.mkdir(sub_path)"
   ]
  },
  {
   "cell_type": "code",
   "execution_count": 4,
   "metadata": {
    "ExecuteTime": {
     "end_time": "2020-05-21T15:49:13.813930Z",
     "start_time": "2020-05-21T15:48:09.045153Z"
    }
   },
   "outputs": [
    {
     "data": {
      "text/html": [
       "<div>\n",
       "<style scoped>\n",
       "    .dataframe tbody tr th:only-of-type {\n",
       "        vertical-align: middle;\n",
       "    }\n",
       "\n",
       "    .dataframe tbody tr th {\n",
       "        vertical-align: top;\n",
       "    }\n",
       "\n",
       "    .dataframe thead th {\n",
       "        text-align: right;\n",
       "    }\n",
       "</style>\n",
       "<table border=\"1\" class=\"dataframe\">\n",
       "  <thead>\n",
       "    <tr style=\"text-align: right;\">\n",
       "      <th></th>\n",
       "      <th>user_id</th>\n",
       "      <th>creative_id</th>\n",
       "      <th>ad_id</th>\n",
       "      <th>product_id</th>\n",
       "      <th>product_category</th>\n",
       "      <th>advertiser_id</th>\n",
       "      <th>industry</th>\n",
       "      <th>click_times</th>\n",
       "      <th>creative_id_len</th>\n",
       "      <th>ad_id_len</th>\n",
       "      <th>product_id_len</th>\n",
       "      <th>product_category_len</th>\n",
       "      <th>advertiser_len</th>\n",
       "      <th>industry_len</th>\n",
       "      <th>age</th>\n",
       "      <th>gender</th>\n",
       "    </tr>\n",
       "  </thead>\n",
       "  <tbody>\n",
       "    <tr>\n",
       "      <th>0</th>\n",
       "      <td>1</td>\n",
       "      <td>[821396, 209778, 877468, 1683713, 122032, 7169...</td>\n",
       "      <td>[724607, 188507, 773445, 1458878, 109959, 6621...</td>\n",
       "      <td>[0, 136, 0, 0, 1334, 0, 0, 0, 0, 1454, 64, 64,...</td>\n",
       "      <td>[5, 2, 5, 5, 2, 18, 5, 5, 18, 2, 2, 2, 2]</td>\n",
       "      <td>[7293, 9702, 29455, 14668, 11411, 14681, 17189...</td>\n",
       "      <td>[326, 6, 106, 326, 0, 326, 73, 217, 64, 238, 2...</td>\n",
       "      <td>[1, 1, 1, 1, 1, 1, 1, 1, 1, 1, 1, 1, 2]</td>\n",
       "      <td>12</td>\n",
       "      <td>12</td>\n",
       "      <td>6</td>\n",
       "      <td>3</td>\n",
       "      <td>12</td>\n",
       "      <td>9</td>\n",
       "      <td>4.0</td>\n",
       "      <td>1.0</td>\n",
       "    </tr>\n",
       "    <tr>\n",
       "      <th>1</th>\n",
       "      <td>2</td>\n",
       "      <td>[63441, 155822, 39714, 609050, 13069, 441462, ...</td>\n",
       "      <td>[58788, 139702, 38066, 541125, 14495, 392680, ...</td>\n",
       "      <td>[87, 80, 129, 129, 1400, 87, 0, 1261, 0, 0, 11...</td>\n",
       "      <td>[2, 2, 2, 2, 2, 2, 18, 2, 18, 18, 2, 18, 2, 18...</td>\n",
       "      <td>[22885, 10686, 18562, 25932, 768, 22885, 34505...</td>\n",
       "      <td>[318, 238, 6, 6, 317, 318, 47, 6, 47, 47, 242,...</td>\n",
       "      <td>[1, 1, 1, 1, 1, 1, 1, 1, 1, 1, 1, 1, 1, 1, 1, ...</td>\n",
       "      <td>42</td>\n",
       "      <td>42</td>\n",
       "      <td>20</td>\n",
       "      <td>3</td>\n",
       "      <td>36</td>\n",
       "      <td>15</td>\n",
       "      <td>10.0</td>\n",
       "      <td>1.0</td>\n",
       "    </tr>\n",
       "    <tr>\n",
       "      <th>2</th>\n",
       "      <td>3</td>\n",
       "      <td>[661347, 808612, 710859, 825434, 593522, 72694...</td>\n",
       "      <td>[586668, 713448, 629278, 728308, 527601, 64310...</td>\n",
       "      <td>[36256, 40905, 1674, 35985, 1674, 0, 0, 1031, ...</td>\n",
       "      <td>[17, 17, 2, 17, 2, 18, 18, 2, 2, 2, 18, 12, 2,...</td>\n",
       "      <td>[32974, 9877, 18492, 14186, 17018, 9058, 8371,...</td>\n",
       "      <td>[0, 0, 322, 0, 322, 6, 54, 6, 322, 322, 205, 3...</td>\n",
       "      <td>[1, 1, 1, 1, 1, 1, 1, 1, 1, 1, 1, 1, 1, 1, 1, ...</td>\n",
       "      <td>30</td>\n",
       "      <td>30</td>\n",
       "      <td>17</td>\n",
       "      <td>6</td>\n",
       "      <td>28</td>\n",
       "      <td>8</td>\n",
       "      <td>7.0</td>\n",
       "      <td>2.0</td>\n",
       "    </tr>\n",
       "    <tr>\n",
       "      <th>3</th>\n",
       "      <td>4</td>\n",
       "      <td>[39588, 589886, 574787, 1892854, 1962706, 2264...</td>\n",
       "      <td>[37966, 524312, 511235, 1638619, 1698206, 1953...</td>\n",
       "      <td>[1862, 0, 2625, 38743, 41265, 37758, 39904, 39...</td>\n",
       "      <td>[2, 18, 2, 17, 17, 4, 17, 17, 18, 2, 2, 2, 2, ...</td>\n",
       "      <td>[19451, 7976, 13084, 12130, 23664, 811, 10172,...</td>\n",
       "      <td>[238, 25, 248, 0, 0, 0, 0, 0, 88, 319, 238, 6,...</td>\n",
       "      <td>[1, 1, 1, 1, 1, 1, 1, 1, 1, 1, 1, 1, 1, 1, 1, ...</td>\n",
       "      <td>29</td>\n",
       "      <td>29</td>\n",
       "      <td>18</td>\n",
       "      <td>6</td>\n",
       "      <td>26</td>\n",
       "      <td>10</td>\n",
       "      <td>5.0</td>\n",
       "      <td>1.0</td>\n",
       "    </tr>\n",
       "    <tr>\n",
       "      <th>4</th>\n",
       "      <td>5</td>\n",
       "      <td>[296145, 350759, 24333, 43235, 852327, 1054434...</td>\n",
       "      <td>[265971, 314795, 24966, 41148, 751113, 925792,...</td>\n",
       "      <td>[0, 0, 87, 136, 0, 136, 0, 0, 0, 1064, 0, 2620...</td>\n",
       "      <td>[5, 8, 2, 2, 18, 2, 5, 18, 18, 2, 18, 2, 5, 5,...</td>\n",
       "      <td>[11882, 992, 22885, 9706, 38760, 2862, 17745, ...</td>\n",
       "      <td>[297, 0, 318, 6, 322, 6, 288, 322, 319, 238, 3...</td>\n",
       "      <td>[1, 1, 1, 1, 1, 2, 1, 1, 1, 1, 1, 1, 1, 1, 1, ...</td>\n",
       "      <td>33</td>\n",
       "      <td>33</td>\n",
       "      <td>7</td>\n",
       "      <td>4</td>\n",
       "      <td>30</td>\n",
       "      <td>18</td>\n",
       "      <td>4.0</td>\n",
       "      <td>1.0</td>\n",
       "    </tr>\n",
       "  </tbody>\n",
       "</table>\n",
       "</div>"
      ],
      "text/plain": [
       "   user_id                                        creative_id  \\\n",
       "0        1  [821396, 209778, 877468, 1683713, 122032, 7169...   \n",
       "1        2  [63441, 155822, 39714, 609050, 13069, 441462, ...   \n",
       "2        3  [661347, 808612, 710859, 825434, 593522, 72694...   \n",
       "3        4  [39588, 589886, 574787, 1892854, 1962706, 2264...   \n",
       "4        5  [296145, 350759, 24333, 43235, 852327, 1054434...   \n",
       "\n",
       "                                               ad_id  \\\n",
       "0  [724607, 188507, 773445, 1458878, 109959, 6621...   \n",
       "1  [58788, 139702, 38066, 541125, 14495, 392680, ...   \n",
       "2  [586668, 713448, 629278, 728308, 527601, 64310...   \n",
       "3  [37966, 524312, 511235, 1638619, 1698206, 1953...   \n",
       "4  [265971, 314795, 24966, 41148, 751113, 925792,...   \n",
       "\n",
       "                                          product_id  \\\n",
       "0  [0, 136, 0, 0, 1334, 0, 0, 0, 0, 1454, 64, 64,...   \n",
       "1  [87, 80, 129, 129, 1400, 87, 0, 1261, 0, 0, 11...   \n",
       "2  [36256, 40905, 1674, 35985, 1674, 0, 0, 1031, ...   \n",
       "3  [1862, 0, 2625, 38743, 41265, 37758, 39904, 39...   \n",
       "4  [0, 0, 87, 136, 0, 136, 0, 0, 0, 1064, 0, 2620...   \n",
       "\n",
       "                                    product_category  \\\n",
       "0          [5, 2, 5, 5, 2, 18, 5, 5, 18, 2, 2, 2, 2]   \n",
       "1  [2, 2, 2, 2, 2, 2, 18, 2, 18, 18, 2, 18, 2, 18...   \n",
       "2  [17, 17, 2, 17, 2, 18, 18, 2, 2, 2, 18, 12, 2,...   \n",
       "3  [2, 18, 2, 17, 17, 4, 17, 17, 18, 2, 2, 2, 2, ...   \n",
       "4  [5, 8, 2, 2, 18, 2, 5, 18, 18, 2, 18, 2, 5, 5,...   \n",
       "\n",
       "                                       advertiser_id  \\\n",
       "0  [7293, 9702, 29455, 14668, 11411, 14681, 17189...   \n",
       "1  [22885, 10686, 18562, 25932, 768, 22885, 34505...   \n",
       "2  [32974, 9877, 18492, 14186, 17018, 9058, 8371,...   \n",
       "3  [19451, 7976, 13084, 12130, 23664, 811, 10172,...   \n",
       "4  [11882, 992, 22885, 9706, 38760, 2862, 17745, ...   \n",
       "\n",
       "                                            industry  \\\n",
       "0  [326, 6, 106, 326, 0, 326, 73, 217, 64, 238, 2...   \n",
       "1  [318, 238, 6, 6, 317, 318, 47, 6, 47, 47, 242,...   \n",
       "2  [0, 0, 322, 0, 322, 6, 54, 6, 322, 322, 205, 3...   \n",
       "3  [238, 25, 248, 0, 0, 0, 0, 0, 88, 319, 238, 6,...   \n",
       "4  [297, 0, 318, 6, 322, 6, 288, 322, 319, 238, 3...   \n",
       "\n",
       "                                         click_times  creative_id_len  \\\n",
       "0            [1, 1, 1, 1, 1, 1, 1, 1, 1, 1, 1, 1, 2]               12   \n",
       "1  [1, 1, 1, 1, 1, 1, 1, 1, 1, 1, 1, 1, 1, 1, 1, ...               42   \n",
       "2  [1, 1, 1, 1, 1, 1, 1, 1, 1, 1, 1, 1, 1, 1, 1, ...               30   \n",
       "3  [1, 1, 1, 1, 1, 1, 1, 1, 1, 1, 1, 1, 1, 1, 1, ...               29   \n",
       "4  [1, 1, 1, 1, 1, 2, 1, 1, 1, 1, 1, 1, 1, 1, 1, ...               33   \n",
       "\n",
       "   ad_id_len  product_id_len  product_category_len  advertiser_len  \\\n",
       "0         12               6                     3              12   \n",
       "1         42              20                     3              36   \n",
       "2         30              17                     6              28   \n",
       "3         29              18                     6              26   \n",
       "4         33               7                     4              30   \n",
       "\n",
       "   industry_len   age  gender  \n",
       "0             9   4.0     1.0  \n",
       "1            15  10.0     1.0  \n",
       "2             8   7.0     2.0  \n",
       "3            10   5.0     1.0  \n",
       "4            18   4.0     1.0  "
      ]
     },
     "execution_count": 4,
     "metadata": {},
     "output_type": "execute_result"
    }
   ],
   "source": [
    "user_ids = pd.read_pickle(f\"{pickle_path}/user_ids.pickle\")\n",
    "user = pd.read_csv(train_preliminary_p + \"user.csv\", encoding='utf-8')\n",
    "user_ids = user_ids.merge(user, how='left', on='user_id')\n",
    "del user\n",
    "user_ids.head()"
   ]
  },
  {
   "cell_type": "code",
   "execution_count": 5,
   "metadata": {
    "ExecuteTime": {
     "end_time": "2020-05-21T15:49:56.875869Z",
     "start_time": "2020-05-21T15:49:26.007406Z"
    }
   },
   "outputs": [],
   "source": [
    "creative_id_v = models.KeyedVectors.load_word2vec_format(f\"{path_save}/creative_id_w2v100.bin\", binary=True)\n",
    "ad_id_v = models.KeyedVectors.load_word2vec_format(f\"{path_save}/ad_id_w2v100.bin\", binary=True)\n",
    "advertiser_id_v = models.KeyedVectors.load_word2vec_format(f\"{path_save}/advertiser_id_w2v50.bin\", binary=True)\n",
    "product_id_v = models.KeyedVectors.load_word2vec_format(f\"{path_save}/product_id_w2v50.bin\", binary=True)"
   ]
  },
  {
   "cell_type": "code",
   "execution_count": 6,
   "metadata": {
    "ExecuteTime": {
     "end_time": "2020-05-21T15:50:10.911289Z",
     "start_time": "2020-05-21T15:49:57.273788Z"
    }
   },
   "outputs": [],
   "source": [
    "creative_id_tfidf_matrix = load_pickle(pickle_path + 'creative_id_tfidf_matrix_2')\n",
    "ad_id_tfidf_matrix = load_pickle(pickle_path + 'ad_id_tfidf_matrix_2')\n",
    "product_id_tfidf_matrix = load_pickle(pickle_path + 'product_id_tfidf_matrix_2')\n",
    "advertiser_id_tfidf_matrix = load_pickle(pickle_path + 'advertiser_id_tfidf_matrix_2')\n",
    "advertiser_id_tfidf_matrix = load_pickle(pickle_path + 'advertiser_id_tfidf_matrix_2')\n",
    "click_times_tfidf_matrix = load_pickle(pickle_path + 'click_times_tfidf_matrix_2')\n",
    "\n",
    "creative_id_tfidf_voc = load_pickle(pickle_path + 'creative_id_tfidf_voc_2')\n",
    "ad_id_tfidf_voc = load_pickle(pickle_path + 'ad_id_tfidf_voc_2')\n",
    "product_id_tfidf_voc = load_pickle(pickle_path + 'product_id_tfidf_voc_2')\n",
    "advertiser_id_tfidf_voc = load_pickle(pickle_path + 'advertiser_id_tfidf_voc_2')\n",
    "advertiser_id_tfidf_voc = load_pickle(pickle_path + 'advertiser_id_tfidf_voc_2')\n",
    "click_times_tfidf_voc = load_pickle(pickle_path + 'click_times_tfidf_voc_2')\n",
    "\n"
   ]
  },
  {
   "cell_type": "code",
   "execution_count": 9,
   "metadata": {
    "ExecuteTime": {
     "end_time": "2020-05-20T00:32:47.998922Z",
     "start_time": "2020-05-20T00:32:47.990923Z"
    }
   },
   "outputs": [],
   "source": [
    "def embedding_v(ll, voc):\n",
    "    id_count = Counter(ll)\n",
    "    id_l = []    \n",
    "    for k in id_count.keys():\n",
    "        if str(k) in voc:\n",
    "            id_l.append(voc[str(k)]*id_count[k])\n",
    "    return np.array(id_l).mean(axis=0)\n"
   ]
  },
  {
   "cell_type": "code",
   "execution_count": 7,
   "metadata": {
    "ExecuteTime": {
     "end_time": "2020-05-21T15:50:34.372541Z",
     "start_time": "2020-05-21T15:50:34.360595Z"
    }
   },
   "outputs": [],
   "source": [
    "def embedding_v2(user_id, ll, voc, tfidf_matrix, tfidf_voc):\n",
    "    ll = set(ll)\n",
    "    id_l = []    \n",
    "    for k in ll:\n",
    "        if str(k) in voc and str(k) in tfidf_voc:\n",
    "            id_l.append(voc[str(k)]*tfidf_matrix[user_id, tfidf_voc[str(k)]])\n",
    "    return np.array(id_l).mean(axis=0)\n"
   ]
  },
  {
   "cell_type": "code",
   "execution_count": 23,
   "metadata": {
    "ExecuteTime": {
     "end_time": "2020-05-22T00:01:16.200273Z",
     "start_time": "2020-05-21T23:51:35.689000Z"
    },
    "collapsed": true
   },
   "outputs": [
    {
     "name": "stdout",
     "output_type": "stream",
     "text": [
      "n core:6\n"
     ]
    },
    {
     "name": "stderr",
     "output_type": "stream",
     "text": [
      "c:\\python37\\lib\\site-packages\\ipykernel_launcher.py:7: RuntimeWarning: Mean of empty slice.\n",
      "  import sys\n",
      "c:\\python37\\lib\\site-packages\\numpy\\core\\_methods.py:85: RuntimeWarning: invalid value encountered in double_scalars\n",
      "  ret = ret.dtype.type(ret / rcount)\n"
     ]
    },
    {
     "ename": "KeyboardInterrupt",
     "evalue": "",
     "output_type": "error",
     "traceback": [
      "\u001b[1;31m---------------------------------------------------------------------------\u001b[0m",
      "\u001b[1;31mKeyboardInterrupt\u001b[0m                         Traceback (most recent call last)",
      "\u001b[1;32m<ipython-input-23-b31a9137f138>\u001b[0m in \u001b[0;36m<module>\u001b[1;34m\u001b[0m\n\u001b[0;32m      9\u001b[0m             \u001b[1;32mlambda\u001b[0m \u001b[0mx\u001b[0m\u001b[1;33m:\u001b[0m \u001b[0membedding_v2\u001b[0m\u001b[1;33m(\u001b[0m\u001b[0mx\u001b[0m\u001b[1;33m[\u001b[0m\u001b[1;34m'id'\u001b[0m\u001b[1;33m]\u001b[0m\u001b[1;33m,\u001b[0m \u001b[0mx\u001b[0m\u001b[1;33m[\u001b[0m\u001b[1;34m'creative_id'\u001b[0m\u001b[1;33m]\u001b[0m\u001b[1;33m,\u001b[0m \u001b[0mcreative_id_v\u001b[0m\u001b[1;33m,\u001b[0m \u001b[0mcreative_id_tfidf_matrix\u001b[0m\u001b[1;33m,\u001b[0m \u001b[0mcreative_id_tfidf_voc\u001b[0m\u001b[1;33m)\u001b[0m\u001b[1;33m,\u001b[0m \u001b[0maxis\u001b[0m\u001b[1;33m=\u001b[0m\u001b[1;36m1\u001b[0m\u001b[1;33m\u001b[0m\u001b[1;33m\u001b[0m\u001b[0m\n\u001b[0;32m     10\u001b[0m     )\n\u001b[1;32m---> 11\u001b[1;33m ).compute(scheduler='threads')\n\u001b[0m\u001b[0;32m     12\u001b[0m \u001b[1;31m#embedding_matrix = user_ids.apply(lambda x: embedding_v2(x['id'], x['creative_id'], creative_id_v, creative_id_tfidf_matrix, creative_id_tfidf_voc), axis=1)\u001b[0m\u001b[1;33m\u001b[0m\u001b[1;33m\u001b[0m\u001b[1;33m\u001b[0m\u001b[0m\n",
      "\u001b[1;32mc:\\python37\\lib\\site-packages\\dask\\base.py\u001b[0m in \u001b[0;36mcompute\u001b[1;34m(self, **kwargs)\u001b[0m\n\u001b[0;32m    164\u001b[0m         \u001b[0mdask\u001b[0m\u001b[1;33m.\u001b[0m\u001b[0mbase\u001b[0m\u001b[1;33m.\u001b[0m\u001b[0mcompute\u001b[0m\u001b[1;33m\u001b[0m\u001b[1;33m\u001b[0m\u001b[0m\n\u001b[0;32m    165\u001b[0m         \"\"\"\n\u001b[1;32m--> 166\u001b[1;33m         \u001b[1;33m(\u001b[0m\u001b[0mresult\u001b[0m\u001b[1;33m,\u001b[0m\u001b[1;33m)\u001b[0m \u001b[1;33m=\u001b[0m \u001b[0mcompute\u001b[0m\u001b[1;33m(\u001b[0m\u001b[0mself\u001b[0m\u001b[1;33m,\u001b[0m \u001b[0mtraverse\u001b[0m\u001b[1;33m=\u001b[0m\u001b[1;32mFalse\u001b[0m\u001b[1;33m,\u001b[0m \u001b[1;33m**\u001b[0m\u001b[0mkwargs\u001b[0m\u001b[1;33m)\u001b[0m\u001b[1;33m\u001b[0m\u001b[1;33m\u001b[0m\u001b[0m\n\u001b[0m\u001b[0;32m    167\u001b[0m         \u001b[1;32mreturn\u001b[0m \u001b[0mresult\u001b[0m\u001b[1;33m\u001b[0m\u001b[1;33m\u001b[0m\u001b[0m\n\u001b[0;32m    168\u001b[0m \u001b[1;33m\u001b[0m\u001b[0m\n",
      "\u001b[1;32mc:\\python37\\lib\\site-packages\\dask\\base.py\u001b[0m in \u001b[0;36mcompute\u001b[1;34m(*args, **kwargs)\u001b[0m\n\u001b[0;32m    442\u001b[0m         \u001b[0mpostcomputes\u001b[0m\u001b[1;33m.\u001b[0m\u001b[0mappend\u001b[0m\u001b[1;33m(\u001b[0m\u001b[0mx\u001b[0m\u001b[1;33m.\u001b[0m\u001b[0m__dask_postcompute__\u001b[0m\u001b[1;33m(\u001b[0m\u001b[1;33m)\u001b[0m\u001b[1;33m)\u001b[0m\u001b[1;33m\u001b[0m\u001b[1;33m\u001b[0m\u001b[0m\n\u001b[0;32m    443\u001b[0m \u001b[1;33m\u001b[0m\u001b[0m\n\u001b[1;32m--> 444\u001b[1;33m     \u001b[0mresults\u001b[0m \u001b[1;33m=\u001b[0m \u001b[0mschedule\u001b[0m\u001b[1;33m(\u001b[0m\u001b[0mdsk\u001b[0m\u001b[1;33m,\u001b[0m \u001b[0mkeys\u001b[0m\u001b[1;33m,\u001b[0m \u001b[1;33m**\u001b[0m\u001b[0mkwargs\u001b[0m\u001b[1;33m)\u001b[0m\u001b[1;33m\u001b[0m\u001b[1;33m\u001b[0m\u001b[0m\n\u001b[0m\u001b[0;32m    445\u001b[0m     \u001b[1;32mreturn\u001b[0m \u001b[0mrepack\u001b[0m\u001b[1;33m(\u001b[0m\u001b[1;33m[\u001b[0m\u001b[0mf\u001b[0m\u001b[1;33m(\u001b[0m\u001b[0mr\u001b[0m\u001b[1;33m,\u001b[0m \u001b[1;33m*\u001b[0m\u001b[0ma\u001b[0m\u001b[1;33m)\u001b[0m \u001b[1;32mfor\u001b[0m \u001b[0mr\u001b[0m\u001b[1;33m,\u001b[0m \u001b[1;33m(\u001b[0m\u001b[0mf\u001b[0m\u001b[1;33m,\u001b[0m \u001b[0ma\u001b[0m\u001b[1;33m)\u001b[0m \u001b[1;32min\u001b[0m \u001b[0mzip\u001b[0m\u001b[1;33m(\u001b[0m\u001b[0mresults\u001b[0m\u001b[1;33m,\u001b[0m \u001b[0mpostcomputes\u001b[0m\u001b[1;33m)\u001b[0m\u001b[1;33m]\u001b[0m\u001b[1;33m)\u001b[0m\u001b[1;33m\u001b[0m\u001b[1;33m\u001b[0m\u001b[0m\n\u001b[0;32m    446\u001b[0m \u001b[1;33m\u001b[0m\u001b[0m\n",
      "\u001b[1;32mc:\\python37\\lib\\site-packages\\dask\\threaded.py\u001b[0m in \u001b[0;36mget\u001b[1;34m(dsk, result, cache, num_workers, pool, **kwargs)\u001b[0m\n\u001b[0;32m     82\u001b[0m         \u001b[0mget_id\u001b[0m\u001b[1;33m=\u001b[0m\u001b[0m_thread_get_id\u001b[0m\u001b[1;33m,\u001b[0m\u001b[1;33m\u001b[0m\u001b[1;33m\u001b[0m\u001b[0m\n\u001b[0;32m     83\u001b[0m         \u001b[0mpack_exception\u001b[0m\u001b[1;33m=\u001b[0m\u001b[0mpack_exception\u001b[0m\u001b[1;33m,\u001b[0m\u001b[1;33m\u001b[0m\u001b[1;33m\u001b[0m\u001b[0m\n\u001b[1;32m---> 84\u001b[1;33m         \u001b[1;33m**\u001b[0m\u001b[0mkwargs\u001b[0m\u001b[1;33m\u001b[0m\u001b[1;33m\u001b[0m\u001b[0m\n\u001b[0m\u001b[0;32m     85\u001b[0m     )\n\u001b[0;32m     86\u001b[0m \u001b[1;33m\u001b[0m\u001b[0m\n",
      "\u001b[1;32mc:\\python37\\lib\\site-packages\\dask\\local.py\u001b[0m in \u001b[0;36mget_async\u001b[1;34m(apply_async, num_workers, dsk, result, cache, get_id, rerun_exceptions_locally, pack_exception, raise_exception, callbacks, dumps, loads, **kwargs)\u001b[0m\n\u001b[0;32m    473\u001b[0m             \u001b[1;31m# Main loop, wait on tasks to finish, insert new ones\u001b[0m\u001b[1;33m\u001b[0m\u001b[1;33m\u001b[0m\u001b[1;33m\u001b[0m\u001b[0m\n\u001b[0;32m    474\u001b[0m             \u001b[1;32mwhile\u001b[0m \u001b[0mstate\u001b[0m\u001b[1;33m[\u001b[0m\u001b[1;34m\"waiting\"\u001b[0m\u001b[1;33m]\u001b[0m \u001b[1;32mor\u001b[0m \u001b[0mstate\u001b[0m\u001b[1;33m[\u001b[0m\u001b[1;34m\"ready\"\u001b[0m\u001b[1;33m]\u001b[0m \u001b[1;32mor\u001b[0m \u001b[0mstate\u001b[0m\u001b[1;33m[\u001b[0m\u001b[1;34m\"running\"\u001b[0m\u001b[1;33m]\u001b[0m\u001b[1;33m:\u001b[0m\u001b[1;33m\u001b[0m\u001b[1;33m\u001b[0m\u001b[0m\n\u001b[1;32m--> 475\u001b[1;33m                 \u001b[0mkey\u001b[0m\u001b[1;33m,\u001b[0m \u001b[0mres_info\u001b[0m\u001b[1;33m,\u001b[0m \u001b[0mfailed\u001b[0m \u001b[1;33m=\u001b[0m \u001b[0mqueue_get\u001b[0m\u001b[1;33m(\u001b[0m\u001b[0mqueue\u001b[0m\u001b[1;33m)\u001b[0m\u001b[1;33m\u001b[0m\u001b[1;33m\u001b[0m\u001b[0m\n\u001b[0m\u001b[0;32m    476\u001b[0m                 \u001b[1;32mif\u001b[0m \u001b[0mfailed\u001b[0m\u001b[1;33m:\u001b[0m\u001b[1;33m\u001b[0m\u001b[1;33m\u001b[0m\u001b[0m\n\u001b[0;32m    477\u001b[0m                     \u001b[0mexc\u001b[0m\u001b[1;33m,\u001b[0m \u001b[0mtb\u001b[0m \u001b[1;33m=\u001b[0m \u001b[0mloads\u001b[0m\u001b[1;33m(\u001b[0m\u001b[0mres_info\u001b[0m\u001b[1;33m)\u001b[0m\u001b[1;33m\u001b[0m\u001b[1;33m\u001b[0m\u001b[0m\n",
      "\u001b[1;32mc:\\python37\\lib\\site-packages\\dask\\local.py\u001b[0m in \u001b[0;36mqueue_get\u001b[1;34m(q)\u001b[0m\n\u001b[0;32m    123\u001b[0m         \u001b[1;32mwhile\u001b[0m \u001b[1;32mTrue\u001b[0m\u001b[1;33m:\u001b[0m\u001b[1;33m\u001b[0m\u001b[1;33m\u001b[0m\u001b[0m\n\u001b[0;32m    124\u001b[0m             \u001b[1;32mtry\u001b[0m\u001b[1;33m:\u001b[0m\u001b[1;33m\u001b[0m\u001b[1;33m\u001b[0m\u001b[0m\n\u001b[1;32m--> 125\u001b[1;33m                 \u001b[1;32mreturn\u001b[0m \u001b[0mq\u001b[0m\u001b[1;33m.\u001b[0m\u001b[0mget\u001b[0m\u001b[1;33m(\u001b[0m\u001b[0mblock\u001b[0m\u001b[1;33m=\u001b[0m\u001b[1;32mTrue\u001b[0m\u001b[1;33m,\u001b[0m \u001b[0mtimeout\u001b[0m\u001b[1;33m=\u001b[0m\u001b[1;36m0.1\u001b[0m\u001b[1;33m)\u001b[0m\u001b[1;33m\u001b[0m\u001b[1;33m\u001b[0m\u001b[0m\n\u001b[0m\u001b[0;32m    126\u001b[0m             \u001b[1;32mexcept\u001b[0m \u001b[0mEmpty\u001b[0m\u001b[1;33m:\u001b[0m\u001b[1;33m\u001b[0m\u001b[1;33m\u001b[0m\u001b[0m\n\u001b[0;32m    127\u001b[0m                 \u001b[1;32mpass\u001b[0m\u001b[1;33m\u001b[0m\u001b[1;33m\u001b[0m\u001b[0m\n",
      "\u001b[1;32mc:\\python37\\lib\\queue.py\u001b[0m in \u001b[0;36mget\u001b[1;34m(self, block, timeout)\u001b[0m\n\u001b[0;32m    177\u001b[0m                     \u001b[1;32mif\u001b[0m \u001b[0mremaining\u001b[0m \u001b[1;33m<=\u001b[0m \u001b[1;36m0.0\u001b[0m\u001b[1;33m:\u001b[0m\u001b[1;33m\u001b[0m\u001b[1;33m\u001b[0m\u001b[0m\n\u001b[0;32m    178\u001b[0m                         \u001b[1;32mraise\u001b[0m \u001b[0mEmpty\u001b[0m\u001b[1;33m\u001b[0m\u001b[1;33m\u001b[0m\u001b[0m\n\u001b[1;32m--> 179\u001b[1;33m                     \u001b[0mself\u001b[0m\u001b[1;33m.\u001b[0m\u001b[0mnot_empty\u001b[0m\u001b[1;33m.\u001b[0m\u001b[0mwait\u001b[0m\u001b[1;33m(\u001b[0m\u001b[0mremaining\u001b[0m\u001b[1;33m)\u001b[0m\u001b[1;33m\u001b[0m\u001b[1;33m\u001b[0m\u001b[0m\n\u001b[0m\u001b[0;32m    180\u001b[0m             \u001b[0mitem\u001b[0m \u001b[1;33m=\u001b[0m \u001b[0mself\u001b[0m\u001b[1;33m.\u001b[0m\u001b[0m_get\u001b[0m\u001b[1;33m(\u001b[0m\u001b[1;33m)\u001b[0m\u001b[1;33m\u001b[0m\u001b[1;33m\u001b[0m\u001b[0m\n\u001b[0;32m    181\u001b[0m             \u001b[0mself\u001b[0m\u001b[1;33m.\u001b[0m\u001b[0mnot_full\u001b[0m\u001b[1;33m.\u001b[0m\u001b[0mnotify\u001b[0m\u001b[1;33m(\u001b[0m\u001b[1;33m)\u001b[0m\u001b[1;33m\u001b[0m\u001b[1;33m\u001b[0m\u001b[0m\n",
      "\u001b[1;32mc:\\python37\\lib\\threading.py\u001b[0m in \u001b[0;36mwait\u001b[1;34m(self, timeout)\u001b[0m\n\u001b[0;32m    298\u001b[0m             \u001b[1;32melse\u001b[0m\u001b[1;33m:\u001b[0m\u001b[1;33m\u001b[0m\u001b[1;33m\u001b[0m\u001b[0m\n\u001b[0;32m    299\u001b[0m                 \u001b[1;32mif\u001b[0m \u001b[0mtimeout\u001b[0m \u001b[1;33m>\u001b[0m \u001b[1;36m0\u001b[0m\u001b[1;33m:\u001b[0m\u001b[1;33m\u001b[0m\u001b[1;33m\u001b[0m\u001b[0m\n\u001b[1;32m--> 300\u001b[1;33m                     \u001b[0mgotit\u001b[0m \u001b[1;33m=\u001b[0m \u001b[0mwaiter\u001b[0m\u001b[1;33m.\u001b[0m\u001b[0macquire\u001b[0m\u001b[1;33m(\u001b[0m\u001b[1;32mTrue\u001b[0m\u001b[1;33m,\u001b[0m \u001b[0mtimeout\u001b[0m\u001b[1;33m)\u001b[0m\u001b[1;33m\u001b[0m\u001b[1;33m\u001b[0m\u001b[0m\n\u001b[0m\u001b[0;32m    301\u001b[0m                 \u001b[1;32melse\u001b[0m\u001b[1;33m:\u001b[0m\u001b[1;33m\u001b[0m\u001b[1;33m\u001b[0m\u001b[0m\n\u001b[0;32m    302\u001b[0m                     \u001b[0mgotit\u001b[0m \u001b[1;33m=\u001b[0m \u001b[0mwaiter\u001b[0m\u001b[1;33m.\u001b[0m\u001b[0macquire\u001b[0m\u001b[1;33m(\u001b[0m\u001b[1;32mFalse\u001b[0m\u001b[1;33m)\u001b[0m\u001b[1;33m\u001b[0m\u001b[1;33m\u001b[0m\u001b[0m\n",
      "\u001b[1;31mKeyboardInterrupt\u001b[0m: "
     ]
    }
   ],
   "source": [
    "from dask import dataframe as dd\n",
    "from dask.multiprocessing import get\n",
    "from multiprocessing import cpu_count\n",
    "nCores = cpu_count()\n",
    "print(f'n core:{nCores}')\n",
    "user_ids['id'] = range(1900000)\n",
    "embedding_matrix = dd.from_pandas(user_ids, npartitions=nCores).map_partitions(\n",
    "    lambda df : df.apply(\n",
    "            lambda x: embedding_v2(x['id'], x['creative_id'], creative_id_v, creative_id_tfidf_matrix, creative_id_tfidf_voc), axis=1\n",
    "    )\n",
    ").compute(scheduler='threads')\n",
    "#embedding_matrix = user_ids.apply(lambda x: embedding_v2(x['id'], x['creative_id'], creative_id_v, creative_id_tfidf_matrix, creative_id_tfidf_voc), axis=1)\n"
   ]
  },
  {
   "cell_type": "code",
   "execution_count": 18,
   "metadata": {
    "ExecuteTime": {
     "end_time": "2020-05-21T16:54:35.131718Z",
     "start_time": "2020-05-21T16:54:30.262709Z"
    }
   },
   "outputs": [
    {
     "data": {
      "text/plain": [
       "(57959379, 57959379)"
      ]
     },
     "execution_count": 18,
     "metadata": {},
     "output_type": "execute_result"
    }
   ],
   "source": [
    "user_ids['creative_id_tfidf_value'] = user_ids['']"
   ]
  },
  {
   "cell_type": "code",
   "execution_count": 27,
   "metadata": {
    "ExecuteTime": {
     "end_time": "2020-05-22T00:11:20.398470Z",
     "start_time": "2020-05-22T00:03:50.128595Z"
    },
    "collapsed": true
   },
   "outputs": [
    {
     "ename": "KeyboardInterrupt",
     "evalue": "",
     "output_type": "error",
     "traceback": [
      "\u001b[1;31m---------------------------------------------------------------------------\u001b[0m",
      "\u001b[1;31mKeyboardInterrupt\u001b[0m                         Traceback (most recent call last)",
      "\u001b[1;32m<ipython-input-27-bfbb331e9995>\u001b[0m in \u001b[0;36m<module>\u001b[1;34m\u001b[0m\n\u001b[1;32m----> 1\u001b[1;33m \u001b[0mcreative_id_tfidf_matrix_df\u001b[0m \u001b[1;33m=\u001b[0m \u001b[0mpd\u001b[0m\u001b[1;33m.\u001b[0m\u001b[0mDataFrame\u001b[0m\u001b[1;33m(\u001b[0m\u001b[0mcreative_id_tfidf_matrix\u001b[0m\u001b[1;33m.\u001b[0m\u001b[0mnonzero\u001b[0m\u001b[1;33m(\u001b[0m\u001b[1;33m)\u001b[0m\u001b[1;33m)\u001b[0m\u001b[1;33m\u001b[0m\u001b[1;33m\u001b[0m\u001b[0m\n\u001b[0m\u001b[0;32m      2\u001b[0m \u001b[1;31m#print(creative_id_tfidf_matrix.nonzero())\u001b[0m\u001b[1;33m\u001b[0m\u001b[1;33m\u001b[0m\u001b[1;33m\u001b[0m\u001b[0m\n\u001b[0;32m      3\u001b[0m \u001b[1;33m\u001b[0m\u001b[0m\n\u001b[0;32m      4\u001b[0m \u001b[0mcreative_id_tfidf_matrix_df\u001b[0m\u001b[1;33m.\u001b[0m\u001b[0mhead\u001b[0m\u001b[1;33m(\u001b[0m\u001b[1;33m)\u001b[0m\u001b[1;33m\u001b[0m\u001b[1;33m\u001b[0m\u001b[0m\n",
      "\u001b[1;32mc:\\python37\\lib\\site-packages\\pandas\\core\\frame.py\u001b[0m in \u001b[0;36m__init__\u001b[1;34m(self, data, index, columns, dtype, copy)\u001b[0m\n\u001b[0;32m    433\u001b[0m                     \u001b[1;32mif\u001b[0m \u001b[0mis_named_tuple\u001b[0m\u001b[1;33m(\u001b[0m\u001b[0mdata\u001b[0m\u001b[1;33m[\u001b[0m\u001b[1;36m0\u001b[0m\u001b[1;33m]\u001b[0m\u001b[1;33m)\u001b[0m \u001b[1;32mand\u001b[0m \u001b[0mcolumns\u001b[0m \u001b[1;32mis\u001b[0m \u001b[1;32mNone\u001b[0m\u001b[1;33m:\u001b[0m\u001b[1;33m\u001b[0m\u001b[1;33m\u001b[0m\u001b[0m\n\u001b[0;32m    434\u001b[0m                         \u001b[0mcolumns\u001b[0m \u001b[1;33m=\u001b[0m \u001b[0mdata\u001b[0m\u001b[1;33m[\u001b[0m\u001b[1;36m0\u001b[0m\u001b[1;33m]\u001b[0m\u001b[1;33m.\u001b[0m\u001b[0m_fields\u001b[0m\u001b[1;33m\u001b[0m\u001b[1;33m\u001b[0m\u001b[0m\n\u001b[1;32m--> 435\u001b[1;33m                     \u001b[0marrays\u001b[0m\u001b[1;33m,\u001b[0m \u001b[0mcolumns\u001b[0m \u001b[1;33m=\u001b[0m \u001b[0mto_arrays\u001b[0m\u001b[1;33m(\u001b[0m\u001b[0mdata\u001b[0m\u001b[1;33m,\u001b[0m \u001b[0mcolumns\u001b[0m\u001b[1;33m,\u001b[0m \u001b[0mdtype\u001b[0m\u001b[1;33m=\u001b[0m\u001b[0mdtype\u001b[0m\u001b[1;33m)\u001b[0m\u001b[1;33m\u001b[0m\u001b[1;33m\u001b[0m\u001b[0m\n\u001b[0m\u001b[0;32m    436\u001b[0m                     \u001b[0mcolumns\u001b[0m \u001b[1;33m=\u001b[0m \u001b[0mensure_index\u001b[0m\u001b[1;33m(\u001b[0m\u001b[0mcolumns\u001b[0m\u001b[1;33m)\u001b[0m\u001b[1;33m\u001b[0m\u001b[1;33m\u001b[0m\u001b[0m\n\u001b[0;32m    437\u001b[0m \u001b[1;33m\u001b[0m\u001b[0m\n",
      "\u001b[1;32mc:\\python37\\lib\\site-packages\\pandas\\core\\internals\\construction.py\u001b[0m in \u001b[0;36mto_arrays\u001b[1;34m(data, columns, coerce_float, dtype)\u001b[0m\n\u001b[0;32m    424\u001b[0m         \u001b[0mdata\u001b[0m \u001b[1;33m=\u001b[0m \u001b[0mlmap\u001b[0m\u001b[1;33m(\u001b[0m\u001b[0mtuple\u001b[0m\u001b[1;33m,\u001b[0m \u001b[0mdata\u001b[0m\u001b[1;33m)\u001b[0m\u001b[1;33m\u001b[0m\u001b[1;33m\u001b[0m\u001b[0m\n\u001b[0;32m    425\u001b[0m         return _list_to_arrays(data, columns, coerce_float=coerce_float,\n\u001b[1;32m--> 426\u001b[1;33m                                dtype=dtype)\n\u001b[0m\u001b[0;32m    427\u001b[0m \u001b[1;33m\u001b[0m\u001b[0m\n\u001b[0;32m    428\u001b[0m \u001b[1;33m\u001b[0m\u001b[0m\n",
      "\u001b[1;32mc:\\python37\\lib\\site-packages\\pandas\\core\\internals\\construction.py\u001b[0m in \u001b[0;36m_list_to_arrays\u001b[1;34m(data, columns, coerce_float, dtype)\u001b[0m\n\u001b[0;32m    434\u001b[0m         \u001b[0mcontent\u001b[0m \u001b[1;33m=\u001b[0m \u001b[0mlist\u001b[0m\u001b[1;33m(\u001b[0m\u001b[0mlib\u001b[0m\u001b[1;33m.\u001b[0m\u001b[0mto_object_array\u001b[0m\u001b[1;33m(\u001b[0m\u001b[0mdata\u001b[0m\u001b[1;33m)\u001b[0m\u001b[1;33m.\u001b[0m\u001b[0mT\u001b[0m\u001b[1;33m)\u001b[0m\u001b[1;33m\u001b[0m\u001b[1;33m\u001b[0m\u001b[0m\n\u001b[0;32m    435\u001b[0m     return _convert_object_array(content, columns, dtype=dtype,\n\u001b[1;32m--> 436\u001b[1;33m                                  coerce_float=coerce_float)\n\u001b[0m\u001b[0;32m    437\u001b[0m \u001b[1;33m\u001b[0m\u001b[0m\n\u001b[0;32m    438\u001b[0m \u001b[1;33m\u001b[0m\u001b[0m\n",
      "\u001b[1;32mc:\\python37\\lib\\site-packages\\pandas\\core\\internals\\construction.py\u001b[0m in \u001b[0;36m_convert_object_array\u001b[1;34m(content, columns, coerce_float, dtype)\u001b[0m\n\u001b[0;32m    499\u001b[0m         \u001b[1;32mreturn\u001b[0m \u001b[0marr\u001b[0m\u001b[1;33m\u001b[0m\u001b[1;33m\u001b[0m\u001b[0m\n\u001b[0;32m    500\u001b[0m \u001b[1;33m\u001b[0m\u001b[0m\n\u001b[1;32m--> 501\u001b[1;33m     \u001b[0marrays\u001b[0m \u001b[1;33m=\u001b[0m \u001b[1;33m[\u001b[0m\u001b[0mconvert\u001b[0m\u001b[1;33m(\u001b[0m\u001b[0marr\u001b[0m\u001b[1;33m)\u001b[0m \u001b[1;32mfor\u001b[0m \u001b[0marr\u001b[0m \u001b[1;32min\u001b[0m \u001b[0mcontent\u001b[0m\u001b[1;33m]\u001b[0m\u001b[1;33m\u001b[0m\u001b[1;33m\u001b[0m\u001b[0m\n\u001b[0m\u001b[0;32m    502\u001b[0m \u001b[1;33m\u001b[0m\u001b[0m\n\u001b[0;32m    503\u001b[0m     \u001b[1;32mreturn\u001b[0m \u001b[0marrays\u001b[0m\u001b[1;33m,\u001b[0m \u001b[0mcolumns\u001b[0m\u001b[1;33m\u001b[0m\u001b[1;33m\u001b[0m\u001b[0m\n",
      "\u001b[1;32mc:\\python37\\lib\\site-packages\\pandas\\core\\internals\\construction.py\u001b[0m in \u001b[0;36m<listcomp>\u001b[1;34m(.0)\u001b[0m\n\u001b[0;32m    499\u001b[0m         \u001b[1;32mreturn\u001b[0m \u001b[0marr\u001b[0m\u001b[1;33m\u001b[0m\u001b[1;33m\u001b[0m\u001b[0m\n\u001b[0;32m    500\u001b[0m \u001b[1;33m\u001b[0m\u001b[0m\n\u001b[1;32m--> 501\u001b[1;33m     \u001b[0marrays\u001b[0m \u001b[1;33m=\u001b[0m \u001b[1;33m[\u001b[0m\u001b[0mconvert\u001b[0m\u001b[1;33m(\u001b[0m\u001b[0marr\u001b[0m\u001b[1;33m)\u001b[0m \u001b[1;32mfor\u001b[0m \u001b[0marr\u001b[0m \u001b[1;32min\u001b[0m \u001b[0mcontent\u001b[0m\u001b[1;33m]\u001b[0m\u001b[1;33m\u001b[0m\u001b[1;33m\u001b[0m\u001b[0m\n\u001b[0m\u001b[0;32m    502\u001b[0m \u001b[1;33m\u001b[0m\u001b[0m\n\u001b[0;32m    503\u001b[0m     \u001b[1;32mreturn\u001b[0m \u001b[0marrays\u001b[0m\u001b[1;33m,\u001b[0m \u001b[0mcolumns\u001b[0m\u001b[1;33m\u001b[0m\u001b[1;33m\u001b[0m\u001b[0m\n",
      "\u001b[1;32mc:\\python37\\lib\\site-packages\\pandas\\core\\internals\\construction.py\u001b[0m in \u001b[0;36mconvert\u001b[1;34m(arr)\u001b[0m\n\u001b[0;32m    496\u001b[0m         \u001b[1;32mif\u001b[0m \u001b[0mdtype\u001b[0m \u001b[1;33m!=\u001b[0m \u001b[0mobject\u001b[0m \u001b[1;32mand\u001b[0m \u001b[0mdtype\u001b[0m \u001b[1;33m!=\u001b[0m \u001b[0mnp\u001b[0m\u001b[1;33m.\u001b[0m\u001b[0mobject\u001b[0m\u001b[1;33m:\u001b[0m\u001b[1;33m\u001b[0m\u001b[1;33m\u001b[0m\u001b[0m\n\u001b[0;32m    497\u001b[0m             \u001b[0marr\u001b[0m \u001b[1;33m=\u001b[0m \u001b[0mlib\u001b[0m\u001b[1;33m.\u001b[0m\u001b[0mmaybe_convert_objects\u001b[0m\u001b[1;33m(\u001b[0m\u001b[0marr\u001b[0m\u001b[1;33m,\u001b[0m \u001b[0mtry_float\u001b[0m\u001b[1;33m=\u001b[0m\u001b[0mcoerce_float\u001b[0m\u001b[1;33m)\u001b[0m\u001b[1;33m\u001b[0m\u001b[1;33m\u001b[0m\u001b[0m\n\u001b[1;32m--> 498\u001b[1;33m             \u001b[0marr\u001b[0m \u001b[1;33m=\u001b[0m \u001b[0mmaybe_cast_to_datetime\u001b[0m\u001b[1;33m(\u001b[0m\u001b[0marr\u001b[0m\u001b[1;33m,\u001b[0m \u001b[0mdtype\u001b[0m\u001b[1;33m)\u001b[0m\u001b[1;33m\u001b[0m\u001b[1;33m\u001b[0m\u001b[0m\n\u001b[0m\u001b[0;32m    499\u001b[0m         \u001b[1;32mreturn\u001b[0m \u001b[0marr\u001b[0m\u001b[1;33m\u001b[0m\u001b[1;33m\u001b[0m\u001b[0m\n\u001b[0;32m    500\u001b[0m \u001b[1;33m\u001b[0m\u001b[0m\n",
      "\u001b[1;31mKeyboardInterrupt\u001b[0m: "
     ]
    }
   ],
   "source": [
    "creative_id_tfidf_matrix_df = pd.DataFrame(creative_id_tfidf_matrix.nonzero())\n",
    "#print(creative_id_tfidf_matrix.nonzero())\n",
    "\n",
    "creative_id_tfidf_matrix_df.head()"
   ]
  },
  {
   "cell_type": "code",
   "execution_count": 30,
   "metadata": {
    "ExecuteTime": {
     "end_time": "2020-05-22T00:12:06.704625Z",
     "start_time": "2020-05-22T00:12:04.401785Z"
    }
   },
   "outputs": [
    {
     "data": {
      "text/plain": [
       "(array([      0,       0,       0, ..., 1899999, 1899999, 1899999]),\n",
       " array([ 188985,  589057,  807557, ..., 2755361, 2781443, 2998209]))"
      ]
     },
     "execution_count": 30,
     "metadata": {},
     "output_type": "execute_result"
    }
   ],
   "source": [
    "creative_id_tfidf_matrix.nonzero()"
   ]
  },
  {
   "cell_type": "code",
   "execution_count": null,
   "metadata": {
    "ExecuteTime": {
     "start_time": "2020-05-22T00:12:28.434Z"
    }
   },
   "outputs": [],
   "source": [
    "dd = pd.DataFrame(([1,2,2,3],[4,5,33,6]))\n",
    "dd"
   ]
  },
  {
   "cell_type": "code",
   "execution_count": 15,
   "metadata": {
    "ExecuteTime": {
     "end_time": "2020-05-18T17:09:59.923436Z",
     "start_time": "2020-05-18T16:53:01.255451Z"
    }
   },
   "outputs": [],
   "source": [
    "embedding_matrix = user_ids['creative_id'].map(lambda x: embedding_v(x, creative_id_v))\n",
    "embedding_matrix2 = np.array([embedding_matrix])[0]\n",
    "save_pickle(embedding_matrix2, pickle_path + 'creative_id_embedding_matrix.pickle')\n",
    "\n",
    "embedding_matrix = user_ids['ad_id'].map(lambda x: embedding_v(x, ad_id_v))\n",
    "embedding_matrix2 = np.array([embedding_matrix])[0]\n",
    "save_pickle(embedding_matrix2, pickle_path + 'ad_id_embedding_matrix.pickle')\n",
    "\n",
    "embedding_matrix = user_ids['advertiser_id'].map(lambda x: embedding_v(x, advertiser_id_v))\n",
    "embedding_matrix2 = np.array([embedding_matrix])[0]\n",
    "save_pickle(embedding_matrix2, pickle_path + 'advertiser_id_embedding_matrix.pickle')\n",
    "\n",
    "\n",
    "embedding_matrix = user_ids['product_id'].map(lambda x: embedding_v(x, product_id_v))\n",
    "embedding_matrix2 = np.array([embedding_matrix])[0]\n",
    "save_pickle(embedding_matrix2, pickle_path + 'product_id_embedding_matrix.pickle')\n",
    "\n"
   ]
  },
  {
   "cell_type": "code",
   "execution_count": 4,
   "metadata": {
    "ExecuteTime": {
     "end_time": "2020-05-20T00:41:11.383800Z",
     "start_time": "2020-05-20T00:35:32.583453Z"
    }
   },
   "outputs": [
    {
     "name": "stdout",
     "output_type": "stream",
     "text": [
      "Mem. usage decreased to 362.40 Mb (75.0% reduction)\n",
      "Mem. usage decreased to 362.40 Mb (75.0% reduction)\n",
      "Mem. usage decreased to 181.20 Mb (75.0% reduction)\n",
      "Mem. usage decreased to 181.20 Mb (75.0% reduction)\n"
     ]
    }
   ],
   "source": [
    "creative_id_em = pd.DataFrame(load_pickle(pickle_path + 'creative_id_embedding_matrix.pickle').astype(float))\n",
    "reduce_mem_usage(creative_id_em)\n",
    "\n",
    "ad_id_em = pd.DataFrame(load_pickle(pickle_path + 'ad_id_embedding_matrix.pickle').astype(float))\n",
    "reduce_mem_usage(ad_id_em)\n",
    "\n",
    "advertiser_id_em = pd.DataFrame(load_pickle(pickle_path + 'advertiser_id_embedding_matrix.pickle').astype(float))\n",
    "reduce_mem_usage(advertiser_id_em)\n",
    "\n",
    "product_id_em = pd.DataFrame(load_pickle(pickle_path + 'product_id_embedding_matrix.pickle').astype(float))\n",
    "reduce_mem_usage(product_id_em)\n"
   ]
  },
  {
   "cell_type": "code",
   "execution_count": 11,
   "metadata": {
    "ExecuteTime": {
     "end_time": "2020-05-20T00:44:42.533373Z",
     "start_time": "2020-05-20T00:44:42.529360Z"
    }
   },
   "outputs": [
    {
     "data": {
      "text/plain": [
       "numpy.ndarray"
      ]
     },
     "execution_count": 11,
     "metadata": {},
     "output_type": "execute_result"
    }
   ],
   "source": [
    "type(product_id_em.values)"
   ]
  },
  {
   "cell_type": "code",
   "execution_count": 16,
   "metadata": {
    "ExecuteTime": {
     "end_time": "2020-05-20T00:51:52.561232Z",
     "start_time": "2020-05-20T00:51:52.252061Z"
    }
   },
   "outputs": [
    {
     "ename": "MemoryError",
     "evalue": "",
     "output_type": "error",
     "traceback": [
      "\u001b[1;31m---------------------------------------------------------------------------\u001b[0m",
      "\u001b[1;31mMemoryError\u001b[0m                               Traceback (most recent call last)",
      "\u001b[1;32m<ipython-input-16-fe8515a7074d>\u001b[0m in \u001b[0;36m<module>\u001b[1;34m\u001b[0m\n\u001b[0;32m      2\u001b[0m                                              \u001b[0mad_id_em\u001b[0m\u001b[1;33m.\u001b[0m\u001b[0mvalues\u001b[0m\u001b[1;33m,\u001b[0m\u001b[1;33m\u001b[0m\u001b[1;33m\u001b[0m\u001b[0m\n\u001b[0;32m      3\u001b[0m                                              \u001b[0madvertiser_id_em\u001b[0m\u001b[1;33m.\u001b[0m\u001b[0mvalues\u001b[0m\u001b[1;33m,\u001b[0m\u001b[1;33m\u001b[0m\u001b[1;33m\u001b[0m\u001b[0m\n\u001b[1;32m----> 4\u001b[1;33m                                              \u001b[0mcoo_matrix\u001b[0m\u001b[1;33m(\u001b[0m\u001b[0mproduct_id_em\u001b[0m\u001b[1;33m.\u001b[0m\u001b[0mvalues\u001b[0m\u001b[1;33m)\u001b[0m\u001b[1;33m\u001b[0m\u001b[1;33m\u001b[0m\u001b[0m\n\u001b[0m\u001b[0;32m      5\u001b[0m                                              ],)\n",
      "\u001b[1;32mc:\\python37\\lib\\site-packages\\scipy\\sparse\\coo.py\u001b[0m in \u001b[0;36m__init__\u001b[1;34m(self, arg1, shape, dtype, copy)\u001b[0m\n\u001b[0;32m    189\u001b[0m                                          (shape, self._shape))\n\u001b[0;32m    190\u001b[0m \u001b[1;33m\u001b[0m\u001b[0m\n\u001b[1;32m--> 191\u001b[1;33m                 \u001b[0mself\u001b[0m\u001b[1;33m.\u001b[0m\u001b[0mrow\u001b[0m\u001b[1;33m,\u001b[0m \u001b[0mself\u001b[0m\u001b[1;33m.\u001b[0m\u001b[0mcol\u001b[0m \u001b[1;33m=\u001b[0m \u001b[0mM\u001b[0m\u001b[1;33m.\u001b[0m\u001b[0mnonzero\u001b[0m\u001b[1;33m(\u001b[0m\u001b[1;33m)\u001b[0m\u001b[1;33m\u001b[0m\u001b[1;33m\u001b[0m\u001b[0m\n\u001b[0m\u001b[0;32m    192\u001b[0m                 \u001b[0mself\u001b[0m\u001b[1;33m.\u001b[0m\u001b[0mdata\u001b[0m \u001b[1;33m=\u001b[0m \u001b[0mM\u001b[0m\u001b[1;33m[\u001b[0m\u001b[0mself\u001b[0m\u001b[1;33m.\u001b[0m\u001b[0mrow\u001b[0m\u001b[1;33m,\u001b[0m \u001b[0mself\u001b[0m\u001b[1;33m.\u001b[0m\u001b[0mcol\u001b[0m\u001b[1;33m]\u001b[0m\u001b[1;33m\u001b[0m\u001b[1;33m\u001b[0m\u001b[0m\n\u001b[0;32m    193\u001b[0m                 \u001b[0mself\u001b[0m\u001b[1;33m.\u001b[0m\u001b[0mhas_canonical_format\u001b[0m \u001b[1;33m=\u001b[0m \u001b[1;32mTrue\u001b[0m\u001b[1;33m\u001b[0m\u001b[1;33m\u001b[0m\u001b[0m\n",
      "\u001b[1;31mMemoryError\u001b[0m: "
     ]
    }
   ],
   "source": [
    "embedding_matrix = sparse.hstack([creative_id_em.values,\n",
    "                                             ad_id_em.values, \n",
    "                                             advertiser_id_em.values, \n",
    "                                             coo_matrix(product_id_em.values)\n",
    "                                             ],)"
   ]
  },
  {
   "cell_type": "code",
   "execution_count": 6,
   "metadata": {
    "ExecuteTime": {
     "end_time": "2020-05-20T00:14:27.348068Z",
     "start_time": "2020-05-20T00:10:08.384695Z"
    }
   },
   "outputs": [],
   "source": [
    "logging.basicConfig(\n",
    "    format='%(asctime)s:%(levelname)s:%(message)s', level=logging.INFO)\n",
    "train_filter = 700000\n",
    "lr = LogisticRegression(solver='lbfgs', multi_class='ovr', n_jobs=4)\n",
    "lr_model = lr.fit(creative_id_tfidf_matrix[0:train_filter], user_ids['age'][0:train_filter])\n",
    "lr_pred = lr_model.predict(creative_id_tfidf_matrix[train_filter:900000])"
   ]
  },
  {
   "cell_type": "code",
   "execution_count": 7,
   "metadata": {
    "ExecuteTime": {
     "end_time": "2020-05-20T00:20:54.236785Z",
     "start_time": "2020-05-20T00:20:54.189937Z"
    }
   },
   "outputs": [
    {
     "data": {
      "text/plain": [
       "(0.383545, (200000,))"
      ]
     },
     "execution_count": 7,
     "metadata": {},
     "output_type": "execute_result"
    }
   ],
   "source": [
    "lr_pred_r = np.rint(lr_pred)\n",
    "lr_pred_r = np.clip(lr_pred_r, 1, 10)\n",
    "gender_accuracy = accuracy_score(user_ids['age'][train_filter:900000], lr_pred_r)\n",
    "gender_accuracy,lr_pred_r.shape"
   ]
  },
  {
   "cell_type": "code",
   "execution_count": 18,
   "metadata": {
    "ExecuteTime": {
     "end_time": "2020-05-19T12:02:05.198105Z",
     "start_time": "2020-05-19T12:02:04.452116Z"
    }
   },
   "outputs": [
    {
     "data": {
      "text/plain": [
       "array([2., 3., 2., ..., 3., 3., 4.])"
      ]
     },
     "execution_count": 18,
     "metadata": {},
     "output_type": "execute_result"
    }
   ],
   "source": [
    "lr_pred = lr_model.predict(embedding_matrix2[train_filter:900000])\n",
    "lr_pred"
   ]
  },
  {
   "cell_type": "code",
   "execution_count": 5,
   "metadata": {
    "ExecuteTime": {
     "end_time": "2020-05-20T00:09:51.238493Z",
     "start_time": "2020-05-20T00:03:51.517725Z"
    }
   },
   "outputs": [
    {
     "name": "stdout",
     "output_type": "stream",
     "text": [
      "training......fold 0\n",
      "Training until validation scores don't improve for 200 rounds.\n",
      "[100]\tvalid_0's l1: 1.51141\n"
     ]
    },
    {
     "ename": "KeyboardInterrupt",
     "evalue": "",
     "output_type": "error",
     "traceback": [
      "\u001b[1;31m---------------------------------------------------------------------------\u001b[0m",
      "\u001b[1;31mKeyboardInterrupt\u001b[0m                         Traceback (most recent call last)",
      "\u001b[1;32m<ipython-input-5-f815db8365c1>\u001b[0m in \u001b[0;36m<module>\u001b[1;34m\u001b[0m\n\u001b[0;32m     65\u001b[0m     \u001b[1;32mreturn\u001b[0m \u001b[0mpreds\u001b[0m\u001b[1;33m,\u001b[0m \u001b[0moof\u001b[0m\u001b[1;33m\u001b[0m\u001b[1;33m\u001b[0m\u001b[0m\n\u001b[0;32m     66\u001b[0m \u001b[1;31m#gender_pre, gender_oof = lr_pred('gender')\u001b[0m\u001b[1;33m\u001b[0m\u001b[1;33m\u001b[0m\u001b[1;33m\u001b[0m\u001b[0m\n\u001b[1;32m---> 67\u001b[1;33m \u001b[0mage_pre\u001b[0m\u001b[1;33m,\u001b[0m \u001b[0mage_oof\u001b[0m \u001b[1;33m=\u001b[0m \u001b[0mlr_pred\u001b[0m\u001b[1;33m(\u001b[0m\u001b[1;34m'age'\u001b[0m\u001b[1;33m)\u001b[0m\u001b[1;33m\u001b[0m\u001b[1;33m\u001b[0m\u001b[0m\n\u001b[0m",
      "\u001b[1;32m<ipython-input-5-f815db8365c1>\u001b[0m in \u001b[0;36mlr_pred\u001b[1;34m(pred_y)\u001b[0m\n\u001b[0;32m     52\u001b[0m                 \u001b[0mlgb_model\u001b[0m \u001b[1;33m=\u001b[0m \u001b[0mlgb\u001b[0m\u001b[1;33m.\u001b[0m\u001b[0mLGBMRegressor\u001b[0m\u001b[1;33m(\u001b[0m\u001b[1;33m**\u001b[0m\u001b[0mlgb_params\u001b[0m\u001b[1;33m)\u001b[0m\u001b[1;33m\u001b[0m\u001b[1;33m\u001b[0m\u001b[0m\n\u001b[0;32m     53\u001b[0m                 lgb_model = lgb_model.fit(k_x_train, k_y_train, eval_set=[(k_x_vali, k_y_vali)],\n\u001b[1;32m---> 54\u001b[1;33m                                           \u001b[0mearly_stopping_rounds\u001b[0m\u001b[1;33m=\u001b[0m\u001b[1;36m200\u001b[0m\u001b[1;33m,\u001b[0m \u001b[0mverbose\u001b[0m\u001b[1;33m=\u001b[0m\u001b[1;36m100\u001b[0m\u001b[1;33m,\u001b[0m \u001b[0meval_metric\u001b[0m\u001b[1;33m=\u001b[0m\u001b[1;34m\"mae\"\u001b[0m\u001b[1;33m,\u001b[0m\u001b[1;33m\u001b[0m\u001b[1;33m\u001b[0m\u001b[0m\n\u001b[0m\u001b[0;32m     55\u001b[0m                                           )\n\u001b[0;32m     56\u001b[0m                 \u001b[0mk_pred\u001b[0m \u001b[1;33m=\u001b[0m \u001b[0mlgb_model\u001b[0m\u001b[1;33m.\u001b[0m\u001b[0mpredict\u001b[0m\u001b[1;33m(\u001b[0m\u001b[0mk_x_vali\u001b[0m\u001b[1;33m,\u001b[0m \u001b[0mnum_iteration\u001b[0m\u001b[1;33m=\u001b[0m\u001b[0mlgb_model\u001b[0m\u001b[1;33m.\u001b[0m\u001b[0mbest_iteration_\u001b[0m\u001b[1;33m)\u001b[0m\u001b[1;33m\u001b[0m\u001b[1;33m\u001b[0m\u001b[0m\n",
      "\u001b[1;32mc:\\python37\\lib\\site-packages\\lightgbm\\sklearn.py\u001b[0m in \u001b[0;36mfit\u001b[1;34m(self, X, y, sample_weight, init_score, eval_set, eval_names, eval_sample_weight, eval_init_score, eval_metric, early_stopping_rounds, verbose, feature_name, categorical_feature, callbacks)\u001b[0m\n\u001b[0;32m    734\u001b[0m                                        \u001b[0mverbose\u001b[0m\u001b[1;33m=\u001b[0m\u001b[0mverbose\u001b[0m\u001b[1;33m,\u001b[0m \u001b[0mfeature_name\u001b[0m\u001b[1;33m=\u001b[0m\u001b[0mfeature_name\u001b[0m\u001b[1;33m,\u001b[0m\u001b[1;33m\u001b[0m\u001b[1;33m\u001b[0m\u001b[0m\n\u001b[0;32m    735\u001b[0m                                        \u001b[0mcategorical_feature\u001b[0m\u001b[1;33m=\u001b[0m\u001b[0mcategorical_feature\u001b[0m\u001b[1;33m,\u001b[0m\u001b[1;33m\u001b[0m\u001b[1;33m\u001b[0m\u001b[0m\n\u001b[1;32m--> 736\u001b[1;33m                                        callbacks=callbacks)\n\u001b[0m\u001b[0;32m    737\u001b[0m         \u001b[1;32mreturn\u001b[0m \u001b[0mself\u001b[0m\u001b[1;33m\u001b[0m\u001b[1;33m\u001b[0m\u001b[0m\n\u001b[0;32m    738\u001b[0m \u001b[1;33m\u001b[0m\u001b[0m\n",
      "\u001b[1;32mc:\\python37\\lib\\site-packages\\lightgbm\\sklearn.py\u001b[0m in \u001b[0;36mfit\u001b[1;34m(self, X, y, sample_weight, init_score, group, eval_set, eval_names, eval_sample_weight, eval_class_weight, eval_init_score, eval_group, eval_metric, early_stopping_rounds, verbose, feature_name, categorical_feature, callbacks)\u001b[0m\n\u001b[0;32m    591\u001b[0m                               \u001b[0mverbose_eval\u001b[0m\u001b[1;33m=\u001b[0m\u001b[0mverbose\u001b[0m\u001b[1;33m,\u001b[0m \u001b[0mfeature_name\u001b[0m\u001b[1;33m=\u001b[0m\u001b[0mfeature_name\u001b[0m\u001b[1;33m,\u001b[0m\u001b[1;33m\u001b[0m\u001b[1;33m\u001b[0m\u001b[0m\n\u001b[0;32m    592\u001b[0m                               \u001b[0mcategorical_feature\u001b[0m\u001b[1;33m=\u001b[0m\u001b[0mcategorical_feature\u001b[0m\u001b[1;33m,\u001b[0m\u001b[1;33m\u001b[0m\u001b[1;33m\u001b[0m\u001b[0m\n\u001b[1;32m--> 593\u001b[1;33m                               callbacks=callbacks)\n\u001b[0m\u001b[0;32m    594\u001b[0m \u001b[1;33m\u001b[0m\u001b[0m\n\u001b[0;32m    595\u001b[0m         \u001b[1;32mif\u001b[0m \u001b[0mevals_result\u001b[0m\u001b[1;33m:\u001b[0m\u001b[1;33m\u001b[0m\u001b[1;33m\u001b[0m\u001b[0m\n",
      "\u001b[1;32mc:\\python37\\lib\\site-packages\\lightgbm\\engine.py\u001b[0m in \u001b[0;36mtrain\u001b[1;34m(params, train_set, num_boost_round, valid_sets, valid_names, fobj, feval, init_model, feature_name, categorical_feature, early_stopping_rounds, evals_result, verbose_eval, learning_rates, keep_training_booster, callbacks)\u001b[0m\n\u001b[0;32m    246\u001b[0m                                     evaluation_result_list=None))\n\u001b[0;32m    247\u001b[0m \u001b[1;33m\u001b[0m\u001b[0m\n\u001b[1;32m--> 248\u001b[1;33m         \u001b[0mbooster\u001b[0m\u001b[1;33m.\u001b[0m\u001b[0mupdate\u001b[0m\u001b[1;33m(\u001b[0m\u001b[0mfobj\u001b[0m\u001b[1;33m=\u001b[0m\u001b[0mfobj\u001b[0m\u001b[1;33m)\u001b[0m\u001b[1;33m\u001b[0m\u001b[1;33m\u001b[0m\u001b[0m\n\u001b[0m\u001b[0;32m    249\u001b[0m \u001b[1;33m\u001b[0m\u001b[0m\n\u001b[0;32m    250\u001b[0m         \u001b[0mevaluation_result_list\u001b[0m \u001b[1;33m=\u001b[0m \u001b[1;33m[\u001b[0m\u001b[1;33m]\u001b[0m\u001b[1;33m\u001b[0m\u001b[1;33m\u001b[0m\u001b[0m\n",
      "\u001b[1;32mc:\\python37\\lib\\site-packages\\lightgbm\\basic.py\u001b[0m in \u001b[0;36mupdate\u001b[1;34m(self, train_set, fobj)\u001b[0m\n\u001b[0;32m   1917\u001b[0m             _safe_call(_LIB.LGBM_BoosterUpdateOneIter(\n\u001b[0;32m   1918\u001b[0m                 \u001b[0mself\u001b[0m\u001b[1;33m.\u001b[0m\u001b[0mhandle\u001b[0m\u001b[1;33m,\u001b[0m\u001b[1;33m\u001b[0m\u001b[1;33m\u001b[0m\u001b[0m\n\u001b[1;32m-> 1919\u001b[1;33m                 ctypes.byref(is_finished)))\n\u001b[0m\u001b[0;32m   1920\u001b[0m             \u001b[0mself\u001b[0m\u001b[1;33m.\u001b[0m\u001b[0m__is_predicted_cur_iter\u001b[0m \u001b[1;33m=\u001b[0m \u001b[1;33m[\u001b[0m\u001b[1;32mFalse\u001b[0m \u001b[1;32mfor\u001b[0m \u001b[0m_\u001b[0m \u001b[1;32min\u001b[0m \u001b[0mrange_\u001b[0m\u001b[1;33m(\u001b[0m\u001b[0mself\u001b[0m\u001b[1;33m.\u001b[0m\u001b[0m__num_dataset\u001b[0m\u001b[1;33m)\u001b[0m\u001b[1;33m]\u001b[0m\u001b[1;33m\u001b[0m\u001b[1;33m\u001b[0m\u001b[0m\n\u001b[0;32m   1921\u001b[0m             \u001b[1;32mreturn\u001b[0m \u001b[0mis_finished\u001b[0m\u001b[1;33m.\u001b[0m\u001b[0mvalue\u001b[0m \u001b[1;33m==\u001b[0m \u001b[1;36m1\u001b[0m\u001b[1;33m\u001b[0m\u001b[1;33m\u001b[0m\u001b[0m\n",
      "\u001b[1;31mKeyboardInterrupt\u001b[0m: "
     ]
    }
   ],
   "source": [
    "from sklearn.model_selection import KFold\n",
    "from sklearn.model_selection import StratifiedKFold\n",
    "import lightgbm as lgb\n",
    "lgb_params = {\n",
    "    'boosting_type': 'gbdt',\n",
    "    'objective': 'regression',\n",
    "    'n_estimators': 1000,\n",
    "    'metric': 'mae',\n",
    "    'learning_rate': 0.01,\n",
    "    'min_child_samples': 5,\n",
    "    'min_child_weight': 0.01,\n",
    "    'subsample_freq': 1,\n",
    "    'num_leaves': 31,\n",
    "    'max_depth': -1,\n",
    "    'subsample': 0.8,\n",
    "    'colsample_bytree': 0.6,\n",
    "    'reg_alpha': 0,\n",
    "    'reg_lambda': 5,\n",
    "    'verbose': -1,\n",
    "    'random_state': 4590,\n",
    "    'n_jobs': 4,\n",
    "}\n",
    "logging.basicConfig(\n",
    "    format='%(asctime)s:%(levelname)s:%(message)s', level=logging.INFO)\n",
    "def lr_pred(pred_y):\n",
    "    cv = True\n",
    "    model_type = 'lgb'\n",
    "    seed = 2020\n",
    "    train_filter = 700000\n",
    "    train_x = creative_id_tfidf_matrix[0:train_filter]\n",
    "    train_y = user_ids[pred_y][0:train_filter]\n",
    "    test_x =  creative_id_tfidf_matrix[train_filter:900000]\n",
    "    if cv:\n",
    "        n_fold = 2\n",
    "        count_fold = 0\n",
    "        preds_list = list()\n",
    "        oof = np.zeros(train_x.shape[0])\n",
    "        kfolder = KFold(n_splits=n_fold, shuffle=True, random_state=seed)\n",
    "        kfold = kfolder.split(train_x, train_y)\n",
    "        for train_index, vali_index in kfold:\n",
    "            print(\"training......fold\",count_fold)\n",
    "            count_fold = count_fold + 1\n",
    "            k_x_train = train_x[train_index]\n",
    "            k_y_train = train_y[train_index]\n",
    "            k_x_vali = train_x[vali_index]\n",
    "            k_y_vali = train_y[vali_index]\n",
    "            if model_type == 'lgb':\n",
    "#                 reg = LogisticRegression(solver='lbfgs', multi_class='multinomial', n_jobs=-1)\n",
    "#                 reg_model = reg.fit(k_x_train, k_y_train)\n",
    "#                 k_pred = reg_model.predict(k_x_vali)\n",
    "#                 pred = reg_model.predict(test_x)\n",
    "                lgb_model = lgb.LGBMRegressor(**lgb_params)\n",
    "                lgb_model = lgb_model.fit(k_x_train, k_y_train, eval_set=[(k_x_vali, k_y_vali)],\n",
    "                                          early_stopping_rounds=200, verbose=100, eval_metric=\"mae\",\n",
    "                                          )\n",
    "                k_pred = lgb_model.predict(k_x_vali, num_iteration=lgb_model.best_iteration_)\n",
    "                pred = lgb_model.predict(test_x, num_iteration=lgb_model.best_iteration_)\n",
    "            preds_list.append(pred)\n",
    "            oof[vali_index] = k_pred\n",
    "    preds_columns = ['preds_{id}'.format(id=i) for i in range(n_fold)]\n",
    "    preds_df = pd.DataFrame(data=preds_list)\n",
    "    preds_df = preds_df.T\n",
    "    preds_df.columns = preds_columns\n",
    "    preds = list(preds_df.mean(axis=1))\n",
    "    return preds, oof\n",
    "#gender_pre, gender_oof = lr_pred('gender')\n",
    "age_pre, age_oof = lr_pred('age')"
   ]
  },
  {
   "cell_type": "markdown",
   "metadata": {},
   "source": [
    "(0.920505, (200000,))  \n",
    "(0.921845, (200000,))  +ad  \n",
    "(0.923885, (200000,))  \n",
    "(0.92392, (200000,))  all 5  \n"
   ]
  },
  {
   "cell_type": "code",
   "execution_count": 30,
   "metadata": {
    "ExecuteTime": {
     "end_time": "2020-05-19T14:43:38.479690Z",
     "start_time": "2020-05-19T14:43:38.418853Z"
    }
   },
   "outputs": [
    {
     "data": {
      "text/plain": [
       "(0.91048, (200000,))"
      ]
     },
     "execution_count": 30,
     "metadata": {},
     "output_type": "execute_result"
    }
   ],
   "source": [
    "lr_pred_r = np.rint(gender_pre)\n",
    "lr_pred_r = np.clip(lr_pred_r, 1, 2)\n",
    "gender_accuracy = accuracy_score(user_ids['gender'][train_filter:900000], lr_pred_r)\n",
    "gender_accuracy,lr_pred_r.shape"
   ]
  },
  {
   "cell_type": "code",
   "execution_count": 84,
   "metadata": {
    "ExecuteTime": {
     "end_time": "2020-05-19T23:50:15.028358Z",
     "start_time": "2020-05-19T23:50:15.019355Z"
    }
   },
   "outputs": [],
   "source": [
    "def lgb_class(pred_y, num_class):    \n",
    "    lgb_params = {  \n",
    "        'boosting_type': 'gbdt',  \n",
    "        'objective': 'multiclass',  \n",
    "        'num_class': num_class,  \n",
    "        'metric': 'multi_error',  \n",
    "        'num_leaves': 31,  \n",
    "        'learning_rate': 0.05,  \n",
    "        'feature_fraction': 0.8,  \n",
    "        'bagging_fraction': 0.8,  \n",
    "        'bagging_freq': 5,  \n",
    "        'lambda_l1': 1,  \n",
    "        'lambda_l2': 5,  \n",
    "        'min_gain_to_split': 0.2,  \n",
    "        'verbose': -1, \n",
    "        'n_jobs':6\n",
    "    }\n",
    "    \n",
    "    \n",
    "    train_filter = 700000\n",
    "    train_x = creative_id_tfidf_matrix[0:train_filter]\n",
    "    train_y = (user_ids[pred_y]-1)[0:train_filter].astype(np.int)\n",
    "    test_x =  creative_id_tfidf_matrix[train_filter:900000]\n",
    "\n",
    "\n",
    "    n_fold = 2\n",
    "    result = np.zeros((test_x.shape[0],2))\n",
    "    oof = np.zeros((train_x.shape[0],2))\n",
    "    skf = StratifiedKFold(n_splits=n_fold, shuffle=True, random_state=2019)\n",
    "    kfold = skf.split(train_x, train_y)\n",
    "    count_fold = 0\n",
    "    for train_index, vali_index in kfold:\n",
    "        print(\"training......fold\",count_fold)\n",
    "        count_fold = count_fold + 1\n",
    "        k_x_train = train_x[train_index]\n",
    "        k_y_train = train_y[train_index]\n",
    "        k_x_vali = train_x[vali_index]\n",
    "        k_y_vali = train_y[vali_index]\n",
    "\n",
    "\n",
    "        trn = lgb.Dataset(k_x_train, k_y_train)\n",
    "        val = lgb.Dataset(k_x_vali, k_y_vali)\n",
    "        lgb_model = lgb.train(lgb_params, train_set=trn, valid_sets=[trn, val],\n",
    "                      num_boost_round=4000,early_stopping_rounds=200, verbose_eval=50)\n",
    "        test_pred_proba = lgb_model.predict(test_x, num_iteration=lgb_model.best_iteration)\n",
    "        val_pred_proba = lgb_model.predict(k_x_vali, num_iteration=lgb_model.best_iteration)\n",
    "\n",
    "        result = result + test_pred_proba\n",
    "        oof[vali_index] = val_pred_proba\n",
    "    return result, oof"
   ]
  },
  {
   "cell_type": "code",
   "execution_count": 85,
   "metadata": {
    "ExecuteTime": {
     "end_time": "2020-05-19T23:58:06.221992Z",
     "start_time": "2020-05-19T23:50:25.587091Z"
    }
   },
   "outputs": [
    {
     "name": "stdout",
     "output_type": "stream",
     "text": [
      "training......fold 0\n",
      "Training until validation scores don't improve for 200 rounds.\n",
      "[50]\ttraining's multi_error: 0.727063\tvalid_1's multi_error: 0.732057\n"
     ]
    },
    {
     "ename": "KeyboardInterrupt",
     "evalue": "",
     "output_type": "error",
     "traceback": [
      "\u001b[1;31m---------------------------------------------------------------------------\u001b[0m",
      "\u001b[1;31mKeyboardInterrupt\u001b[0m                         Traceback (most recent call last)",
      "\u001b[1;32m<ipython-input-85-cf8fe4a6d89b>\u001b[0m in \u001b[0;36m<module>\u001b[1;34m\u001b[0m\n\u001b[1;32m----> 1\u001b[1;33m \u001b[0mage_pre\u001b[0m\u001b[1;33m,\u001b[0m \u001b[0mage_oof\u001b[0m \u001b[1;33m=\u001b[0m \u001b[0mlgb_class\u001b[0m\u001b[1;33m(\u001b[0m\u001b[1;34m'age'\u001b[0m\u001b[1;33m,\u001b[0m\u001b[1;36m10\u001b[0m\u001b[1;33m)\u001b[0m\u001b[1;33m\u001b[0m\u001b[1;33m\u001b[0m\u001b[0m\n\u001b[0m",
      "\u001b[1;32m<ipython-input-84-807ba3ebb094>\u001b[0m in \u001b[0;36mlgb_class\u001b[1;34m(pred_y, num_class)\u001b[0m\n\u001b[0;32m     42\u001b[0m         \u001b[0mval\u001b[0m \u001b[1;33m=\u001b[0m \u001b[0mlgb\u001b[0m\u001b[1;33m.\u001b[0m\u001b[0mDataset\u001b[0m\u001b[1;33m(\u001b[0m\u001b[0mk_x_vali\u001b[0m\u001b[1;33m,\u001b[0m \u001b[0mk_y_vali\u001b[0m\u001b[1;33m)\u001b[0m\u001b[1;33m\u001b[0m\u001b[1;33m\u001b[0m\u001b[0m\n\u001b[0;32m     43\u001b[0m         lgb_model = lgb.train(lgb_params, train_set=trn, valid_sets=[trn, val],\n\u001b[1;32m---> 44\u001b[1;33m                       num_boost_round=4000,early_stopping_rounds=200, verbose_eval=50)\n\u001b[0m\u001b[0;32m     45\u001b[0m         \u001b[0mtest_pred_proba\u001b[0m \u001b[1;33m=\u001b[0m \u001b[0mlgb_model\u001b[0m\u001b[1;33m.\u001b[0m\u001b[0mpredict\u001b[0m\u001b[1;33m(\u001b[0m\u001b[0mtest_x\u001b[0m\u001b[1;33m,\u001b[0m \u001b[0mnum_iteration\u001b[0m\u001b[1;33m=\u001b[0m\u001b[0mlgb_model\u001b[0m\u001b[1;33m.\u001b[0m\u001b[0mbest_iteration\u001b[0m\u001b[1;33m)\u001b[0m\u001b[1;33m\u001b[0m\u001b[1;33m\u001b[0m\u001b[0m\n\u001b[0;32m     46\u001b[0m         \u001b[0mval_pred_proba\u001b[0m \u001b[1;33m=\u001b[0m \u001b[0mlgb_model\u001b[0m\u001b[1;33m.\u001b[0m\u001b[0mpredict\u001b[0m\u001b[1;33m(\u001b[0m\u001b[0mk_x_vali\u001b[0m\u001b[1;33m,\u001b[0m \u001b[0mnum_iteration\u001b[0m\u001b[1;33m=\u001b[0m\u001b[0mlgb_model\u001b[0m\u001b[1;33m.\u001b[0m\u001b[0mbest_iteration\u001b[0m\u001b[1;33m)\u001b[0m\u001b[1;33m\u001b[0m\u001b[1;33m\u001b[0m\u001b[0m\n",
      "\u001b[1;32mc:\\python37\\lib\\site-packages\\lightgbm\\engine.py\u001b[0m in \u001b[0;36mtrain\u001b[1;34m(params, train_set, num_boost_round, valid_sets, valid_names, fobj, feval, init_model, feature_name, categorical_feature, early_stopping_rounds, evals_result, verbose_eval, learning_rates, keep_training_booster, callbacks)\u001b[0m\n\u001b[0;32m    246\u001b[0m                                     evaluation_result_list=None))\n\u001b[0;32m    247\u001b[0m \u001b[1;33m\u001b[0m\u001b[0m\n\u001b[1;32m--> 248\u001b[1;33m         \u001b[0mbooster\u001b[0m\u001b[1;33m.\u001b[0m\u001b[0mupdate\u001b[0m\u001b[1;33m(\u001b[0m\u001b[0mfobj\u001b[0m\u001b[1;33m=\u001b[0m\u001b[0mfobj\u001b[0m\u001b[1;33m)\u001b[0m\u001b[1;33m\u001b[0m\u001b[1;33m\u001b[0m\u001b[0m\n\u001b[0m\u001b[0;32m    249\u001b[0m \u001b[1;33m\u001b[0m\u001b[0m\n\u001b[0;32m    250\u001b[0m         \u001b[0mevaluation_result_list\u001b[0m \u001b[1;33m=\u001b[0m \u001b[1;33m[\u001b[0m\u001b[1;33m]\u001b[0m\u001b[1;33m\u001b[0m\u001b[1;33m\u001b[0m\u001b[0m\n",
      "\u001b[1;32mc:\\python37\\lib\\site-packages\\lightgbm\\basic.py\u001b[0m in \u001b[0;36mupdate\u001b[1;34m(self, train_set, fobj)\u001b[0m\n\u001b[0;32m   1917\u001b[0m             _safe_call(_LIB.LGBM_BoosterUpdateOneIter(\n\u001b[0;32m   1918\u001b[0m                 \u001b[0mself\u001b[0m\u001b[1;33m.\u001b[0m\u001b[0mhandle\u001b[0m\u001b[1;33m,\u001b[0m\u001b[1;33m\u001b[0m\u001b[1;33m\u001b[0m\u001b[0m\n\u001b[1;32m-> 1919\u001b[1;33m                 ctypes.byref(is_finished)))\n\u001b[0m\u001b[0;32m   1920\u001b[0m             \u001b[0mself\u001b[0m\u001b[1;33m.\u001b[0m\u001b[0m__is_predicted_cur_iter\u001b[0m \u001b[1;33m=\u001b[0m \u001b[1;33m[\u001b[0m\u001b[1;32mFalse\u001b[0m \u001b[1;32mfor\u001b[0m \u001b[0m_\u001b[0m \u001b[1;32min\u001b[0m \u001b[0mrange_\u001b[0m\u001b[1;33m(\u001b[0m\u001b[0mself\u001b[0m\u001b[1;33m.\u001b[0m\u001b[0m__num_dataset\u001b[0m\u001b[1;33m)\u001b[0m\u001b[1;33m]\u001b[0m\u001b[1;33m\u001b[0m\u001b[1;33m\u001b[0m\u001b[0m\n\u001b[0;32m   1921\u001b[0m             \u001b[1;32mreturn\u001b[0m \u001b[0mis_finished\u001b[0m\u001b[1;33m.\u001b[0m\u001b[0mvalue\u001b[0m \u001b[1;33m==\u001b[0m \u001b[1;36m1\u001b[0m\u001b[1;33m\u001b[0m\u001b[1;33m\u001b[0m\u001b[0m\n",
      "\u001b[1;31mKeyboardInterrupt\u001b[0m: "
     ]
    }
   ],
   "source": [
    "age_pre, age_oof = lgb_class('age',10)\n"
   ]
  },
  {
   "cell_type": "code",
   "execution_count": 71,
   "metadata": {
    "ExecuteTime": {
     "end_time": "2020-05-19T22:56:52.048755Z",
     "start_time": "2020-05-19T22:56:52.017822Z"
    }
   },
   "outputs": [
    {
     "data": {
      "text/plain": [
       "0.928275"
      ]
     },
     "execution_count": 71,
     "metadata": {},
     "output_type": "execute_result"
    }
   ],
   "source": [
    "gender_pre2 = gender_pre.argmax(axis=1) + 1\n",
    "gender_accuracy = accuracy_score(user_ids['gender'][train_filter:900000], gender_pre2)\n",
    "gender_accuracy\n"
   ]
  },
  {
   "cell_type": "code",
   "execution_count": 42,
   "metadata": {
    "ExecuteTime": {
     "end_time": "2020-05-19T15:24:10.077644Z",
     "start_time": "2020-05-19T15:24:09.985919Z"
    }
   },
   "outputs": [
    {
     "data": {
      "text/plain": [
       "(0.33007, (200000,))"
      ]
     },
     "execution_count": 42,
     "metadata": {},
     "output_type": "execute_result"
    }
   ],
   "source": [
    "lr_pred_r = np.rint(gender_pre)\n",
    "lr_pred_r = np.clip(lr_pred_r, 1, 2)\n",
    "gender_accuracy = accuracy_score(user_ids['gender'][train_filter:900000], lr_pred_r)\n",
    "gender_accuracy,lr_pred_r.shape"
   ]
  },
  {
   "cell_type": "markdown",
   "metadata": {
    "ExecuteTime": {
     "end_time": "2020-05-19T15:35:00.386989Z",
     "start_time": "2020-05-19T15:35:00.382002Z"
    }
   },
   "source": [
    "0.928275"
   ]
  },
  {
   "cell_type": "code",
   "execution_count": null,
   "metadata": {},
   "outputs": [],
   "source": []
  }
 ],
 "metadata": {
  "kernelspec": {
   "display_name": "Python 3",
   "language": "python",
   "name": "python3"
  },
  "language_info": {
   "codemirror_mode": {
    "name": "ipython",
    "version": 3
   },
   "file_extension": ".py",
   "mimetype": "text/x-python",
   "name": "python",
   "nbconvert_exporter": "python",
   "pygments_lexer": "ipython3",
   "version": "3.7.4rc1"
  },
  "toc": {
   "base_numbering": 1,
   "nav_menu": {},
   "number_sections": true,
   "sideBar": true,
   "skip_h1_title": false,
   "title_cell": "Table of Contents",
   "title_sidebar": "Contents",
   "toc_cell": false,
   "toc_position": {},
   "toc_section_display": true,
   "toc_window_display": false
  },
  "varInspector": {
   "cols": {
    "lenName": 16,
    "lenType": 16,
    "lenVar": 40
   },
   "kernels_config": {
    "python": {
     "delete_cmd_postfix": "",
     "delete_cmd_prefix": "del ",
     "library": "var_list.py",
     "varRefreshCmd": "print(var_dic_list())"
    },
    "r": {
     "delete_cmd_postfix": ") ",
     "delete_cmd_prefix": "rm(",
     "library": "var_list.r",
     "varRefreshCmd": "cat(var_dic_list()) "
    }
   },
   "position": {
    "height": "577.4px",
    "left": "1587px",
    "right": "20px",
    "top": "125px",
    "width": "350px"
   },
   "types_to_exclude": [
    "module",
    "function",
    "builtin_function_or_method",
    "instance",
    "_Feature"
   ],
   "window_display": true
  }
 },
 "nbformat": 4,
 "nbformat_minor": 2
}

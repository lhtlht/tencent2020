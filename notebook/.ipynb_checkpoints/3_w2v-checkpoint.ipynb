{
 "cells": [
  {
   "cell_type": "code",
   "execution_count": 48,
   "metadata": {
    "ExecuteTime": {
     "end_time": "2020-05-17T14:52:09.893219Z",
     "start_time": "2020-05-17T14:52:09.887196Z"
    }
   },
   "outputs": [],
   "source": [
    "import sys\n",
    "import os\n",
    "sys.path.append(r\"..\")\n",
    "\n",
    "from utils import *\n",
    "import pandas as pd\n",
    "import numpy as np\n",
    "from sklearn.model_selection import train_test_split\n",
    "from sklearn.feature_extraction.text import TfidfTransformer\n",
    "from sklearn.feature_extraction.text import CountVectorizer\n",
    "from sklearn.naive_bayes import MultinomialNB\n",
    "from sklearn.linear_model import LogisticRegression\n",
    "\n",
    "from sklearn.metrics import accuracy_score,roc_auc_score,f1_score,recall_score\n",
    "from gensim import models\n",
    "from scipy import sparse\n",
    "from scipy.sparse import csr_matrix, coo_matrix \n",
    "path_build = \"../../data/tencent2020/build/\"\n",
    "path_save = \"../../data/tencent2020/save/\"\n",
    "pickle_path = \"../../data/tencent2020/pickle\"\n",
    "sub_path = \"../../data/tencent2020/sub\"\n",
    "\n",
    "train_preliminary_p = path_build + \"train_preliminary/\"\n",
    "\n",
    "if not os.path.exists(pickle_path):\n",
    "    os.mkdir(pickle_path) \n",
    "if not os.path.exists(sub_path):\n",
    "    os.mkdir(sub_path)"
   ]
  },
  {
   "cell_type": "code",
   "execution_count": 2,
   "metadata": {
    "ExecuteTime": {
     "end_time": "2020-05-17T13:47:58.108193Z",
     "start_time": "2020-05-17T13:47:03.981429Z"
    }
   },
   "outputs": [
    {
     "data": {
      "text/html": [
       "<div>\n",
       "<style scoped>\n",
       "    .dataframe tbody tr th:only-of-type {\n",
       "        vertical-align: middle;\n",
       "    }\n",
       "\n",
       "    .dataframe tbody tr th {\n",
       "        vertical-align: top;\n",
       "    }\n",
       "\n",
       "    .dataframe thead th {\n",
       "        text-align: right;\n",
       "    }\n",
       "</style>\n",
       "<table border=\"1\" class=\"dataframe\">\n",
       "  <thead>\n",
       "    <tr style=\"text-align: right;\">\n",
       "      <th></th>\n",
       "      <th>user_id</th>\n",
       "      <th>creative_id</th>\n",
       "      <th>ad_id</th>\n",
       "      <th>product_id</th>\n",
       "      <th>product_category</th>\n",
       "      <th>advertiser_id</th>\n",
       "      <th>industry</th>\n",
       "      <th>click_times</th>\n",
       "      <th>creative_id_len</th>\n",
       "      <th>ad_id_len</th>\n",
       "      <th>product_id_len</th>\n",
       "      <th>product_category_len</th>\n",
       "      <th>advertiser_len</th>\n",
       "      <th>industry_len</th>\n",
       "      <th>age</th>\n",
       "      <th>gender</th>\n",
       "    </tr>\n",
       "  </thead>\n",
       "  <tbody>\n",
       "    <tr>\n",
       "      <th>0</th>\n",
       "      <td>1</td>\n",
       "      <td>[821396, 209778, 877468, 1683713, 122032, 7169...</td>\n",
       "      <td>[724607, 188507, 773445, 1458878, 109959, 6621...</td>\n",
       "      <td>[0, 136, 0, 0, 1334, 0, 0, 0, 0, 1454, 64, 64,...</td>\n",
       "      <td>[5, 2, 5, 5, 2, 18, 5, 5, 18, 2, 2, 2, 2]</td>\n",
       "      <td>[7293, 9702, 29455, 14668, 11411, 14681, 17189...</td>\n",
       "      <td>[326, 6, 106, 326, 0, 326, 73, 217, 64, 238, 2...</td>\n",
       "      <td>[1, 1, 1, 1, 1, 1, 1, 1, 1, 1, 1, 1, 2]</td>\n",
       "      <td>12</td>\n",
       "      <td>12</td>\n",
       "      <td>6</td>\n",
       "      <td>3</td>\n",
       "      <td>12</td>\n",
       "      <td>9</td>\n",
       "      <td>4.0</td>\n",
       "      <td>1.0</td>\n",
       "    </tr>\n",
       "    <tr>\n",
       "      <th>1</th>\n",
       "      <td>2</td>\n",
       "      <td>[63441, 155822, 39714, 609050, 13069, 441462, ...</td>\n",
       "      <td>[58788, 139702, 38066, 541125, 14495, 392680, ...</td>\n",
       "      <td>[87, 80, 129, 129, 1400, 87, 0, 1261, 0, 0, 11...</td>\n",
       "      <td>[2, 2, 2, 2, 2, 2, 18, 2, 18, 18, 2, 18, 2, 18...</td>\n",
       "      <td>[22885, 10686, 18562, 25932, 768, 22885, 34505...</td>\n",
       "      <td>[318, 238, 6, 6, 317, 318, 47, 6, 47, 47, 242,...</td>\n",
       "      <td>[1, 1, 1, 1, 1, 1, 1, 1, 1, 1, 1, 1, 1, 1, 1, ...</td>\n",
       "      <td>42</td>\n",
       "      <td>42</td>\n",
       "      <td>20</td>\n",
       "      <td>3</td>\n",
       "      <td>36</td>\n",
       "      <td>15</td>\n",
       "      <td>10.0</td>\n",
       "      <td>1.0</td>\n",
       "    </tr>\n",
       "    <tr>\n",
       "      <th>2</th>\n",
       "      <td>3</td>\n",
       "      <td>[661347, 808612, 710859, 825434, 593522, 72694...</td>\n",
       "      <td>[586668, 713448, 629278, 728308, 527601, 64310...</td>\n",
       "      <td>[36256, 40905, 1674, 35985, 1674, 0, 0, 1031, ...</td>\n",
       "      <td>[17, 17, 2, 17, 2, 18, 18, 2, 2, 2, 18, 12, 2,...</td>\n",
       "      <td>[32974, 9877, 18492, 14186, 17018, 9058, 8371,...</td>\n",
       "      <td>[0, 0, 322, 0, 322, 6, 54, 6, 322, 322, 205, 3...</td>\n",
       "      <td>[1, 1, 1, 1, 1, 1, 1, 1, 1, 1, 1, 1, 1, 1, 1, ...</td>\n",
       "      <td>30</td>\n",
       "      <td>30</td>\n",
       "      <td>17</td>\n",
       "      <td>6</td>\n",
       "      <td>28</td>\n",
       "      <td>8</td>\n",
       "      <td>7.0</td>\n",
       "      <td>2.0</td>\n",
       "    </tr>\n",
       "    <tr>\n",
       "      <th>3</th>\n",
       "      <td>4</td>\n",
       "      <td>[39588, 589886, 574787, 1892854, 1962706, 2264...</td>\n",
       "      <td>[37966, 524312, 511235, 1638619, 1698206, 1953...</td>\n",
       "      <td>[1862, 0, 2625, 38743, 41265, 37758, 39904, 39...</td>\n",
       "      <td>[2, 18, 2, 17, 17, 4, 17, 17, 18, 2, 2, 2, 2, ...</td>\n",
       "      <td>[19451, 7976, 13084, 12130, 23664, 811, 10172,...</td>\n",
       "      <td>[238, 25, 248, 0, 0, 0, 0, 0, 88, 319, 238, 6,...</td>\n",
       "      <td>[1, 1, 1, 1, 1, 1, 1, 1, 1, 1, 1, 1, 1, 1, 1, ...</td>\n",
       "      <td>29</td>\n",
       "      <td>29</td>\n",
       "      <td>18</td>\n",
       "      <td>6</td>\n",
       "      <td>26</td>\n",
       "      <td>10</td>\n",
       "      <td>5.0</td>\n",
       "      <td>1.0</td>\n",
       "    </tr>\n",
       "    <tr>\n",
       "      <th>4</th>\n",
       "      <td>5</td>\n",
       "      <td>[296145, 350759, 24333, 43235, 852327, 1054434...</td>\n",
       "      <td>[265971, 314795, 24966, 41148, 751113, 925792,...</td>\n",
       "      <td>[0, 0, 87, 136, 0, 136, 0, 0, 0, 1064, 0, 2620...</td>\n",
       "      <td>[5, 8, 2, 2, 18, 2, 5, 18, 18, 2, 18, 2, 5, 5,...</td>\n",
       "      <td>[11882, 992, 22885, 9706, 38760, 2862, 17745, ...</td>\n",
       "      <td>[297, 0, 318, 6, 322, 6, 288, 322, 319, 238, 3...</td>\n",
       "      <td>[1, 1, 1, 1, 1, 2, 1, 1, 1, 1, 1, 1, 1, 1, 1, ...</td>\n",
       "      <td>33</td>\n",
       "      <td>33</td>\n",
       "      <td>7</td>\n",
       "      <td>4</td>\n",
       "      <td>30</td>\n",
       "      <td>18</td>\n",
       "      <td>4.0</td>\n",
       "      <td>1.0</td>\n",
       "    </tr>\n",
       "  </tbody>\n",
       "</table>\n",
       "</div>"
      ],
      "text/plain": [
       "   user_id                                        creative_id  \\\n",
       "0        1  [821396, 209778, 877468, 1683713, 122032, 7169...   \n",
       "1        2  [63441, 155822, 39714, 609050, 13069, 441462, ...   \n",
       "2        3  [661347, 808612, 710859, 825434, 593522, 72694...   \n",
       "3        4  [39588, 589886, 574787, 1892854, 1962706, 2264...   \n",
       "4        5  [296145, 350759, 24333, 43235, 852327, 1054434...   \n",
       "\n",
       "                                               ad_id  \\\n",
       "0  [724607, 188507, 773445, 1458878, 109959, 6621...   \n",
       "1  [58788, 139702, 38066, 541125, 14495, 392680, ...   \n",
       "2  [586668, 713448, 629278, 728308, 527601, 64310...   \n",
       "3  [37966, 524312, 511235, 1638619, 1698206, 1953...   \n",
       "4  [265971, 314795, 24966, 41148, 751113, 925792,...   \n",
       "\n",
       "                                          product_id  \\\n",
       "0  [0, 136, 0, 0, 1334, 0, 0, 0, 0, 1454, 64, 64,...   \n",
       "1  [87, 80, 129, 129, 1400, 87, 0, 1261, 0, 0, 11...   \n",
       "2  [36256, 40905, 1674, 35985, 1674, 0, 0, 1031, ...   \n",
       "3  [1862, 0, 2625, 38743, 41265, 37758, 39904, 39...   \n",
       "4  [0, 0, 87, 136, 0, 136, 0, 0, 0, 1064, 0, 2620...   \n",
       "\n",
       "                                    product_category  \\\n",
       "0          [5, 2, 5, 5, 2, 18, 5, 5, 18, 2, 2, 2, 2]   \n",
       "1  [2, 2, 2, 2, 2, 2, 18, 2, 18, 18, 2, 18, 2, 18...   \n",
       "2  [17, 17, 2, 17, 2, 18, 18, 2, 2, 2, 18, 12, 2,...   \n",
       "3  [2, 18, 2, 17, 17, 4, 17, 17, 18, 2, 2, 2, 2, ...   \n",
       "4  [5, 8, 2, 2, 18, 2, 5, 18, 18, 2, 18, 2, 5, 5,...   \n",
       "\n",
       "                                       advertiser_id  \\\n",
       "0  [7293, 9702, 29455, 14668, 11411, 14681, 17189...   \n",
       "1  [22885, 10686, 18562, 25932, 768, 22885, 34505...   \n",
       "2  [32974, 9877, 18492, 14186, 17018, 9058, 8371,...   \n",
       "3  [19451, 7976, 13084, 12130, 23664, 811, 10172,...   \n",
       "4  [11882, 992, 22885, 9706, 38760, 2862, 17745, ...   \n",
       "\n",
       "                                            industry  \\\n",
       "0  [326, 6, 106, 326, 0, 326, 73, 217, 64, 238, 2...   \n",
       "1  [318, 238, 6, 6, 317, 318, 47, 6, 47, 47, 242,...   \n",
       "2  [0, 0, 322, 0, 322, 6, 54, 6, 322, 322, 205, 3...   \n",
       "3  [238, 25, 248, 0, 0, 0, 0, 0, 88, 319, 238, 6,...   \n",
       "4  [297, 0, 318, 6, 322, 6, 288, 322, 319, 238, 3...   \n",
       "\n",
       "                                         click_times  creative_id_len  \\\n",
       "0            [1, 1, 1, 1, 1, 1, 1, 1, 1, 1, 1, 1, 2]               12   \n",
       "1  [1, 1, 1, 1, 1, 1, 1, 1, 1, 1, 1, 1, 1, 1, 1, ...               42   \n",
       "2  [1, 1, 1, 1, 1, 1, 1, 1, 1, 1, 1, 1, 1, 1, 1, ...               30   \n",
       "3  [1, 1, 1, 1, 1, 1, 1, 1, 1, 1, 1, 1, 1, 1, 1, ...               29   \n",
       "4  [1, 1, 1, 1, 1, 2, 1, 1, 1, 1, 1, 1, 1, 1, 1, ...               33   \n",
       "\n",
       "   ad_id_len  product_id_len  product_category_len  advertiser_len  \\\n",
       "0         12               6                     3              12   \n",
       "1         42              20                     3              36   \n",
       "2         30              17                     6              28   \n",
       "3         29              18                     6              26   \n",
       "4         33               7                     4              30   \n",
       "\n",
       "   industry_len   age  gender  \n",
       "0             9   4.0     1.0  \n",
       "1            15  10.0     1.0  \n",
       "2             8   7.0     2.0  \n",
       "3            10   5.0     1.0  \n",
       "4            18   4.0     1.0  "
      ]
     },
     "execution_count": 2,
     "metadata": {},
     "output_type": "execute_result"
    }
   ],
   "source": [
    "user_ids = pd.read_pickle(f\"{pickle_path}/user_ids.pickle\")\n",
    "user = pd.read_csv(train_preliminary_p + \"user.csv\", encoding='utf-8')\n",
    "user_ids = user_ids.merge(user, how='left', on='user_id')\n",
    "user_ids.head()"
   ]
  },
  {
   "cell_type": "code",
   "execution_count": 4,
   "metadata": {
    "ExecuteTime": {
     "end_time": "2020-05-17T13:59:39.751628Z",
     "start_time": "2020-05-17T13:57:47.637389Z"
    }
   },
   "outputs": [],
   "source": [
    "user_ids['creative_id'] = user_ids['creative_id'].map(lambda x: [str(i) for i in x])\n",
    "user_ids['ad_id'] = user_ids['ad_id'].map(lambda x: [str(i) for i in x])\n",
    "user_ids['advertiser_id'] = user_ids['advertiser_id'].map(lambda x: [str(i) for i in x])\n",
    "user_ids['product_id'] = user_ids['product_id'].map(lambda x: [str(i) for i in x])"
   ]
  },
  {
   "cell_type": "markdown",
   "metadata": {},
   "source": [
    "Word2Vec参数：  \n",
    "hs ({0, 1}, optional) – 1: 采用hierarchical softmax训练模型; 0: 使用负采样。  \n",
    "1.skip-gram （训练速度慢，对罕见字有效），CBOW（训练速度快）。一般选择Skip-gram模型；  \n",
    "\n",
    "2.训练方法：Hierarchical Softmax（对罕见字有利），Negative Sampling（对常见字和低维向量有利）；  \n",
    "\n",
    "3.欠采样频繁词可以提高结果的准确性和速度（1e-3~1e-5）  \n",
    "\n",
    "4.Window大小：Skip-gram通常选择10左右，CBOW通常选择5左右。  "
   ]
  },
  {
   "cell_type": "code",
   "execution_count": 6,
   "metadata": {
    "ExecuteTime": {
     "end_time": "2020-05-17T01:15:37.776934Z",
     "start_time": "2020-05-17T00:04:21.451246Z"
    }
   },
   "outputs": [],
   "source": [
    "# Gen W2V Vector\n",
    "w2v = models.Word2Vec(user_ids['creative_id'].values, sg=1, size=100, window=5, workers=20,hs=1, min_count=5)\n",
    "w2v.wv.save_word2vec_format(f\"{path_save}/creative_id_w2v100.model\")\n",
    "\n",
    "#w2v = models.KeyedVectors.load_word2vec_format(f\"{path_save}/creative_id_w2v200.model\")"
   ]
  },
  {
   "cell_type": "code",
   "execution_count": 7,
   "metadata": {
    "ExecuteTime": {
     "end_time": "2020-05-17T02:33:52.699481Z",
     "start_time": "2020-05-17T01:16:06.398695Z"
    }
   },
   "outputs": [],
   "source": [
    "# Gen W2V Vector\n",
    "w2v = models.Word2Vec(user_ids['creative_id'].values, sg=1, size=50, window=5, workers=20,hs=1, min_count=5)\n",
    "w2v.wv.save_word2vec_format(f\"{path_save}/creative_id_w2v50.model\")\n",
    "\n",
    "#w2v = models.KeyedVectors.load_word2vec_format(f\"{path_save}/creative_id_w2v200.model\")"
   ]
  },
  {
   "cell_type": "code",
   "execution_count": 8,
   "metadata": {
    "ExecuteTime": {
     "end_time": "2020-05-17T03:55:36.639627Z",
     "start_time": "2020-05-17T02:33:52.949785Z"
    }
   },
   "outputs": [],
   "source": [
    "# Gen W2V Vector\n",
    "w2v = models.Word2Vec(user_ids['ad_id'].values, sg=1, size=50, window=5, workers=20,hs=1, min_count=5)\n",
    "w2v.wv.save_word2vec_format(f\"{path_save}/ad_id_w2v50.model\")\n",
    "\n",
    "#w2v = models.KeyedVectors.load_word2vec_format(f\"{path_save}/creative_id_w2v200.model\")"
   ]
  },
  {
   "cell_type": "code",
   "execution_count": 9,
   "metadata": {
    "ExecuteTime": {
     "end_time": "2020-05-17T08:04:50.261566Z",
     "start_time": "2020-05-17T06:42:36.322877Z"
    }
   },
   "outputs": [],
   "source": [
    "# Gen W2V Vector\n",
    "w2v = models.Word2Vec(user_ids['ad_id'].values, sg=1, size=100, window=5, workers=20,hs=1, min_count=5)\n",
    "w2v.wv.save_word2vec_format(f\"{path_save}/ad_id_w2v100.model\")\n",
    "\n",
    "#w2v = models.KeyedVectors.load_word2vec_format(f\"{path_save}/creative_id_w2v200.model\")"
   ]
  },
  {
   "cell_type": "code",
   "execution_count": 10,
   "metadata": {
    "ExecuteTime": {
     "end_time": "2020-05-17T08:28:16.886402Z",
     "start_time": "2020-05-17T08:04:50.586752Z"
    }
   },
   "outputs": [],
   "source": [
    "# Gen W2V Vector\n",
    "w2v = models.Word2Vec(user_ids['advertiser_id'].values, sg=1, size=50, window=2, workers=20,hs=1, min_count=5)\n",
    "w2v.wv.save_word2vec_format(f\"{path_save}/advertiser_id_w2v50.model\")\n",
    "\n",
    "#w2v = models.KeyedVectors.load_word2vec_format(f\"{path_save}/creative_id_w2v200.model\")"
   ]
  },
  {
   "cell_type": "code",
   "execution_count": 11,
   "metadata": {
    "ExecuteTime": {
     "end_time": "2020-05-17T08:39:22.336010Z",
     "start_time": "2020-05-17T08:28:17.295284Z"
    }
   },
   "outputs": [],
   "source": [
    "# Gen W2V Vector\n",
    "w2v = models.Word2Vec(user_ids['product_id'].values, sg=1, size=50, window=2, workers=20,hs=1, min_count=5)\n",
    "w2v.wv.save_word2vec_format(f\"{path_save}/product_id_w2v50.model\")\n",
    "\n",
    "#w2v = models.KeyedVectors.load_word2vec_format(f\"{path_save}/creative_id_w2v200.model\")"
   ]
  },
  {
   "cell_type": "code",
   "execution_count": 46,
   "metadata": {
    "ExecuteTime": {
     "end_time": "2020-05-17T14:51:14.411066Z",
     "start_time": "2020-05-17T14:45:21.122457Z"
    }
   },
   "outputs": [],
   "source": [
    "creative_id_v = models.KeyedVectors.load_word2vec_format(f\"{path_save}/creative_id_w2v100.model\")\n",
    "ad_id_v = models.KeyedVectors.load_word2vec_format(f\"{path_save}/ad_id_w2v100.model\")\n",
    "advertiser_id_v = models.KeyedVectors.load_word2vec_format(f\"{path_save}/advertiser_id_w2v50.model\")\n",
    "product_id_v = models.KeyedVectors.load_word2vec_format(f\"{path_save}/product_id_w2v50.model\")\n"
   ]
  },
  {
   "cell_type": "code",
   "execution_count": 70,
   "metadata": {
    "ExecuteTime": {
     "end_time": "2020-05-17T16:18:03.258239Z",
     "start_time": "2020-05-17T16:14:43.001106Z"
    },
    "collapsed": true
   },
   "outputs": [
    {
     "name": "stderr",
     "output_type": "stream",
     "text": [
      "c:\\python37\\lib\\site-packages\\ipykernel_launcher.py:1: DeprecationWarning: Call to deprecated `wv` (Attribute will be removed in 4.0.0, use self instead).\n",
      "  \"\"\"Entry point for launching an IPython kernel.\n",
      "c:\\python37\\lib\\site-packages\\ipykernel_launcher.py:2: DeprecationWarning: Call to deprecated `wv` (Attribute will be removed in 4.0.0, use self instead).\n",
      "  \n",
      "c:\\python37\\lib\\site-packages\\ipykernel_launcher.py:3: DeprecationWarning: Call to deprecated `wv` (Attribute will be removed in 4.0.0, use self instead).\n",
      "  This is separate from the ipykernel package so we can avoid doing imports until\n",
      "c:\\python37\\lib\\site-packages\\ipykernel_launcher.py:4: DeprecationWarning: Call to deprecated `wv` (Attribute will be removed in 4.0.0, use self instead).\n",
      "  after removing the cwd from sys.path.\n"
     ]
    }
   ],
   "source": [
    "creative_id_v.wv.save_word2vec_format(f\"{path_save}/creative_id_w2v100.bin\",binary=True)\n",
    "ad_id_v.wv.save_word2vec_format(f\"{path_save}/ad_id_w2v100.bin\",binary=True)\n",
    "advertiser_id_v.wv.save_word2vec_format(f\"{path_save}/advertiser_id_w2v50.bin\",binary=True)\n",
    "product_id_v.wv.save_word2vec_format(f\"{path_save}/product_id_w2v50.bin\",binary=True)"
   ]
  }
 ],
 "metadata": {
  "kernelspec": {
   "display_name": "Python 3",
   "language": "python",
   "name": "python3"
  },
  "language_info": {
   "codemirror_mode": {
    "name": "ipython",
    "version": 3
   },
   "file_extension": ".py",
   "mimetype": "text/x-python",
   "name": "python",
   "nbconvert_exporter": "python",
   "pygments_lexer": "ipython3",
   "version": "3.7.4rc1"
  },
  "toc": {
   "base_numbering": 1,
   "nav_menu": {},
   "number_sections": true,
   "sideBar": true,
   "skip_h1_title": false,
   "title_cell": "Table of Contents",
   "title_sidebar": "Contents",
   "toc_cell": false,
   "toc_position": {},
   "toc_section_display": true,
   "toc_window_display": false
  },
  "varInspector": {
   "cols": {
    "lenName": 16,
    "lenType": 16,
    "lenVar": 40
   },
   "kernels_config": {
    "python": {
     "delete_cmd_postfix": "",
     "delete_cmd_prefix": "del ",
     "library": "var_list.py",
     "varRefreshCmd": "print(var_dic_list())"
    },
    "r": {
     "delete_cmd_postfix": ") ",
     "delete_cmd_prefix": "rm(",
     "library": "var_list.r",
     "varRefreshCmd": "cat(var_dic_list()) "
    }
   },
   "oldHeight": 696.8,
   "position": {
    "height": "718.4px",
    "left": "1678px",
    "right": "20px",
    "top": "120px",
    "width": "350px"
   },
   "types_to_exclude": [
    "module",
    "function",
    "builtin_function_or_method",
    "instance",
    "_Feature"
   ],
   "varInspector_section_display": "block",
   "window_display": true
  }
 },
 "nbformat": 4,
 "nbformat_minor": 2
}

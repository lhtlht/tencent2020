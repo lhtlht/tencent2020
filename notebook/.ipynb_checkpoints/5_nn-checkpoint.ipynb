{
 "cells": [
  {
   "cell_type": "code",
   "execution_count": 1,
   "metadata": {
    "ExecuteTime": {
     "end_time": "2020-06-07T14:03:33.216912Z",
     "start_time": "2020-06-07T14:03:19.822700Z"
    }
   },
   "outputs": [],
   "source": [
    "import sys\n",
    "import os\n",
    "import logging\n",
    "sys.path.append(r\"..\")\n",
    "from utils import *\n",
    "from model import *\n",
    "import numpy as np\n",
    "import pandas as pd\n",
    "from sklearn.model_selection import train_test_split\n",
    "from sklearn.model_selection import KFold\n",
    "from sklearn.model_selection import StratifiedKFold\n",
    "from sklearn.metrics import accuracy_score,roc_auc_score,f1_score,recall_score\n",
    "from scipy import sparse\n",
    "from scipy.sparse import csr_matrix, coo_matrix\n",
    "\n",
    "from collections import defaultdict\n",
    "from collections import Counter\n",
    "\n",
    "import tensorflow as tf\n",
    "from tensorflow import keras\n",
    "from tensorflow.keras import layers\n",
    "from tensorflow.keras.preprocessing.text import Tokenizer\n",
    "from tensorflow.keras.preprocessing.sequence import pad_sequences\n",
    "from tensorflow.python.client import device_lib\n",
    "#print(tf.__version__)\n",
    "#print(tf.test.is_built_with_gpu_support)\n",
    "#print(tf.test.is_gpu_available())\n",
    "#print(device_lib.list_local_devices())\n",
    "os.environ[\"CUDA_VISIBLE_DEVICES\"] = '0' #use GPU with ID=0\n",
    "gpus = tf.config.experimental.list_physical_devices('GPU')\n",
    "#tf.config.experimental.set_memory_growth(gpus[0], True)\n",
    "#对需要进行限制的GPU进行设置\n",
    "# tf.config.experimental.set_virtual_device_configuration(gpus[0],\n",
    "#                                                       [tf.config.experimental.VirtualDeviceConfiguration(memory_limit=4096)])\n",
    "# gpus"
   ]
  },
  {
   "cell_type": "code",
   "execution_count": 2,
   "metadata": {
    "ExecuteTime": {
     "end_time": "2020-06-07T14:08:13.571219Z",
     "start_time": "2020-06-07T14:04:32.337817Z"
    }
   },
   "outputs": [
    {
     "name": "stdout",
     "output_type": "stream",
     "text": [
      "(1900000, 36)\n"
     ]
    }
   ],
   "source": [
    "#user_ids = pd.read_pickle(f\"{pickle_path}/user_ids_relencode.pickle\")\n",
    "#user = pd.read_csv(train_preliminary_p + \"user.csv\", encoding='utf-8')\n",
    "#user_ids = user_ids.merge(user, how='left', on='user_id')\n",
    "#save_pickle(user_ids, f\"{pickle_path}/train_user_ids.pickle\")\n",
    "user_ids = pd.read_pickle(f\"{pickle_path}/train_user_ids.pickle\") #保存从8min缩小到3min\n",
    "print(user_ids.shape)\n",
    "#user_ids.head(2)"
   ]
  },
  {
   "cell_type": "code",
   "execution_count": 3,
   "metadata": {
    "ExecuteTime": {
     "end_time": "2020-06-07T14:10:51.282502Z",
     "start_time": "2020-06-07T14:09:22.919782Z"
    }
   },
   "outputs": [],
   "source": [
    "creative_id_em = load_pickle(f\"{path_save}/creative_id_w2v_matrix2.pkl\")\n",
    "ad_id_em = load_pickle(f\"{path_save}/ad_id_w2v_matrix2.pkl\")\n",
    "advertiser_id_em = load_pickle(f\"{path_save}/advertiser_id_w2v_matrix2.pkl\")\n",
    "product_id_em = load_pickle(f\"{path_save}/product_id_w2v_matrix2.pkl\")\n",
    "industry_em = load_pickle(f\"{path_save}/industry_w2v_matrix2.pkl\")\n",
    "product_category_em = load_pickle(f\"{path_save}/product_category_w2v_matrix2.pkl\")\n",
    "# click_times_em = load_pickle(f\"{path_save}/click_times_w2v_matrix2.pkl\")\n",
    "# time_em = load_pickle(f\"{path_save}/time_w2v_matrix2.pkl\")\n",
    "\n",
    "creative_id_times_em = load_pickle(f\"{path_save}/creative_id_times_w2v_matrix2.pkl\")\n",
    "# ad_id_times_em = load_pickle(f\"{path_save}/ad_id_times_w2v_matrix2.pkl\")\n",
    "product_id_times_em = load_pickle(f\"{path_save}/product_id_times_w2v_matrix2.pkl\")\n",
    "advertiser_id_times_em = load_pickle(f\"{path_save}/advertiser_id_times_w2v_matrix2.pkl\")\n",
    "product_category_times_em = load_pickle(f\"{path_save}/product_category_times_w2v_matrix2.pkl\")\n",
    "industry_times_em = load_pickle(f\"{path_save}/industry_times_w2v_matrix2.pkl\")\n",
    "\n",
    "creative_id_t_em = load_pickle(f\"{path_save}/creative_id_t_w2v_matrix2.pkl\")\n",
    "# ad_id_t_em = load_pickle(f\"{path_save}/ad_id_t_w2v_matrix2.pkl\")\n",
    "product_id_t_em = load_pickle(f\"{path_save}/product_id_t_w2v_matrix2.pkl\")\n",
    "advertiser_id_t_em = load_pickle(f\"{path_save}/advertiser_id_t_w2v_matrix2.pkl\")\n",
    "product_category_t_em = load_pickle(f\"{path_save}/product_category_t_w2v_matrix2.pkl\")\n",
    "industry_t_em = load_pickle(f\"{path_save}/industry_t_w2v_matrix2.pkl\")\n",
    "\n",
    "\n",
    "w2v_features = [\n",
    "    {'name':'creative_id', 'size':128, 'windows':5, 'min_count':1, 'version':2, 'max_len':128, 'em':creative_id_em},\n",
    "    {'name':'ad_id', 'size':128, 'windows':5, 'min_count':1, 'version':2, 'max_len':128, 'em':ad_id_em},\n",
    "    {'name':'advertiser_id', 'size':64, 'windows':5, 'min_count':1, 'version':2, 'max_len':128, 'em':advertiser_id_em},\n",
    "    {'name':'product_id', 'size':64, 'windows':5, 'min_count':1, 'version':2, 'max_len':128, 'em':product_id_em},\n",
    "    {'name':'industry', 'size':32, 'windows':5, 'min_count':1, 'version':2, 'max_len':128, 'em':industry_em},\n",
    "    {'name':'product_category', 'size':16, 'windows':5, 'min_count':1, 'version':2, 'max_len':128, 'em':product_category_em},\n",
    "#     {'name':'time', 'size':16, 'windows':5, 'min_count':1, 'version':2, 'max_len':128, 'em':time_em},\n",
    "#     {'name':'click_times', 'size':8, 'windows':5, 'min_count':1, 'version':2, 'max_len':128, 'em':click_times_em},\n",
    "    \n",
    "    {'name':'creative_id_times', 'size':128, 'windows':5, 'min_count':1, 'version':2, 'max_len':128, 'em':creative_id_times_em},\n",
    "    #{'name': 'ad_id_times', 'size': 128, 'windows': 5, 'min_count': 1, 'version': 2, 'max_len':128, 'em':ad_id_times_em},\n",
    "    {'name':'product_id_times', 'size':64, 'windows':5, 'min_count':1, 'version':2, 'max_len':128, 'em':product_id_times_em},\n",
    "    {'name':'advertiser_id_times', 'size':64, 'windows':5, 'min_count':1, 'version':2, 'max_len':128, 'em':advertiser_id_times_em},\n",
    "    {'name':'product_category_times', 'size':32, 'windows':5, 'min_count':1, 'version':2,'max_len':128, 'em':product_category_times_em},\n",
    "    {'name':'industry_times', 'size':32, 'windows':5, 'min_count':1, 'version':2,'max_len':128, 'em':industry_times_em},\n",
    "    \n",
    "    {'name':'creative_id_t', 'size':128, 'windows':5, 'min_count':1, 'version':2, 'max_len':128, 'em':creative_id_t_em},\n",
    "    #{'name': 'ad_id_t', 'size': 128, 'windows': 5, 'min_count': 1, 'version': 2, 'max_len':128, 'em':ad_id_t_em},\n",
    "    {'name':'product_id_t', 'size':64, 'windows':5, 'min_count':1, 'version':2, 'max_len':128, 'em':product_id_t_em},\n",
    "    {'name':'advertiser_id_t', 'size':64, 'windows':5, 'min_count':1, 'version':2, 'max_len':128, 'em':advertiser_id_t_em},\n",
    "    {'name':'product_category_t', 'size':32, 'windows':5, 'min_count':1, 'version':2,'max_len':128, 'em':product_category_t_em},\n",
    "    {'name':'industry_t', 'size':32, 'windows':5, 'min_count':1, 'version':2,'max_len':128, 'em':industry_t_em},    \n",
    "    \n",
    "]\n",
    "#dense_features = ['creative_id_len', 'ad_id_len', 'product_id_len', 'product_category_len', 'advertiser_len', 'industry_len','time_len',\n",
    "#                  'mean_clicktimes', 'max_clicktimes', 'min_clicktimes', 'mean_time', 'max_time', 'min_time']  \n",
    "dense_features = []\n",
    "\n",
    "#print(creative_id_em.shape,ad_id_em.shape,advertiser_id_em.shape,product_id_em.shape)\n",
    "#print(industry_em.shape,product_category_em.shape,click_times_em.shape,time_em.shape)"
   ]
  },
  {
   "cell_type": "code",
   "execution_count": 4,
   "metadata": {
    "ExecuteTime": {
     "end_time": "2020-06-07T14:17:11.366542Z",
     "start_time": "2020-06-07T14:10:58.279792Z"
    }
   },
   "outputs": [
    {
     "name": "stdout",
     "output_type": "stream",
     "text": [
      "creative_id\n",
      "ad_id\n",
      "advertiser_id\n",
      "product_id\n",
      "industry\n",
      "product_category\n",
      "creative_id_times\n",
      "product_id_times\n",
      "advertiser_id_times\n",
      "product_category_times\n",
      "industry_times\n",
      "creative_id_t\n",
      "product_id_t\n",
      "advertiser_id_t\n",
      "product_category_t\n",
      "industry_t\n"
     ]
    }
   ],
   "source": [
    "train_split = [0,810000]\n",
    "val_split = [810000, 900000]\n",
    "test_split = [900000]\n",
    "train_feature_dict = dict()\n",
    "val_feature_dict = dict()\n",
    "test_feature_dict = dict()\n",
    "\n",
    "for fea in w2v_features:\n",
    "    name = fea['name']\n",
    "    max_length = fea['max_len']\n",
    "    print(name)\n",
    "    train_feature_dict[name] = keras.preprocessing.sequence.pad_sequences(\n",
    "        user_ids[name][train_split[0]:train_split[1]],value = 0,padding = 'post',maxlen = max_length )\n",
    "    val_feature_dict[name] = keras.preprocessing.sequence.pad_sequences(\n",
    "        user_ids[name][val_split[0]:val_split[1]],value = 0,padding = 'post',maxlen = max_length )\n",
    "    test_feature_dict[name] = keras.preprocessing.sequence.pad_sequences(\n",
    "        user_ids[name][test_split[0]:],value = 0,padding = 'post',maxlen = max_length )\n",
    "for fea in dense_features:\n",
    "    print(fea)\n",
    "    train_feature_dict[fea] = user_ids[fea][train_split[0]:train_split[1]]\n",
    "    val_feature_dict[fea] = user_ids[fea][val_split[0]:val_split[1]]\n",
    "    test_feature_dict[fea] = user_ids[fea][test_split[0]:]\n",
    "    \n",
    "gender_train_label = np.array(user_ids['gender'][train_split[0]:train_split[1]])\n",
    "gender_val_label = np.array(user_ids['gender'][val_split[0]:val_split[1]])\n",
    "\n",
    "age_train_label = np.array(user_ids['age'][train_split[0]:train_split[1]])\n",
    "age_val_label = np.array(user_ids['age'][val_split[0]:val_split[1]])"
   ]
  },
  {
   "cell_type": "code",
   "execution_count": 5,
   "metadata": {
    "ExecuteTime": {
     "end_time": "2020-06-07T14:17:34.214481Z",
     "start_time": "2020-06-07T14:17:34.188544Z"
    }
   },
   "outputs": [],
   "source": [
    "def lstm_model(units,num_classes,w2v_features, dense_features):\n",
    "    inputs_dict = dict()\n",
    "    embed_layer_list = []\n",
    "    for w2v_f in w2v_features:\n",
    "        em_name = w2v_f['name']\n",
    "        em_size = w2v_f['em'].shape[0]\n",
    "        em_dim = w2v_f['size']\n",
    "        em_m = w2v_f['em']\n",
    "        max_len = w2v_f['max_len']\n",
    "\n",
    "        inputs = keras.Input(shape=(max_len,), name=em_name)\n",
    "        inputs_dict[em_name] = inputs\n",
    "\n",
    "        embed_layer_list.append( keras.layers.Embedding(\n",
    "                em_size, em_dim, input_length=max_len, trainable=False, weights=[em_m],mask_zero=True)(inputs))\n",
    "    embed_output = keras.layers.concatenate(embed_layer_list, axis=-1)\n",
    "    lstm_output = keras.layers.Bidirectional(keras.layers.LSTM(units,return_sequences=True))(embed_output)\n",
    "    \n",
    "    lstm_output = layers.GlobalMaxPooling1D()(lstm_output)\n",
    "                                     \n",
    "\n",
    "#     lstm_output = layers.concatenate([layers.GlobalAveragePooling1D()(lstm_output),\n",
    "#                                       layers.GlobalMaxPooling1D()(lstm_output),\n",
    "#                                      ], axis=-1)\n",
    "    \n",
    "    fc = keras.layers.Dense(units, activation='relu')(lstm_output)\n",
    "    #数值型特征\n",
    "    numeric_list = []\n",
    "    for den_f in dense_features:\n",
    "        inputs = keras.Input(shape=(1,), name=den_f)\n",
    "        inputs_dict[den_f] = inputs\n",
    "        numeric_list.append(inputs)   \n",
    "    if dense_features != []:\n",
    "        numeric_output = keras.layers.concatenate(numeric_list, axis=-1)\n",
    "        lstm_numeric_output = keras.layers.concatenate([fc,numeric_output], axis=-1)\n",
    "    else:\n",
    "        lstm_numeric_output = fc\n",
    "    \n",
    "    \n",
    "    outputs = keras.layers.Dense(num_classes, activation='softmax')(lstm_numeric_output)\n",
    "    \n",
    "    \n",
    "    model = keras.Model(inputs=inputs_dict, outputs=outputs)\n",
    "    model.compile(optimizer = keras.optimizers.Adam(0.001),\n",
    "              loss = keras.losses.sparse_categorical_crossentropy,\n",
    "              metrics = ['accuracy'])\n",
    "    return model"
   ]
  },
  {
   "cell_type": "code",
   "execution_count": 6,
   "metadata": {
    "ExecuteTime": {
     "end_time": "2020-06-07T14:17:40.346052Z",
     "start_time": "2020-06-07T14:17:40.336078Z"
    }
   },
   "outputs": [],
   "source": [
    "def input_fn(feature_dict, label=None, epochs=5, shuffle=True, batch_size=64, fit_key='train'):\n",
    "    if fit_key == 'train':\n",
    "        dataset = tf.data.Dataset.from_tensor_slices((feature_dict, label))\n",
    "    else:\n",
    "        dataset = tf.data.Dataset.from_tensor_slices((feature_dict))\n",
    "    if shuffle:\n",
    "        dataset = dataset.shuffle(100*batch_size)\n",
    "    dataset = dataset.repeat(epochs).batch(batch_size)\n",
    "    return dataset"
   ]
  },
  {
   "cell_type": "code",
   "execution_count": 9,
   "metadata": {
    "ExecuteTime": {
     "end_time": "2020-06-07T13:37:45.578366Z",
     "start_time": "2020-06-07T12:09:46.766093Z"
    }
   },
   "outputs": [
    {
     "name": "stdout",
     "output_type": "stream",
     "text": [
      "Train for 31641 steps, validate for 704 steps\n",
      "31641/31641 [==============================] - 5225s 165ms/step - loss: 0.1560 - accuracy: 0.9452 - val_loss: 0.1607 - val_accuracy: 0.9429\n"
     ]
    },
    {
     "data": {
      "text/plain": [
       "<tensorflow.python.keras.callbacks.History at 0x220abe8a948>"
      ]
     },
     "execution_count": 9,
     "metadata": {},
     "output_type": "execute_result"
    }
   ],
   "source": [
    "num_classes = 2\n",
    "units = 128\n",
    "gender_model = lstm_model(units, num_classes, w2v_features, [])\n",
    "train_dataset = input_fn(train_feature_dict, gender_train_label-1, epochs=5, shuffle=True, batch_size=128)\n",
    "val_dataset = input_fn(val_feature_dict, gender_val_label-1, epochs=1, shuffle=False, batch_size=128)\n",
    "gender_model.fit(train_dataset, validation_data=val_dataset)"
   ]
  },
  {
   "cell_type": "code",
   "execution_count": 10,
   "metadata": {
    "ExecuteTime": {
     "end_time": "2020-06-07T13:44:42.936378Z",
     "start_time": "2020-06-07T13:38:00.692951Z"
    }
   },
   "outputs": [
    {
     "name": "stdout",
     "output_type": "stream",
     "text": [
      "(1000000, 2) (90000, 2)\n",
      "round:  1\n",
      "0.9431\n",
      "0.9431333333333334\n",
      "0.9431777777777778\n",
      "0.9432444444444444\n",
      "0.9433222222222222\n",
      "0.9433444444444444\n",
      "0.9435333333333333\n",
      "0.9436555555555556\n",
      "0.9437555555555556\n",
      "0.9438222222222222\n",
      "0.9438444444444445\n",
      "0.9438777777777778\n",
      "0.9439\n",
      "0.9439555555555555\n",
      "0.9439888888888889\n",
      "0.9440222222222222\n",
      "0.9440333333333333\n",
      "0.9440444444444445\n",
      "0.9440777777777778\n",
      "0.9441222222222222\n",
      "0.9441555555555555\n",
      "0.9441777777777778\n",
      "0.9441888888888889\n",
      "0.9442111111111111\n",
      "0.9442333333333334\n",
      "0.9442555555555555\n",
      "0.9443111111111111\n",
      "0.9443666666666667\n",
      "0.9444\n",
      "round:  2\n"
     ]
    }
   ],
   "source": [
    "test_dataset = input_fn(test_feature_dict, epochs=1, shuffle=False, batch_size=1024, fit_key='predict')\n",
    "gender_prob = gender_model.predict(test_dataset)\n",
    "gender_val_prob = gender_model.predict(val_dataset)\n",
    "print(gender_prob.shape,gender_val_prob.shape)\n",
    "tune_weight = search_weight(gender_val_label-1, gender_val_prob, init_weight=[1.0]*2,class_num=2, step=0.001)"
   ]
  },
  {
   "cell_type": "code",
   "execution_count": 11,
   "metadata": {
    "ExecuteTime": {
     "end_time": "2020-06-07T15:51:19.288331Z",
     "start_time": "2020-06-07T15:51:19.277360Z"
    }
   },
   "outputs": [],
   "source": [
    "def age_model_run():\n",
    "    num_classes = 10\n",
    "    units = 128\n",
    "    age_model = lstm_model(units, num_classes, w2v_features, [])\n",
    "    #age_model.summary()\n",
    "    train_dataset = input_fn(train_feature_dict, age_train_label-1, epochs=5, shuffle=True, batch_size=128)\n",
    "    val_dataset = input_fn(val_feature_dict, age_val_label-1, epochs=1, shuffle=False, batch_size=1024)\n",
    "    age_model.fit(train_dataset, validation_data=val_dataset)\n",
    "\n",
    "    test_dataset = input_fn(test_feature_dict, epochs=1, shuffle=False, batch_size=1024, fit_key='predict')\n",
    "    age_prob = age_model.predict(test_dataset)\n",
    "    age_val_prob = age_model.predict(val_dataset)\n",
    "    print(age_prob.shape,age_val_prob.shape)\n",
    "    age_tune_weight = search_weight(age_val_label-1, age_val_prob, init_weight=[1.0]*10,class_num=10, step=0.001)\n",
    "    print(age_tune_weight)\n"
   ]
  },
  {
   "cell_type": "code",
   "execution_count": null,
   "metadata": {
    "ExecuteTime": {
     "start_time": "2020-06-07T15:52:58.915Z"
    }
   },
   "outputs": [],
   "source": [
    "from multiprocessing import Pool\n",
    "p = Pool(1)\n",
    "p.apply_async(age_model_run)\n",
    "p.close()\n",
    "p.join()"
   ]
  },
  {
   "cell_type": "code",
   "execution_count": 11,
   "metadata": {
    "ExecuteTime": {
     "end_time": "2020-06-07T13:46:13.222931Z",
     "start_time": "2020-06-07T13:46:03.915818Z"
    }
   },
   "outputs": [
    {
     "name": "stdout",
     "output_type": "stream",
     "text": [
      "ok！\n"
     ]
    }
   ],
   "source": [
    "gender_prob_tune = np.array(tune_weight)*gender_prob\n",
    "gender_pre = np.argmax(gender_prob_tune,axis=1) + 1\n",
    "\n",
    "age_prob_tune = np.array(age_tune_weight)*age_prob\n",
    "age_pre = np.argmax(age_prob_tune,axis=1) + 1\n",
    "\n",
    "np.save(f\"{sub_path}/age_prob.npy\", age_prob_tune)\n",
    "np.save(f\"{sub_path}/gender_prob.npy\", gender_prob_tune)\n",
    "\n",
    "\n",
    "sub = pd.DataFrame()\n",
    "sub['user_id'] = range(3000001,4000001)\n",
    "sub['predicted_age'] = age_pre\n",
    "sub['predicted_gender'] = gender_pre\n",
    "print('ok！')\n",
    "sub.to_csv(f\"{sub_path}/submission.csv\", index=False, encoding='utf-8')"
   ]
  },
  {
   "cell_type": "code",
   "execution_count": 12,
   "metadata": {
    "ExecuteTime": {
     "end_time": "2020-06-07T13:46:17.097571Z",
     "start_time": "2020-06-07T13:46:17.081613Z"
    }
   },
   "outputs": [],
   "source": [
    "# # 放入cpu中\n",
    "# with tf.device(\"/CPU:0\"):\n",
    "#     creative_id_em = tf.constant(creative_id_em)\n",
    "#     ad_id_em = tf.constant(ad_id_em)\n",
    "\n",
    "np.save(f\"{sub_path}/val_age_prob.npy\", age_val_prob)\n",
    "np.save(f\"{sub_path}/val_gender_prob.npy\", gender_val_prob)"
   ]
  },
  {
   "cell_type": "code",
   "execution_count": null,
   "metadata": {
    "ExecuteTime": {
     "end_time": "2020-06-06T18:30:32.615214Z",
     "start_time": "2020-06-06T17:08:03.754Z"
    }
   },
   "outputs": [],
   "source": [
    "# tf.keras.backend.clear_session()\n",
    "# import random\n",
    "# #del gender_model\n",
    "# del age_model\n",
    "# def reset_seeds():\n",
    "#     np.random.seed(1)\n",
    "#     random.seed(2)\n",
    "#     if tf.__version__[0] == '2':\n",
    "#         tf.random.set_seed(3)\n",
    "#     else:\n",
    "#         tf.set_random_seed(3)\n",
    "#     print(\"RANDOM SEEDS RESET\")\n",
    "    \n",
    "# tf.compat.v1.reset_default_graph()\n",
    "# reset_seeds()    "
   ]
  },
  {
   "cell_type": "code",
   "execution_count": null,
   "metadata": {
    "ExecuteTime": {
     "end_time": "2020-06-06T18:30:32.618206Z",
     "start_time": "2020-06-06T17:08:03.759Z"
    }
   },
   "outputs": [],
   "source": [
    "gender_model.summary()"
   ]
  }
 ],
 "metadata": {
  "kernelspec": {
   "display_name": "Python 3",
   "language": "python",
   "name": "python3"
  },
  "language_info": {
   "codemirror_mode": {
    "name": "ipython",
    "version": 3
   },
   "file_extension": ".py",
   "mimetype": "text/x-python",
   "name": "python",
   "nbconvert_exporter": "python",
   "pygments_lexer": "ipython3",
   "version": "3.7.4rc1"
  },
  "toc": {
   "base_numbering": 1,
   "nav_menu": {},
   "number_sections": true,
   "sideBar": true,
   "skip_h1_title": false,
   "title_cell": "Table of Contents",
   "title_sidebar": "Contents",
   "toc_cell": false,
   "toc_position": {},
   "toc_section_display": true,
   "toc_window_display": false
  },
  "varInspector": {
   "cols": {
    "lenName": 16,
    "lenType": 16,
    "lenVar": 40
   },
   "kernels_config": {
    "python": {
     "delete_cmd_postfix": "",
     "delete_cmd_prefix": "del ",
     "library": "var_list.py",
     "varRefreshCmd": "print(var_dic_list())"
    },
    "r": {
     "delete_cmd_postfix": ") ",
     "delete_cmd_prefix": "rm(",
     "library": "var_list.r",
     "varRefreshCmd": "cat(var_dic_list()) "
    }
   },
   "position": {
    "height": "830.4px",
    "left": "1664px",
    "right": "20px",
    "top": "125px",
    "width": "350px"
   },
   "types_to_exclude": [
    "module",
    "function",
    "builtin_function_or_method",
    "instance",
    "_Feature"
   ],
   "window_display": true
  }
 },
 "nbformat": 4,
 "nbformat_minor": 2
}

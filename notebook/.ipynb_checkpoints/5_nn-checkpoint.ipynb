{
 "cells": [
  {
   "cell_type": "code",
   "execution_count": 1,
   "metadata": {
    "ExecuteTime": {
     "end_time": "2020-05-30T06:10:31.805836Z",
     "start_time": "2020-05-30T06:10:19.111776Z"
    }
   },
   "outputs": [
    {
     "name": "stdout",
     "output_type": "stream",
     "text": [
      "2.1.1\n",
      "<function is_built_with_gpu_support at 0x0000024E63198E58>\n",
      "WARNING:tensorflow:From <ipython-input-1-6863fe286c93>:36: is_gpu_available (from tensorflow.python.framework.test_util) is deprecated and will be removed in a future version.\n",
      "Instructions for updating:\n",
      "Use `tf.config.list_physical_devices('GPU')` instead.\n",
      "True\n",
      "[name: \"/device:CPU:0\"\n",
      "device_type: \"CPU\"\n",
      "memory_limit: 268435456\n",
      "locality {\n",
      "}\n",
      "incarnation: 16142511948857208258\n",
      ", name: \"/device:GPU:0\"\n",
      "device_type: \"GPU\"\n",
      "memory_limit: 4930941747\n",
      "locality {\n",
      "  bus_id: 1\n",
      "  links {\n",
      "  }\n",
      "}\n",
      "incarnation: 14011844415544924703\n",
      "physical_device_desc: \"device: 0, name: GeForce GTX 1060 6GB, pci bus id: 0000:01:00.0, compute capability: 6.1\"\n",
      "]\n"
     ]
    },
    {
     "data": {
      "text/plain": [
       "[PhysicalDevice(name='/physical_device:GPU:0', device_type='GPU')]"
      ]
     },
     "execution_count": 1,
     "metadata": {},
     "output_type": "execute_result"
    }
   ],
   "source": [
    "import sys\n",
    "import os\n",
    "import logging\n",
    "sys.path.append(r\"..\")\n",
    "from utils import *\n",
    "from model import *\n",
    "import numpy as np\n",
    "import pandas as pd\n",
    "import deepctr\n",
    "from sklearn.model_selection import train_test_split\n",
    "from sklearn.feature_extraction.text import TfidfTransformer\n",
    "from sklearn.feature_extraction.text import TfidfVectorizer\n",
    "from sklearn.feature_extraction.text import CountVectorizer\n",
    "from sklearn.naive_bayes import MultinomialNB\n",
    "from sklearn.linear_model import LogisticRegression\n",
    "import lightgbm as lgb\n",
    "from sklearn.model_selection import KFold\n",
    "from sklearn.model_selection import StratifiedKFold\n",
    "from sklearn.metrics import accuracy_score,roc_auc_score,f1_score,recall_score\n",
    "from gensim import models\n",
    "from scipy import sparse\n",
    "from scipy.sparse import csr_matrix, coo_matrix\n",
    "\n",
    "from collections import defaultdict\n",
    "from collections import Counter\n",
    "\n",
    "import tensorflow as tf\n",
    "from tensorflow import keras\n",
    "from tensorflow.keras import layers\n",
    "from tensorflow.keras.preprocessing.text import Tokenizer\n",
    "from tensorflow.keras.preprocessing.sequence import pad_sequences\n",
    "from tensorflow.python.client import device_lib\n",
    "\n",
    "print(tf.__version__)\n",
    "print(tf.test.is_built_with_gpu_support)\n",
    "print(tf.test.is_gpu_available())\n",
    "print(device_lib.list_local_devices())\n",
    "os.environ[\"CUDA_VISIBLE_DEVICES\"] = '0' #use GPU with ID=0\n",
    "#os.environ[\"CUDA_VISIBLE_DEVICES\"]= '-1'\n",
    "gpus = tf.config.experimental.list_physical_devices('GPU')\n",
    "#tf.config.experimental.set_memory_growth(gpus[0], True)\n",
    "#对需要进行限制的GPU进行设置\n",
    "tf.config.experimental.set_virtual_device_configuration(gpus[0],\n",
    "                                                      [tf.config.experimental.VirtualDeviceConfiguration(memory_limit=4096)])\n",
    "gpus"
   ]
  },
  {
   "cell_type": "code",
   "execution_count": 2,
   "metadata": {
    "ExecuteTime": {
     "end_time": "2020-05-30T06:11:56.530187Z",
     "start_time": "2020-05-30T06:10:37.411747Z"
    }
   },
   "outputs": [
    {
     "name": "stdout",
     "output_type": "stream",
     "text": [
      "(1900000, 16)\n"
     ]
    },
    {
     "data": {
      "text/html": [
       "<div>\n",
       "<style scoped>\n",
       "    .dataframe tbody tr th:only-of-type {\n",
       "        vertical-align: middle;\n",
       "    }\n",
       "\n",
       "    .dataframe tbody tr th {\n",
       "        vertical-align: top;\n",
       "    }\n",
       "\n",
       "    .dataframe thead th {\n",
       "        text-align: right;\n",
       "    }\n",
       "</style>\n",
       "<table border=\"1\" class=\"dataframe\">\n",
       "  <thead>\n",
       "    <tr style=\"text-align: right;\">\n",
       "      <th></th>\n",
       "      <th>user_id</th>\n",
       "      <th>creative_id</th>\n",
       "      <th>ad_id</th>\n",
       "      <th>product_id</th>\n",
       "      <th>product_category</th>\n",
       "      <th>advertiser_id</th>\n",
       "      <th>industry</th>\n",
       "      <th>click_times</th>\n",
       "      <th>creative_id_len</th>\n",
       "      <th>ad_id_len</th>\n",
       "      <th>product_id_len</th>\n",
       "      <th>product_category_len</th>\n",
       "      <th>advertiser_len</th>\n",
       "      <th>industry_len</th>\n",
       "      <th>age</th>\n",
       "      <th>gender</th>\n",
       "    </tr>\n",
       "  </thead>\n",
       "  <tbody>\n",
       "    <tr>\n",
       "      <th>0</th>\n",
       "      <td>1</td>\n",
       "      <td>[642275, 170988, 685687, 1307085, 100774, 5953...</td>\n",
       "      <td>[581171, 156554, 620126, 1166887, 92441, 55685...</td>\n",
       "      <td>[1, 125, 1, 1, 1132, 1, 1, 1, 1, 1244, 55, 55,...</td>\n",
       "      <td>[5, 2, 5, 5, 2, 18, 5, 5, 18, 2, 2, 2, 2]</td>\n",
       "      <td>[6411, 8522, 26781, 12996, 10113, 13007, 15341...</td>\n",
       "      <td>[323, 7, 104, 323, 1, 323, 73, 214, 64, 235, 2...</td>\n",
       "      <td>[1, 1, 1, 1, 1, 1, 1, 1, 1, 1, 1, 1, 2]</td>\n",
       "      <td>12</td>\n",
       "      <td>12</td>\n",
       "      <td>6</td>\n",
       "      <td>3</td>\n",
       "      <td>12</td>\n",
       "      <td>9</td>\n",
       "      <td>4.0</td>\n",
       "      <td>1.0</td>\n",
       "    </tr>\n",
       "    <tr>\n",
       "      <th>1</th>\n",
       "      <td>2</td>\n",
       "      <td>[52634, 128035, 32734, 478744, 10372, 349730, ...</td>\n",
       "      <td>[49388, 117016, 31581, 435462, 11432, 318236, ...</td>\n",
       "      <td>[76, 69, 118, 118, 1193, 76, 1, 1064, 1, 1, 10...</td>\n",
       "      <td>[2, 2, 2, 2, 2, 2, 18, 2, 18, 18, 2, 18, 2, 18...</td>\n",
       "      <td>[20681, 9438, 16619, 23545, 705, 20681, 31504,...</td>\n",
       "      <td>[315, 235, 7, 7, 314, 315, 47, 7, 47, 47, 239,...</td>\n",
       "      <td>[1, 1, 1, 1, 1, 1, 1, 1, 1, 1, 1, 1, 1, 1, 1, ...</td>\n",
       "      <td>42</td>\n",
       "      <td>42</td>\n",
       "      <td>20</td>\n",
       "      <td>3</td>\n",
       "      <td>36</td>\n",
       "      <td>15</td>\n",
       "      <td>10.0</td>\n",
       "      <td>1.0</td>\n",
       "    </tr>\n",
       "  </tbody>\n",
       "</table>\n",
       "</div>"
      ],
      "text/plain": [
       "   user_id                                        creative_id  \\\n",
       "0        1  [642275, 170988, 685687, 1307085, 100774, 5953...   \n",
       "1        2  [52634, 128035, 32734, 478744, 10372, 349730, ...   \n",
       "\n",
       "                                               ad_id  \\\n",
       "0  [581171, 156554, 620126, 1166887, 92441, 55685...   \n",
       "1  [49388, 117016, 31581, 435462, 11432, 318236, ...   \n",
       "\n",
       "                                          product_id  \\\n",
       "0  [1, 125, 1, 1, 1132, 1, 1, 1, 1, 1244, 55, 55,...   \n",
       "1  [76, 69, 118, 118, 1193, 76, 1, 1064, 1, 1, 10...   \n",
       "\n",
       "                                    product_category  \\\n",
       "0          [5, 2, 5, 5, 2, 18, 5, 5, 18, 2, 2, 2, 2]   \n",
       "1  [2, 2, 2, 2, 2, 2, 18, 2, 18, 18, 2, 18, 2, 18...   \n",
       "\n",
       "                                       advertiser_id  \\\n",
       "0  [6411, 8522, 26781, 12996, 10113, 13007, 15341...   \n",
       "1  [20681, 9438, 16619, 23545, 705, 20681, 31504,...   \n",
       "\n",
       "                                            industry  \\\n",
       "0  [323, 7, 104, 323, 1, 323, 73, 214, 64, 235, 2...   \n",
       "1  [315, 235, 7, 7, 314, 315, 47, 7, 47, 47, 239,...   \n",
       "\n",
       "                                         click_times  creative_id_len  \\\n",
       "0            [1, 1, 1, 1, 1, 1, 1, 1, 1, 1, 1, 1, 2]               12   \n",
       "1  [1, 1, 1, 1, 1, 1, 1, 1, 1, 1, 1, 1, 1, 1, 1, ...               42   \n",
       "\n",
       "   ad_id_len  product_id_len  product_category_len  advertiser_len  \\\n",
       "0         12               6                     3              12   \n",
       "1         42              20                     3              36   \n",
       "\n",
       "   industry_len   age  gender  \n",
       "0             9   4.0     1.0  \n",
       "1            15  10.0     1.0  "
      ]
     },
     "execution_count": 2,
     "metadata": {},
     "output_type": "execute_result"
    }
   ],
   "source": [
    "user_ids = pd.read_pickle(f\"{pickle_path}/user_ids_relencode.pickle\")\n",
    "user = pd.read_csv(train_preliminary_p + \"user.csv\", encoding='utf-8')\n",
    "user_ids = user_ids.merge(user, how='left', on='user_id')\n",
    "del user\n",
    "print(user_ids.shape)\n",
    "user_ids.head(2)"
   ]
  },
  {
   "cell_type": "code",
   "execution_count": 3,
   "metadata": {
    "ExecuteTime": {
     "end_time": "2020-05-30T06:13:30.044378Z",
     "start_time": "2020-05-30T06:12:18.145589Z"
    }
   },
   "outputs": [],
   "source": [
    "creative_id_v = models.KeyedVectors.load_word2vec_format(f\"{path_save}/creative_id_w2v_128.bin\", binary=True)\n",
    "ad_id_v = models.KeyedVectors.load_word2vec_format(f\"{path_save}/ad_id_w2v_128.bin\", binary=True)\n",
    "advertiser_id_v = models.KeyedVectors.load_word2vec_format(f\"{path_save}/advertiser_id_w2v_64.bin\", binary=True)\n",
    "product_id_v = models.KeyedVectors.load_word2vec_format(f\"{path_save}/product_id_w2v_64.bin\", binary=True)"
   ]
  },
  {
   "cell_type": "code",
   "execution_count": 4,
   "metadata": {
    "ExecuteTime": {
     "end_time": "2020-05-30T06:13:33.798328Z",
     "start_time": "2020-05-30T06:13:33.792312Z"
    }
   },
   "outputs": [],
   "source": [
    "creative_id_vs = len(creative_id_v.vocab) + 1\n",
    "ad_id_vs = len(ad_id_v.vocab) + 1\n",
    "advertiser_id_vs = len(advertiser_id_v.vocab) + 1\n",
    "product_id_vs = len(product_id_v.vocab) + 1"
   ]
  },
  {
   "cell_type": "code",
   "execution_count": 5,
   "metadata": {
    "ExecuteTime": {
     "end_time": "2020-05-30T06:13:38.026024Z",
     "start_time": "2020-05-30T06:13:38.019046Z"
    }
   },
   "outputs": [],
   "source": [
    "# 超参数\n",
    "max_length = 200\n",
    "embedding_dim = 128\n",
    "units = 128\n",
    "num_classes = 2\n",
    "batch_size = 256\n",
    "epochs = 2"
   ]
  },
  {
   "cell_type": "code",
   "execution_count": 6,
   "metadata": {
    "ExecuteTime": {
     "end_time": "2020-05-30T06:14:14.403822Z",
     "start_time": "2020-05-30T06:13:42.421342Z"
    }
   },
   "outputs": [
    {
     "data": {
      "text/plain": [
       "((3412768, 128), (3027359, 128), (57871, 64), (39058, 64))"
      ]
     },
     "execution_count": 6,
     "metadata": {},
     "output_type": "execute_result"
    }
   ],
   "source": [
    "creative_id_em = np.zeros((creative_id_vs, creative_id_v.vector_size))\n",
    "ad_id_em = np.zeros((ad_id_vs, ad_id_v.vector_size))\n",
    "advertiser_id_em = np.zeros((advertiser_id_vs, advertiser_id_v.vector_size))\n",
    "product_id_em = np.zeros((product_id_vs, product_id_v.vector_size))\n",
    "\n",
    "for w in creative_id_v.vocab:\n",
    "    creative_id_em[int(w)] = creative_id_v[w]\n",
    "for w in ad_id_v.vocab:\n",
    "    ad_id_em[int(w)] = ad_id_v[w]    \n",
    "for w in advertiser_id_v.vocab:\n",
    "    advertiser_id_em[int(w)] = advertiser_id_v[w]\n",
    "for w in product_id_v.vocab:\n",
    "    product_id_em[int(w)] = product_id_v[w]\n",
    "    \n",
    "creative_id_em.shape,ad_id_em.shape,advertiser_id_em.shape,product_id_em.shape"
   ]
  },
  {
   "cell_type": "code",
   "execution_count": 8,
   "metadata": {
    "ExecuteTime": {
     "end_time": "2020-05-30T06:17:16.374751Z",
     "start_time": "2020-05-30T06:15:50.613047Z"
    }
   },
   "outputs": [],
   "source": [
    "creative_id_train_seq = keras.preprocessing.sequence.pad_sequences(user_ids['creative_id'][:810000],value = 0,padding = 'post',maxlen = max_length )\n",
    "creative_id_val_seq = keras.preprocessing.sequence.pad_sequences(user_ids['creative_id'][810000:900000],value = 0,padding = 'post',maxlen = max_length )\n",
    "creative_id_test_seq = keras.preprocessing.sequence.pad_sequences(user_ids['creative_id'][900000:],value = 0,padding = 'post',maxlen = max_length )\n",
    "\n",
    "ad_id_train_seq = keras.preprocessing.sequence.pad_sequences(user_ids['ad_id'][:810000],value = 0,padding = 'post',maxlen = max_length )\n",
    "ad_id_val_seq = keras.preprocessing.sequence.pad_sequences(user_ids['ad_id'][810000:900000],value = 0,padding = 'post',maxlen = max_length )\n",
    "ad_id_test_seq = keras.preprocessing.sequence.pad_sequences(user_ids['ad_id'][900000:],value = 0,padding = 'post',maxlen = max_length )\n",
    "\n",
    "advertiser_id_train_seq = keras.preprocessing.sequence.pad_sequences(user_ids['advertiser_id'][:810000],value = 0,padding = 'post',maxlen = max_length )\n",
    "advertiser_id_val_seq = keras.preprocessing.sequence.pad_sequences(user_ids['advertiser_id'][810000:900000],value = 0,padding = 'post',maxlen = max_length )\n",
    "advertiser_id_test_seq = keras.preprocessing.sequence.pad_sequences(user_ids['advertiser_id'][900000:],value = 0,padding = 'post',maxlen = max_length )\n",
    "\n",
    "product_id_train_seq = keras.preprocessing.sequence.pad_sequences(user_ids['product_id'][:810000],value = 0,padding = 'post',maxlen = max_length )\n",
    "product_id_val_seq = keras.preprocessing.sequence.pad_sequences(user_ids['product_id'][810000:900000],value = 0,padding = 'post',maxlen = max_length )\n",
    "product_id_test_seq = keras.preprocessing.sequence.pad_sequences(user_ids['product_id'][900000:],value = 0,padding = 'post',maxlen = max_length )\n"
   ]
  },
  {
   "cell_type": "code",
   "execution_count": 7,
   "metadata": {
    "ExecuteTime": {
     "end_time": "2020-05-29T16:21:00.972782Z",
     "start_time": "2020-05-29T16:21:00.798268Z"
    }
   },
   "outputs": [],
   "source": [
    "# # 放入cpu中\n",
    "# with tf.device(\"/CPU:0\"):\n",
    "#     creative_id_em = tf.constant(creative_id_em)\n",
    "#     ad_id_em = tf.constant(ad_id_em)"
   ]
  },
  {
   "cell_type": "code",
   "execution_count": 9,
   "metadata": {
    "ExecuteTime": {
     "end_time": "2020-05-30T06:17:21.380389Z",
     "start_time": "2020-05-30T06:17:21.365436Z"
    }
   },
   "outputs": [],
   "source": [
    "gender_train_label = np.array(user_ids['gender'][:810000])\n",
    "gender_val_label = np.array(user_ids['gender'][810000:900000])"
   ]
  },
  {
   "cell_type": "code",
   "execution_count": 10,
   "metadata": {
    "ExecuteTime": {
     "end_time": "2020-05-30T06:17:25.872384Z",
     "start_time": "2020-05-30T06:17:25.857396Z"
    }
   },
   "outputs": [],
   "source": [
    "age_train_label = np.array(user_ids['age'][:810000])\n",
    "age_val_label = np.array(user_ids['age'][810000:900000])"
   ]
  },
  {
   "cell_type": "code",
   "execution_count": 10,
   "metadata": {
    "ExecuteTime": {
     "end_time": "2020-05-29T16:21:08.500652Z",
     "start_time": "2020-05-29T16:21:08.492674Z"
    }
   },
   "outputs": [],
   "source": [
    "# def lstm_model(max_len,em_dim, units, num_class):\n",
    "#     inputs = keras.Input(shape=(max_len,em_dim), name='input')\n",
    "#     lstm_output = keras.layers.Bidirectional(keras.layers.LSTM(units))(inputs)\n",
    "#     fc = keras.layers.Dense(units, activation='relu')(lstm_output)\n",
    "#     outputs = keras.layers.Dense(num_class, activation='softmax')(fc)\n",
    "#     model = keras.Model(inputs=inputs, outputs=outputs)\n",
    "#     return model"
   ]
  },
  {
   "cell_type": "code",
   "execution_count": 11,
   "metadata": {
    "ExecuteTime": {
     "end_time": "2020-05-29T16:21:10.809500Z",
     "start_time": "2020-05-29T16:21:10.795538Z"
    }
   },
   "outputs": [],
   "source": [
    "# def input_fn(feature_dict, label=None, epochs=5, shuffle=True, batch_size=64, fit_key='train'):\n",
    "#     if fit_key == 'train':\n",
    "#         dataset = tf.data.Dataset.from_tensor_slices((feature_dict, label))\n",
    "#         dataset = dataset.map(lambda X,y: (tf.concat([tf.nn.embedding_lookup(creative_id_em, X['creative_id']),\n",
    "#                                                        tf.nn.embedding_lookup(creative_id_em, X['ad_id']),\n",
    "#                                                       ], axis=-1),y),\n",
    "#                               num_parallel_calls=tf.data.experimental.AUTOTUNE)\n",
    "#     else:\n",
    "#         dataset = tf.data.Dataset.from_tensor_slices((feature_dict))\n",
    "#         dataset = dataset.map(lambda X,y: (tf.concat([tf.nn.embedding_lookup(creative_id_em, X['creative_id']),\n",
    "#                                                        tf.nn.embedding_lookup(creative_id_em, X['ad_id']),\n",
    "#                                                       ], axis=-1)),\n",
    "#                               num_parallel_calls=tf.data.experimental.AUTOTUNE)\n",
    "        \n",
    "    \n",
    "#     if shuffle:\n",
    "#         dataset = dataset.shuffle(100*batch_size)\n",
    "#     dataset = dataset.repeat(epochs).batch(batch_size)\n",
    "#     return dataset"
   ]
  },
  {
   "cell_type": "code",
   "execution_count": 12,
   "metadata": {
    "ExecuteTime": {
     "end_time": "2020-05-29T16:21:15.130033Z",
     "start_time": "2020-05-29T16:21:13.635944Z"
    }
   },
   "outputs": [],
   "source": [
    "# model = lstm_model(max_len=200,\n",
    "#                    em_dim=256,\n",
    "#                    units=128,\n",
    "#                    num_class=2)\n",
    "# model.compile(optimizer = keras.optimizers.Adam(0.001),\n",
    "#               loss = keras.losses.sparse_categorical_crossentropy,\n",
    "#               metrics = ['accuracy'])\n",
    "# train_feature_dict = {'creative_id':creative_id_train_seq,\n",
    "#                 'ad_id':ad_id_train_seq}\n",
    "# val_feature_dict = {'creative_id':creative_id_val_seq,\n",
    "#                     'ad_id':ad_id_val_seq}\n",
    "#train_dataset = input_fn(train_feature_dict, gender_train_label-1, epochs=5, shuffle=True, batch_size=128)\n",
    "#val_dataset = input_fn(val_feature_dict, gender_val_label-1, epochs=1, shuffle=False, batch_size=128)\n",
    "#model.fit(train_dataset, validation_data=val_dataset)\n",
    "#model.save(model_path+'gender', save_format='tf')\n",
    "#model.summary()"
   ]
  },
  {
   "cell_type": "code",
   "execution_count": 15,
   "metadata": {
    "ExecuteTime": {
     "end_time": "2020-05-29T16:26:58.917371Z",
     "start_time": "2020-05-29T16:26:57.085263Z"
    },
    "collapsed": true
   },
   "outputs": [
    {
     "name": "stdout",
     "output_type": "stream",
     "text": [
      "INFO:tensorflow:Using default config.\n",
      "WARNING:tensorflow:Using temporary folder as model directory: C:\\Users\\ADMINI~1\\AppData\\Local\\Temp\\tmpxuwhm4zf\n",
      "INFO:tensorflow:Using the Keras model provided.\n",
      "INFO:tensorflow:Using config: {'_model_dir': 'C:\\\\Users\\\\ADMINI~1\\\\AppData\\\\Local\\\\Temp\\\\tmpxuwhm4zf', '_tf_random_seed': None, '_save_summary_steps': 100, '_save_checkpoints_steps': None, '_save_checkpoints_secs': 600, '_session_config': allow_soft_placement: true\n",
      "graph_options {\n",
      "  rewrite_options {\n",
      "    meta_optimizer_iterations: ONE\n",
      "  }\n",
      "}\n",
      ", '_keep_checkpoint_max': 5, '_keep_checkpoint_every_n_hours': 10000, '_log_step_count_steps': 100, '_train_distribute': None, '_device_fn': None, '_protocol': None, '_eval_distribute': None, '_experimental_distribute': None, '_experimental_max_worker_delay_secs': None, '_session_creation_timeout_secs': 7200, '_service': None, '_cluster_spec': ClusterSpec({}), '_task_type': 'worker', '_task_id': 0, '_global_id_in_cluster': 0, '_master': '', '_evaluation_master': '', '_is_chief': True, '_num_ps_replicas': 0, '_num_worker_replicas': 1}\n"
     ]
    }
   ],
   "source": [
    "# tf.compat.v1.disable_eager_execution()\n",
    "# estimator = tf.keras.estimator.model_to_estimator(model)\n",
    "#estimator.train(input_fn=lambda : input_fn(train_feature_dict, gender_train_label-1, epochs=5, shuffle=True, batch_size=128)   )"
   ]
  },
  {
   "cell_type": "markdown",
   "metadata": {},
   "source": [
    "  \n",
    "--旧版本--  \n",
    "\n"
   ]
  },
  {
   "cell_type": "code",
   "execution_count": 11,
   "metadata": {
    "ExecuteTime": {
     "end_time": "2020-05-30T06:17:31.108379Z",
     "start_time": "2020-05-30T06:17:31.096411Z"
    }
   },
   "outputs": [],
   "source": [
    "def input_fn(feature_dict, label=None, epochs=5, shuffle=True, batch_size=64, fit_key='train'):\n",
    "    if fit_key == 'train':\n",
    "        dataset = tf.data.Dataset.from_tensor_slices((feature_dict, label))\n",
    "    else:\n",
    "        dataset = tf.data.Dataset.from_tensor_slices((feature_dict))\n",
    "    if shuffle:\n",
    "        dataset = dataset.shuffle(100*batch_size)\n",
    "    dataset = dataset.repeat(epochs).batch(batch_size)\n",
    "    return dataset"
   ]
  },
  {
   "cell_type": "code",
   "execution_count": 20,
   "metadata": {
    "ExecuteTime": {
     "end_time": "2020-05-30T06:35:30.795752Z",
     "start_time": "2020-05-30T06:35:30.781814Z"
    },
    "scrolled": true
   },
   "outputs": [],
   "source": [
    "class LSTModel(keras.Model):\n",
    "    def __init__(self, units, num_classes, emb_size, max_len):\n",
    "        super(LSTModel, self).__init__()\n",
    "        self.units = units\n",
    "        self.embedding1 = keras.layers.Embedding(creative_id_vs, 128, input_length=max_len, trainable=False, weights=[creative_id_em],mask_zero=False)\n",
    "        self.embedding2 = keras.layers.Embedding(ad_id_vs, 128, input_length=max_len, trainable=False, weights=[ad_id_em],mask_zero=False)\n",
    "        self.embedding3 = keras.layers.Embedding(advertiser_id_vs, 64, input_length=max_len, trainable=False, weights=[advertiser_id_em],mask_zero=False)\n",
    "        self.embedding4 = keras.layers.Embedding(product_id_vs, 64, input_length=max_len, trainable=False, weights=[product_id_em],mask_zero=False)\n",
    "\n",
    "        self.lstm = keras.layers.Bidirectional(keras.layers.LSTM(self.units))\n",
    "        \n",
    "        self.dense1 = keras.layers.Dense(self.units, activation='relu')\n",
    "        self.dense2 = keras.layers.Dense(num_classes, activation='softmax')\n",
    "\n",
    "    def call(self, feature_dict, training=None, mask=None):\n",
    "        x1 = self.embedding1(feature_dict['creative_id'])\n",
    "        x2 = self.embedding2(feature_dict['ad_id'])\n",
    "        x3 = self.embedding3(feature_dict['advertiser_id'])\n",
    "        x4 = self.embedding4(feature_dict['product_id'])\n",
    "        e = tf.concat([x1,x2, x3, x4],-1)\n",
    "        x = self.lstm(e)\n",
    "        #x = self.embedding(x)\n",
    "        #x = self.lstm(x)\n",
    "        x = self.dense1(x)\n",
    "        x = self.dense2(x)\n",
    "        return x"
   ]
  },
  {
   "cell_type": "code",
   "execution_count": 21,
   "metadata": {
    "ExecuteTime": {
     "end_time": "2020-05-30T03:58:33.629372Z",
     "start_time": "2020-05-30T03:10:26.859481Z"
    }
   },
   "outputs": [
    {
     "name": "stdout",
     "output_type": "stream",
     "text": [
      "Train for 31641 steps, validate for 704 steps\n",
      "31641/31641 [==============================] - 2848s 90ms/step - loss: 0.1610 - accuracy: 0.9429 - val_loss: 0.1631 - val_accuracy: 0.9426\n",
      "Model: \"lst_model_2\"\n",
      "_________________________________________________________________\n",
      "Layer (type)                 Output Shape              Param #   \n",
      "=================================================================\n",
      "embedding_6 (Embedding)      multiple                  436834304 \n",
      "_________________________________________________________________\n",
      "embedding_7 (Embedding)      multiple                  387501952 \n",
      "_________________________________________________________________\n",
      "embedding_8 (Embedding)      multiple                  3703744   \n",
      "_________________________________________________________________\n",
      "embedding_9 (Embedding)      multiple                  2499712   \n",
      "_________________________________________________________________\n",
      "bidirectional_2 (Bidirection multiple                  525312    \n",
      "_________________________________________________________________\n",
      "dense_4 (Dense)              multiple                  32896     \n",
      "_________________________________________________________________\n",
      "dense_5 (Dense)              multiple                  258       \n",
      "=================================================================\n",
      "Total params: 831,098,178\n",
      "Trainable params: 558,466\n",
      "Non-trainable params: 830,539,712\n",
      "_________________________________________________________________\n"
     ]
    }
   ],
   "source": [
    "num_classes = 2\n",
    "model = LSTModel(units=units,\n",
    "                 num_classes=num_classes,\n",
    "                 emb_size=embedding_dim, \n",
    "                 max_len=max_length)\n",
    "model.compile(optimizer = keras.optimizers.Adam(0.001),\n",
    "              loss = keras.losses.sparse_categorical_crossentropy,\n",
    "              metrics = ['accuracy'])\n",
    "train_feature_dict = {'creative_id':creative_id_train_seq,\n",
    "                      'ad_id':ad_id_train_seq,\n",
    "                      'advertiser_id':advertiser_id_train_seq,\n",
    "                      'product_id':product_id_train_seq}\n",
    "\n",
    "val_feature_dict = {'creative_id':creative_id_val_seq,\n",
    "                    'ad_id':ad_id_val_seq,\n",
    "                    'advertiser_id':advertiser_id_val_seq,\n",
    "                    'product_id':product_id_val_seq}\n",
    "train_dataset = input_fn(train_feature_dict, gender_train_label-1, epochs=5, shuffle=True, batch_size=128)\n",
    "val_dataset = input_fn(val_feature_dict, gender_val_label-1, epochs=1, shuffle=False, batch_size=128)\n",
    "model.fit(train_dataset, validation_data=val_dataset)\n",
    "#model.save(model_path+'gender', save_format='tf')\n",
    "model.summary()"
   ]
  },
  {
   "cell_type": "code",
   "execution_count": 23,
   "metadata": {
    "ExecuteTime": {
     "end_time": "2020-05-30T06:50:20.095482Z",
     "start_time": "2020-05-30T06:45:16.446440Z"
    }
   },
   "outputs": [
    {
     "name": "stdout",
     "output_type": "stream",
     "text": [
      "Train for 15821 steps, validate for 704 steps\n",
      "  794/15821 [>.............................] - ETA: 1:16:43 - loss: 1.5384 - accuracy: 0.3638"
     ]
    },
    {
     "ename": "KeyboardInterrupt",
     "evalue": "",
     "output_type": "error",
     "traceback": [
      "\u001b[1;31m---------------------------------------------------------------------------\u001b[0m",
      "\u001b[1;31mKeyboardInterrupt\u001b[0m                         Traceback (most recent call last)",
      "\u001b[1;32m<ipython-input-23-a6563fb0aa58>\u001b[0m in \u001b[0;36m<module>\u001b[1;34m\u001b[0m\n\u001b[0;32m     19\u001b[0m \u001b[0mtrain_dataset\u001b[0m \u001b[1;33m=\u001b[0m \u001b[0minput_fn\u001b[0m\u001b[1;33m(\u001b[0m\u001b[0mtrain_feature_dict\u001b[0m\u001b[1;33m,\u001b[0m \u001b[0mage_train_label\u001b[0m\u001b[1;33m-\u001b[0m\u001b[1;36m1\u001b[0m\u001b[1;33m,\u001b[0m \u001b[0mepochs\u001b[0m\u001b[1;33m=\u001b[0m\u001b[1;36m5\u001b[0m\u001b[1;33m,\u001b[0m \u001b[0mshuffle\u001b[0m\u001b[1;33m=\u001b[0m\u001b[1;32mTrue\u001b[0m\u001b[1;33m,\u001b[0m \u001b[0mbatch_size\u001b[0m\u001b[1;33m=\u001b[0m\u001b[1;36m256\u001b[0m\u001b[1;33m)\u001b[0m\u001b[1;33m\u001b[0m\u001b[1;33m\u001b[0m\u001b[0m\n\u001b[0;32m     20\u001b[0m \u001b[0mval_dataset\u001b[0m \u001b[1;33m=\u001b[0m \u001b[0minput_fn\u001b[0m\u001b[1;33m(\u001b[0m\u001b[0mval_feature_dict\u001b[0m\u001b[1;33m,\u001b[0m \u001b[0mage_val_label\u001b[0m\u001b[1;33m-\u001b[0m\u001b[1;36m1\u001b[0m\u001b[1;33m,\u001b[0m \u001b[0mepochs\u001b[0m\u001b[1;33m=\u001b[0m\u001b[1;36m1\u001b[0m\u001b[1;33m,\u001b[0m \u001b[0mshuffle\u001b[0m\u001b[1;33m=\u001b[0m\u001b[1;32mFalse\u001b[0m\u001b[1;33m,\u001b[0m \u001b[0mbatch_size\u001b[0m\u001b[1;33m=\u001b[0m\u001b[1;36m128\u001b[0m\u001b[1;33m)\u001b[0m\u001b[1;33m\u001b[0m\u001b[1;33m\u001b[0m\u001b[0m\n\u001b[1;32m---> 21\u001b[1;33m \u001b[0mage_model\u001b[0m\u001b[1;33m.\u001b[0m\u001b[0mfit\u001b[0m\u001b[1;33m(\u001b[0m\u001b[0mtrain_dataset\u001b[0m\u001b[1;33m,\u001b[0m \u001b[0mvalidation_data\u001b[0m\u001b[1;33m=\u001b[0m\u001b[0mval_dataset\u001b[0m\u001b[1;33m)\u001b[0m\u001b[1;33m\u001b[0m\u001b[1;33m\u001b[0m\u001b[0m\n\u001b[0m\u001b[0;32m     22\u001b[0m \u001b[1;31m#model.save(model_path+'age', save_format='tf')\u001b[0m\u001b[1;33m\u001b[0m\u001b[1;33m\u001b[0m\u001b[1;33m\u001b[0m\u001b[0m\n\u001b[0;32m     23\u001b[0m \u001b[0mage_model\u001b[0m\u001b[1;33m.\u001b[0m\u001b[0msummary\u001b[0m\u001b[1;33m(\u001b[0m\u001b[1;33m)\u001b[0m\u001b[1;33m\u001b[0m\u001b[1;33m\u001b[0m\u001b[0m\n",
      "\u001b[1;32mc:\\python37\\lib\\site-packages\\tensorflow_core\\python\\keras\\engine\\training.py\u001b[0m in \u001b[0;36mfit\u001b[1;34m(self, x, y, batch_size, epochs, verbose, callbacks, validation_split, validation_data, shuffle, class_weight, sample_weight, initial_epoch, steps_per_epoch, validation_steps, validation_freq, max_queue_size, workers, use_multiprocessing, **kwargs)\u001b[0m\n\u001b[0;32m    817\u001b[0m         \u001b[0mmax_queue_size\u001b[0m\u001b[1;33m=\u001b[0m\u001b[0mmax_queue_size\u001b[0m\u001b[1;33m,\u001b[0m\u001b[1;33m\u001b[0m\u001b[1;33m\u001b[0m\u001b[0m\n\u001b[0;32m    818\u001b[0m         \u001b[0mworkers\u001b[0m\u001b[1;33m=\u001b[0m\u001b[0mworkers\u001b[0m\u001b[1;33m,\u001b[0m\u001b[1;33m\u001b[0m\u001b[1;33m\u001b[0m\u001b[0m\n\u001b[1;32m--> 819\u001b[1;33m         use_multiprocessing=use_multiprocessing)\n\u001b[0m\u001b[0;32m    820\u001b[0m \u001b[1;33m\u001b[0m\u001b[0m\n\u001b[0;32m    821\u001b[0m   def evaluate(self,\n",
      "\u001b[1;32mc:\\python37\\lib\\site-packages\\tensorflow_core\\python\\keras\\engine\\training_v2.py\u001b[0m in \u001b[0;36mfit\u001b[1;34m(self, model, x, y, batch_size, epochs, verbose, callbacks, validation_split, validation_data, shuffle, class_weight, sample_weight, initial_epoch, steps_per_epoch, validation_steps, validation_freq, max_queue_size, workers, use_multiprocessing, **kwargs)\u001b[0m\n\u001b[0;32m    340\u001b[0m                 \u001b[0mmode\u001b[0m\u001b[1;33m=\u001b[0m\u001b[0mModeKeys\u001b[0m\u001b[1;33m.\u001b[0m\u001b[0mTRAIN\u001b[0m\u001b[1;33m,\u001b[0m\u001b[1;33m\u001b[0m\u001b[1;33m\u001b[0m\u001b[0m\n\u001b[0;32m    341\u001b[0m                 \u001b[0mtraining_context\u001b[0m\u001b[1;33m=\u001b[0m\u001b[0mtraining_context\u001b[0m\u001b[1;33m,\u001b[0m\u001b[1;33m\u001b[0m\u001b[1;33m\u001b[0m\u001b[0m\n\u001b[1;32m--> 342\u001b[1;33m                 total_epochs=epochs)\n\u001b[0m\u001b[0;32m    343\u001b[0m             \u001b[0mcbks\u001b[0m\u001b[1;33m.\u001b[0m\u001b[0mmake_logs\u001b[0m\u001b[1;33m(\u001b[0m\u001b[0mmodel\u001b[0m\u001b[1;33m,\u001b[0m \u001b[0mepoch_logs\u001b[0m\u001b[1;33m,\u001b[0m \u001b[0mtraining_result\u001b[0m\u001b[1;33m,\u001b[0m \u001b[0mModeKeys\u001b[0m\u001b[1;33m.\u001b[0m\u001b[0mTRAIN\u001b[0m\u001b[1;33m)\u001b[0m\u001b[1;33m\u001b[0m\u001b[1;33m\u001b[0m\u001b[0m\n\u001b[0;32m    344\u001b[0m \u001b[1;33m\u001b[0m\u001b[0m\n",
      "\u001b[1;32mc:\\python37\\lib\\site-packages\\tensorflow_core\\python\\keras\\engine\\training_v2.py\u001b[0m in \u001b[0;36mrun_one_epoch\u001b[1;34m(model, iterator, execution_function, dataset_size, batch_size, strategy, steps_per_epoch, num_samples, mode, training_context, total_epochs)\u001b[0m\n\u001b[0;32m    126\u001b[0m         step=step, mode=mode, size=current_batch_size) as batch_logs:\n\u001b[0;32m    127\u001b[0m       \u001b[1;32mtry\u001b[0m\u001b[1;33m:\u001b[0m\u001b[1;33m\u001b[0m\u001b[1;33m\u001b[0m\u001b[0m\n\u001b[1;32m--> 128\u001b[1;33m         \u001b[0mbatch_outs\u001b[0m \u001b[1;33m=\u001b[0m \u001b[0mexecution_function\u001b[0m\u001b[1;33m(\u001b[0m\u001b[0miterator\u001b[0m\u001b[1;33m)\u001b[0m\u001b[1;33m\u001b[0m\u001b[1;33m\u001b[0m\u001b[0m\n\u001b[0m\u001b[0;32m    129\u001b[0m       \u001b[1;32mexcept\u001b[0m \u001b[1;33m(\u001b[0m\u001b[0mStopIteration\u001b[0m\u001b[1;33m,\u001b[0m \u001b[0merrors\u001b[0m\u001b[1;33m.\u001b[0m\u001b[0mOutOfRangeError\u001b[0m\u001b[1;33m)\u001b[0m\u001b[1;33m:\u001b[0m\u001b[1;33m\u001b[0m\u001b[1;33m\u001b[0m\u001b[0m\n\u001b[0;32m    130\u001b[0m         \u001b[1;31m# TODO(kaftan): File bug about tf function and errors.OutOfRangeError?\u001b[0m\u001b[1;33m\u001b[0m\u001b[1;33m\u001b[0m\u001b[1;33m\u001b[0m\u001b[0m\n",
      "\u001b[1;32mc:\\python37\\lib\\site-packages\\tensorflow_core\\python\\keras\\engine\\training_v2_utils.py\u001b[0m in \u001b[0;36mexecution_function\u001b[1;34m(input_fn)\u001b[0m\n\u001b[0;32m     96\u001b[0m     \u001b[1;31m# `numpy` translates Tensors to values in Eager mode.\u001b[0m\u001b[1;33m\u001b[0m\u001b[1;33m\u001b[0m\u001b[1;33m\u001b[0m\u001b[0m\n\u001b[0;32m     97\u001b[0m     return nest.map_structure(_non_none_constant_value,\n\u001b[1;32m---> 98\u001b[1;33m                               distributed_function(input_fn))\n\u001b[0m\u001b[0;32m     99\u001b[0m \u001b[1;33m\u001b[0m\u001b[0m\n\u001b[0;32m    100\u001b[0m   \u001b[1;32mreturn\u001b[0m \u001b[0mexecution_function\u001b[0m\u001b[1;33m\u001b[0m\u001b[1;33m\u001b[0m\u001b[0m\n",
      "\u001b[1;32mc:\\python37\\lib\\site-packages\\tensorflow_core\\python\\eager\\def_function.py\u001b[0m in \u001b[0;36m__call__\u001b[1;34m(self, *args, **kwds)\u001b[0m\n\u001b[0;32m    566\u001b[0m         \u001b[0mxla_context\u001b[0m\u001b[1;33m.\u001b[0m\u001b[0mExit\u001b[0m\u001b[1;33m(\u001b[0m\u001b[1;33m)\u001b[0m\u001b[1;33m\u001b[0m\u001b[1;33m\u001b[0m\u001b[0m\n\u001b[0;32m    567\u001b[0m     \u001b[1;32melse\u001b[0m\u001b[1;33m:\u001b[0m\u001b[1;33m\u001b[0m\u001b[1;33m\u001b[0m\u001b[0m\n\u001b[1;32m--> 568\u001b[1;33m       \u001b[0mresult\u001b[0m \u001b[1;33m=\u001b[0m \u001b[0mself\u001b[0m\u001b[1;33m.\u001b[0m\u001b[0m_call\u001b[0m\u001b[1;33m(\u001b[0m\u001b[1;33m*\u001b[0m\u001b[0margs\u001b[0m\u001b[1;33m,\u001b[0m \u001b[1;33m**\u001b[0m\u001b[0mkwds\u001b[0m\u001b[1;33m)\u001b[0m\u001b[1;33m\u001b[0m\u001b[1;33m\u001b[0m\u001b[0m\n\u001b[0m\u001b[0;32m    569\u001b[0m \u001b[1;33m\u001b[0m\u001b[0m\n\u001b[0;32m    570\u001b[0m     \u001b[1;32mif\u001b[0m \u001b[0mtracing_count\u001b[0m \u001b[1;33m==\u001b[0m \u001b[0mself\u001b[0m\u001b[1;33m.\u001b[0m\u001b[0m_get_tracing_count\u001b[0m\u001b[1;33m(\u001b[0m\u001b[1;33m)\u001b[0m\u001b[1;33m:\u001b[0m\u001b[1;33m\u001b[0m\u001b[1;33m\u001b[0m\u001b[0m\n",
      "\u001b[1;32mc:\\python37\\lib\\site-packages\\tensorflow_core\\python\\eager\\def_function.py\u001b[0m in \u001b[0;36m_call\u001b[1;34m(self, *args, **kwds)\u001b[0m\n\u001b[0;32m    597\u001b[0m       \u001b[1;31m# In this case we have created variables on the first call, so we run the\u001b[0m\u001b[1;33m\u001b[0m\u001b[1;33m\u001b[0m\u001b[1;33m\u001b[0m\u001b[0m\n\u001b[0;32m    598\u001b[0m       \u001b[1;31m# defunned version which is guaranteed to never create variables.\u001b[0m\u001b[1;33m\u001b[0m\u001b[1;33m\u001b[0m\u001b[1;33m\u001b[0m\u001b[0m\n\u001b[1;32m--> 599\u001b[1;33m       \u001b[1;32mreturn\u001b[0m \u001b[0mself\u001b[0m\u001b[1;33m.\u001b[0m\u001b[0m_stateless_fn\u001b[0m\u001b[1;33m(\u001b[0m\u001b[1;33m*\u001b[0m\u001b[0margs\u001b[0m\u001b[1;33m,\u001b[0m \u001b[1;33m**\u001b[0m\u001b[0mkwds\u001b[0m\u001b[1;33m)\u001b[0m  \u001b[1;31m# pylint: disable=not-callable\u001b[0m\u001b[1;33m\u001b[0m\u001b[1;33m\u001b[0m\u001b[0m\n\u001b[0m\u001b[0;32m    600\u001b[0m     \u001b[1;32melif\u001b[0m \u001b[0mself\u001b[0m\u001b[1;33m.\u001b[0m\u001b[0m_stateful_fn\u001b[0m \u001b[1;32mis\u001b[0m \u001b[1;32mnot\u001b[0m \u001b[1;32mNone\u001b[0m\u001b[1;33m:\u001b[0m\u001b[1;33m\u001b[0m\u001b[1;33m\u001b[0m\u001b[0m\n\u001b[0;32m    601\u001b[0m       \u001b[1;31m# Release the lock early so that multiple threads can perform the call\u001b[0m\u001b[1;33m\u001b[0m\u001b[1;33m\u001b[0m\u001b[1;33m\u001b[0m\u001b[0m\n",
      "\u001b[1;32mc:\\python37\\lib\\site-packages\\tensorflow_core\\python\\eager\\function.py\u001b[0m in \u001b[0;36m__call__\u001b[1;34m(self, *args, **kwargs)\u001b[0m\n\u001b[0;32m   2361\u001b[0m     \u001b[1;32mwith\u001b[0m \u001b[0mself\u001b[0m\u001b[1;33m.\u001b[0m\u001b[0m_lock\u001b[0m\u001b[1;33m:\u001b[0m\u001b[1;33m\u001b[0m\u001b[1;33m\u001b[0m\u001b[0m\n\u001b[0;32m   2362\u001b[0m       \u001b[0mgraph_function\u001b[0m\u001b[1;33m,\u001b[0m \u001b[0margs\u001b[0m\u001b[1;33m,\u001b[0m \u001b[0mkwargs\u001b[0m \u001b[1;33m=\u001b[0m \u001b[0mself\u001b[0m\u001b[1;33m.\u001b[0m\u001b[0m_maybe_define_function\u001b[0m\u001b[1;33m(\u001b[0m\u001b[0margs\u001b[0m\u001b[1;33m,\u001b[0m \u001b[0mkwargs\u001b[0m\u001b[1;33m)\u001b[0m\u001b[1;33m\u001b[0m\u001b[1;33m\u001b[0m\u001b[0m\n\u001b[1;32m-> 2363\u001b[1;33m     \u001b[1;32mreturn\u001b[0m \u001b[0mgraph_function\u001b[0m\u001b[1;33m.\u001b[0m\u001b[0m_filtered_call\u001b[0m\u001b[1;33m(\u001b[0m\u001b[0margs\u001b[0m\u001b[1;33m,\u001b[0m \u001b[0mkwargs\u001b[0m\u001b[1;33m)\u001b[0m  \u001b[1;31m# pylint: disable=protected-access\u001b[0m\u001b[1;33m\u001b[0m\u001b[1;33m\u001b[0m\u001b[0m\n\u001b[0m\u001b[0;32m   2364\u001b[0m \u001b[1;33m\u001b[0m\u001b[0m\n\u001b[0;32m   2365\u001b[0m   \u001b[1;33m@\u001b[0m\u001b[0mproperty\u001b[0m\u001b[1;33m\u001b[0m\u001b[1;33m\u001b[0m\u001b[0m\n",
      "\u001b[1;32mc:\\python37\\lib\\site-packages\\tensorflow_core\\python\\eager\\function.py\u001b[0m in \u001b[0;36m_filtered_call\u001b[1;34m(self, args, kwargs)\u001b[0m\n\u001b[0;32m   1609\u001b[0m          if isinstance(t, (ops.Tensor,\n\u001b[0;32m   1610\u001b[0m                            resource_variable_ops.BaseResourceVariable))),\n\u001b[1;32m-> 1611\u001b[1;33m         self.captured_inputs)\n\u001b[0m\u001b[0;32m   1612\u001b[0m \u001b[1;33m\u001b[0m\u001b[0m\n\u001b[0;32m   1613\u001b[0m   \u001b[1;32mdef\u001b[0m \u001b[0m_call_flat\u001b[0m\u001b[1;33m(\u001b[0m\u001b[0mself\u001b[0m\u001b[1;33m,\u001b[0m \u001b[0margs\u001b[0m\u001b[1;33m,\u001b[0m \u001b[0mcaptured_inputs\u001b[0m\u001b[1;33m,\u001b[0m \u001b[0mcancellation_manager\u001b[0m\u001b[1;33m=\u001b[0m\u001b[1;32mNone\u001b[0m\u001b[1;33m)\u001b[0m\u001b[1;33m:\u001b[0m\u001b[1;33m\u001b[0m\u001b[1;33m\u001b[0m\u001b[0m\n",
      "\u001b[1;32mc:\\python37\\lib\\site-packages\\tensorflow_core\\python\\eager\\function.py\u001b[0m in \u001b[0;36m_call_flat\u001b[1;34m(self, args, captured_inputs, cancellation_manager)\u001b[0m\n\u001b[0;32m   1690\u001b[0m       \u001b[1;31m# No tape is watching; skip to running the function.\u001b[0m\u001b[1;33m\u001b[0m\u001b[1;33m\u001b[0m\u001b[1;33m\u001b[0m\u001b[0m\n\u001b[0;32m   1691\u001b[0m       return self._build_call_outputs(self._inference_function.call(\n\u001b[1;32m-> 1692\u001b[1;33m           ctx, args, cancellation_manager=cancellation_manager))\n\u001b[0m\u001b[0;32m   1693\u001b[0m     forward_backward = self._select_forward_and_backward_functions(\n\u001b[0;32m   1694\u001b[0m         \u001b[0margs\u001b[0m\u001b[1;33m,\u001b[0m\u001b[1;33m\u001b[0m\u001b[1;33m\u001b[0m\u001b[0m\n",
      "\u001b[1;32mc:\\python37\\lib\\site-packages\\tensorflow_core\\python\\eager\\function.py\u001b[0m in \u001b[0;36mcall\u001b[1;34m(self, ctx, args, cancellation_manager)\u001b[0m\n\u001b[0;32m    543\u001b[0m               \u001b[0minputs\u001b[0m\u001b[1;33m=\u001b[0m\u001b[0margs\u001b[0m\u001b[1;33m,\u001b[0m\u001b[1;33m\u001b[0m\u001b[1;33m\u001b[0m\u001b[0m\n\u001b[0;32m    544\u001b[0m               \u001b[0mattrs\u001b[0m\u001b[1;33m=\u001b[0m\u001b[1;33m(\u001b[0m\u001b[1;34m\"executor_type\"\u001b[0m\u001b[1;33m,\u001b[0m \u001b[0mexecutor_type\u001b[0m\u001b[1;33m,\u001b[0m \u001b[1;34m\"config_proto\"\u001b[0m\u001b[1;33m,\u001b[0m \u001b[0mconfig\u001b[0m\u001b[1;33m)\u001b[0m\u001b[1;33m,\u001b[0m\u001b[1;33m\u001b[0m\u001b[1;33m\u001b[0m\u001b[0m\n\u001b[1;32m--> 545\u001b[1;33m               ctx=ctx)\n\u001b[0m\u001b[0;32m    546\u001b[0m         \u001b[1;32melse\u001b[0m\u001b[1;33m:\u001b[0m\u001b[1;33m\u001b[0m\u001b[1;33m\u001b[0m\u001b[0m\n\u001b[0;32m    547\u001b[0m           outputs = execute.execute_with_cancellation(\n",
      "\u001b[1;32mc:\\python37\\lib\\site-packages\\tensorflow_core\\python\\eager\\execute.py\u001b[0m in \u001b[0;36mquick_execute\u001b[1;34m(op_name, num_outputs, inputs, attrs, ctx, name)\u001b[0m\n\u001b[0;32m     59\u001b[0m     tensors = pywrap_tensorflow.TFE_Py_Execute(ctx._handle, device_name,\n\u001b[0;32m     60\u001b[0m                                                \u001b[0mop_name\u001b[0m\u001b[1;33m,\u001b[0m \u001b[0minputs\u001b[0m\u001b[1;33m,\u001b[0m \u001b[0mattrs\u001b[0m\u001b[1;33m,\u001b[0m\u001b[1;33m\u001b[0m\u001b[1;33m\u001b[0m\u001b[0m\n\u001b[1;32m---> 61\u001b[1;33m                                                num_outputs)\n\u001b[0m\u001b[0;32m     62\u001b[0m   \u001b[1;32mexcept\u001b[0m \u001b[0mcore\u001b[0m\u001b[1;33m.\u001b[0m\u001b[0m_NotOkStatusException\u001b[0m \u001b[1;32mas\u001b[0m \u001b[0me\u001b[0m\u001b[1;33m:\u001b[0m\u001b[1;33m\u001b[0m\u001b[1;33m\u001b[0m\u001b[0m\n\u001b[0;32m     63\u001b[0m     \u001b[1;32mif\u001b[0m \u001b[0mname\u001b[0m \u001b[1;32mis\u001b[0m \u001b[1;32mnot\u001b[0m \u001b[1;32mNone\u001b[0m\u001b[1;33m:\u001b[0m\u001b[1;33m\u001b[0m\u001b[1;33m\u001b[0m\u001b[0m\n",
      "\u001b[1;31mKeyboardInterrupt\u001b[0m: "
     ]
    }
   ],
   "source": [
    "num_classes = 10\n",
    "units = 128\n",
    "age_model = LSTModel(units=units,\n",
    "                 num_classes=num_classes,\n",
    "                 emb_size=embedding_dim, \n",
    "                 max_len=max_length)\n",
    "age_model.compile(optimizer = keras.optimizers.Adam(0.001),\n",
    "              loss = keras.losses.sparse_categorical_crossentropy,\n",
    "              metrics = ['accuracy'])\n",
    "train_feature_dict = {'creative_id':creative_id_train_seq,\n",
    "                      'ad_id':ad_id_train_seq,\n",
    "                      'advertiser_id':advertiser_id_train_seq,\n",
    "                      'product_id':product_id_train_seq}\n",
    "\n",
    "val_feature_dict = {'creative_id':creative_id_val_seq,\n",
    "                    'ad_id':ad_id_val_seq,\n",
    "                    'advertiser_id':advertiser_id_val_seq,\n",
    "                    'product_id':product_id_val_seq}\n",
    "train_dataset = input_fn(train_feature_dict, age_train_label-1, epochs=5, shuffle=True, batch_size=128)\n",
    "val_dataset = input_fn(val_feature_dict, age_val_label-1, epochs=1, shuffle=False, batch_size=128)\n",
    "age_model.fit(train_dataset, validation_data=val_dataset)\n",
    "#model.save(model_path+'age', save_format='tf')\n",
    "age_model.summary()"
   ]
  },
  {
   "cell_type": "code",
   "execution_count": 6,
   "metadata": {
    "ExecuteTime": {
     "end_time": "2020-05-27T13:07:21.187131Z",
     "start_time": "2020-05-27T13:06:51.907006Z"
    }
   },
   "outputs": [],
   "source": [
    "#gender_model = keras.models.load_model('gender')\n",
    "#age_model = keras.models.load_model('age')\n"
   ]
  },
  {
   "cell_type": "code",
   "execution_count": 25,
   "metadata": {
    "ExecuteTime": {
     "end_time": "2020-05-30T05:02:58.005788Z",
     "start_time": "2020-05-30T05:00:40.704913Z"
    }
   },
   "outputs": [
    {
     "name": "stdout",
     "output_type": "stream",
     "text": [
      "0\n",
      "1\n",
      "2\n",
      "3\n",
      "4\n",
      "5\n",
      "6\n",
      "7\n",
      "8\n",
      "9\n"
     ]
    },
    {
     "data": {
      "text/plain": [
       "([1, 2, 2, 1, 1, 1, 1, 1, 1, 2], 1000000)"
      ]
     },
     "execution_count": 25,
     "metadata": {},
     "output_type": "execute_result"
    }
   ],
   "source": [
    "gender_pre = []\n",
    "num_index = [0, 100000, 200000, 300000, 400000, 500000, 600000, 700000, 800000, 900000, 1000000]\n",
    "for i in range(10):\n",
    "    test_feature_dict = {'creative_id':creative_id_test_seq[num_index[i]:num_index[i+1]],\n",
    "                    'ad_id':ad_id_test_seq[num_index[i]:num_index[i+1]],\n",
    "                        'advertiser_id':advertiser_id_test_seq[num_index[i]:num_index[i+1]],\n",
    "                         'product_id':product_id_test_seq[num_index[i]:num_index[i+1]],\n",
    "                        }\n",
    "    test_dataset = input_fn(test_feature_dict, epochs=1, shuffle=False, batch_size=1024, fit_key='predict')\n",
    "    pre_tmp = model.predict(test_dataset)\n",
    "    gender_pre.extend(pre_tmp.argmax(axis=1) + 1)\n",
    "    print(i)\n",
    "\n",
    "# test_feature_dict = {'creative_id':creative_id_test_seq,\n",
    "#                     'ad_id':ad_id_test_seq}\n",
    "# test_dataset = input_fn(test_feature_dict, epochs=1, shuffle=False, batch_size=8192, fit_key='predict')\n",
    "# age_pre = model.predict(test_feature_dict)\n",
    "gender_pre[0:10],len(gender_pre)"
   ]
  },
  {
   "cell_type": "code",
   "execution_count": 27,
   "metadata": {
    "ExecuteTime": {
     "end_time": "2020-05-30T05:08:13.933624Z",
     "start_time": "2020-05-30T05:05:38.396522Z"
    }
   },
   "outputs": [
    {
     "name": "stdout",
     "output_type": "stream",
     "text": [
      "0\n",
      "1\n",
      "2\n",
      "3\n",
      "4\n",
      "5\n",
      "6\n",
      "7\n",
      "8\n",
      "9\n"
     ]
    },
    {
     "data": {
      "text/plain": [
       "([1, 2, 2, 1, 1, 1, 1, 1, 1, 2], 1000000)"
      ]
     },
     "execution_count": 27,
     "metadata": {},
     "output_type": "execute_result"
    }
   ],
   "source": [
    "age_pre = []\n",
    "num_index = [0, 100000, 200000, 300000, 400000, 500000, 600000, 700000, 800000, 900000, 1000000]\n",
    "for i in range(10):\n",
    "    test_feature_dict = {'creative_id':creative_id_test_seq[num_index[i]:num_index[i+1]],\n",
    "                    'ad_id':ad_id_test_seq[num_index[i]:num_index[i+1]],\n",
    "                        'advertiser_id':advertiser_id_test_seq[num_index[i]:num_index[i+1]],\n",
    "                         'product_id':product_id_test_seq[num_index[i]:num_index[i+1]],\n",
    "                        }\n",
    "    test_dataset = input_fn(test_feature_dict, epochs=1, shuffle=False, batch_size=1024, fit_key='predict')\n",
    "    pre_tmp = age_model.predict(test_dataset)\n",
    "    age_pre.extend(pre_tmp.argmax(axis=1) + 1)\n",
    "    print(i)\n",
    "\n",
    "# test_feature_dict = {'creative_id':creative_id_test_seq,\n",
    "#                     'ad_id':ad_id_test_seq}\n",
    "# test_dataset = input_fn(test_feature_dict, epochs=1, shuffle=False, batch_size=8192, fit_key='predict')\n",
    "# age_pre = model.predict(test_feature_dict)\n",
    "age_pre[0:10],len(age_pre)"
   ]
  },
  {
   "cell_type": "code",
   "execution_count": 28,
   "metadata": {
    "ExecuteTime": {
     "end_time": "2020-05-30T05:09:02.658427Z",
     "start_time": "2020-05-30T05:08:53.987513Z"
    }
   },
   "outputs": [],
   "source": [
    "sub = pd.DataFrame()\n",
    "sub['user_id'] = range(3000001,4000001)\n",
    "sub['predicted_age'] = age_pre\n",
    "sub['predicted_gender'] = gender_pre\n",
    "sub.to_csv(f\"{sub_path}/submission.csv\", index=False, encoding='utf-8')"
   ]
  },
  {
   "cell_type": "code",
   "execution_count": 20,
   "metadata": {
    "ExecuteTime": {
     "end_time": "2020-05-29T14:23:50.696736Z",
     "start_time": "2020-05-29T14:23:44.566666Z"
    }
   },
   "outputs": [],
   "source": [
    "sub = pd.read_csv(f\"{sub_path}/submission_0529.csv\", encoding='utf-8')\n",
    "sub['predicted_age'] = age_pre\n",
    "sub.to_csv(f\"{sub_path}/submission.csv\", index=False, encoding='utf-8')"
   ]
  },
  {
   "cell_type": "code",
   "execution_count": 21,
   "metadata": {
    "ExecuteTime": {
     "end_time": "2020-05-29T14:24:02.161068Z",
     "start_time": "2020-05-29T14:24:02.154066Z"
    }
   },
   "outputs": [
    {
     "data": {
      "text/plain": [
       "([3, 7, 2, 2, 4, 4, 10, 3, 2, 10], 1000000)"
      ]
     },
     "execution_count": 21,
     "metadata": {},
     "output_type": "execute_result"
    }
   ],
   "source": [
    "age_pre[0:10],len(age_pre)"
   ]
  }
 ],
 "metadata": {
  "kernelspec": {
   "display_name": "Python 3",
   "language": "python",
   "name": "python3"
  },
  "language_info": {
   "codemirror_mode": {
    "name": "ipython",
    "version": 3
   },
   "file_extension": ".py",
   "mimetype": "text/x-python",
   "name": "python",
   "nbconvert_exporter": "python",
   "pygments_lexer": "ipython3",
   "version": "3.7.4rc1"
  },
  "toc": {
   "base_numbering": 1,
   "nav_menu": {},
   "number_sections": true,
   "sideBar": true,
   "skip_h1_title": false,
   "title_cell": "Table of Contents",
   "title_sidebar": "Contents",
   "toc_cell": false,
   "toc_position": {},
   "toc_section_display": true,
   "toc_window_display": false
  },
  "varInspector": {
   "cols": {
    "lenName": 16,
    "lenType": 16,
    "lenVar": 40
   },
   "kernels_config": {
    "python": {
     "delete_cmd_postfix": "",
     "delete_cmd_prefix": "del ",
     "library": "var_list.py",
     "varRefreshCmd": "print(var_dic_list())"
    },
    "r": {
     "delete_cmd_postfix": ") ",
     "delete_cmd_prefix": "rm(",
     "library": "var_list.r",
     "varRefreshCmd": "cat(var_dic_list()) "
    }
   },
   "position": {
    "height": "830.4px",
    "left": "1678px",
    "right": "20px",
    "top": "120px",
    "width": "350px"
   },
   "types_to_exclude": [
    "module",
    "function",
    "builtin_function_or_method",
    "instance",
    "_Feature"
   ],
   "window_display": true
  }
 },
 "nbformat": 4,
 "nbformat_minor": 2
}

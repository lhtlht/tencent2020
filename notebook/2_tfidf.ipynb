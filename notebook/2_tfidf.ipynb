{
 "cells": [
  {
   "cell_type": "code",
   "execution_count": 1,
   "metadata": {
    "ExecuteTime": {
     "end_time": "2020-05-24T08:26:37.226605Z",
     "start_time": "2020-05-24T08:26:26.159633Z"
    }
   },
   "outputs": [],
   "source": [
    "import sys\n",
    "import os\n",
    "import logging\n",
    "sys.path.append(r\"..\")\n",
    "from utils import *\n",
    "import numpy as np\n",
    "import pandas as pd\n",
    "import deepctr\n",
    "import tensorflow as tf\n",
    "from sklearn.model_selection import train_test_split\n",
    "from sklearn.feature_extraction.text import TfidfTransformer\n",
    "from sklearn.feature_extraction.text import TfidfVectorizer\n",
    "from sklearn.feature_extraction.text import CountVectorizer\n",
    "from sklearn.naive_bayes import MultinomialNB\n",
    "from sklearn.linear_model import LogisticRegression\n",
    "import lightgbm as lgb\n",
    "from sklearn.model_selection import KFold\n",
    "from sklearn.model_selection import StratifiedKFold\n",
    "from sklearn.metrics import accuracy_score,roc_auc_score,f1_score,recall_score\n",
    "from gensim import models\n",
    "from scipy import sparse\n",
    "from scipy.sparse import csr_matrix, coo_matrix\n",
    "\n",
    "from collections import defaultdict\n",
    "from collections import Counter"
   ]
  },
  {
   "cell_type": "code",
   "execution_count": 2,
   "metadata": {
    "ExecuteTime": {
     "end_time": "2020-05-24T08:28:00.704119Z",
     "start_time": "2020-05-24T08:26:39.350329Z"
    }
   },
   "outputs": [
    {
     "name": "stdout",
     "output_type": "stream",
     "text": [
      "(1900000, 16)\n"
     ]
    },
    {
     "data": {
      "text/html": [
       "<div>\n",
       "<style scoped>\n",
       "    .dataframe tbody tr th:only-of-type {\n",
       "        vertical-align: middle;\n",
       "    }\n",
       "\n",
       "    .dataframe tbody tr th {\n",
       "        vertical-align: top;\n",
       "    }\n",
       "\n",
       "    .dataframe thead th {\n",
       "        text-align: right;\n",
       "    }\n",
       "</style>\n",
       "<table border=\"1\" class=\"dataframe\">\n",
       "  <thead>\n",
       "    <tr style=\"text-align: right;\">\n",
       "      <th></th>\n",
       "      <th>user_id</th>\n",
       "      <th>creative_id</th>\n",
       "      <th>ad_id</th>\n",
       "      <th>product_id</th>\n",
       "      <th>product_category</th>\n",
       "      <th>advertiser_id</th>\n",
       "      <th>industry</th>\n",
       "      <th>click_times</th>\n",
       "      <th>creative_id_len</th>\n",
       "      <th>ad_id_len</th>\n",
       "      <th>product_id_len</th>\n",
       "      <th>product_category_len</th>\n",
       "      <th>advertiser_len</th>\n",
       "      <th>industry_len</th>\n",
       "      <th>age</th>\n",
       "      <th>gender</th>\n",
       "    </tr>\n",
       "  </thead>\n",
       "  <tbody>\n",
       "    <tr>\n",
       "      <th>0</th>\n",
       "      <td>1</td>\n",
       "      <td>[821396, 209778, 877468, 1683713, 122032, 7169...</td>\n",
       "      <td>[724607, 188507, 773445, 1458878, 109959, 6621...</td>\n",
       "      <td>[0, 136, 0, 0, 1334, 0, 0, 0, 0, 1454, 64, 64,...</td>\n",
       "      <td>[5, 2, 5, 5, 2, 18, 5, 5, 18, 2, 2, 2, 2]</td>\n",
       "      <td>[7293, 9702, 29455, 14668, 11411, 14681, 17189...</td>\n",
       "      <td>[326, 6, 106, 326, 0, 326, 73, 217, 64, 238, 2...</td>\n",
       "      <td>[1, 1, 1, 1, 1, 1, 1, 1, 1, 1, 1, 1, 2]</td>\n",
       "      <td>12</td>\n",
       "      <td>12</td>\n",
       "      <td>6</td>\n",
       "      <td>3</td>\n",
       "      <td>12</td>\n",
       "      <td>9</td>\n",
       "      <td>4.0</td>\n",
       "      <td>1.0</td>\n",
       "    </tr>\n",
       "    <tr>\n",
       "      <th>1</th>\n",
       "      <td>2</td>\n",
       "      <td>[63441, 155822, 39714, 609050, 13069, 441462, ...</td>\n",
       "      <td>[58788, 139702, 38066, 541125, 14495, 392680, ...</td>\n",
       "      <td>[87, 80, 129, 129, 1400, 87, 0, 1261, 0, 0, 11...</td>\n",
       "      <td>[2, 2, 2, 2, 2, 2, 18, 2, 18, 18, 2, 18, 2, 18...</td>\n",
       "      <td>[22885, 10686, 18562, 25932, 768, 22885, 34505...</td>\n",
       "      <td>[318, 238, 6, 6, 317, 318, 47, 6, 47, 47, 242,...</td>\n",
       "      <td>[1, 1, 1, 1, 1, 1, 1, 1, 1, 1, 1, 1, 1, 1, 1, ...</td>\n",
       "      <td>42</td>\n",
       "      <td>42</td>\n",
       "      <td>20</td>\n",
       "      <td>3</td>\n",
       "      <td>36</td>\n",
       "      <td>15</td>\n",
       "      <td>10.0</td>\n",
       "      <td>1.0</td>\n",
       "    </tr>\n",
       "    <tr>\n",
       "      <th>2</th>\n",
       "      <td>3</td>\n",
       "      <td>[661347, 808612, 710859, 825434, 593522, 72694...</td>\n",
       "      <td>[586668, 713448, 629278, 728308, 527601, 64310...</td>\n",
       "      <td>[36256, 40905, 1674, 35985, 1674, 0, 0, 1031, ...</td>\n",
       "      <td>[17, 17, 2, 17, 2, 18, 18, 2, 2, 2, 18, 12, 2,...</td>\n",
       "      <td>[32974, 9877, 18492, 14186, 17018, 9058, 8371,...</td>\n",
       "      <td>[0, 0, 322, 0, 322, 6, 54, 6, 322, 322, 205, 3...</td>\n",
       "      <td>[1, 1, 1, 1, 1, 1, 1, 1, 1, 1, 1, 1, 1, 1, 1, ...</td>\n",
       "      <td>30</td>\n",
       "      <td>30</td>\n",
       "      <td>17</td>\n",
       "      <td>6</td>\n",
       "      <td>28</td>\n",
       "      <td>8</td>\n",
       "      <td>7.0</td>\n",
       "      <td>2.0</td>\n",
       "    </tr>\n",
       "    <tr>\n",
       "      <th>3</th>\n",
       "      <td>4</td>\n",
       "      <td>[39588, 589886, 574787, 1892854, 1962706, 2264...</td>\n",
       "      <td>[37966, 524312, 511235, 1638619, 1698206, 1953...</td>\n",
       "      <td>[1862, 0, 2625, 38743, 41265, 37758, 39904, 39...</td>\n",
       "      <td>[2, 18, 2, 17, 17, 4, 17, 17, 18, 2, 2, 2, 2, ...</td>\n",
       "      <td>[19451, 7976, 13084, 12130, 23664, 811, 10172,...</td>\n",
       "      <td>[238, 25, 248, 0, 0, 0, 0, 0, 88, 319, 238, 6,...</td>\n",
       "      <td>[1, 1, 1, 1, 1, 1, 1, 1, 1, 1, 1, 1, 1, 1, 1, ...</td>\n",
       "      <td>29</td>\n",
       "      <td>29</td>\n",
       "      <td>18</td>\n",
       "      <td>6</td>\n",
       "      <td>26</td>\n",
       "      <td>10</td>\n",
       "      <td>5.0</td>\n",
       "      <td>1.0</td>\n",
       "    </tr>\n",
       "    <tr>\n",
       "      <th>4</th>\n",
       "      <td>5</td>\n",
       "      <td>[296145, 350759, 24333, 43235, 852327, 1054434...</td>\n",
       "      <td>[265971, 314795, 24966, 41148, 751113, 925792,...</td>\n",
       "      <td>[0, 0, 87, 136, 0, 136, 0, 0, 0, 1064, 0, 2620...</td>\n",
       "      <td>[5, 8, 2, 2, 18, 2, 5, 18, 18, 2, 18, 2, 5, 5,...</td>\n",
       "      <td>[11882, 992, 22885, 9706, 38760, 2862, 17745, ...</td>\n",
       "      <td>[297, 0, 318, 6, 322, 6, 288, 322, 319, 238, 3...</td>\n",
       "      <td>[1, 1, 1, 1, 1, 2, 1, 1, 1, 1, 1, 1, 1, 1, 1, ...</td>\n",
       "      <td>33</td>\n",
       "      <td>33</td>\n",
       "      <td>7</td>\n",
       "      <td>4</td>\n",
       "      <td>30</td>\n",
       "      <td>18</td>\n",
       "      <td>4.0</td>\n",
       "      <td>1.0</td>\n",
       "    </tr>\n",
       "  </tbody>\n",
       "</table>\n",
       "</div>"
      ],
      "text/plain": [
       "   user_id                                        creative_id  \\\n",
       "0        1  [821396, 209778, 877468, 1683713, 122032, 7169...   \n",
       "1        2  [63441, 155822, 39714, 609050, 13069, 441462, ...   \n",
       "2        3  [661347, 808612, 710859, 825434, 593522, 72694...   \n",
       "3        4  [39588, 589886, 574787, 1892854, 1962706, 2264...   \n",
       "4        5  [296145, 350759, 24333, 43235, 852327, 1054434...   \n",
       "\n",
       "                                               ad_id  \\\n",
       "0  [724607, 188507, 773445, 1458878, 109959, 6621...   \n",
       "1  [58788, 139702, 38066, 541125, 14495, 392680, ...   \n",
       "2  [586668, 713448, 629278, 728308, 527601, 64310...   \n",
       "3  [37966, 524312, 511235, 1638619, 1698206, 1953...   \n",
       "4  [265971, 314795, 24966, 41148, 751113, 925792,...   \n",
       "\n",
       "                                          product_id  \\\n",
       "0  [0, 136, 0, 0, 1334, 0, 0, 0, 0, 1454, 64, 64,...   \n",
       "1  [87, 80, 129, 129, 1400, 87, 0, 1261, 0, 0, 11...   \n",
       "2  [36256, 40905, 1674, 35985, 1674, 0, 0, 1031, ...   \n",
       "3  [1862, 0, 2625, 38743, 41265, 37758, 39904, 39...   \n",
       "4  [0, 0, 87, 136, 0, 136, 0, 0, 0, 1064, 0, 2620...   \n",
       "\n",
       "                                    product_category  \\\n",
       "0          [5, 2, 5, 5, 2, 18, 5, 5, 18, 2, 2, 2, 2]   \n",
       "1  [2, 2, 2, 2, 2, 2, 18, 2, 18, 18, 2, 18, 2, 18...   \n",
       "2  [17, 17, 2, 17, 2, 18, 18, 2, 2, 2, 18, 12, 2,...   \n",
       "3  [2, 18, 2, 17, 17, 4, 17, 17, 18, 2, 2, 2, 2, ...   \n",
       "4  [5, 8, 2, 2, 18, 2, 5, 18, 18, 2, 18, 2, 5, 5,...   \n",
       "\n",
       "                                       advertiser_id  \\\n",
       "0  [7293, 9702, 29455, 14668, 11411, 14681, 17189...   \n",
       "1  [22885, 10686, 18562, 25932, 768, 22885, 34505...   \n",
       "2  [32974, 9877, 18492, 14186, 17018, 9058, 8371,...   \n",
       "3  [19451, 7976, 13084, 12130, 23664, 811, 10172,...   \n",
       "4  [11882, 992, 22885, 9706, 38760, 2862, 17745, ...   \n",
       "\n",
       "                                            industry  \\\n",
       "0  [326, 6, 106, 326, 0, 326, 73, 217, 64, 238, 2...   \n",
       "1  [318, 238, 6, 6, 317, 318, 47, 6, 47, 47, 242,...   \n",
       "2  [0, 0, 322, 0, 322, 6, 54, 6, 322, 322, 205, 3...   \n",
       "3  [238, 25, 248, 0, 0, 0, 0, 0, 88, 319, 238, 6,...   \n",
       "4  [297, 0, 318, 6, 322, 6, 288, 322, 319, 238, 3...   \n",
       "\n",
       "                                         click_times  creative_id_len  \\\n",
       "0            [1, 1, 1, 1, 1, 1, 1, 1, 1, 1, 1, 1, 2]               12   \n",
       "1  [1, 1, 1, 1, 1, 1, 1, 1, 1, 1, 1, 1, 1, 1, 1, ...               42   \n",
       "2  [1, 1, 1, 1, 1, 1, 1, 1, 1, 1, 1, 1, 1, 1, 1, ...               30   \n",
       "3  [1, 1, 1, 1, 1, 1, 1, 1, 1, 1, 1, 1, 1, 1, 1, ...               29   \n",
       "4  [1, 1, 1, 1, 1, 2, 1, 1, 1, 1, 1, 1, 1, 1, 1, ...               33   \n",
       "\n",
       "   ad_id_len  product_id_len  product_category_len  advertiser_len  \\\n",
       "0         12               6                     3              12   \n",
       "1         42              20                     3              36   \n",
       "2         30              17                     6              28   \n",
       "3         29              18                     6              26   \n",
       "4         33               7                     4              30   \n",
       "\n",
       "   industry_len   age  gender  \n",
       "0             9   4.0     1.0  \n",
       "1            15  10.0     1.0  \n",
       "2             8   7.0     2.0  \n",
       "3            10   5.0     1.0  \n",
       "4            18   4.0     1.0  "
      ]
     },
     "execution_count": 2,
     "metadata": {},
     "output_type": "execute_result"
    }
   ],
   "source": [
    "user_ids = pd.read_pickle(f\"{pickle_path}/user_ids.pickle\")\n",
    "user = pd.read_csv(train_preliminary_p + \"user.csv\", encoding='utf-8')\n",
    "user_ids = user_ids.merge(user, how='left', on='user_id')\n",
    "del user\n",
    "print(user_ids.shape)\n",
    "user_ids.head()"
   ]
  },
  {
   "cell_type": "code",
   "execution_count": 19,
   "metadata": {
    "ExecuteTime": {
     "end_time": "2020-05-22T17:01:38.745594Z",
     "start_time": "2020-05-22T16:58:59.740967Z"
    }
   },
   "outputs": [],
   "source": [
    "## 计算idf值 creative_id\n",
    "import itertools\n",
    "from collections import Counter\n",
    "def fea_idf(fea):\n",
    "    fea_id_lists = user_ids[fea].map(lambda x: list(set(x)))\n",
    "    fea_l = list(itertools.chain(*fea_id_lists))\n",
    "    save_pickle(Counter(fea_l), pickle_path+f'{fea}_idf')\n",
    "    \n",
    "fea_idf('creative_id')  \n",
    "fea_idf('ad_id')  \n",
    "fea_idf('product_id')  \n",
    "fea_idf('product_category')  \n",
    "fea_idf('advertiser_id')  \n",
    "fea_idf('industry')  \n",
    "fea_idf('click_times')  "
   ]
  },
  {
   "cell_type": "code",
   "execution_count": 3,
   "metadata": {
    "ExecuteTime": {
     "end_time": "2020-05-24T08:28:01.288526Z",
     "start_time": "2020-05-24T08:28:01.268581Z"
    }
   },
   "outputs": [],
   "source": [
    "def tfidf_matrix_p(features_list, min_dfs):\n",
    "    for fea, min_df in zip(features_list, min_dfs):\n",
    "        tfidfer = TfidfVectorizer(analyzer='word', token_pattern=u\"(?u)\\\\b\\\\w+\\\\b\", min_df=min_df)  # (?u)\\b\\w+\\b\"，这样就不会忽略单个的字符\n",
    "        if fea == 'creative_id':\n",
    "            tfidf_matrix = tfidfer.fit_transform(user_ids[fea].map(lambda x:' '.join([str(i) for i in x])).values)\n",
    "            save_pickle(tfidfer.vocabulary_, pickle_path+f'creative_id_tfidf_v_{min_df}')\n",
    "            save_pickle(tfidf_matrix, pickle_path+f'creative_id_tfidf_m_{min_df}')\n",
    "\n",
    "            print(f'tfidf matrix {fea} size:{tfidf_matrix.shape}')\n",
    "        else:\n",
    "            tfidf_matrix_fea = tfidfer.fit_transform(user_ids[fea].map(lambda x:' '.join([str(i) for i in x])).values)\n",
    "            print(f'tfidf matrix {fea} size:{tfidf_matrix_fea.shape}')\n",
    "            tfidf_matrix = csr_matrix(sparse.hstack((tfidf_matrix, tfidf_matrix_fea)))\n",
    "            save_pickle(tfidfer.vocabulary_, pickle_path+f'{fea}_tfidf_v_{min_df}')\n",
    "            save_pickle(tfidf_matrix_fea, pickle_path+f'{fea}_tfidf_m_{min_df}')\n",
    "    \n",
    "    save_pickle(tfidf_matrix, pickle_path+f'tfidf_m')\n",
    "   \n",
    "    print(f'tfidf matrix size:{tfidf_matrix.shape}')\n",
    "    return tfidf_matrix"
   ]
  },
  {
   "cell_type": "code",
   "execution_count": 4,
   "metadata": {
    "ExecuteTime": {
     "end_time": "2020-05-24T08:46:21.789763Z",
     "start_time": "2020-05-24T08:28:01.856009Z"
    }
   },
   "outputs": [
    {
     "name": "stdout",
     "output_type": "stream",
     "text": [
      "tfidf matrix creative_id size:(1900000, 138554)\n",
      "tfidf matrix ad_id size:(1900000, 138889)\n",
      "tfidf matrix product_id size:(1900000, 22953)\n",
      "tfidf matrix product_category size:(1900000, 18)\n",
      "tfidf matrix advertiser_id size:(1900000, 40950)\n",
      "tfidf matrix industry size:(1900000, 317)\n",
      "tfidf matrix click_times size:(1900000, 8)\n",
      "tfidf matrix size:(1900000, 341689)\n"
     ]
    }
   ],
   "source": [
    "tfidf_features = ['creative_id', 'ad_id', 'product_id', 'product_category', 'advertiser_id', 'industry', 'click_times']\n",
    "max_features = [50, 50, 5, 5, 5, 5, 5]\n",
    "tfidf_matrix = tfidf_matrix_p(tfidf_features, max_features)"
   ]
  },
  {
   "cell_type": "code",
   "execution_count": 6,
   "metadata": {
    "ExecuteTime": {
     "end_time": "2020-05-24T08:51:44.799183Z",
     "start_time": "2020-05-24T08:51:44.795171Z"
    }
   },
   "outputs": [],
   "source": [
    "offline = False\n",
    "if offline:\n",
    "    train_filter = 700000\n",
    "else:\n",
    "    train_filter = 900000\n"
   ]
  },
  {
   "cell_type": "code",
   "execution_count": 9,
   "metadata": {
    "ExecuteTime": {
     "end_time": "2020-05-24T08:52:36.930878Z",
     "start_time": "2020-05-24T08:52:36.918934Z"
    }
   },
   "outputs": [],
   "source": [
    "def lgb_class(pred_y, num_class):    \n",
    "    lgb_params = {  \n",
    "        'boosting_type': 'gbdt',  \n",
    "        'objective': 'multiclass',  \n",
    "        'num_class': num_class,  \n",
    "        'metric': 'multi_error',  \n",
    "        'num_leaves': 63,  \n",
    "        'learning_rate': 0.05,  \n",
    "        'feature_fraction': 0.8,  \n",
    "        'bagging_fraction': 0.8,  \n",
    "        'bagging_freq': 5,  \n",
    "        'lambda_l1': 1,  \n",
    "        'lambda_l2': 5,  \n",
    "        'min_gain_to_split': 0.2,  \n",
    "        'verbose': -1, \n",
    "        'n_jobs':10\n",
    "    }\n",
    "    \n",
    "    \n",
    "    train_filter = 900000\n",
    "    train_x = tfidf_matrix[0:train_filter]\n",
    "    train_y = (user_ids[pred_y]-1)[0:train_filter].astype(np.int)\n",
    "    test_x =  tfidf_matrix[900000:]\n",
    "\n",
    "\n",
    "    n_fold = 5\n",
    "    result = np.zeros((test_x.shape[0],2))\n",
    "    oof = np.zeros((train_x.shape[0],2))\n",
    "    skf = StratifiedKFold(n_splits=n_fold, shuffle=True, random_state=2019)\n",
    "    kfold = skf.split(train_x, train_y)\n",
    "    count_fold = 0\n",
    "    for train_index, vali_index in kfold:\n",
    "        print(\"training......fold\",count_fold)\n",
    "        count_fold = count_fold + 1\n",
    "        k_x_train = train_x[train_index]\n",
    "        k_y_train = train_y[train_index]\n",
    "        k_x_vali = train_x[vali_index]\n",
    "        k_y_vali = train_y[vali_index]\n",
    "\n",
    "\n",
    "        trn = lgb.Dataset(k_x_train, k_y_train)\n",
    "        val = lgb.Dataset(k_x_vali, k_y_vali)\n",
    "        lgb_model = lgb.train(lgb_params, train_set=trn, valid_sets=[trn, val],\n",
    "                      num_boost_round=4000,early_stopping_rounds=200, verbose_eval=50)\n",
    "        test_pred_proba = lgb_model.predict(test_x, num_iteration=lgb_model.best_iteration)\n",
    "        val_pred_proba = lgb_model.predict(k_x_vali, num_iteration=lgb_model.best_iteration)\n",
    "\n",
    "        result = result + test_pred_proba\n",
    "        oof[vali_index] = val_pred_proba\n",
    "    return result, oof"
   ]
  },
  {
   "cell_type": "markdown",
   "metadata": {
    "ExecuteTime": {
     "end_time": "2020-05-16T09:44:46.995190Z",
     "start_time": "2020-05-16T09:44:44.829981Z"
    }
   },
   "source": [
    "gender_clf = MultinomialNB().fit(tfidf_matrix[0:train_filter], user_ids['gender'][0:train_filter])\n",
    "age_clf = MultinomialNB().fit(tfidf_matrix[0:train_filter], user_ids['age'][0:train_filter])\n",
    "if offline:\n",
    "    train_filter = 700000\n",
    "    gender_p = gender_clf.predict(tfidf_matrix[train_filter:900000])\n",
    "    age_p = age_clf.predict(tfidf_matrix[train_filter:900000])\n",
    "else:\n",
    "    train_filter = 900000\n",
    "    gender_p = gender_clf.predict(tfidf_matrix[train_filter:])\n",
    "    age_p = age_clf.predict(tfidf_matrix[train_filter:])"
   ]
  },
  {
   "cell_type": "code",
   "execution_count": 10,
   "metadata": {
    "ExecuteTime": {
     "end_time": "2020-05-24T10:19:38.821125Z",
     "start_time": "2020-05-24T08:52:47.560506Z"
    }
   },
   "outputs": [
    {
     "name": "stdout",
     "output_type": "stream",
     "text": [
      "training......fold 0\n",
      "Training until validation scores don't improve for 200 rounds.\n",
      "[50]\ttraining's multi_error: 0.131386\tvalid_1's multi_error: 0.131439\n",
      "[100]\ttraining's multi_error: 0.110399\tvalid_1's multi_error: 0.111661\n",
      "[150]\ttraining's multi_error: 0.0992306\tvalid_1's multi_error: 0.101417\n",
      "[200]\ttraining's multi_error: 0.0923944\tvalid_1's multi_error: 0.0951611\n"
     ]
    },
    {
     "ename": "KeyboardInterrupt",
     "evalue": "",
     "output_type": "error",
     "traceback": [
      "\u001b[1;31m---------------------------------------------------------------------------\u001b[0m",
      "\u001b[1;31mKeyboardInterrupt\u001b[0m                         Traceback (most recent call last)",
      "\u001b[1;32m<ipython-input-10-e764fe84d879>\u001b[0m in \u001b[0;36m<module>\u001b[1;34m\u001b[0m\n\u001b[1;32m----> 1\u001b[1;33m \u001b[0mgender_pre\u001b[0m\u001b[1;33m,\u001b[0m \u001b[0mgender_oof\u001b[0m \u001b[1;33m=\u001b[0m \u001b[0mlgb_class\u001b[0m\u001b[1;33m(\u001b[0m\u001b[1;34m'gender'\u001b[0m\u001b[1;33m,\u001b[0m\u001b[1;36m2\u001b[0m\u001b[1;33m)\u001b[0m\u001b[1;33m\u001b[0m\u001b[1;33m\u001b[0m\u001b[0m\n\u001b[0m",
      "\u001b[1;32m<ipython-input-9-aff0094bf7b1>\u001b[0m in \u001b[0;36mlgb_class\u001b[1;34m(pred_y, num_class)\u001b[0m\n\u001b[0;32m     42\u001b[0m         \u001b[0mval\u001b[0m \u001b[1;33m=\u001b[0m \u001b[0mlgb\u001b[0m\u001b[1;33m.\u001b[0m\u001b[0mDataset\u001b[0m\u001b[1;33m(\u001b[0m\u001b[0mk_x_vali\u001b[0m\u001b[1;33m,\u001b[0m \u001b[0mk_y_vali\u001b[0m\u001b[1;33m)\u001b[0m\u001b[1;33m\u001b[0m\u001b[1;33m\u001b[0m\u001b[0m\n\u001b[0;32m     43\u001b[0m         lgb_model = lgb.train(lgb_params, train_set=trn, valid_sets=[trn, val],\n\u001b[1;32m---> 44\u001b[1;33m                       num_boost_round=4000,early_stopping_rounds=200, verbose_eval=50)\n\u001b[0m\u001b[0;32m     45\u001b[0m         \u001b[0mtest_pred_proba\u001b[0m \u001b[1;33m=\u001b[0m \u001b[0mlgb_model\u001b[0m\u001b[1;33m.\u001b[0m\u001b[0mpredict\u001b[0m\u001b[1;33m(\u001b[0m\u001b[0mtest_x\u001b[0m\u001b[1;33m,\u001b[0m \u001b[0mnum_iteration\u001b[0m\u001b[1;33m=\u001b[0m\u001b[0mlgb_model\u001b[0m\u001b[1;33m.\u001b[0m\u001b[0mbest_iteration\u001b[0m\u001b[1;33m)\u001b[0m\u001b[1;33m\u001b[0m\u001b[1;33m\u001b[0m\u001b[0m\n\u001b[0;32m     46\u001b[0m         \u001b[0mval_pred_proba\u001b[0m \u001b[1;33m=\u001b[0m \u001b[0mlgb_model\u001b[0m\u001b[1;33m.\u001b[0m\u001b[0mpredict\u001b[0m\u001b[1;33m(\u001b[0m\u001b[0mk_x_vali\u001b[0m\u001b[1;33m,\u001b[0m \u001b[0mnum_iteration\u001b[0m\u001b[1;33m=\u001b[0m\u001b[0mlgb_model\u001b[0m\u001b[1;33m.\u001b[0m\u001b[0mbest_iteration\u001b[0m\u001b[1;33m)\u001b[0m\u001b[1;33m\u001b[0m\u001b[1;33m\u001b[0m\u001b[0m\n",
      "\u001b[1;32mc:\\python37\\lib\\site-packages\\lightgbm\\engine.py\u001b[0m in \u001b[0;36mtrain\u001b[1;34m(params, train_set, num_boost_round, valid_sets, valid_names, fobj, feval, init_model, feature_name, categorical_feature, early_stopping_rounds, evals_result, verbose_eval, learning_rates, keep_training_booster, callbacks)\u001b[0m\n\u001b[0;32m    246\u001b[0m                                     evaluation_result_list=None))\n\u001b[0;32m    247\u001b[0m \u001b[1;33m\u001b[0m\u001b[0m\n\u001b[1;32m--> 248\u001b[1;33m         \u001b[0mbooster\u001b[0m\u001b[1;33m.\u001b[0m\u001b[0mupdate\u001b[0m\u001b[1;33m(\u001b[0m\u001b[0mfobj\u001b[0m\u001b[1;33m=\u001b[0m\u001b[0mfobj\u001b[0m\u001b[1;33m)\u001b[0m\u001b[1;33m\u001b[0m\u001b[1;33m\u001b[0m\u001b[0m\n\u001b[0m\u001b[0;32m    249\u001b[0m \u001b[1;33m\u001b[0m\u001b[0m\n\u001b[0;32m    250\u001b[0m         \u001b[0mevaluation_result_list\u001b[0m \u001b[1;33m=\u001b[0m \u001b[1;33m[\u001b[0m\u001b[1;33m]\u001b[0m\u001b[1;33m\u001b[0m\u001b[1;33m\u001b[0m\u001b[0m\n",
      "\u001b[1;32mc:\\python37\\lib\\site-packages\\lightgbm\\basic.py\u001b[0m in \u001b[0;36mupdate\u001b[1;34m(self, train_set, fobj)\u001b[0m\n\u001b[0;32m   1917\u001b[0m             _safe_call(_LIB.LGBM_BoosterUpdateOneIter(\n\u001b[0;32m   1918\u001b[0m                 \u001b[0mself\u001b[0m\u001b[1;33m.\u001b[0m\u001b[0mhandle\u001b[0m\u001b[1;33m,\u001b[0m\u001b[1;33m\u001b[0m\u001b[1;33m\u001b[0m\u001b[0m\n\u001b[1;32m-> 1919\u001b[1;33m                 ctypes.byref(is_finished)))\n\u001b[0m\u001b[0;32m   1920\u001b[0m             \u001b[0mself\u001b[0m\u001b[1;33m.\u001b[0m\u001b[0m__is_predicted_cur_iter\u001b[0m \u001b[1;33m=\u001b[0m \u001b[1;33m[\u001b[0m\u001b[1;32mFalse\u001b[0m \u001b[1;32mfor\u001b[0m \u001b[0m_\u001b[0m \u001b[1;32min\u001b[0m \u001b[0mrange_\u001b[0m\u001b[1;33m(\u001b[0m\u001b[0mself\u001b[0m\u001b[1;33m.\u001b[0m\u001b[0m__num_dataset\u001b[0m\u001b[1;33m)\u001b[0m\u001b[1;33m]\u001b[0m\u001b[1;33m\u001b[0m\u001b[1;33m\u001b[0m\u001b[0m\n\u001b[0;32m   1921\u001b[0m             \u001b[1;32mreturn\u001b[0m \u001b[0mis_finished\u001b[0m\u001b[1;33m.\u001b[0m\u001b[0mvalue\u001b[0m \u001b[1;33m==\u001b[0m \u001b[1;36m1\u001b[0m\u001b[1;33m\u001b[0m\u001b[1;33m\u001b[0m\u001b[0m\n",
      "\u001b[1;31mKeyboardInterrupt\u001b[0m: "
     ]
    }
   ],
   "source": [
    "gender_pre, gender_oof = lgb_class('gender',2)\n"
   ]
  },
  {
   "cell_type": "markdown",
   "metadata": {},
   "source": [
    "评估提交"
   ]
  },
  {
   "cell_type": "code",
   "execution_count": 43,
   "metadata": {
    "ExecuteTime": {
     "end_time": "2020-05-16T09:45:09.971775Z",
     "start_time": "2020-05-16T09:45:09.867061Z"
    }
   },
   "outputs": [
    {
     "name": "stdout",
     "output_type": "stream",
     "text": [
      "0.91127 0.38208 1.29335\n"
     ]
    }
   ],
   "source": [
    "if offline:\n",
    "    gender_accuracy = accuracy_score(user_ids['gender'][train_filter:900000], gender_p)\n",
    "    age_accuracy = accuracy_score(user_ids['age'][train_filter:900000], age_p)\n",
    "    print(gender_accuracy, age_accuracy, gender_accuracy+age_accuracy)\n",
    "else:\n",
    "    train_gender_p = gender_clf.predict(data_tfidf_gender[:train_filter])\n",
    "    train_age_p = age_clf.predict(data_tfidf_age[:train_filter])\n",
    "    \n",
    "    gender_accuracy = accuracy_score(user_creative_ids['gender'][:train_filter], train_gender_p)\n",
    "    age_accuracy = accuracy_score(user_creative_ids['age'][:train_filter], train_age_p)\n",
    "    print(gender_accuracy, age_accuracy, gender_accuracy+age_accuracy)\n",
    "    sub = pd.DataFrame()\n",
    "    sub['user_id'] = range(3000001,4000001)\n",
    "    sub['predicted_age'] = age_p\n",
    "    sub['predicted_gender'] = gender_p\n",
    "    sub.to_csv(f\"{sub_path}/submission.csv\", index=False, encoding='utf-8')\n",
    "    print(sub.shape)\n",
    "    sub.head()"
   ]
  },
  {
   "cell_type": "markdown",
   "metadata": {},
   "source": [
    "0.861665 0.280975 1.14264  \n",
    "0.90131 0.31792 1.21923  min_df=5  \n",
    "0.909795 0.35963 1.269425  min_df=25    (1900000, 262005)  \n",
    "0.908905 0.367675 1.27658  min_df=50  (1900000, 138555)  \n",
    "0.905905 0.36898 1.2748849999999998  100 (1900000, 71208)  \n",
    "0.909795 0.36898 1.278775  线上1.285234  25和100的结合    \n",
    "\n",
    "\n",
    "0.91127 0.38208 1.29335\n",
    "\n"
   ]
  },
  {
   "cell_type": "code",
   "execution_count": 31,
   "metadata": {
    "ExecuteTime": {
     "end_time": "2020-05-24T06:15:56.548579Z",
     "start_time": "2020-05-24T06:14:10.634874Z"
    }
   },
   "outputs": [],
   "source": [
    "lr = LogisticRegression(solver='lbfgs', multi_class='ovr', n_jobs=4)\n",
    "lr_model = lr.fit(tfidf_matrix[0:train_filter], user_ids['gender'][0:train_filter])\n",
    "lr_pred = lr_model.predict(tfidf_matrix[train_filter:900000])"
   ]
  },
  {
   "cell_type": "code",
   "execution_count": 33,
   "metadata": {
    "ExecuteTime": {
     "end_time": "2020-05-24T06:17:20.590812Z",
     "start_time": "2020-05-24T06:17:20.501054Z"
    }
   },
   "outputs": [
    {
     "data": {
      "text/plain": [
       "(0.9222, (200000,))"
      ]
     },
     "execution_count": 33,
     "metadata": {},
     "output_type": "execute_result"
    }
   ],
   "source": [
    "lr_pred_r = np.rint(lr_pred)\n",
    "lr_pred_r = np.clip(lr_pred_r, 1, 2)\n",
    "gender_accuracy = accuracy_score(user_ids['gender'][train_filter:900000], lr_pred_r)\n",
    "gender_accuracy,lr_pred_r.shape"
   ]
  },
  {
   "cell_type": "markdown",
   "metadata": {},
   "source": [
    "(0.922435,  0.418795  \n",
    "0.92264  0.41987  "
   ]
  },
  {
   "cell_type": "code",
   "execution_count": 39,
   "metadata": {
    "ExecuteTime": {
     "end_time": "2020-05-20T23:57:48.947021Z",
     "start_time": "2020-05-20T23:57:48.941013Z"
    }
   },
   "outputs": [],
   "source": [
    "from sklearn.model_selection import KFold\n",
    "from sklearn.model_selection import StratifiedKFold\n",
    "import lightgbm as lgb\n",
    "lgb_params = {\n",
    "    'boosting_type': 'gbdt',\n",
    "    'objective': 'regression',\n",
    "    'n_estimators': 5000,\n",
    "    'metric': 'mae',\n",
    "    'learning_rate': 0.01,\n",
    "    'min_child_samples': 5,\n",
    "    'min_child_weight': 0.01,\n",
    "    'subsample_freq': 1,\n",
    "    'num_leaves': 31,\n",
    "    'max_depth': -1,\n",
    "    'subsample': 0.8,\n",
    "    'colsample_bytree': 0.6,\n",
    "    'reg_alpha': 0,\n",
    "    'reg_lambda': 5,\n",
    "    'verbose': -1,\n",
    "    'random_state': 4590,\n",
    "    'n_jobs': 4,\n",
    "}"
   ]
  },
  {
   "cell_type": "code",
   "execution_count": 40,
   "metadata": {
    "ExecuteTime": {
     "end_time": "2020-05-20T23:57:53.344234Z",
     "start_time": "2020-05-20T23:57:53.332266Z"
    }
   },
   "outputs": [],
   "source": [
    "def lr_pred(pred_y):\n",
    "    cv = True\n",
    "    model_type = 'lgb'\n",
    "    seed = 2020\n",
    "    train_filter = 900000\n",
    "    train_x = tfidf_matrix[0:train_filter]\n",
    "    train_y = user_ids[pred_y][0:train_filter]\n",
    "    test_x =  tfidf_matrix[900000:]\n",
    "    if cv:\n",
    "        n_fold = 5\n",
    "        count_fold = 0\n",
    "        preds_list = list()\n",
    "        oof = np.zeros(train_x.shape[0])\n",
    "        kfolder = KFold(n_splits=n_fold, shuffle=True, random_state=seed)\n",
    "        kfold = kfolder.split(train_x, train_y)\n",
    "        for train_index, vali_index in kfold:\n",
    "            print(\"training......fold\",count_fold)\n",
    "            count_fold = count_fold + 1\n",
    "            k_x_train = train_x[train_index]\n",
    "            k_y_train = train_y[train_index]\n",
    "            k_x_vali = train_x[vali_index]\n",
    "            k_y_vali = train_y[vali_index]\n",
    "            if model_type == 'lgb':\n",
    "                reg = LogisticRegression(solver='lbfgs', multi_class='multinomial', n_jobs=-1)\n",
    "                reg_model = reg.fit(k_x_train, k_y_train)\n",
    "                k_pred = reg_model.predict(k_x_vali)\n",
    "                pred = reg_model.predict(test_x)\n",
    "    #             lgb_model = lgb_model.fit(k_x_train, k_y_train, eval_set=[(k_x_vali, k_y_vali)],\n",
    "    #                                       early_stopping_rounds=200, verbose=False, eval_metric=\"mae\",\n",
    "    #                                       )\n",
    "    #             k_pred = lgb_model.predict(k_x_vali, num_iteration=lgb_model.best_iteration_)\n",
    "    #             pred = lgb_model.predict(test_x, num_iteration=lgb_model.best_iteration_)\n",
    "            preds_list.append(pred)\n",
    "            oof[vali_index] = k_pred\n",
    "    preds_columns = ['preds_{id}'.format(id=i) for i in range(n_fold)]\n",
    "    preds_df = pd.DataFrame(data=preds_list)\n",
    "    preds_df = preds_df.T\n",
    "    preds_df.columns = preds_columns\n",
    "    preds = list(preds_df.mean(axis=1))\n",
    "    return preds, oof"
   ]
  },
  {
   "cell_type": "code",
   "execution_count": 41,
   "metadata": {
    "ExecuteTime": {
     "end_time": "2020-05-21T00:59:25.786830Z",
     "start_time": "2020-05-20T23:57:57.726512Z"
    }
   },
   "outputs": [
    {
     "name": "stdout",
     "output_type": "stream",
     "text": [
      "training......fold 0\n",
      "training......fold 1\n",
      "training......fold 2\n",
      "training......fold 3\n",
      "training......fold 4\n",
      "training......fold 0\n",
      "training......fold 1\n",
      "training......fold 2\n",
      "training......fold 3\n",
      "training......fold 4\n"
     ]
    }
   ],
   "source": [
    "gender_pre, gender_oof = lr_pred('gender')\n",
    "age_pre, age_oof = lr_pred('age')\n"
   ]
  },
  {
   "cell_type": "code",
   "execution_count": 45,
   "metadata": {
    "ExecuteTime": {
     "end_time": "2020-05-21T01:01:14.800534Z",
     "start_time": "2020-05-21T01:01:14.597044Z"
    }
   },
   "outputs": [
    {
     "data": {
      "text/plain": [
       "(0.9214966666666666, (900000,))"
      ]
     },
     "execution_count": 45,
     "metadata": {},
     "output_type": "execute_result"
    }
   ],
   "source": [
    "preds22 = np.rint(gender_oof)\n",
    "preds22 = np.clip(preds22, 1, 2)\n",
    "gender_accuracy = accuracy_score(user_ids['gender'][0:900000], preds22)\n",
    "gender_accuracy,preds22.shape"
   ]
  },
  {
   "cell_type": "code",
   "execution_count": 50,
   "metadata": {
    "ExecuteTime": {
     "end_time": "2020-05-16T17:00:17.513511Z",
     "start_time": "2020-05-16T17:00:10.738345Z"
    }
   },
   "outputs": [
    {
     "name": "stdout",
     "output_type": "stream",
     "text": [
      "0.9222855555555556 0.42004555555555556 1.3423311111111111\n",
      "(1000000, 3)\n"
     ]
    },
    {
     "data": {
      "text/html": [
       "<div>\n",
       "<style scoped>\n",
       "    .dataframe tbody tr th:only-of-type {\n",
       "        vertical-align: middle;\n",
       "    }\n",
       "\n",
       "    .dataframe tbody tr th {\n",
       "        vertical-align: top;\n",
       "    }\n",
       "\n",
       "    .dataframe thead th {\n",
       "        text-align: right;\n",
       "    }\n",
       "</style>\n",
       "<table border=\"1\" class=\"dataframe\">\n",
       "  <thead>\n",
       "    <tr style=\"text-align: right;\">\n",
       "      <th></th>\n",
       "      <th>user_id</th>\n",
       "      <th>predicted_age</th>\n",
       "      <th>predicted_gender</th>\n",
       "    </tr>\n",
       "  </thead>\n",
       "  <tbody>\n",
       "    <tr>\n",
       "      <th>0</th>\n",
       "      <td>3000001</td>\n",
       "      <td>3.0</td>\n",
       "      <td>1.0</td>\n",
       "    </tr>\n",
       "    <tr>\n",
       "      <th>1</th>\n",
       "      <td>3000002</td>\n",
       "      <td>7.0</td>\n",
       "      <td>2.0</td>\n",
       "    </tr>\n",
       "    <tr>\n",
       "      <th>2</th>\n",
       "      <td>3000003</td>\n",
       "      <td>4.0</td>\n",
       "      <td>1.0</td>\n",
       "    </tr>\n",
       "    <tr>\n",
       "      <th>3</th>\n",
       "      <td>3000004</td>\n",
       "      <td>3.0</td>\n",
       "      <td>1.0</td>\n",
       "    </tr>\n",
       "    <tr>\n",
       "      <th>4</th>\n",
       "      <td>3000005</td>\n",
       "      <td>3.0</td>\n",
       "      <td>1.0</td>\n",
       "    </tr>\n",
       "  </tbody>\n",
       "</table>\n",
       "</div>"
      ],
      "text/plain": [
       "   user_id  predicted_age  predicted_gender\n",
       "0  3000001            3.0               1.0\n",
       "1  3000002            7.0               2.0\n",
       "2  3000003            4.0               1.0\n",
       "3  3000004            3.0               1.0\n",
       "4  3000005            3.0               1.0"
      ]
     },
     "execution_count": 50,
     "metadata": {},
     "output_type": "execute_result"
    }
   ],
   "source": [
    "gender_pre2, gender_oof2 = np.clip(np.rint(gender_pre), 1, 2),np.clip(np.rint(gender_oof), 1, 2)\n",
    "age_pre2, age_oof2 = np.clip(np.rint(age_pre), 1, 10),np.clip(np.rint(age_oof), 1, 10)\n",
    "\n",
    "\n",
    "gender_accuracy = accuracy_score(user_ids['gender'][:900000], gender_oof2)\n",
    "age_accuracy = accuracy_score(user_ids['age'][:900000], age_oof2)\n",
    "print(gender_accuracy, age_accuracy, gender_accuracy+age_accuracy)\n",
    "sub = pd.DataFrame()\n",
    "sub['user_id'] = range(3000001,4000001)\n",
    "sub['predicted_age'] = age_pre2\n",
    "sub['predicted_gender'] = gender_pre2\n",
    "sub.to_csv(f\"{sub_path}/submission.csv\", index=False, encoding='utf-8')\n",
    "print(sub.shape)\n",
    "sub.head()"
   ]
  },
  {
   "cell_type": "markdown",
   "metadata": {},
   "source": [
    "0.9222855555555556 0.42004555555555556 1.3423311111111111  \n",
    "线上1.3472"
   ]
  },
  {
   "cell_type": "code",
   "execution_count": null,
   "metadata": {},
   "outputs": [],
   "source": []
  }
 ],
 "metadata": {
  "kernelspec": {
   "display_name": "Python 3",
   "language": "python",
   "name": "python3"
  },
  "language_info": {
   "codemirror_mode": {
    "name": "ipython",
    "version": 3
   },
   "file_extension": ".py",
   "mimetype": "text/x-python",
   "name": "python",
   "nbconvert_exporter": "python",
   "pygments_lexer": "ipython3",
   "version": "3.7.4rc1"
  },
  "toc": {
   "base_numbering": 1,
   "nav_menu": {},
   "number_sections": true,
   "sideBar": true,
   "skip_h1_title": false,
   "title_cell": "Table of Contents",
   "title_sidebar": "Contents",
   "toc_cell": false,
   "toc_position": {},
   "toc_section_display": true,
   "toc_window_display": false
  },
  "varInspector": {
   "cols": {
    "lenName": 16,
    "lenType": 16,
    "lenVar": 40
   },
   "kernels_config": {
    "python": {
     "delete_cmd_postfix": "",
     "delete_cmd_prefix": "del ",
     "library": "var_list.py",
     "varRefreshCmd": "print(var_dic_list())"
    },
    "r": {
     "delete_cmd_postfix": ") ",
     "delete_cmd_prefix": "rm(",
     "library": "var_list.r",
     "varRefreshCmd": "cat(var_dic_list()) "
    }
   },
   "position": {
    "height": "791.8px",
    "left": "1680px",
    "right": "20px",
    "top": "122px",
    "width": "350px"
   },
   "types_to_exclude": [
    "module",
    "function",
    "builtin_function_or_method",
    "instance",
    "_Feature"
   ],
   "window_display": true
  }
 },
 "nbformat": 4,
 "nbformat_minor": 2
}

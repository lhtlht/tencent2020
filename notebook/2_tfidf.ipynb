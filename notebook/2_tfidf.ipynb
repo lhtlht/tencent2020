{
 "cells": [
  {
   "cell_type": "code",
   "execution_count": 12,
   "metadata": {
    "ExecuteTime": {
     "end_time": "2020-06-22T23:50:43.156663Z",
     "start_time": "2020-06-22T23:50:43.145693Z"
    }
   },
   "outputs": [],
   "source": [
    "import sys\n",
    "import os\n",
    "import logging\n",
    "sys.path.append(r\"..\")\n",
    "from utils import *\n",
    "import numpy as np\n",
    "import pandas as pd\n",
    "import deepctr\n",
    "import tensorflow as tf\n",
    "from sklearn.model_selection import train_test_split\n",
    "from sklearn.feature_extraction.text import TfidfTransformer\n",
    "from sklearn.feature_extraction.text import TfidfVectorizer\n",
    "from sklearn.feature_extraction.text import CountVectorizer\n",
    "from sklearn.naive_bayes import MultinomialNB\n",
    "from sklearn.linear_model import LogisticRegression\n",
    "from sklearn.linear_model import LogisticRegressionCV\n",
    "import lightgbm as lgb\n",
    "from sklearn.model_selection import KFold\n",
    "from sklearn.model_selection import StratifiedKFold\n",
    "from sklearn.metrics import accuracy_score,roc_auc_score,f1_score,recall_score\n",
    "from gensim import models\n",
    "from scipy import sparse\n",
    "from scipy.sparse import csr_matrix, coo_matrix\n",
    "import gc\n",
    "from collections import defaultdict\n",
    "from collections import Counter\n",
    "from sklearn.model_selection import KFold\n",
    "from sklearn.model_selection import StratifiedKFold\n",
    "import lightgbm as lgb\n",
    "lgb_params = {\n",
    "    'boosting_type': 'gbdt',\n",
    "    'objective': 'regression',\n",
    "    'n_estimators': 5000,\n",
    "    'metric': 'mae',\n",
    "    'learning_rate': 0.01,\n",
    "    'min_child_samples': 5,\n",
    "    'min_child_weight': 0.01,\n",
    "    'subsample_freq': 1,\n",
    "    'num_leaves': 31,\n",
    "    'max_depth': -1,\n",
    "    'subsample': 0.8,\n",
    "    'colsample_bytree': 0.6,\n",
    "    'reg_alpha': 0,\n",
    "    'reg_lambda': 5,\n",
    "    'verbose': -1,\n",
    "    'random_state': 4590,\n",
    "    'n_jobs': 4,\n",
    "}\n"
   ]
  },
  {
   "cell_type": "code",
   "execution_count": 13,
   "metadata": {
    "ExecuteTime": {
     "end_time": "2020-06-22T23:55:36.620886Z",
     "start_time": "2020-06-22T23:50:43.158661Z"
    }
   },
   "outputs": [
    {
     "name": "stdout",
     "output_type": "stream",
     "text": [
      "(1900000, 32)\n",
      "Index(['user_id', 'creative_id', 'ad_id', 'product_id', 'product_category',\n",
      "       'advertiser_id', 'industry', 'click_times', 'time', 'creative_id_times',\n",
      "       'ad_id_times', 'product_id_times', 'advertiser_id_times',\n",
      "       'product_category_times', 'industry_times', 'creative_id_len',\n",
      "       'ad_id_len', 'product_id_len', 'product_category_len', 'advertiser_len',\n",
      "       'industry_len', 'mean_clicktimes', 'max_clicktimes', 'min_clicktimes',\n",
      "       'mean_time', 'max_time', 'min_time', 'time_len', 'time_clicktimes',\n",
      "       'time_creativeids', 'age', 'gender'],\n",
      "      dtype='object')\n"
     ]
    },
    {
     "data": {
      "text/html": [
       "<div>\n",
       "<style scoped>\n",
       "    .dataframe tbody tr th:only-of-type {\n",
       "        vertical-align: middle;\n",
       "    }\n",
       "\n",
       "    .dataframe tbody tr th {\n",
       "        vertical-align: top;\n",
       "    }\n",
       "\n",
       "    .dataframe thead th {\n",
       "        text-align: right;\n",
       "    }\n",
       "</style>\n",
       "<table border=\"1\" class=\"dataframe\">\n",
       "  <thead>\n",
       "    <tr style=\"text-align: right;\">\n",
       "      <th></th>\n",
       "      <th>user_id</th>\n",
       "      <th>creative_id</th>\n",
       "      <th>ad_id</th>\n",
       "      <th>product_id</th>\n",
       "      <th>product_category</th>\n",
       "      <th>advertiser_id</th>\n",
       "      <th>industry</th>\n",
       "      <th>click_times</th>\n",
       "      <th>time</th>\n",
       "      <th>creative_id_times</th>\n",
       "      <th>...</th>\n",
       "      <th>max_clicktimes</th>\n",
       "      <th>min_clicktimes</th>\n",
       "      <th>mean_time</th>\n",
       "      <th>max_time</th>\n",
       "      <th>min_time</th>\n",
       "      <th>time_len</th>\n",
       "      <th>time_clicktimes</th>\n",
       "      <th>time_creativeids</th>\n",
       "      <th>age</th>\n",
       "      <th>gender</th>\n",
       "    </tr>\n",
       "  </thead>\n",
       "  <tbody>\n",
       "    <tr>\n",
       "      <th>0</th>\n",
       "      <td>1</td>\n",
       "      <td>[642275, 170988, 685687, 1307085, 100774, 5953...</td>\n",
       "      <td>[581171, 156554, 620126, 1166887, 92441, 55685...</td>\n",
       "      <td>[1, 125, 1, 1, 1132, 1, 1, 1, 1, 1244, 55, 55,...</td>\n",
       "      <td>[5, 2, 5, 5, 2, 18, 5, 5, 18, 2, 2, 2, 2]</td>\n",
       "      <td>[6411, 8522, 26781, 12996, 10113, 13007, 15341...</td>\n",
       "      <td>[323, 7, 104, 323, 1, 323, 73, 214, 64, 235, 2...</td>\n",
       "      <td>[1, 1, 1, 1, 1, 1, 1, 1, 1, 1, 1, 1, 2]</td>\n",
       "      <td>[20, 20, 20, 39, 40, 43, 46, 52, 60, 64, 64, 7...</td>\n",
       "      <td>[3872964, 1123872, 3935014, 706993, 226871, 37...</td>\n",
       "      <td>...</td>\n",
       "      <td>2</td>\n",
       "      <td>1</td>\n",
       "      <td>47.461538</td>\n",
       "      <td>76</td>\n",
       "      <td>20</td>\n",
       "      <td>10</td>\n",
       "      <td>[3, 1, 1, 1, 1, 1, 1, 2, 1, 2]</td>\n",
       "      <td>[3, 1, 1, 1, 1, 1, 1, 2, 1, 1]</td>\n",
       "      <td>4.0</td>\n",
       "      <td>1.0</td>\n",
       "    </tr>\n",
       "    <tr>\n",
       "      <th>1</th>\n",
       "      <td>2</td>\n",
       "      <td>[52634, 128035, 32734, 478744, 10372, 349730, ...</td>\n",
       "      <td>[49388, 117016, 31581, 435462, 11432, 318236, ...</td>\n",
       "      <td>[76, 69, 118, 118, 1193, 76, 1, 1064, 1, 1, 10...</td>\n",
       "      <td>[2, 2, 2, 2, 2, 2, 18, 2, 18, 18, 2, 18, 2, 18...</td>\n",
       "      <td>[20681, 9438, 16619, 23545, 705, 20681, 31504,...</td>\n",
       "      <td>[315, 235, 7, 7, 314, 315, 47, 7, 47, 47, 239,...</td>\n",
       "      <td>[1, 1, 1, 1, 1, 1, 1, 1, 1, 1, 1, 1, 1, 1, 1, ...</td>\n",
       "      <td>[10, 11, 14, 17, 28, 28, 28, 38, 38, 39, 41, 4...</td>\n",
       "      <td>[3670932, 575824, 3013599, 3644043, 316325, 34...</td>\n",
       "      <td>...</td>\n",
       "      <td>2</td>\n",
       "      <td>1</td>\n",
       "      <td>53.822222</td>\n",
       "      <td>90</td>\n",
       "      <td>10</td>\n",
       "      <td>28</td>\n",
       "      <td>[1, 1, 1, 1, 3, 2, 1, 1, 3, 2, 1, 4, 1, 4, 1, ...</td>\n",
       "      <td>[1, 1, 1, 1, 3, 2, 1, 1, 3, 2, 1, 4, 1, 4, 1, ...</td>\n",
       "      <td>10.0</td>\n",
       "      <td>1.0</td>\n",
       "    </tr>\n",
       "  </tbody>\n",
       "</table>\n",
       "<p>2 rows × 32 columns</p>\n",
       "</div>"
      ],
      "text/plain": [
       "   user_id                                        creative_id  \\\n",
       "0        1  [642275, 170988, 685687, 1307085, 100774, 5953...   \n",
       "1        2  [52634, 128035, 32734, 478744, 10372, 349730, ...   \n",
       "\n",
       "                                               ad_id  \\\n",
       "0  [581171, 156554, 620126, 1166887, 92441, 55685...   \n",
       "1  [49388, 117016, 31581, 435462, 11432, 318236, ...   \n",
       "\n",
       "                                          product_id  \\\n",
       "0  [1, 125, 1, 1, 1132, 1, 1, 1, 1, 1244, 55, 55,...   \n",
       "1  [76, 69, 118, 118, 1193, 76, 1, 1064, 1, 1, 10...   \n",
       "\n",
       "                                    product_category  \\\n",
       "0          [5, 2, 5, 5, 2, 18, 5, 5, 18, 2, 2, 2, 2]   \n",
       "1  [2, 2, 2, 2, 2, 2, 18, 2, 18, 18, 2, 18, 2, 18...   \n",
       "\n",
       "                                       advertiser_id  \\\n",
       "0  [6411, 8522, 26781, 12996, 10113, 13007, 15341...   \n",
       "1  [20681, 9438, 16619, 23545, 705, 20681, 31504,...   \n",
       "\n",
       "                                            industry  \\\n",
       "0  [323, 7, 104, 323, 1, 323, 73, 214, 64, 235, 2...   \n",
       "1  [315, 235, 7, 7, 314, 315, 47, 7, 47, 47, 239,...   \n",
       "\n",
       "                                         click_times  \\\n",
       "0            [1, 1, 1, 1, 1, 1, 1, 1, 1, 1, 1, 1, 2]   \n",
       "1  [1, 1, 1, 1, 1, 1, 1, 1, 1, 1, 1, 1, 1, 1, 1, ...   \n",
       "\n",
       "                                                time  \\\n",
       "0  [20, 20, 20, 39, 40, 43, 46, 52, 60, 64, 64, 7...   \n",
       "1  [10, 11, 14, 17, 28, 28, 28, 38, 38, 39, 41, 4...   \n",
       "\n",
       "                                   creative_id_times  ... max_clicktimes  \\\n",
       "0  [3872964, 1123872, 3935014, 706993, 226871, 37...  ...              2   \n",
       "1  [3670932, 575824, 3013599, 3644043, 316325, 34...  ...              2   \n",
       "\n",
       "  min_clicktimes  mean_time max_time min_time  time_len  \\\n",
       "0              1  47.461538       76       20        10   \n",
       "1              1  53.822222       90       10        28   \n",
       "\n",
       "                                     time_clicktimes  \\\n",
       "0                     [3, 1, 1, 1, 1, 1, 1, 2, 1, 2]   \n",
       "1  [1, 1, 1, 1, 3, 2, 1, 1, 3, 2, 1, 4, 1, 4, 1, ...   \n",
       "\n",
       "                                    time_creativeids   age  gender  \n",
       "0                     [3, 1, 1, 1, 1, 1, 1, 2, 1, 1]   4.0     1.0  \n",
       "1  [1, 1, 1, 1, 3, 2, 1, 1, 3, 2, 1, 4, 1, 4, 1, ...  10.0     1.0  \n",
       "\n",
       "[2 rows x 32 columns]"
      ]
     },
     "execution_count": 13,
     "metadata": {},
     "output_type": "execute_result"
    }
   ],
   "source": [
    "#user_ids = pd.read_pickle(f\"{pickle_path}/user_ids_relencode.pickle\")\n",
    "#user_ids = pd.read_pickle(f\"{pickle_path}/user_ids_ctr.pickle\")\n",
    "\n",
    "#user = pd.read_csv(train_preliminary_p + \"user.csv\", encoding='utf-8')\n",
    "#user_ids = user_ids.merge(user, how='left', on='user_id')\n",
    "#save_pickle(user_ids, f\"{pickle_path}/train_user_ids.pickle\")\n",
    "user_ids = pd.read_pickle(f\"{pickle_path}/train_user_ids.pickle\") #保存从8min缩小到3min\n",
    "#del user\n",
    "gc.collect()\n",
    "print(user_ids.shape)\n",
    "print(user_ids.columns)\n",
    "user_ids.head(2)"
   ]
  },
  {
   "cell_type": "code",
   "execution_count": 14,
   "metadata": {
    "ExecuteTime": {
     "end_time": "2020-06-22T23:57:50.686310Z",
     "start_time": "2020-06-22T23:55:36.624857Z"
    }
   },
   "outputs": [],
   "source": [
    "## 计算idf值 creative_id\n",
    "import itertools\n",
    "from collections import Counter\n",
    "def fea_idf(fea):\n",
    "    fea_id_lists = user_ids[fea].map(lambda x: list(set(x)))\n",
    "    fea_l = list(itertools.chain(*fea_id_lists))\n",
    "    save_pickle(Counter(fea_l), pickle_path+f'{fea}_idf')\n",
    "    \n",
    "fea_idf('creative_id')  \n",
    "fea_idf('ad_id')  \n",
    "fea_idf('product_id')  \n",
    "fea_idf('product_category')  \n",
    "fea_idf('advertiser_id')  \n",
    "fea_idf('industry')  \n",
    "fea_idf('click_times')  "
   ]
  },
  {
   "cell_type": "code",
   "execution_count": 15,
   "metadata": {
    "ExecuteTime": {
     "end_time": "2020-06-22T23:57:50.754156Z",
     "start_time": "2020-06-22T23:57:50.689303Z"
    }
   },
   "outputs": [],
   "source": [
    "def tfidf_matrix_p(features_list, min_dfs):\n",
    "    for fea, min_df in zip(features_list, min_dfs):\n",
    "        tfidfer = TfidfVectorizer(analyzer='word', token_pattern=u\"(?u)\\\\b\\\\w+\\\\b\", min_df=1, max_features=min_df)  # (?u)\\b\\w+\\b\"，这样就不会忽略单个的字符\n",
    "        if fea == 'creative_id':\n",
    "            tfidf_matrix = tfidfer.fit_transform(user_ids[fea].map(lambda x:' '.join([str(i) for i in x])).values)\n",
    "            save_pickle(tfidfer.vocabulary_, pickle_path+f'creative_id_tfidf_v_{min_df}')\n",
    "            save_pickle(tfidf_matrix, pickle_path+f'creative_id_tfidf_m_{min_df}')\n",
    "\n",
    "            print(f'tfidf matrix {fea} size:{tfidf_matrix.shape}')\n",
    "        else:\n",
    "            tfidf_matrix_fea = tfidfer.fit_transform(user_ids[fea].map(lambda x:' '.join([str(i) for i in x])).values)\n",
    "            print(f'tfidf matrix {fea} size:{tfidf_matrix_fea.shape}')\n",
    "            tfidf_matrix = csr_matrix(sparse.hstack((tfidf_matrix, tfidf_matrix_fea)))\n",
    "            save_pickle(tfidfer.vocabulary_, pickle_path+f'{fea}_tfidf_v_{min_df}')\n",
    "            save_pickle(tfidf_matrix_fea, pickle_path+f'{fea}_tfidf_m_{min_df}')\n",
    "    \n",
    "    save_pickle(tfidf_matrix, pickle_path+f'tfidf_m')\n",
    "   \n",
    "    print(f'tfidf matrix size:{tfidf_matrix.shape}')\n",
    "    return tfidf_matrix"
   ]
  },
  {
   "cell_type": "code",
   "execution_count": 16,
   "metadata": {
    "ExecuteTime": {
     "end_time": "2020-06-23T00:12:58.379576Z",
     "start_time": "2020-06-22T23:57:50.756125Z"
    }
   },
   "outputs": [
    {
     "name": "stdout",
     "output_type": "stream",
     "text": [
      "tfidf matrix creative_id size:(1900000, 10000)\n",
      "tfidf matrix ad_id size:(1900000, 10000)\n",
      "tfidf matrix product_id size:(1900000, 39057)\n",
      "tfidf matrix product_category size:(1900000, 18)\n",
      "tfidf matrix advertiser_id size:(1900000, 57870)\n",
      "tfidf matrix industry size:(1900000, 332)\n",
      "tfidf matrix click_times size:(1900000, 8)\n",
      "tfidf matrix size:(1900000, 117285)\n"
     ]
    }
   ],
   "source": [
    "tfidf_features = ['creative_id', 'ad_id', 'product_id', 'product_category', 'advertiser_id', 'industry', 'click_times',\n",
    "                 'creative_id_times', 'ad_id_times',  'product_id_times', 'advertiser_id_times',\n",
    "                 'product_category_times', 'industry_times',]\n",
    "tfidf_features = ['creative_id', 'ad_id', 'product_id', 'product_category', 'advertiser_id', 'industry', 'click_times',\n",
    "                 ]\n",
    "max_features = [10000, 10000, 300000, 300000, 300000, 300000, 300000]\n",
    "tfidf_matrix = tfidf_matrix_p(tfidf_features, max_features)"
   ]
  },
  {
   "cell_type": "code",
   "execution_count": 17,
   "metadata": {
    "ExecuteTime": {
     "end_time": "2020-06-23T00:12:58.392542Z",
     "start_time": "2020-06-23T00:12:58.383566Z"
    }
   },
   "outputs": [],
   "source": [
    "offline = False\n",
    "if offline:\n",
    "    train_filter = 700000\n",
    "else:\n",
    "    train_filter = 900000\n"
   ]
  },
  {
   "cell_type": "markdown",
   "metadata": {},
   "source": [
    "评估提交"
   ]
  },
  {
   "cell_type": "markdown",
   "metadata": {},
   "source": [
    "0.861665 0.280975 1.14264  \n",
    "0.90131 0.31792 1.21923  min_df=5  \n",
    "0.909795 0.35963 1.269425  min_df=25    (1900000, 262005)  \n",
    "0.908905 0.367675 1.27658  min_df=50  (1900000, 138555)  \n",
    "0.905905 0.36898 1.2748849999999998  100 (1900000, 71208)  \n",
    "0.909795 0.36898 1.278775  线上1.285234  25和100的结合    \n",
    "\n",
    "\n",
    "0.91127 0.38208 1.29335\n",
    "\n"
   ]
  },
  {
   "cell_type": "markdown",
   "metadata": {},
   "source": [
    "(0.922435,  0.418795  \n",
    "0.92264  0.41987  "
   ]
  },
  {
   "cell_type": "code",
   "execution_count": 18,
   "metadata": {
    "ExecuteTime": {
     "end_time": "2020-06-23T00:12:58.437422Z",
     "start_time": "2020-06-23T00:12:58.396532Z"
    }
   },
   "outputs": [],
   "source": [
    "def lr_pred(pred_y, n_classes):\n",
    "    cv = True\n",
    "    model_type = 'lgb'\n",
    "    seed = 2020\n",
    "    train_filter = 900000\n",
    "    train_x = tfidf_matrix[0:train_filter]\n",
    "    train_y = user_ids[pred_y][0:train_filter]\n",
    "    test_x =  tfidf_matrix[900000:]\n",
    "    if cv:\n",
    "        n_fold = 5\n",
    "        count_fold = 0\n",
    "        preds_list = list()\n",
    "        oof = np.zeros((train_x.shape[0], n_classes))\n",
    "        kfolder = KFold(n_splits=n_fold, shuffle=True, random_state=seed)\n",
    "        kfold = kfolder.split(train_x, train_y)\n",
    "        for train_index, vali_index in kfold:\n",
    "            print(\"training......fold\",count_fold)\n",
    "            count_fold = count_fold + 1\n",
    "            k_x_train = train_x[train_index]\n",
    "            k_y_train = train_y[train_index]\n",
    "            k_x_vali = train_x[vali_index]\n",
    "            k_y_vali = train_y[vali_index]\n",
    "            if model_type == 'lgb':\n",
    "                \n",
    "                reg = LogisticRegression(solver='lbfgs', multi_class='multinomial', n_jobs=-1)\n",
    "                reg_model = reg.fit(k_x_train, k_y_train)\n",
    "                k_pred = reg_model.predict_proba(k_x_vali)\n",
    "                pred = reg_model.predict_proba(test_x)\n",
    "               \n",
    "    #             lgb_model = lgb_model.fit(k_x_train, k_y_train, eval_set=[(k_x_vali, k_y_vali)],\n",
    "    #                                       early_stopping_rounds=200, verbose=False, eval_metric=\"mae\",\n",
    "    #                                       )\n",
    "    #             k_pred = lgb_model.predict(k_x_vali, num_iteration=lgb_model.best_iteration_)\n",
    "    #             pred = lgb_model.predict(test_x, num_iteration=lgb_model.best_iteration_)\n",
    "            preds_list.append(pred)\n",
    "            oof[vali_index] = k_pred\n",
    "#     preds_columns = ['preds_{id}'.format(id=i) for i in range(n_fold)]\n",
    "#     preds_df = pd.DataFrame(data=preds_list)\n",
    "#     preds_df = preds_df.T\n",
    "#     preds_df.columns = preds_columns\n",
    "#     preds = list(preds_df.mean(axis=1))\n",
    "    return preds_list, oof"
   ]
  },
  {
   "cell_type": "code",
   "execution_count": 19,
   "metadata": {
    "ExecuteTime": {
     "end_time": "2020-06-23T12:06:19.519334Z",
     "start_time": "2020-06-23T00:12:58.443406Z"
    }
   },
   "outputs": [
    {
     "name": "stdout",
     "output_type": "stream",
     "text": [
      "training......fold 0\n",
      "training......fold 1\n",
      "training......fold 2\n",
      "training......fold 3\n",
      "training......fold 4\n",
      "training......fold 0\n",
      "training......fold 1\n",
      "training......fold 2\n",
      "training......fold 3\n",
      "training......fold 4\n"
     ]
    }
   ],
   "source": [
    "gender_prob, gender_oof = lr_pred('gender',2)\n",
    "age_prob, age_oof = lr_pred('age',10)\n"
   ]
  },
  {
   "cell_type": "code",
   "execution_count": 20,
   "metadata": {
    "ExecuteTime": {
     "end_time": "2020-06-23T12:06:19.818516Z",
     "start_time": "2020-06-23T12:06:19.521312Z"
    }
   },
   "outputs": [
    {
     "data": {
      "text/plain": [
       "(0.9200077777777778, 0.39763444444444446, 1.3176422222222222)"
      ]
     },
     "execution_count": 20,
     "metadata": {},
     "output_type": "execute_result"
    }
   ],
   "source": [
    "#gender_tune_weight = search_weight(user_ids['gender'][:900000]-1, gender_oof, init_weight=[1.0]*2,class_num=2, step=0.001)\n",
    "#age_tune_weight = search_weight(user_ids['age'][:900000]-1, age_oof, init_weight=[1.0]*10,class_num=10, step=0.001)\n",
    "\n",
    "gender_oof_pre = np.argmax(gender_oof,axis=1) + 1\n",
    "age_oof_pre = np.argmax(age_oof,axis=1) + 1\n",
    "gender_accuracy = accuracy_score(user_ids['gender'][:900000], gender_oof_pre)\n",
    "age_accuracy = accuracy_score(user_ids['age'][:900000], age_oof_pre)\n",
    "\n",
    "gender_accuracy,age_accuracy,gender_accuracy+age_accuracy"
   ]
  },
  {
   "cell_type": "code",
   "execution_count": 21,
   "metadata": {
    "ExecuteTime": {
     "end_time": "2020-06-23T12:06:20.897890Z",
     "start_time": "2020-06-23T12:06:19.820511Z"
    }
   },
   "outputs": [
    {
     "data": {
      "text/plain": [
       "((1000000,), (1000000,))"
      ]
     },
     "execution_count": 21,
     "metadata": {},
     "output_type": "execute_result"
    }
   ],
   "source": [
    "gender_prob_mean = np.array(gender_prob).mean(axis=0)\n",
    "gender_pre = np.argmax(gender_prob_mean,axis=1) + 1\n",
    "\n",
    "age_prob_mean = np.array(age_prob).mean(axis=0)\n",
    "age_pre = np.argmax(age_prob_mean,axis=1) + 1\n",
    "\n",
    "np.save(f\"{sub_path}/lr_gender_prob.npy\", gender_prob_mean)\n",
    "np.save(f\"{sub_path}/lr_age_prob.npy\", age_prob_mean)\n",
    "\n",
    "gender_pre.shape, age_pre.shape"
   ]
  },
  {
   "cell_type": "code",
   "execution_count": 22,
   "metadata": {
    "ExecuteTime": {
     "end_time": "2020-06-23T12:06:25.027809Z",
     "start_time": "2020-06-23T12:06:20.898858Z"
    }
   },
   "outputs": [
    {
     "name": "stdout",
     "output_type": "stream",
     "text": [
      "(1000000, 3)\n"
     ]
    },
    {
     "data": {
      "text/html": [
       "<div>\n",
       "<style scoped>\n",
       "    .dataframe tbody tr th:only-of-type {\n",
       "        vertical-align: middle;\n",
       "    }\n",
       "\n",
       "    .dataframe tbody tr th {\n",
       "        vertical-align: top;\n",
       "    }\n",
       "\n",
       "    .dataframe thead th {\n",
       "        text-align: right;\n",
       "    }\n",
       "</style>\n",
       "<table border=\"1\" class=\"dataframe\">\n",
       "  <thead>\n",
       "    <tr style=\"text-align: right;\">\n",
       "      <th></th>\n",
       "      <th>user_id</th>\n",
       "      <th>predicted_age</th>\n",
       "      <th>predicted_gender</th>\n",
       "    </tr>\n",
       "  </thead>\n",
       "  <tbody>\n",
       "    <tr>\n",
       "      <th>0</th>\n",
       "      <td>3000001</td>\n",
       "      <td>3</td>\n",
       "      <td>1</td>\n",
       "    </tr>\n",
       "    <tr>\n",
       "      <th>1</th>\n",
       "      <td>3000002</td>\n",
       "      <td>7</td>\n",
       "      <td>2</td>\n",
       "    </tr>\n",
       "    <tr>\n",
       "      <th>2</th>\n",
       "      <td>3000003</td>\n",
       "      <td>7</td>\n",
       "      <td>1</td>\n",
       "    </tr>\n",
       "    <tr>\n",
       "      <th>3</th>\n",
       "      <td>3000004</td>\n",
       "      <td>3</td>\n",
       "      <td>1</td>\n",
       "    </tr>\n",
       "    <tr>\n",
       "      <th>4</th>\n",
       "      <td>3000005</td>\n",
       "      <td>4</td>\n",
       "      <td>1</td>\n",
       "    </tr>\n",
       "  </tbody>\n",
       "</table>\n",
       "</div>"
      ],
      "text/plain": [
       "   user_id  predicted_age  predicted_gender\n",
       "0  3000001              3                 1\n",
       "1  3000002              7                 2\n",
       "2  3000003              7                 1\n",
       "3  3000004              3                 1\n",
       "4  3000005              4                 1"
      ]
     },
     "execution_count": 22,
     "metadata": {},
     "output_type": "execute_result"
    }
   ],
   "source": [
    "sub = pd.DataFrame()\n",
    "sub['user_id'] = range(3000001,4000001)\n",
    "sub['predicted_age'] = age_pre\n",
    "sub['predicted_gender'] = gender_pre\n",
    "sub.to_csv(f\"{sub_path}/submission.csv\", index=False, encoding='utf-8')\n",
    "print(sub.shape)\n",
    "sub.head()"
   ]
  },
  {
   "cell_type": "markdown",
   "metadata": {},
   "source": [
    "0.9222855555555556 0.42004555555555556 1.3423311111111111  \n",
    "线上1.3472"
   ]
  },
  {
   "cell_type": "code",
   "execution_count": null,
   "metadata": {},
   "outputs": [],
   "source": []
  }
 ],
 "metadata": {
  "kernelspec": {
   "display_name": "Python 3",
   "language": "python",
   "name": "python3"
  },
  "language_info": {
   "codemirror_mode": {
    "name": "ipython",
    "version": 3
   },
   "file_extension": ".py",
   "mimetype": "text/x-python",
   "name": "python",
   "nbconvert_exporter": "python",
   "pygments_lexer": "ipython3",
   "version": "3.7.4rc1"
  },
  "toc": {
   "base_numbering": 1,
   "nav_menu": {},
   "number_sections": true,
   "sideBar": true,
   "skip_h1_title": false,
   "title_cell": "Table of Contents",
   "title_sidebar": "Contents",
   "toc_cell": false,
   "toc_position": {},
   "toc_section_display": true,
   "toc_window_display": false
  },
  "varInspector": {
   "cols": {
    "lenName": 16,
    "lenType": 16,
    "lenVar": 40
   },
   "kernels_config": {
    "python": {
     "delete_cmd_postfix": "",
     "delete_cmd_prefix": "del ",
     "library": "var_list.py",
     "varRefreshCmd": "print(var_dic_list())"
    },
    "r": {
     "delete_cmd_postfix": ") ",
     "delete_cmd_prefix": "rm(",
     "library": "var_list.r",
     "varRefreshCmd": "cat(var_dic_list()) "
    }
   },
   "position": {
    "height": "791.8px",
    "left": "1680px",
    "right": "20px",
    "top": "122px",
    "width": "350px"
   },
   "types_to_exclude": [
    "module",
    "function",
    "builtin_function_or_method",
    "instance",
    "_Feature"
   ],
   "window_display": true
  }
 },
 "nbformat": 4,
 "nbformat_minor": 2
}

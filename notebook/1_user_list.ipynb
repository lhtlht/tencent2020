{
 "cells": [
  {
   "cell_type": "code",
   "execution_count": 9,
   "metadata": {
    "ExecuteTime": {
     "end_time": "2020-05-12T15:26:24.005098Z",
     "start_time": "2020-05-12T15:26:23.999137Z"
    }
   },
   "outputs": [],
   "source": [
    "import sys\n",
    "import os\n",
    "sys.path.append(r\"..\")\n",
    "\n",
    "from utils import *\n",
    "import pandas as pd\n",
    "import numpy as np\n",
    "\n",
    "path_build = \"../../data/tencent2020/build/\"\n",
    "path_save = \"../../data/tencent2020/save/\"\n",
    "\n",
    "pickle_path = \"../../data/tencent2020/pickle\"\n",
    "if not os.path.exists(pickle_path):\n",
    "    os.mkdir(pickle_path) "
   ]
  },
  {
   "cell_type": "code",
   "execution_count": 2,
   "metadata": {
    "ExecuteTime": {
     "end_time": "2020-05-12T15:13:16.763892Z",
     "start_time": "2020-05-12T15:12:14.757087Z"
    }
   },
   "outputs": [
    {
     "data": {
      "text/plain": [
       "((30082771, 9), (33585512, 9))"
      ]
     },
     "execution_count": 2,
     "metadata": {},
     "output_type": "execute_result"
    }
   ],
   "source": [
    "train_click_log = pd.read_csv(path_save + \"train_click_log.csv\", encoding=\"utf-8\")\n",
    "test_click_log = pd.read_csv(path_save + \"test_click_log.csv\", encoding=\"utf-8\")\n",
    "train_click_log.shape, test_click_log.shape"
   ]
  },
  {
   "cell_type": "markdown",
   "metadata": {},
   "source": [
    "train：user_id 范围 (1, 900000)  \n",
    "test ：user_id 范围 (3000001, 4000000) "
   ]
  },
  {
   "cell_type": "code",
   "execution_count": 3,
   "metadata": {
    "ExecuteTime": {
     "end_time": "2020-05-12T15:13:16.824729Z",
     "start_time": "2020-05-12T15:13:16.772868Z"
    },
    "collapsed": true
   },
   "outputs": [
    {
     "data": {
      "text/html": [
       "<div>\n",
       "<style scoped>\n",
       "    .dataframe tbody tr th:only-of-type {\n",
       "        vertical-align: middle;\n",
       "    }\n",
       "\n",
       "    .dataframe tbody tr th {\n",
       "        vertical-align: top;\n",
       "    }\n",
       "\n",
       "    .dataframe thead th {\n",
       "        text-align: right;\n",
       "    }\n",
       "</style>\n",
       "<table border=\"1\" class=\"dataframe\">\n",
       "  <thead>\n",
       "    <tr style=\"text-align: right;\">\n",
       "      <th></th>\n",
       "      <th>time</th>\n",
       "      <th>user_id</th>\n",
       "      <th>creative_id</th>\n",
       "      <th>click_times</th>\n",
       "      <th>ad_id</th>\n",
       "      <th>product_id</th>\n",
       "      <th>product_category</th>\n",
       "      <th>advertiser_id</th>\n",
       "      <th>industry</th>\n",
       "    </tr>\n",
       "  </thead>\n",
       "  <tbody>\n",
       "    <tr>\n",
       "      <th>0</th>\n",
       "      <td>9</td>\n",
       "      <td>30920</td>\n",
       "      <td>567330</td>\n",
       "      <td>1</td>\n",
       "      <td>504423</td>\n",
       "      <td>30673</td>\n",
       "      <td>3</td>\n",
       "      <td>32638</td>\n",
       "      <td>319</td>\n",
       "    </tr>\n",
       "    <tr>\n",
       "      <th>1</th>\n",
       "      <td>65</td>\n",
       "      <td>30920</td>\n",
       "      <td>3072255</td>\n",
       "      <td>1</td>\n",
       "      <td>2642300</td>\n",
       "      <td>1261</td>\n",
       "      <td>2</td>\n",
       "      <td>6783</td>\n",
       "      <td>6</td>\n",
       "    </tr>\n",
       "    <tr>\n",
       "      <th>2</th>\n",
       "      <td>56</td>\n",
       "      <td>30920</td>\n",
       "      <td>2361327</td>\n",
       "      <td>1</td>\n",
       "      <td>2035918</td>\n",
       "      <td>1261</td>\n",
       "      <td>2</td>\n",
       "      <td>6783</td>\n",
       "      <td>6</td>\n",
       "    </tr>\n",
       "    <tr>\n",
       "      <th>3</th>\n",
       "      <td>6</td>\n",
       "      <td>309204</td>\n",
       "      <td>325532</td>\n",
       "      <td>1</td>\n",
       "      <td>292523</td>\n",
       "      <td>27081</td>\n",
       "      <td>3</td>\n",
       "      <td>32066</td>\n",
       "      <td>242</td>\n",
       "    </tr>\n",
       "    <tr>\n",
       "      <th>4</th>\n",
       "      <td>59</td>\n",
       "      <td>309204</td>\n",
       "      <td>2746730</td>\n",
       "      <td>1</td>\n",
       "      <td>2362208</td>\n",
       "      <td>0</td>\n",
       "      <td>18</td>\n",
       "      <td>14682</td>\n",
       "      <td>88</td>\n",
       "    </tr>\n",
       "  </tbody>\n",
       "</table>\n",
       "</div>"
      ],
      "text/plain": [
       "   time  user_id  creative_id  click_times    ad_id  product_id  \\\n",
       "0     9    30920       567330            1   504423       30673   \n",
       "1    65    30920      3072255            1  2642300        1261   \n",
       "2    56    30920      2361327            1  2035918        1261   \n",
       "3     6   309204       325532            1   292523       27081   \n",
       "4    59   309204      2746730            1  2362208           0   \n",
       "\n",
       "   product_category  advertiser_id  industry  \n",
       "0                 3          32638       319  \n",
       "1                 2           6783         6  \n",
       "2                 2           6783         6  \n",
       "3                 3          32066       242  \n",
       "4                18          14682        88  "
      ]
     },
     "execution_count": 3,
     "metadata": {},
     "output_type": "execute_result"
    }
   ],
   "source": [
    "train_click_log.head()"
   ]
  },
  {
   "cell_type": "code",
   "execution_count": 4,
   "metadata": {
    "ExecuteTime": {
     "end_time": "2020-05-12T15:13:16.863627Z",
     "start_time": "2020-05-12T15:13:16.837695Z"
    },
    "collapsed": true
   },
   "outputs": [
    {
     "data": {
      "text/html": [
       "<div>\n",
       "<style scoped>\n",
       "    .dataframe tbody tr th:only-of-type {\n",
       "        vertical-align: middle;\n",
       "    }\n",
       "\n",
       "    .dataframe tbody tr th {\n",
       "        vertical-align: top;\n",
       "    }\n",
       "\n",
       "    .dataframe thead th {\n",
       "        text-align: right;\n",
       "    }\n",
       "</style>\n",
       "<table border=\"1\" class=\"dataframe\">\n",
       "  <thead>\n",
       "    <tr style=\"text-align: right;\">\n",
       "      <th></th>\n",
       "      <th>time</th>\n",
       "      <th>user_id</th>\n",
       "      <th>creative_id</th>\n",
       "      <th>click_times</th>\n",
       "      <th>ad_id</th>\n",
       "      <th>product_id</th>\n",
       "      <th>product_category</th>\n",
       "      <th>advertiser_id</th>\n",
       "      <th>industry</th>\n",
       "    </tr>\n",
       "  </thead>\n",
       "  <tbody>\n",
       "    <tr>\n",
       "      <th>0</th>\n",
       "      <td>20</td>\n",
       "      <td>3131989</td>\n",
       "      <td>645764</td>\n",
       "      <td>1</td>\n",
       "      <td>573314</td>\n",
       "      <td>58</td>\n",
       "      <td>2</td>\n",
       "      <td>14689</td>\n",
       "      <td>6</td>\n",
       "    </tr>\n",
       "    <tr>\n",
       "      <th>1</th>\n",
       "      <td>20</td>\n",
       "      <td>3131989</td>\n",
       "      <td>1027422</td>\n",
       "      <td>1</td>\n",
       "      <td>902764</td>\n",
       "      <td>129</td>\n",
       "      <td>2</td>\n",
       "      <td>42272</td>\n",
       "      <td>6</td>\n",
       "    </tr>\n",
       "    <tr>\n",
       "      <th>2</th>\n",
       "      <td>20</td>\n",
       "      <td>3131989</td>\n",
       "      <td>1106443</td>\n",
       "      <td>1</td>\n",
       "      <td>970829</td>\n",
       "      <td>2171</td>\n",
       "      <td>2</td>\n",
       "      <td>37513</td>\n",
       "      <td>322</td>\n",
       "    </tr>\n",
       "    <tr>\n",
       "      <th>3</th>\n",
       "      <td>20</td>\n",
       "      <td>3131989</td>\n",
       "      <td>629802</td>\n",
       "      <td>1</td>\n",
       "      <td>559183</td>\n",
       "      <td>0</td>\n",
       "      <td>18</td>\n",
       "      <td>14678</td>\n",
       "      <td>26</td>\n",
       "    </tr>\n",
       "    <tr>\n",
       "      <th>4</th>\n",
       "      <td>59</td>\n",
       "      <td>3131989</td>\n",
       "      <td>2839769</td>\n",
       "      <td>1</td>\n",
       "      <td>2441288</td>\n",
       "      <td>129</td>\n",
       "      <td>2</td>\n",
       "      <td>35328</td>\n",
       "      <td>6</td>\n",
       "    </tr>\n",
       "  </tbody>\n",
       "</table>\n",
       "</div>"
      ],
      "text/plain": [
       "   time  user_id  creative_id  click_times    ad_id  product_id  \\\n",
       "0    20  3131989       645764            1   573314          58   \n",
       "1    20  3131989      1027422            1   902764         129   \n",
       "2    20  3131989      1106443            1   970829        2171   \n",
       "3    20  3131989       629802            1   559183           0   \n",
       "4    59  3131989      2839769            1  2441288         129   \n",
       "\n",
       "   product_category  advertiser_id  industry  \n",
       "0                 2          14689         6  \n",
       "1                 2          42272         6  \n",
       "2                 2          37513       322  \n",
       "3                18          14678        26  \n",
       "4                 2          35328         6  "
      ]
     },
     "execution_count": 4,
     "metadata": {},
     "output_type": "execute_result"
    }
   ],
   "source": [
    "test_click_log.head()"
   ]
  },
  {
   "cell_type": "code",
   "execution_count": 6,
   "metadata": {
    "ExecuteTime": {
     "end_time": "2020-05-12T15:14:01.969984Z",
     "start_time": "2020-05-12T15:13:22.104608Z"
    }
   },
   "outputs": [
    {
     "data": {
      "text/html": [
       "<div>\n",
       "<style scoped>\n",
       "    .dataframe tbody tr th:only-of-type {\n",
       "        vertical-align: middle;\n",
       "    }\n",
       "\n",
       "    .dataframe tbody tr th {\n",
       "        vertical-align: top;\n",
       "    }\n",
       "\n",
       "    .dataframe thead th {\n",
       "        text-align: right;\n",
       "    }\n",
       "</style>\n",
       "<table border=\"1\" class=\"dataframe\">\n",
       "  <thead>\n",
       "    <tr style=\"text-align: right;\">\n",
       "      <th></th>\n",
       "      <th>time</th>\n",
       "      <th>user_id</th>\n",
       "      <th>creative_id</th>\n",
       "      <th>click_times</th>\n",
       "      <th>ad_id</th>\n",
       "      <th>product_id</th>\n",
       "      <th>product_category</th>\n",
       "      <th>advertiser_id</th>\n",
       "      <th>industry</th>\n",
       "    </tr>\n",
       "  </thead>\n",
       "  <tbody>\n",
       "    <tr>\n",
       "      <th>0</th>\n",
       "      <td>20</td>\n",
       "      <td>1</td>\n",
       "      <td>821396</td>\n",
       "      <td>1</td>\n",
       "      <td>724607</td>\n",
       "      <td>0</td>\n",
       "      <td>5</td>\n",
       "      <td>7293</td>\n",
       "      <td>326</td>\n",
       "    </tr>\n",
       "    <tr>\n",
       "      <th>1</th>\n",
       "      <td>20</td>\n",
       "      <td>1</td>\n",
       "      <td>209778</td>\n",
       "      <td>1</td>\n",
       "      <td>188507</td>\n",
       "      <td>136</td>\n",
       "      <td>2</td>\n",
       "      <td>9702</td>\n",
       "      <td>6</td>\n",
       "    </tr>\n",
       "    <tr>\n",
       "      <th>2</th>\n",
       "      <td>20</td>\n",
       "      <td>1</td>\n",
       "      <td>877468</td>\n",
       "      <td>1</td>\n",
       "      <td>773445</td>\n",
       "      <td>0</td>\n",
       "      <td>5</td>\n",
       "      <td>29455</td>\n",
       "      <td>106</td>\n",
       "    </tr>\n",
       "    <tr>\n",
       "      <th>3</th>\n",
       "      <td>39</td>\n",
       "      <td>1</td>\n",
       "      <td>1683713</td>\n",
       "      <td>1</td>\n",
       "      <td>1458878</td>\n",
       "      <td>0</td>\n",
       "      <td>5</td>\n",
       "      <td>14668</td>\n",
       "      <td>326</td>\n",
       "    </tr>\n",
       "    <tr>\n",
       "      <th>4</th>\n",
       "      <td>40</td>\n",
       "      <td>1</td>\n",
       "      <td>122032</td>\n",
       "      <td>1</td>\n",
       "      <td>109959</td>\n",
       "      <td>1334</td>\n",
       "      <td>2</td>\n",
       "      <td>11411</td>\n",
       "      <td>0</td>\n",
       "    </tr>\n",
       "  </tbody>\n",
       "</table>\n",
       "</div>"
      ],
      "text/plain": [
       "   time  user_id  creative_id  click_times    ad_id  product_id  \\\n",
       "0    20        1       821396            1   724607           0   \n",
       "1    20        1       209778            1   188507         136   \n",
       "2    20        1       877468            1   773445           0   \n",
       "3    39        1      1683713            1  1458878           0   \n",
       "4    40        1       122032            1   109959        1334   \n",
       "\n",
       "   product_category  advertiser_id  industry  \n",
       "0                 5           7293       326  \n",
       "1                 2           9702         6  \n",
       "2                 5          29455       106  \n",
       "3                 5          14668       326  \n",
       "4                 2          11411         0  "
      ]
     },
     "execution_count": 6,
     "metadata": {},
     "output_type": "execute_result"
    }
   ],
   "source": [
    "click_log = train_click_log.append(test_click_log)\n",
    "click_log.sort_values(by=['user_id','time'], ascending=[True,True], inplace=True)\n",
    "click_log = click_log.reset_index(drop=True)\n",
    "click_log.head()"
   ]
  },
  {
   "cell_type": "code",
   "execution_count": 10,
   "metadata": {
    "ExecuteTime": {
     "end_time": "2020-05-12T15:37:03.901329Z",
     "start_time": "2020-05-12T15:32:28.649513Z"
    }
   },
   "outputs": [
    {
     "data": {
      "text/html": [
       "<div>\n",
       "<style scoped>\n",
       "    .dataframe tbody tr th:only-of-type {\n",
       "        vertical-align: middle;\n",
       "    }\n",
       "\n",
       "    .dataframe tbody tr th {\n",
       "        vertical-align: top;\n",
       "    }\n",
       "\n",
       "    .dataframe thead th {\n",
       "        text-align: right;\n",
       "    }\n",
       "</style>\n",
       "<table border=\"1\" class=\"dataframe\">\n",
       "  <thead>\n",
       "    <tr style=\"text-align: right;\">\n",
       "      <th></th>\n",
       "      <th>user_id</th>\n",
       "      <th>creative_id</th>\n",
       "    </tr>\n",
       "  </thead>\n",
       "  <tbody>\n",
       "    <tr>\n",
       "      <th>0</th>\n",
       "      <td>1</td>\n",
       "      <td>[821396, 209778, 877468, 1683713, 122032, 7169...</td>\n",
       "    </tr>\n",
       "    <tr>\n",
       "      <th>1</th>\n",
       "      <td>2</td>\n",
       "      <td>[63441, 155822, 39714, 609050, 13069, 441462, ...</td>\n",
       "    </tr>\n",
       "    <tr>\n",
       "      <th>2</th>\n",
       "      <td>3</td>\n",
       "      <td>[661347, 808612, 710859, 825434, 593522, 72694...</td>\n",
       "    </tr>\n",
       "    <tr>\n",
       "      <th>3</th>\n",
       "      <td>4</td>\n",
       "      <td>[39588, 589886, 574787, 1892854, 1962706, 2264...</td>\n",
       "    </tr>\n",
       "    <tr>\n",
       "      <th>4</th>\n",
       "      <td>5</td>\n",
       "      <td>[296145, 350759, 24333, 43235, 852327, 1054434...</td>\n",
       "    </tr>\n",
       "  </tbody>\n",
       "</table>\n",
       "</div>"
      ],
      "text/plain": [
       "   user_id                                        creative_id\n",
       "0        1  [821396, 209778, 877468, 1683713, 122032, 7169...\n",
       "1        2  [63441, 155822, 39714, 609050, 13069, 441462, ...\n",
       "2        3  [661347, 808612, 710859, 825434, 593522, 72694...\n",
       "3        4  [39588, 589886, 574787, 1892854, 1962706, 2264...\n",
       "4        5  [296145, 350759, 24333, 43235, 852327, 1054434..."
      ]
     },
     "execution_count": 10,
     "metadata": {},
     "output_type": "execute_result"
    }
   ],
   "source": [
    "user_creative_ids = click_log.groupby(['user_id'])['creative_id'].apply(lambda x:list(x)).reset_index()\n",
    "user_creative_ids.to_pickle(f\"{pickle_path}/user_creative_ids.pickle\")\n",
    "user_creative_ids.head()"
   ]
  }
 ],
 "metadata": {
  "kernelspec": {
   "display_name": "Python 3",
   "language": "python",
   "name": "python3"
  },
  "language_info": {
   "codemirror_mode": {
    "name": "ipython",
    "version": 3
   },
   "file_extension": ".py",
   "mimetype": "text/x-python",
   "name": "python",
   "nbconvert_exporter": "python",
   "pygments_lexer": "ipython3",
   "version": "3.7.4rc1"
  },
  "toc": {
   "base_numbering": 1,
   "nav_menu": {},
   "number_sections": true,
   "sideBar": true,
   "skip_h1_title": false,
   "title_cell": "Table of Contents",
   "title_sidebar": "Contents",
   "toc_cell": false,
   "toc_position": {},
   "toc_section_display": true,
   "toc_window_display": false
  },
  "varInspector": {
   "cols": {
    "lenName": 16,
    "lenType": 16,
    "lenVar": 40
   },
   "kernels_config": {
    "python": {
     "delete_cmd_postfix": "",
     "delete_cmd_prefix": "del ",
     "library": "var_list.py",
     "varRefreshCmd": "print(var_dic_list())"
    },
    "r": {
     "delete_cmd_postfix": ") ",
     "delete_cmd_prefix": "rm(",
     "library": "var_list.r",
     "varRefreshCmd": "cat(var_dic_list()) "
    }
   },
   "types_to_exclude": [
    "module",
    "function",
    "builtin_function_or_method",
    "instance",
    "_Feature"
   ],
   "window_display": false
  }
 },
 "nbformat": 4,
 "nbformat_minor": 2
}

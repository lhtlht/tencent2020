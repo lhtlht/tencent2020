{
 "cells": [
  {
   "cell_type": "code",
   "execution_count": 1,
   "metadata": {
    "ExecuteTime": {
     "end_time": "2020-06-16T00:48:41.748578Z",
     "start_time": "2020-06-16T00:48:33.726009Z"
    }
   },
   "outputs": [],
   "source": [
    "import sys\n",
    "import os\n",
    "import gc\n",
    "sys.path.append(r\"..\")\n",
    "\n",
    "from utils import *\n",
    "import pandas as pd\n",
    "import numpy as np\n",
    "\n",
    "path_build = \"../../data/tencent2020/build/\"\n",
    "path_save = \"../../data/tencent2020/save/\"\n",
    "\n",
    "pickle_path = \"../../data/tencent2020/pickle\"\n",
    "if not os.path.exists(pickle_path):\n",
    "    os.mkdir(pickle_path) \n",
    "pd.set_option('display.max_columns', None)"
   ]
  },
  {
   "cell_type": "code",
   "execution_count": 2,
   "metadata": {
    "ExecuteTime": {
     "end_time": "2020-06-16T00:49:48.254336Z",
     "start_time": "2020-06-16T00:48:41.751524Z"
    }
   },
   "outputs": [
    {
     "data": {
      "text/plain": [
       "((30082771, 9), (33585512, 9))"
      ]
     },
     "execution_count": 2,
     "metadata": {},
     "output_type": "execute_result"
    }
   ],
   "source": [
    "train_click_log = pd.read_csv(path_save + \"train_click_log.csv\", encoding=\"utf-8\")\n",
    "test_click_log = pd.read_csv(path_save + \"test_click_log.csv\", encoding=\"utf-8\")\n",
    "train_click_log.shape, test_click_log.shape"
   ]
  },
  {
   "cell_type": "markdown",
   "metadata": {},
   "source": [
    "train：user_id 范围 (1, 900000)  \n",
    "test ：user_id 范围 (3000001, 4000000) "
   ]
  },
  {
   "cell_type": "code",
   "execution_count": 3,
   "metadata": {
    "ExecuteTime": {
     "end_time": "2020-06-16T00:50:41.020270Z",
     "start_time": "2020-06-16T00:49:48.257328Z"
    }
   },
   "outputs": [
    {
     "name": "stdout",
     "output_type": "stream",
     "text": [
      "(63663353, 9)\n"
     ]
    },
    {
     "data": {
      "text/html": [
       "<div>\n",
       "<style scoped>\n",
       "    .dataframe tbody tr th:only-of-type {\n",
       "        vertical-align: middle;\n",
       "    }\n",
       "\n",
       "    .dataframe tbody tr th {\n",
       "        vertical-align: top;\n",
       "    }\n",
       "\n",
       "    .dataframe thead th {\n",
       "        text-align: right;\n",
       "    }\n",
       "</style>\n",
       "<table border=\"1\" class=\"dataframe\">\n",
       "  <thead>\n",
       "    <tr style=\"text-align: right;\">\n",
       "      <th></th>\n",
       "      <th>time</th>\n",
       "      <th>user_id</th>\n",
       "      <th>creative_id</th>\n",
       "      <th>click_times</th>\n",
       "      <th>ad_id</th>\n",
       "      <th>product_id</th>\n",
       "      <th>product_category</th>\n",
       "      <th>advertiser_id</th>\n",
       "      <th>industry</th>\n",
       "    </tr>\n",
       "  </thead>\n",
       "  <tbody>\n",
       "    <tr>\n",
       "      <th>0</th>\n",
       "      <td>20</td>\n",
       "      <td>1</td>\n",
       "      <td>821396</td>\n",
       "      <td>1</td>\n",
       "      <td>724607</td>\n",
       "      <td>0</td>\n",
       "      <td>5</td>\n",
       "      <td>7293</td>\n",
       "      <td>326</td>\n",
       "    </tr>\n",
       "    <tr>\n",
       "      <th>1</th>\n",
       "      <td>20</td>\n",
       "      <td>1</td>\n",
       "      <td>209778</td>\n",
       "      <td>1</td>\n",
       "      <td>188507</td>\n",
       "      <td>136</td>\n",
       "      <td>2</td>\n",
       "      <td>9702</td>\n",
       "      <td>6</td>\n",
       "    </tr>\n",
       "    <tr>\n",
       "      <th>2</th>\n",
       "      <td>20</td>\n",
       "      <td>1</td>\n",
       "      <td>877468</td>\n",
       "      <td>1</td>\n",
       "      <td>773445</td>\n",
       "      <td>0</td>\n",
       "      <td>5</td>\n",
       "      <td>29455</td>\n",
       "      <td>106</td>\n",
       "    </tr>\n",
       "    <tr>\n",
       "      <th>3</th>\n",
       "      <td>39</td>\n",
       "      <td>1</td>\n",
       "      <td>1683713</td>\n",
       "      <td>1</td>\n",
       "      <td>1458878</td>\n",
       "      <td>0</td>\n",
       "      <td>5</td>\n",
       "      <td>14668</td>\n",
       "      <td>326</td>\n",
       "    </tr>\n",
       "    <tr>\n",
       "      <th>4</th>\n",
       "      <td>40</td>\n",
       "      <td>1</td>\n",
       "      <td>122032</td>\n",
       "      <td>1</td>\n",
       "      <td>109959</td>\n",
       "      <td>1334</td>\n",
       "      <td>2</td>\n",
       "      <td>11411</td>\n",
       "      <td>0</td>\n",
       "    </tr>\n",
       "  </tbody>\n",
       "</table>\n",
       "</div>"
      ],
      "text/plain": [
       "   time  user_id  creative_id  click_times    ad_id  product_id  \\\n",
       "0    20        1       821396            1   724607           0   \n",
       "1    20        1       209778            1   188507         136   \n",
       "2    20        1       877468            1   773445           0   \n",
       "3    39        1      1683713            1  1458878           0   \n",
       "4    40        1       122032            1   109959        1334   \n",
       "\n",
       "   product_category  advertiser_id  industry  \n",
       "0                 5           7293       326  \n",
       "1                 2           9702         6  \n",
       "2                 5          29455       106  \n",
       "3                 5          14668       326  \n",
       "4                 2          11411         0  "
      ]
     },
     "execution_count": 3,
     "metadata": {},
     "output_type": "execute_result"
    }
   ],
   "source": [
    "click_log = train_click_log.append(test_click_log)\n",
    "click_log.sort_values(by=['user_id','time'], ascending=[True,True], inplace=True)\n",
    "click_log = click_log.reset_index(drop=True)\n",
    "click_log = click_log[click_log['click_times']<=8] #去除点击次数99.99%外的数据记录\n",
    "print(click_log.shape)\n",
    "click_log.head()"
   ]
  },
  {
   "cell_type": "markdown",
   "metadata": {},
   "source": [
    "## 统计特征生成"
   ]
  },
  {
   "cell_type": "code",
   "execution_count": 4,
   "metadata": {
    "ExecuteTime": {
     "end_time": "2020-06-16T00:53:12.113274Z",
     "start_time": "2020-06-16T00:50:41.023262Z"
    }
   },
   "outputs": [],
   "source": [
    "# 统计ctr特征\n",
    "user_ids = pd.read_pickle(f\"{pickle_path}/user_ids_relencode.pickle\")\n",
    "# base_features = ['creative_id', 'ad_id']\n",
    "# dense_features = []\n",
    "# for fea in base_features:\n",
    "#     for g in [1]:\n",
    "#         dense_features.append(f'mean_{fea}_gender_{g}')\n",
    "#         dense_features.append(f'sum_{fea}_gender_{g}')\n",
    "#     for a in [1,2,3,4,5,6,7,8,9,10]:\n",
    "#         dense_features.append(f'mean_{fea}_age_{a}')\n",
    "#         dense_features.append(f'sum_{fea}_age_{a}')\n",
    "# user_ids = user_ids.drop(dense_features, axis=1)      \n",
    "# print(user_ids.columns) \n",
    "# user_ids.to_pickle(f\"{pickle_path}/user_ids_relencode.pickle\")\n"
   ]
  },
  {
   "cell_type": "code",
   "execution_count": 5,
   "metadata": {
    "ExecuteTime": {
     "end_time": "2020-06-16T00:53:55.566102Z",
     "start_time": "2020-06-16T00:53:12.117265Z"
    }
   },
   "outputs": [
    {
     "name": "stdout",
     "output_type": "stream",
     "text": [
      "   time  user_id  creative_id  click_times    ad_id  product_id  \\\n",
      "0     9    30920       567330            1   504423       30673   \n",
      "1    65    30920      3072255            1  2642300        1261   \n",
      "2    56    30920      2361327            1  2035918        1261   \n",
      "3     6   309204       325532            1   292523       27081   \n",
      "4    59   309204      2746730            1  2362208           0   \n",
      "\n",
      "   product_category  advertiser_id  industry  age  gender  age_1  age_2  \\\n",
      "0                 3          32638       319    2       1      0      1   \n",
      "1                 2           6783         6    2       1      0      1   \n",
      "2                 2           6783         6    2       1      0      1   \n",
      "3                 3          32066       242    6       1      0      0   \n",
      "4                18          14682        88    6       1      0      0   \n",
      "\n",
      "   age_3  age_4  age_5  age_6  age_7  age_8  age_9  age_10  gender_1  \n",
      "0      0      0      0      0      0      0      0       0         1  \n",
      "1      0      0      0      0      0      0      0       0         1  \n",
      "2      0      0      0      0      0      0      0       0         1  \n",
      "3      0      0      0      1      0      0      0       0         1  \n",
      "4      0      0      0      1      0      0      0       0         1  \n",
      "{1: 0.31716315789473687, 2: 0.15652105263157895} {3: 0.10679421052631578, 4: 0.07925157894736842, 2: 0.07856368421052631, 5: 0.0687721052631579, 6: 0.05353684210526316, 7: 0.035111052631578946, 1: 0.018523684210526317, 8: 0.016824736842105264, 9: 0.010249473684210527, 10: 0.006056842105263158}\n"
     ]
    },
    {
     "data": {
      "text/plain": [
       "63"
      ]
     },
     "execution_count": 5,
     "metadata": {},
     "output_type": "execute_result"
    }
   ],
   "source": [
    "user = pd.read_csv(train_preliminary_p + \"user.csv\", encoding='utf-8')\n",
    "ctr_df = train_click_log.merge(user, how='left', on='user_id')\n",
    "ctr_df = pd.concat([ctr_df, pd.get_dummies(ctr_df['age'],prefix='age'), pd.get_dummies(ctr_df['gender'],prefix='gender')], axis=1)\n",
    "del ctr_df['gender_2']\n",
    "print(ctr_df.head())\n",
    "\n",
    "\n",
    "gender_p = dict(user['gender'].value_counts() / user_ids.shape[0])\n",
    "age_p = dict(user['age'].value_counts() / user_ids.shape[0])\n",
    "print(gender_p, age_p)\n",
    "\n",
    "ctr_list = ['gender_1', 'age_1', 'age_2', 'age_3', 'age_4', 'age_5', 'age_6', 'age_7', 'age_8', 'age_9', 'age_10']\n",
    "del user\n",
    "gc.collect()"
   ]
  },
  {
   "cell_type": "code",
   "execution_count": 6,
   "metadata": {
    "ExecuteTime": {
     "end_time": "2020-06-16T01:01:52.494272Z",
     "start_time": "2020-06-16T00:54:11.326366Z"
    }
   },
   "outputs": [
    {
     "name": "stdout",
     "output_type": "stream",
     "text": [
      "ad_id\n",
      "product_id\n"
     ]
    },
    {
     "ename": "KeyboardInterrupt",
     "evalue": "",
     "output_type": "error",
     "traceback": [
      "\u001b[1;31m---------------------------------------------------------------------------\u001b[0m",
      "\u001b[1;31mKeyboardInterrupt\u001b[0m                         Traceback (most recent call last)",
      "\u001b[1;32m<ipython-input-6-6fd445354604>\u001b[0m in \u001b[0;36m<module>\u001b[1;34m\u001b[0m\n\u001b[0;32m     20\u001b[0m \u001b[1;33m\u001b[0m\u001b[0m\n\u001b[0;32m     21\u001b[0m \u001b[1;33m\u001b[0m\u001b[0m\n\u001b[1;32m---> 22\u001b[1;33m     \u001b[0mclick_log\u001b[0m \u001b[1;33m=\u001b[0m \u001b[0mclick_log\u001b[0m\u001b[1;33m.\u001b[0m\u001b[0mmerge\u001b[0m\u001b[1;33m(\u001b[0m\u001b[0mcreative_id_ctr_df\u001b[0m\u001b[1;33m,\u001b[0m \u001b[0mhow\u001b[0m\u001b[1;33m=\u001b[0m\u001b[1;34m'left'\u001b[0m\u001b[1;33m,\u001b[0m \u001b[0mon\u001b[0m\u001b[1;33m=\u001b[0m\u001b[0mfea\u001b[0m\u001b[1;33m)\u001b[0m\u001b[1;33m\u001b[0m\u001b[1;33m\u001b[0m\u001b[0m\n\u001b[0m\u001b[0;32m     23\u001b[0m \u001b[1;33m\u001b[0m\u001b[0m\n\u001b[0;32m     24\u001b[0m     \u001b[1;31m#填充缺失值\u001b[0m\u001b[1;33m\u001b[0m\u001b[1;33m\u001b[0m\u001b[1;33m\u001b[0m\u001b[0m\n",
      "\u001b[1;32mc:\\python37\\lib\\site-packages\\pandas\\core\\frame.py\u001b[0m in \u001b[0;36mmerge\u001b[1;34m(self, right, how, on, left_on, right_on, left_index, right_index, sort, suffixes, copy, indicator, validate)\u001b[0m\n\u001b[0;32m   6866\u001b[0m                      \u001b[0mright_on\u001b[0m\u001b[1;33m=\u001b[0m\u001b[0mright_on\u001b[0m\u001b[1;33m,\u001b[0m \u001b[0mleft_index\u001b[0m\u001b[1;33m=\u001b[0m\u001b[0mleft_index\u001b[0m\u001b[1;33m,\u001b[0m\u001b[1;33m\u001b[0m\u001b[1;33m\u001b[0m\u001b[0m\n\u001b[0;32m   6867\u001b[0m                      \u001b[0mright_index\u001b[0m\u001b[1;33m=\u001b[0m\u001b[0mright_index\u001b[0m\u001b[1;33m,\u001b[0m \u001b[0msort\u001b[0m\u001b[1;33m=\u001b[0m\u001b[0msort\u001b[0m\u001b[1;33m,\u001b[0m \u001b[0msuffixes\u001b[0m\u001b[1;33m=\u001b[0m\u001b[0msuffixes\u001b[0m\u001b[1;33m,\u001b[0m\u001b[1;33m\u001b[0m\u001b[1;33m\u001b[0m\u001b[0m\n\u001b[1;32m-> 6868\u001b[1;33m                      copy=copy, indicator=indicator, validate=validate)\n\u001b[0m\u001b[0;32m   6869\u001b[0m \u001b[1;33m\u001b[0m\u001b[0m\n\u001b[0;32m   6870\u001b[0m     \u001b[1;32mdef\u001b[0m \u001b[0mround\u001b[0m\u001b[1;33m(\u001b[0m\u001b[0mself\u001b[0m\u001b[1;33m,\u001b[0m \u001b[0mdecimals\u001b[0m\u001b[1;33m=\u001b[0m\u001b[1;36m0\u001b[0m\u001b[1;33m,\u001b[0m \u001b[1;33m*\u001b[0m\u001b[0margs\u001b[0m\u001b[1;33m,\u001b[0m \u001b[1;33m**\u001b[0m\u001b[0mkwargs\u001b[0m\u001b[1;33m)\u001b[0m\u001b[1;33m:\u001b[0m\u001b[1;33m\u001b[0m\u001b[1;33m\u001b[0m\u001b[0m\n",
      "\u001b[1;32mc:\\python37\\lib\\site-packages\\pandas\\core\\reshape\\merge.py\u001b[0m in \u001b[0;36mmerge\u001b[1;34m(left, right, how, on, left_on, right_on, left_index, right_index, sort, suffixes, copy, indicator, validate)\u001b[0m\n\u001b[0;32m     46\u001b[0m                          \u001b[0mcopy\u001b[0m\u001b[1;33m=\u001b[0m\u001b[0mcopy\u001b[0m\u001b[1;33m,\u001b[0m \u001b[0mindicator\u001b[0m\u001b[1;33m=\u001b[0m\u001b[0mindicator\u001b[0m\u001b[1;33m,\u001b[0m\u001b[1;33m\u001b[0m\u001b[1;33m\u001b[0m\u001b[0m\n\u001b[0;32m     47\u001b[0m                          validate=validate)\n\u001b[1;32m---> 48\u001b[1;33m     \u001b[1;32mreturn\u001b[0m \u001b[0mop\u001b[0m\u001b[1;33m.\u001b[0m\u001b[0mget_result\u001b[0m\u001b[1;33m(\u001b[0m\u001b[1;33m)\u001b[0m\u001b[1;33m\u001b[0m\u001b[1;33m\u001b[0m\u001b[0m\n\u001b[0m\u001b[0;32m     49\u001b[0m \u001b[1;33m\u001b[0m\u001b[0m\n\u001b[0;32m     50\u001b[0m \u001b[1;33m\u001b[0m\u001b[0m\n",
      "\u001b[1;32mc:\\python37\\lib\\site-packages\\pandas\\core\\reshape\\merge.py\u001b[0m in \u001b[0;36mget_result\u001b[1;34m(self)\u001b[0m\n\u001b[0;32m    544\u001b[0m                 self.left, self.right)\n\u001b[0;32m    545\u001b[0m \u001b[1;33m\u001b[0m\u001b[0m\n\u001b[1;32m--> 546\u001b[1;33m         \u001b[0mjoin_index\u001b[0m\u001b[1;33m,\u001b[0m \u001b[0mleft_indexer\u001b[0m\u001b[1;33m,\u001b[0m \u001b[0mright_indexer\u001b[0m \u001b[1;33m=\u001b[0m \u001b[0mself\u001b[0m\u001b[1;33m.\u001b[0m\u001b[0m_get_join_info\u001b[0m\u001b[1;33m(\u001b[0m\u001b[1;33m)\u001b[0m\u001b[1;33m\u001b[0m\u001b[1;33m\u001b[0m\u001b[0m\n\u001b[0m\u001b[0;32m    547\u001b[0m \u001b[1;33m\u001b[0m\u001b[0m\n\u001b[0;32m    548\u001b[0m         \u001b[0mldata\u001b[0m\u001b[1;33m,\u001b[0m \u001b[0mrdata\u001b[0m \u001b[1;33m=\u001b[0m \u001b[0mself\u001b[0m\u001b[1;33m.\u001b[0m\u001b[0mleft\u001b[0m\u001b[1;33m.\u001b[0m\u001b[0m_data\u001b[0m\u001b[1;33m,\u001b[0m \u001b[0mself\u001b[0m\u001b[1;33m.\u001b[0m\u001b[0mright\u001b[0m\u001b[1;33m.\u001b[0m\u001b[0m_data\u001b[0m\u001b[1;33m\u001b[0m\u001b[1;33m\u001b[0m\u001b[0m\n",
      "\u001b[1;32mc:\\python37\\lib\\site-packages\\pandas\\core\\reshape\\merge.py\u001b[0m in \u001b[0;36m_get_join_info\u001b[1;34m(self)\u001b[0m\n\u001b[0;32m    754\u001b[0m         \u001b[1;32melse\u001b[0m\u001b[1;33m:\u001b[0m\u001b[1;33m\u001b[0m\u001b[1;33m\u001b[0m\u001b[0m\n\u001b[0;32m    755\u001b[0m             (left_indexer,\n\u001b[1;32m--> 756\u001b[1;33m              right_indexer) = self._get_join_indexers()\n\u001b[0m\u001b[0;32m    757\u001b[0m \u001b[1;33m\u001b[0m\u001b[0m\n\u001b[0;32m    758\u001b[0m             \u001b[1;32mif\u001b[0m \u001b[0mself\u001b[0m\u001b[1;33m.\u001b[0m\u001b[0mright_index\u001b[0m\u001b[1;33m:\u001b[0m\u001b[1;33m\u001b[0m\u001b[1;33m\u001b[0m\u001b[0m\n",
      "\u001b[1;32mc:\\python37\\lib\\site-packages\\pandas\\core\\reshape\\merge.py\u001b[0m in \u001b[0;36m_get_join_indexers\u001b[1;34m(self)\u001b[0m\n\u001b[0;32m    733\u001b[0m                                   \u001b[0mself\u001b[0m\u001b[1;33m.\u001b[0m\u001b[0mright_join_keys\u001b[0m\u001b[1;33m,\u001b[0m\u001b[1;33m\u001b[0m\u001b[1;33m\u001b[0m\u001b[0m\n\u001b[0;32m    734\u001b[0m                                   \u001b[0msort\u001b[0m\u001b[1;33m=\u001b[0m\u001b[0mself\u001b[0m\u001b[1;33m.\u001b[0m\u001b[0msort\u001b[0m\u001b[1;33m,\u001b[0m\u001b[1;33m\u001b[0m\u001b[1;33m\u001b[0m\u001b[0m\n\u001b[1;32m--> 735\u001b[1;33m                                   how=self.how)\n\u001b[0m\u001b[0;32m    736\u001b[0m \u001b[1;33m\u001b[0m\u001b[0m\n\u001b[0;32m    737\u001b[0m     \u001b[1;32mdef\u001b[0m \u001b[0m_get_join_info\u001b[0m\u001b[1;33m(\u001b[0m\u001b[0mself\u001b[0m\u001b[1;33m)\u001b[0m\u001b[1;33m:\u001b[0m\u001b[1;33m\u001b[0m\u001b[1;33m\u001b[0m\u001b[0m\n",
      "\u001b[1;32mc:\\python37\\lib\\site-packages\\pandas\\core\\reshape\\merge.py\u001b[0m in \u001b[0;36m_get_join_indexers\u001b[1;34m(left_keys, right_keys, sort, how, **kwargs)\u001b[0m\n\u001b[0;32m   1136\u001b[0m     \u001b[1;31m# `count` is the num. of unique keys\u001b[0m\u001b[1;33m\u001b[0m\u001b[1;33m\u001b[0m\u001b[1;33m\u001b[0m\u001b[0m\n\u001b[0;32m   1137\u001b[0m     \u001b[1;31m# set(lkey) | set(rkey) == range(count)\u001b[0m\u001b[1;33m\u001b[0m\u001b[1;33m\u001b[0m\u001b[1;33m\u001b[0m\u001b[0m\n\u001b[1;32m-> 1138\u001b[1;33m     \u001b[0mlkey\u001b[0m\u001b[1;33m,\u001b[0m \u001b[0mrkey\u001b[0m\u001b[1;33m,\u001b[0m \u001b[0mcount\u001b[0m \u001b[1;33m=\u001b[0m \u001b[0mfkeys\u001b[0m\u001b[1;33m(\u001b[0m\u001b[0mlkey\u001b[0m\u001b[1;33m,\u001b[0m \u001b[0mrkey\u001b[0m\u001b[1;33m)\u001b[0m\u001b[1;33m\u001b[0m\u001b[1;33m\u001b[0m\u001b[0m\n\u001b[0m\u001b[0;32m   1139\u001b[0m \u001b[1;33m\u001b[0m\u001b[0m\n\u001b[0;32m   1140\u001b[0m     \u001b[1;31m# preserve left frame order if how == 'left' and sort == False\u001b[0m\u001b[1;33m\u001b[0m\u001b[1;33m\u001b[0m\u001b[1;33m\u001b[0m\u001b[0m\n",
      "\u001b[1;32mc:\\python37\\lib\\site-packages\\pandas\\core\\reshape\\merge.py\u001b[0m in \u001b[0;36m_factorize_keys\u001b[1;34m(lk, rk, sort)\u001b[0m\n\u001b[0;32m   1659\u001b[0m     \u001b[0mrizer\u001b[0m \u001b[1;33m=\u001b[0m \u001b[0mklass\u001b[0m\u001b[1;33m(\u001b[0m\u001b[0mmax\u001b[0m\u001b[1;33m(\u001b[0m\u001b[0mlen\u001b[0m\u001b[1;33m(\u001b[0m\u001b[0mlk\u001b[0m\u001b[1;33m)\u001b[0m\u001b[1;33m,\u001b[0m \u001b[0mlen\u001b[0m\u001b[1;33m(\u001b[0m\u001b[0mrk\u001b[0m\u001b[1;33m)\u001b[0m\u001b[1;33m)\u001b[0m\u001b[1;33m)\u001b[0m\u001b[1;33m\u001b[0m\u001b[1;33m\u001b[0m\u001b[0m\n\u001b[0;32m   1660\u001b[0m \u001b[1;33m\u001b[0m\u001b[0m\n\u001b[1;32m-> 1661\u001b[1;33m     \u001b[0mllab\u001b[0m \u001b[1;33m=\u001b[0m \u001b[0mrizer\u001b[0m\u001b[1;33m.\u001b[0m\u001b[0mfactorize\u001b[0m\u001b[1;33m(\u001b[0m\u001b[0mlk\u001b[0m\u001b[1;33m)\u001b[0m\u001b[1;33m\u001b[0m\u001b[1;33m\u001b[0m\u001b[0m\n\u001b[0m\u001b[0;32m   1662\u001b[0m     \u001b[0mrlab\u001b[0m \u001b[1;33m=\u001b[0m \u001b[0mrizer\u001b[0m\u001b[1;33m.\u001b[0m\u001b[0mfactorize\u001b[0m\u001b[1;33m(\u001b[0m\u001b[0mrk\u001b[0m\u001b[1;33m)\u001b[0m\u001b[1;33m\u001b[0m\u001b[1;33m\u001b[0m\u001b[0m\n\u001b[0;32m   1663\u001b[0m \u001b[1;33m\u001b[0m\u001b[0m\n",
      "\u001b[1;32mpandas\\_libs\\hashtable.pyx\u001b[0m in \u001b[0;36mpandas._libs.hashtable.Int64Factorizer.factorize\u001b[1;34m()\u001b[0m\n",
      "\u001b[1;32mpandas\\_libs\\hashtable_class_helper.pxi\u001b[0m in \u001b[0;36mpandas._libs.hashtable.Int64HashTable.get_labels\u001b[1;34m()\u001b[0m\n",
      "\u001b[1;32mpandas\\_libs\\hashtable_class_helper.pxi\u001b[0m in \u001b[0;36mpandas._libs.hashtable.Int64HashTable._unique\u001b[1;34m()\u001b[0m\n",
      "\u001b[1;32mc:\\python37\\lib\\site-packages\\numpy\\core\\numeric.py\u001b[0m in \u001b[0;36masarray\u001b[1;34m(a, dtype, order)\u001b[0m\n\u001b[0;32m    467\u001b[0m \u001b[1;33m\u001b[0m\u001b[0m\n\u001b[0;32m    468\u001b[0m \u001b[1;33m\u001b[0m\u001b[0m\n\u001b[1;32m--> 469\u001b[1;33m \u001b[1;33m@\u001b[0m\u001b[0mset_module\u001b[0m\u001b[1;33m(\u001b[0m\u001b[1;34m'numpy'\u001b[0m\u001b[1;33m)\u001b[0m\u001b[1;33m\u001b[0m\u001b[1;33m\u001b[0m\u001b[0m\n\u001b[0m\u001b[0;32m    470\u001b[0m \u001b[1;32mdef\u001b[0m \u001b[0masarray\u001b[0m\u001b[1;33m(\u001b[0m\u001b[0ma\u001b[0m\u001b[1;33m,\u001b[0m \u001b[0mdtype\u001b[0m\u001b[1;33m=\u001b[0m\u001b[1;32mNone\u001b[0m\u001b[1;33m,\u001b[0m \u001b[0morder\u001b[0m\u001b[1;33m=\u001b[0m\u001b[1;32mNone\u001b[0m\u001b[1;33m)\u001b[0m\u001b[1;33m:\u001b[0m\u001b[1;33m\u001b[0m\u001b[1;33m\u001b[0m\u001b[0m\n\u001b[0;32m    471\u001b[0m     \"\"\"Convert the input to an array.\n",
      "\u001b[1;31mKeyboardInterrupt\u001b[0m: "
     ]
    }
   ],
   "source": [
    "#numeric_features = ['creative_id', 'ad_id', 'product_id', 'product_category', 'advertiser_id', 'industry']\n",
    "numeric_features = ['ad_id', 'product_id', 'product_category', 'advertiser_id', 'industry']\n",
    "\n",
    "for fea in numeric_features:\n",
    "    print(fea)\n",
    "    creative_id_ctr = ctr_df.drop_duplicates(['user_id',fea])\n",
    "\n",
    "    creative_id_ctr_df = creative_id_ctr.groupby([fea])[ctr_list].mean().add_prefix(f'mean_{fea}_').reset_index()\n",
    "    creative_id_sum = creative_id_ctr.groupby([fea])[ctr_list].sum().add_prefix(f'sum_{fea}_').reset_index()\n",
    "    creative_id_size = creative_id_ctr.groupby([fea]).size().reset_index().rename({0:'size'}, axis=1)\n",
    "    creative_id_ctr_df[f'size'] = creative_id_size['size']\n",
    "    #贝叶斯平滑\n",
    "    for f in ctr_list:\n",
    "        M = creative_id_ctr_df[f'mean_{fea}_{f}'].mean()\n",
    "        S = creative_id_ctr_df[f'mean_{fea}_{f}'].var()\n",
    "        alpha =( M * ((M*(1-M))/(S)-1)  )*10\n",
    "        beta  =( (1-M) * ((M*(1-M))/(S)-1) )*10\n",
    "        creative_id_ctr_df[f'sum_{fea}_{f}'] = creative_id_sum[f'sum_{fea}_{f}']\n",
    "        creative_id_ctr_df[f'mean_{fea}_{f}'] = (creative_id_ctr_df[f'sum_{fea}_{f}'] + alpha) / (creative_id_ctr_df[f'size'] + alpha + beta)\n",
    "\n",
    "\n",
    "    click_log = click_log.merge(creative_id_ctr_df, how='left', on=fea)\n",
    "\n",
    "    #填充缺失值\n",
    "    click_log[f'mean_{fea}_gender_1'] = click_log[f'mean_{fea}_gender_1'].fillna(gender_p[1])\n",
    "    click_log[f'sum_{fea}_gender_1'] = click_log[f'sum_{fea}_gender_1'].fillna(0)\n",
    "    click_log[f'size'] = click_log['size'].fillna(0)\n",
    "    for i in range(1,11):\n",
    "        click_log[f'mean_{fea}_age_{i}'] = click_log[f'mean_{fea}_age_{i}'].fillna(age_p[i])\n",
    "        click_log[f'sum_{fea}_age_{i}'] = click_log[f'sum_{fea}_age_{i}'].fillna(0)\n",
    "\n",
    "    creative_id = click_log.groupby(['user_id'])[ [f'mean_{fea}_'+i for i in ctr_list]+[f'sum_{fea}_'+i for i in ctr_list] ].sum().reset_index()\n",
    "    #user_ids = pd.concat([user_ids, creative_id.drop(['user_id'], axis=1)], axis=1)\n",
    "    creative_id.to_pickle(f\"{pickle_path}/{fea}_ctr_df.pickle\")\n",
    "    del creative_id_sum,creative_id_size,creative_id_ctr_df\n",
    "    gc.collect()\n",
    "    #user_ids = user_ids.merge(creative_id, how='left', on='user_id')\n",
    "#user_ids.head()\n",
    "#user_ids.to_pickle(f\"{pickle_path}/user_ids_relencode.pickle\")\n",
    "\n",
    "user_ids.head()"
   ]
  },
  {
   "cell_type": "code",
   "execution_count": 7,
   "metadata": {
    "ExecuteTime": {
     "end_time": "2020-06-16T01:04:07.601249Z",
     "start_time": "2020-06-16T01:02:00.661136Z"
    }
   },
   "outputs": [
    {
     "name": "stdout",
     "output_type": "stream",
     "text": [
      "Mem. usage decreased to 130.46 Mb (60.9% reduction)\n",
      "Mem. usage decreased to 130.46 Mb (60.9% reduction)\n"
     ]
    }
   ],
   "source": [
    "creative_id = pd.read_pickle(f\"{pickle_path}/creative_id_ctr_df.pickle\")\n",
    "ad_id = pd.read_pickle(f\"{pickle_path}/ad_id_ctr_df.pickle\")\n",
    "reduce_mem_usage(creative_id)\n",
    "reduce_mem_usage(ad_id)\n",
    "user_ids = pd.concat([user_ids, creative_id.drop(['user_id'], axis=1), ad_id.drop(['user_id'], axis=1)], axis=1)\n",
    "user_ids.to_pickle(f\"{pickle_path}/user_ids_ctr.pickle\")"
   ]
  },
  {
   "cell_type": "code",
   "execution_count": 13,
   "metadata": {
    "ExecuteTime": {
     "end_time": "2020-06-15T16:35:45.544140Z",
     "start_time": "2020-06-15T16:35:45.539154Z"
    }
   },
   "outputs": [
    {
     "data": {
      "text/plain": [
       "Index(['user_id', 'creative_id', 'ad_id', 'product_id', 'product_category',\n",
       "       'advertiser_id', 'industry', 'click_times', 'time', 'creative_id_times',\n",
       "       'ad_id_times', 'product_id_times', 'advertiser_id_times',\n",
       "       'product_category_times', 'industry_times', 'creative_id_len',\n",
       "       'ad_id_len', 'product_id_len', 'product_category_len', 'advertiser_len',\n",
       "       'industry_len', 'mean_clicktimes', 'max_clicktimes', 'min_clicktimes',\n",
       "       'mean_time', 'max_time', 'min_time', 'time_len', 'time_clicktimes',\n",
       "       'time_creativeids', 'mean_ad_id_gender_1', 'mean_ad_id_age_1',\n",
       "       'mean_ad_id_age_2', 'mean_ad_id_age_3', 'mean_ad_id_age_4',\n",
       "       'mean_ad_id_age_5', 'mean_ad_id_age_6', 'mean_ad_id_age_7',\n",
       "       'mean_ad_id_age_8', 'mean_ad_id_age_9', 'mean_ad_id_age_10',\n",
       "       'sum_ad_id_gender_1', 'sum_ad_id_age_1', 'sum_ad_id_age_2',\n",
       "       'sum_ad_id_age_3', 'sum_ad_id_age_4', 'sum_ad_id_age_5',\n",
       "       'sum_ad_id_age_6', 'sum_ad_id_age_7', 'sum_ad_id_age_8',\n",
       "       'sum_ad_id_age_9', 'sum_ad_id_age_10', 'mean_creative_id_gender_1',\n",
       "       'mean_creative_id_age_1', 'mean_creative_id_age_2',\n",
       "       'mean_creative_id_age_3', 'mean_creative_id_age_4',\n",
       "       'mean_creative_id_age_5', 'mean_creative_id_age_6',\n",
       "       'mean_creative_id_age_7', 'mean_creative_id_age_8',\n",
       "       'mean_creative_id_age_9', 'mean_creative_id_age_10',\n",
       "       'sum_creative_id_gender_1', 'sum_creative_id_age_1',\n",
       "       'sum_creative_id_age_2', 'sum_creative_id_age_3',\n",
       "       'sum_creative_id_age_4', 'sum_creative_id_age_5',\n",
       "       'sum_creative_id_age_6', 'sum_creative_id_age_7',\n",
       "       'sum_creative_id_age_8', 'sum_creative_id_age_9',\n",
       "       'sum_creative_id_age_10'],\n",
       "      dtype='object')"
      ]
     },
     "execution_count": 13,
     "metadata": {},
     "output_type": "execute_result"
    }
   ],
   "source": [
    "#user_ids = pd.concat([user_ids, creative_id.drop(['user_id'], axis=1)], axis=1)\n",
    "#creative_id2 = pd.read_pickle(f\"{pickle_path}/creative_id_ctr_df.pickle\")\n",
    "#user_ids = pd.concat([user_ids, creative_id2.drop(['user_id'], axis=1)], axis=1)\n",
    "#user_ids.to_pickle(f\"{pickle_path}/user_ids_relencode.pickle\")\n",
    "\n",
    "#user_ids.head()\n",
    "user_ids.columns"
   ]
  },
  {
   "cell_type": "code",
   "execution_count": 6,
   "metadata": {
    "ExecuteTime": {
     "end_time": "2020-06-14T15:40:21.319583Z",
     "start_time": "2020-06-14T15:37:37.720365Z"
    }
   },
   "outputs": [],
   "source": [
    "user_ids.columns\n",
    "user_ids.to_pickle(f\"{pickle_path}/user_ids_relencode.pickle\")\n",
    "#creative_id.shape"
   ]
  },
  {
   "cell_type": "code",
   "execution_count": 15,
   "metadata": {
    "ExecuteTime": {
     "end_time": "2020-06-14T08:19:00.863108Z",
     "start_time": "2020-06-14T08:18:17.988704Z"
    },
    "collapsed": true
   },
   "outputs": [
    {
     "data": {
      "text/html": [
       "<div>\n",
       "<style scoped>\n",
       "    .dataframe tbody tr th:only-of-type {\n",
       "        vertical-align: middle;\n",
       "    }\n",
       "\n",
       "    .dataframe tbody tr th {\n",
       "        vertical-align: top;\n",
       "    }\n",
       "\n",
       "    .dataframe thead th {\n",
       "        text-align: right;\n",
       "    }\n",
       "</style>\n",
       "<table border=\"1\" class=\"dataframe\">\n",
       "  <thead>\n",
       "    <tr style=\"text-align: right;\">\n",
       "      <th></th>\n",
       "      <th>column_name</th>\n",
       "      <th>percent_missing</th>\n",
       "    </tr>\n",
       "  </thead>\n",
       "  <tbody>\n",
       "    <tr>\n",
       "      <th>time</th>\n",
       "      <td>time</td>\n",
       "      <td>0.0</td>\n",
       "    </tr>\n",
       "    <tr>\n",
       "      <th>user_id</th>\n",
       "      <td>user_id</td>\n",
       "      <td>0.0</td>\n",
       "    </tr>\n",
       "    <tr>\n",
       "      <th>creative_id</th>\n",
       "      <td>creative_id</td>\n",
       "      <td>0.0</td>\n",
       "    </tr>\n",
       "    <tr>\n",
       "      <th>click_times</th>\n",
       "      <td>click_times</td>\n",
       "      <td>0.0</td>\n",
       "    </tr>\n",
       "    <tr>\n",
       "      <th>ad_id</th>\n",
       "      <td>ad_id</td>\n",
       "      <td>0.0</td>\n",
       "    </tr>\n",
       "    <tr>\n",
       "      <th>product_id</th>\n",
       "      <td>product_id</td>\n",
       "      <td>0.0</td>\n",
       "    </tr>\n",
       "    <tr>\n",
       "      <th>product_category</th>\n",
       "      <td>product_category</td>\n",
       "      <td>0.0</td>\n",
       "    </tr>\n",
       "    <tr>\n",
       "      <th>advertiser_id</th>\n",
       "      <td>advertiser_id</td>\n",
       "      <td>0.0</td>\n",
       "    </tr>\n",
       "    <tr>\n",
       "      <th>industry</th>\n",
       "      <td>industry</td>\n",
       "      <td>0.0</td>\n",
       "    </tr>\n",
       "    <tr>\n",
       "      <th>mean_creative_id_gender_1</th>\n",
       "      <td>mean_creative_id_gender_1</td>\n",
       "      <td>0.0</td>\n",
       "    </tr>\n",
       "    <tr>\n",
       "      <th>mean_creative_id_gender_2</th>\n",
       "      <td>mean_creative_id_gender_2</td>\n",
       "      <td>0.0</td>\n",
       "    </tr>\n",
       "    <tr>\n",
       "      <th>mean_creative_id_age_1</th>\n",
       "      <td>mean_creative_id_age_1</td>\n",
       "      <td>0.0</td>\n",
       "    </tr>\n",
       "    <tr>\n",
       "      <th>mean_creative_id_age_2</th>\n",
       "      <td>mean_creative_id_age_2</td>\n",
       "      <td>0.0</td>\n",
       "    </tr>\n",
       "    <tr>\n",
       "      <th>mean_creative_id_age_3</th>\n",
       "      <td>mean_creative_id_age_3</td>\n",
       "      <td>0.0</td>\n",
       "    </tr>\n",
       "    <tr>\n",
       "      <th>mean_creative_id_age_4</th>\n",
       "      <td>mean_creative_id_age_4</td>\n",
       "      <td>0.0</td>\n",
       "    </tr>\n",
       "    <tr>\n",
       "      <th>mean_creative_id_age_5</th>\n",
       "      <td>mean_creative_id_age_5</td>\n",
       "      <td>0.0</td>\n",
       "    </tr>\n",
       "    <tr>\n",
       "      <th>mean_creative_id_age_6</th>\n",
       "      <td>mean_creative_id_age_6</td>\n",
       "      <td>0.0</td>\n",
       "    </tr>\n",
       "    <tr>\n",
       "      <th>mean_creative_id_age_7</th>\n",
       "      <td>mean_creative_id_age_7</td>\n",
       "      <td>0.0</td>\n",
       "    </tr>\n",
       "    <tr>\n",
       "      <th>mean_creative_id_age_8</th>\n",
       "      <td>mean_creative_id_age_8</td>\n",
       "      <td>0.0</td>\n",
       "    </tr>\n",
       "    <tr>\n",
       "      <th>mean_creative_id_age_9</th>\n",
       "      <td>mean_creative_id_age_9</td>\n",
       "      <td>0.0</td>\n",
       "    </tr>\n",
       "    <tr>\n",
       "      <th>mean_creative_id_age_10</th>\n",
       "      <td>mean_creative_id_age_10</td>\n",
       "      <td>0.0</td>\n",
       "    </tr>\n",
       "  </tbody>\n",
       "</table>\n",
       "</div>"
      ],
      "text/plain": [
       "                                         column_name  percent_missing\n",
       "time                                            time              0.0\n",
       "user_id                                      user_id              0.0\n",
       "creative_id                              creative_id              0.0\n",
       "click_times                              click_times              0.0\n",
       "ad_id                                          ad_id              0.0\n",
       "product_id                                product_id              0.0\n",
       "product_category                    product_category              0.0\n",
       "advertiser_id                          advertiser_id              0.0\n",
       "industry                                    industry              0.0\n",
       "mean_creative_id_gender_1  mean_creative_id_gender_1              0.0\n",
       "mean_creative_id_gender_2  mean_creative_id_gender_2              0.0\n",
       "mean_creative_id_age_1        mean_creative_id_age_1              0.0\n",
       "mean_creative_id_age_2        mean_creative_id_age_2              0.0\n",
       "mean_creative_id_age_3        mean_creative_id_age_3              0.0\n",
       "mean_creative_id_age_4        mean_creative_id_age_4              0.0\n",
       "mean_creative_id_age_5        mean_creative_id_age_5              0.0\n",
       "mean_creative_id_age_6        mean_creative_id_age_6              0.0\n",
       "mean_creative_id_age_7        mean_creative_id_age_7              0.0\n",
       "mean_creative_id_age_8        mean_creative_id_age_8              0.0\n",
       "mean_creative_id_age_9        mean_creative_id_age_9              0.0\n",
       "mean_creative_id_age_10      mean_creative_id_age_10              0.0"
      ]
     },
     "execution_count": 15,
     "metadata": {},
     "output_type": "execute_result"
    }
   ],
   "source": [
    "columns = click_log.columns\n",
    "percent_missing = click_log.isnull().sum() * 100 / len(click_log)\n",
    "missing_value_df = pd.DataFrame({'column_name': columns,\n",
    "                                 'percent_missing': percent_missing})\n",
    "missing_value_df"
   ]
  },
  {
   "cell_type": "code",
   "execution_count": null,
   "metadata": {},
   "outputs": [],
   "source": []
  },
  {
   "cell_type": "code",
   "execution_count": 4,
   "metadata": {
    "ExecuteTime": {
     "end_time": "2020-06-11T15:41:33.560175Z",
     "start_time": "2020-06-11T15:36:07.265433Z"
    }
   },
   "outputs": [
    {
     "name": "stdout",
     "output_type": "stream",
     "text": [
      "click_times LabelEncoder......\n",
      "LabelEncoder Successfully!\n"
     ]
    },
    {
     "data": {
      "text/html": [
       "<div>\n",
       "<style scoped>\n",
       "    .dataframe tbody tr th:only-of-type {\n",
       "        vertical-align: middle;\n",
       "    }\n",
       "\n",
       "    .dataframe tbody tr th {\n",
       "        vertical-align: top;\n",
       "    }\n",
       "\n",
       "    .dataframe thead th {\n",
       "        text-align: right;\n",
       "    }\n",
       "</style>\n",
       "<table border=\"1\" class=\"dataframe\">\n",
       "  <thead>\n",
       "    <tr style=\"text-align: right;\">\n",
       "      <th></th>\n",
       "      <th>user_id</th>\n",
       "      <th>click_times</th>\n",
       "    </tr>\n",
       "  </thead>\n",
       "  <tbody>\n",
       "    <tr>\n",
       "      <th>0</th>\n",
       "      <td>1</td>\n",
       "      <td>[3, 1, 1, 1, 1, 1, 1, 2, 1, 2]</td>\n",
       "    </tr>\n",
       "    <tr>\n",
       "      <th>1</th>\n",
       "      <td>2</td>\n",
       "      <td>[1, 1, 1, 1, 3, 2, 1, 1, 3, 2, 1, 4, 1, 4, 1, ...</td>\n",
       "    </tr>\n",
       "    <tr>\n",
       "      <th>2</th>\n",
       "      <td>3</td>\n",
       "      <td>[1, 1, 3, 1, 1, 1, 1, 1, 1, 1, 2, 2, 1, 1, 1, ...</td>\n",
       "    </tr>\n",
       "    <tr>\n",
       "      <th>3</th>\n",
       "      <td>4</td>\n",
       "      <td>[1, 1, 1, 1, 4, 1, 1, 2, 1, 1, 6, 1, 2, 2, 4]</td>\n",
       "    </tr>\n",
       "    <tr>\n",
       "      <th>4</th>\n",
       "      <td>5</td>\n",
       "      <td>[1, 1, 1, 1, 1, 2, 1, 1, 1, 1, 1, 1, 2, 2, 1, ...</td>\n",
       "    </tr>\n",
       "  </tbody>\n",
       "</table>\n",
       "</div>"
      ],
      "text/plain": [
       "   user_id                                        click_times\n",
       "0        1                     [3, 1, 1, 1, 1, 1, 1, 2, 1, 2]\n",
       "1        2  [1, 1, 1, 1, 3, 2, 1, 1, 3, 2, 1, 4, 1, 4, 1, ...\n",
       "2        3  [1, 1, 3, 1, 1, 1, 1, 1, 1, 1, 2, 2, 1, 1, 1, ...\n",
       "3        4      [1, 1, 1, 1, 4, 1, 1, 2, 1, 1, 6, 1, 2, 2, 4]\n",
       "4        5  [1, 1, 1, 1, 1, 2, 1, 1, 1, 1, 1, 1, 2, 2, 1, ..."
      ]
     },
     "execution_count": 4,
     "metadata": {},
     "output_type": "execute_result"
    }
   ],
   "source": [
    "time_df = click_log.groupby(['user_id','time'])['click_times'].sum().reset_index()\n",
    "time_df = multi_column_LabelEncoder(time_df,columns=['click_times'])\n",
    "time_df = time_df.groupby('user_id')['click_times'].apply(lambda x: list(x)).reset_index()\n",
    "\n",
    "ad_df = click_log.groupby(['user_id','time']).size().reset_index()\n",
    "ad_df.columns = ['user_id','time','id_size']\n",
    "ad_df = multi_column_LabelEncoder(ad_df,columns=['id_size'])\n",
    "ad_df = ad_df.groupby('user_id')['id_size'].apply(lambda x: list(x)).reset_index()\n",
    "\n",
    "user_ids = pd.read_pickle(f\"{pickle_path}/user_ids_relencode.pickle\")\n",
    "user_ids['time_clicktimes'] = time_df['click_times']\n",
    "user_ids['time_creativeids'] = ad_df['id_size']\n",
    "user_ids.to_pickle(f\"{pickle_path}/user_ids_relencode.pickle\")\n",
    "user_ids.head()\n"
   ]
  },
  {
   "cell_type": "code",
   "execution_count": 9,
   "metadata": {
    "ExecuteTime": {
     "end_time": "2020-06-10T01:04:10.875470Z",
     "start_time": "2020-06-10T00:45:43.673144Z"
    }
   },
   "outputs": [],
   "source": [
    "#click_log['time_7'] = click_log['time']//7\n",
    "# click_log['creative_id_times'] = click_log['creative_id']*10000000 + click_log['click_times']\n",
    "# click_log['ad_id_times'] = click_log['ad_id']*10000000 + click_log['click_times']\n",
    "# click_log['product_id_times'] = click_log['product_id']*10000000 + click_log['click_times']\n",
    "# click_log['advertiser_id_times'] = click_log['advertiser_id']*10000000 + click_log['click_times']\n",
    "# click_log['product_category_times'] = click_log['product_category']*10000000 + click_log['click_times']\n",
    "# click_log['industry_times'] = click_log['industry']*10000000 + click_log['click_times']\n",
    "\n",
    "\n",
    "click_log['creative_id_times'] = click_log['creative_id'].astype(str).str.cat(click_log['click_times'].astype(str), sep='-')\n",
    "click_log['ad_id_times'] = click_log['ad_id'].astype(str).str.cat(click_log['click_times'].astype(str), sep='-')\n",
    "click_log['product_id_times'] = click_log['product_id'].astype(str).str.cat(click_log['click_times'].astype(str), sep='-')\n",
    "click_log['advertiser_id_times'] = click_log['advertiser_id'].astype(str).str.cat(click_log['click_times'].astype(str), sep='-')\n",
    "click_log['product_category_times'] = click_log['product_category'].astype(str).str.cat(click_log['click_times'].astype(str), sep='-')\n",
    "click_log['industry_times'] = click_log['industry'].astype(str).str.cat(click_log['click_times'].astype(str), sep='-')\n"
   ]
  },
  {
   "cell_type": "code",
   "execution_count": 10,
   "metadata": {
    "ExecuteTime": {
     "end_time": "2020-06-10T01:23:20.087495Z",
     "start_time": "2020-06-10T01:04:15.216862Z"
    }
   },
   "outputs": [
    {
     "name": "stdout",
     "output_type": "stream",
     "text": [
      "creative_id LabelEncoder......\n",
      "ad_id LabelEncoder......\n",
      "product_id LabelEncoder......\n",
      "product_category LabelEncoder......\n",
      "advertiser_id LabelEncoder......\n",
      "industry LabelEncoder......\n",
      "creative_id_times LabelEncoder......\n",
      "ad_id_times LabelEncoder......\n",
      "product_id_times LabelEncoder......\n",
      "advertiser_id_times LabelEncoder......\n",
      "product_category_times LabelEncoder......\n",
      "industry_times LabelEncoder......\n",
      "LabelEncoder Successfully!\n",
      "3412767\n",
      "3027358\n",
      "39057\n",
      "18\n",
      "57870\n",
      "332\n",
      "4061140\n",
      "3659810\n",
      "57398\n",
      "104101\n",
      "113\n",
      "1690\n"
     ]
    }
   ],
   "source": [
    "click_log = multi_column_LabelEncoder(click_log, \n",
    "                                      columns=['creative_id','ad_id', 'product_id', 'product_category', 'advertiser_id','industry' ,\n",
    "                                               'creative_id_times','ad_id_times','product_id_times',\n",
    "                                               'advertiser_id_times','product_category_times', 'industry_times',\n",
    "                                               \n",
    "                                              ])\n",
    "# click_log = multi_column_LabelEncoderOrder(click_log, \n",
    "#                                       columns=['creative_id_times','ad_id_times','product_id_times',\n",
    "#                                                'advertiser_id_times','product_category_times', 'industry_times',   \n",
    "#                                                 'creative_id_t','ad_id_t','product_id_t',\n",
    "#                                                 'advertiser_id_t','product_category_t','industry_t',                                             \n",
    "#                                               ], max_features=2000000)\n",
    "\n",
    "print(click_log['creative_id'].nunique())\n",
    "print(click_log['ad_id'].nunique())\n",
    "print(click_log['product_id'].nunique())\n",
    "print(click_log['product_category'].nunique())\n",
    "print(click_log['advertiser_id'].nunique())\n",
    "print(click_log['industry'].nunique())\n",
    "print(click_log['creative_id_times'].nunique())\n",
    "print(click_log['ad_id_times'].nunique())\n",
    "print(click_log['product_id_times'].nunique())\n",
    "print(click_log['advertiser_id_times'].nunique())\n",
    "print(click_log['product_category_times'].nunique())\n",
    "print(click_log['industry_times'].nunique())\n",
    "\n",
    "# print(click_log['creative_id_t'].nunique())\n",
    "# print(click_log['ad_id_t'].nunique())\n",
    "# print(click_log['product_id_t'].nunique())\n",
    "# print(click_log['advertiser_id_t'].nunique())\n",
    "# print(click_log['product_category_t'].nunique())\n",
    "# print(click_log['industry_t'].nunique())"
   ]
  },
  {
   "cell_type": "code",
   "execution_count": 11,
   "metadata": {
    "ExecuteTime": {
     "end_time": "2020-06-10T02:50:29.820262Z",
     "start_time": "2020-06-10T01:23:20.834498Z"
    }
   },
   "outputs": [],
   "source": [
    "user_ids = click_log.groupby(['user_id']).agg({'creative_id':lambda x:list(x),\n",
    "                                                        'ad_id':lambda x:list(x),\n",
    "                                                        'product_id':lambda x:list(x),\n",
    "                                                        'product_category':lambda x:list(x),\n",
    "                                                        'advertiser_id':lambda x:list(x),\n",
    "                                                        'industry':lambda x:list(x),   \n",
    "                                                        'click_times':lambda x:list(x),\n",
    "                                                         'time':lambda x:list(x),\n",
    "                                                'creative_id_times':lambda x:list(x),\n",
    "                                                'ad_id_times':lambda x:list(x),\n",
    "                                                'product_id_times':lambda x:list(x),\n",
    "                                                'advertiser_id_times':lambda x:list(x),\n",
    "                                                'product_category_times':lambda x:list(x),\n",
    "                                                'industry_times':lambda x:list(x),\n",
    "#                                                'creative_id_t':lambda x:list(x),\n",
    "#                                                 'ad_id_t':lambda x:list(x),\n",
    "#                                                 'product_id_t':lambda x:list(x),\n",
    "#                                                 'advertiser_id_t':lambda x:list(x),\n",
    "#                                                 'product_category_t':lambda x:list(x),\n",
    "#                                                 'industry_t':lambda x:list(x),\n",
    "                                                       }).reset_index()"
   ]
  },
  {
   "cell_type": "code",
   "execution_count": 12,
   "metadata": {
    "ExecuteTime": {
     "end_time": "2020-06-10T02:56:56.762585Z",
     "start_time": "2020-06-10T02:50:30.914363Z"
    }
   },
   "outputs": [
    {
     "data": {
      "text/html": [
       "<div>\n",
       "<style scoped>\n",
       "    .dataframe tbody tr th:only-of-type {\n",
       "        vertical-align: middle;\n",
       "    }\n",
       "\n",
       "    .dataframe tbody tr th {\n",
       "        vertical-align: top;\n",
       "    }\n",
       "\n",
       "    .dataframe thead th {\n",
       "        text-align: right;\n",
       "    }\n",
       "</style>\n",
       "<table border=\"1\" class=\"dataframe\">\n",
       "  <thead>\n",
       "    <tr style=\"text-align: right;\">\n",
       "      <th></th>\n",
       "      <th>user_id</th>\n",
       "      <th>creative_id</th>\n",
       "      <th>ad_id</th>\n",
       "      <th>product_id</th>\n",
       "      <th>product_category</th>\n",
       "      <th>advertiser_id</th>\n",
       "      <th>industry</th>\n",
       "      <th>click_times</th>\n",
       "      <th>time</th>\n",
       "      <th>creative_id_times</th>\n",
       "      <th>ad_id_times</th>\n",
       "      <th>product_id_times</th>\n",
       "      <th>advertiser_id_times</th>\n",
       "      <th>product_category_times</th>\n",
       "      <th>industry_times</th>\n",
       "      <th>creative_id_len</th>\n",
       "      <th>ad_id_len</th>\n",
       "      <th>product_id_len</th>\n",
       "      <th>product_category_len</th>\n",
       "      <th>advertiser_len</th>\n",
       "      <th>industry_len</th>\n",
       "      <th>mean_clicktimes</th>\n",
       "      <th>max_clicktimes</th>\n",
       "      <th>min_clicktimes</th>\n",
       "      <th>mean_time</th>\n",
       "      <th>max_time</th>\n",
       "      <th>min_time</th>\n",
       "      <th>time_len</th>\n",
       "    </tr>\n",
       "  </thead>\n",
       "  <tbody>\n",
       "    <tr>\n",
       "      <th>0</th>\n",
       "      <td>1</td>\n",
       "      <td>[642275, 170988, 685687, 1307085, 100774, 5953...</td>\n",
       "      <td>[581171, 156554, 620126, 1166887, 92441, 55685...</td>\n",
       "      <td>[1, 125, 1, 1, 1132, 1, 1, 1, 1, 1244, 55, 55,...</td>\n",
       "      <td>[5, 2, 5, 5, 2, 18, 5, 5, 18, 2, 2, 2, 2]</td>\n",
       "      <td>[6411, 8522, 26781, 12996, 10113, 13007, 15341...</td>\n",
       "      <td>[323, 7, 104, 323, 1, 323, 73, 214, 64, 235, 2...</td>\n",
       "      <td>[1, 1, 1, 1, 1, 1, 1, 1, 1, 1, 1, 1, 2]</td>\n",
       "      <td>[20, 20, 20, 39, 40, 43, 46, 52, 60, 64, 64, 7...</td>\n",
       "      <td>[3872964, 1123872, 3935014, 706993, 226871, 37...</td>\n",
       "      <td>[3358402, 950010, 3415179, 499291, 107496, 328...</td>\n",
       "      <td>[1, 6399, 1, 1, 5954, 1, 1, 1, 1, 8147, 52204,...</td>\n",
       "      <td>[99263, 103509, 38769, 8445, 2750, 8484, 13490...</td>\n",
       "      <td>[82, 59, 82, 82, 59, 51, 82, 82, 51, 59, 59, 5...</td>\n",
       "      <td>[1309, 1509, 41, 1309, 1, 1309, 1570, 634, 154...</td>\n",
       "      <td>12</td>\n",
       "      <td>12</td>\n",
       "      <td>6</td>\n",
       "      <td>3</td>\n",
       "      <td>12</td>\n",
       "      <td>9</td>\n",
       "      <td>1.076923</td>\n",
       "      <td>2</td>\n",
       "      <td>1</td>\n",
       "      <td>47.461538</td>\n",
       "      <td>76</td>\n",
       "      <td>20</td>\n",
       "      <td>10</td>\n",
       "    </tr>\n",
       "    <tr>\n",
       "      <th>1</th>\n",
       "      <td>2</td>\n",
       "      <td>[52634, 128035, 32734, 478744, 10372, 349730, ...</td>\n",
       "      <td>[49388, 117016, 31581, 435462, 11432, 318236, ...</td>\n",
       "      <td>[76, 69, 118, 118, 1193, 76, 1, 1064, 1, 1, 10...</td>\n",
       "      <td>[2, 2, 2, 2, 2, 2, 18, 2, 18, 18, 2, 18, 2, 18...</td>\n",
       "      <td>[20681, 9438, 16619, 23545, 705, 20681, 31504,...</td>\n",
       "      <td>[315, 235, 7, 7, 314, 315, 47, 7, 47, 47, 239,...</td>\n",
       "      <td>[1, 1, 1, 1, 1, 1, 1, 1, 1, 1, 1, 1, 1, 1, 1, ...</td>\n",
       "      <td>[10, 11, 14, 17, 28, 28, 28, 38, 38, 39, 41, 4...</td>\n",
       "      <td>[3670932, 575824, 3013599, 3644043, 316325, 34...</td>\n",
       "      <td>[3202365, 430643, 2970933, 3151275, 488750, 29...</td>\n",
       "      <td>[54699, 53814, 5157, 5157, 7149, 54699, 1, 462...</td>\n",
       "      <td>[25317, 1326, 16287, 31864, 99902, 25317, 4850...</td>\n",
       "      <td>[59, 59, 59, 59, 59, 59, 51, 59, 51, 51, 59, 5...</td>\n",
       "      <td>[1252, 780, 1509, 1509, 1244, 1252, 1442, 1509...</td>\n",
       "      <td>42</td>\n",
       "      <td>42</td>\n",
       "      <td>20</td>\n",
       "      <td>3</td>\n",
       "      <td>36</td>\n",
       "      <td>15</td>\n",
       "      <td>1.022222</td>\n",
       "      <td>2</td>\n",
       "      <td>1</td>\n",
       "      <td>53.822222</td>\n",
       "      <td>90</td>\n",
       "      <td>10</td>\n",
       "      <td>28</td>\n",
       "    </tr>\n",
       "  </tbody>\n",
       "</table>\n",
       "</div>"
      ],
      "text/plain": [
       "   user_id                                        creative_id  \\\n",
       "0        1  [642275, 170988, 685687, 1307085, 100774, 5953...   \n",
       "1        2  [52634, 128035, 32734, 478744, 10372, 349730, ...   \n",
       "\n",
       "                                               ad_id  \\\n",
       "0  [581171, 156554, 620126, 1166887, 92441, 55685...   \n",
       "1  [49388, 117016, 31581, 435462, 11432, 318236, ...   \n",
       "\n",
       "                                          product_id  \\\n",
       "0  [1, 125, 1, 1, 1132, 1, 1, 1, 1, 1244, 55, 55,...   \n",
       "1  [76, 69, 118, 118, 1193, 76, 1, 1064, 1, 1, 10...   \n",
       "\n",
       "                                    product_category  \\\n",
       "0          [5, 2, 5, 5, 2, 18, 5, 5, 18, 2, 2, 2, 2]   \n",
       "1  [2, 2, 2, 2, 2, 2, 18, 2, 18, 18, 2, 18, 2, 18...   \n",
       "\n",
       "                                       advertiser_id  \\\n",
       "0  [6411, 8522, 26781, 12996, 10113, 13007, 15341...   \n",
       "1  [20681, 9438, 16619, 23545, 705, 20681, 31504,...   \n",
       "\n",
       "                                            industry  \\\n",
       "0  [323, 7, 104, 323, 1, 323, 73, 214, 64, 235, 2...   \n",
       "1  [315, 235, 7, 7, 314, 315, 47, 7, 47, 47, 239,...   \n",
       "\n",
       "                                         click_times  \\\n",
       "0            [1, 1, 1, 1, 1, 1, 1, 1, 1, 1, 1, 1, 2]   \n",
       "1  [1, 1, 1, 1, 1, 1, 1, 1, 1, 1, 1, 1, 1, 1, 1, ...   \n",
       "\n",
       "                                                time  \\\n",
       "0  [20, 20, 20, 39, 40, 43, 46, 52, 60, 64, 64, 7...   \n",
       "1  [10, 11, 14, 17, 28, 28, 28, 38, 38, 39, 41, 4...   \n",
       "\n",
       "                                   creative_id_times  \\\n",
       "0  [3872964, 1123872, 3935014, 706993, 226871, 37...   \n",
       "1  [3670932, 575824, 3013599, 3644043, 316325, 34...   \n",
       "\n",
       "                                         ad_id_times  \\\n",
       "0  [3358402, 950010, 3415179, 499291, 107496, 328...   \n",
       "1  [3202365, 430643, 2970933, 3151275, 488750, 29...   \n",
       "\n",
       "                                    product_id_times  \\\n",
       "0  [1, 6399, 1, 1, 5954, 1, 1, 1, 1, 8147, 52204,...   \n",
       "1  [54699, 53814, 5157, 5157, 7149, 54699, 1, 462...   \n",
       "\n",
       "                                 advertiser_id_times  \\\n",
       "0  [99263, 103509, 38769, 8445, 2750, 8484, 13490...   \n",
       "1  [25317, 1326, 16287, 31864, 99902, 25317, 4850...   \n",
       "\n",
       "                              product_category_times  \\\n",
       "0  [82, 59, 82, 82, 59, 51, 82, 82, 51, 59, 59, 5...   \n",
       "1  [59, 59, 59, 59, 59, 59, 51, 59, 51, 51, 59, 5...   \n",
       "\n",
       "                                      industry_times  creative_id_len  \\\n",
       "0  [1309, 1509, 41, 1309, 1, 1309, 1570, 634, 154...               12   \n",
       "1  [1252, 780, 1509, 1509, 1244, 1252, 1442, 1509...               42   \n",
       "\n",
       "   ad_id_len  product_id_len  product_category_len  advertiser_len  \\\n",
       "0         12               6                     3              12   \n",
       "1         42              20                     3              36   \n",
       "\n",
       "   industry_len  mean_clicktimes  max_clicktimes  min_clicktimes  mean_time  \\\n",
       "0             9         1.076923               2               1  47.461538   \n",
       "1            15         1.022222               2               1  53.822222   \n",
       "\n",
       "   max_time  min_time  time_len  \n",
       "0        76        20        10  \n",
       "1        90        10        28  "
      ]
     },
     "execution_count": 12,
     "metadata": {},
     "output_type": "execute_result"
    }
   ],
   "source": [
    "user_ids['creative_id_len'] = user_ids['creative_id'].map(lambda x: len(set(x)))\n",
    "user_ids['ad_id_len'] = user_ids['ad_id'].map(lambda x: len(set(x)))\n",
    "user_ids['product_id_len'] = user_ids['product_id'].map(lambda x: len(set(x)))\n",
    "user_ids['product_category_len'] = user_ids['product_category'].map(lambda x: len(set(x)))\n",
    "user_ids['advertiser_len'] = user_ids['advertiser_id'].map(lambda x: len(set(x)))\n",
    "user_ids['industry_len'] = user_ids['industry'].map(lambda x: len(set(x)))\n",
    "user_ids['mean_clicktimes'] = user_ids['click_times'].map(lambda x: np.mean(x))\n",
    "user_ids['max_clicktimes'] = user_ids['click_times'].map(lambda x: np.max(x))\n",
    "user_ids['min_clicktimes'] = user_ids['click_times'].map(lambda x: np.min(x))\n",
    "\n",
    "user_ids['mean_time'] = user_ids['time'].map(lambda x: np.mean(x))\n",
    "user_ids['max_time'] = user_ids['time'].map(lambda x: np.max(x))\n",
    "user_ids['min_time'] = user_ids['time'].map(lambda x: np.min(x))\n",
    "\n",
    "user_ids['time_len'] = user_ids['time'].map(lambda x: len(set(x)))\n",
    "\n",
    "user_ids.to_pickle(f\"{pickle_path}/user_ids_relencode.pickle\")\n",
    "user_ids.head(2)\n"
   ]
  },
  {
   "cell_type": "code",
   "execution_count": null,
   "metadata": {},
   "outputs": [],
   "source": []
  }
 ],
 "metadata": {
  "kernelspec": {
   "display_name": "Python 3",
   "language": "python",
   "name": "python3"
  },
  "language_info": {
   "codemirror_mode": {
    "name": "ipython",
    "version": 3
   },
   "file_extension": ".py",
   "mimetype": "text/x-python",
   "name": "python",
   "nbconvert_exporter": "python",
   "pygments_lexer": "ipython3",
   "version": "3.7.4rc1"
  },
  "toc": {
   "base_numbering": 1,
   "nav_menu": {},
   "number_sections": true,
   "sideBar": true,
   "skip_h1_title": false,
   "title_cell": "Table of Contents",
   "title_sidebar": "Contents",
   "toc_cell": false,
   "toc_position": {},
   "toc_section_display": true,
   "toc_window_display": false
  },
  "varInspector": {
   "cols": {
    "lenName": 16,
    "lenType": 16,
    "lenVar": 40
   },
   "kernels_config": {
    "python": {
     "delete_cmd_postfix": "",
     "delete_cmd_prefix": "del ",
     "library": "var_list.py",
     "varRefreshCmd": "print(var_dic_list())"
    },
    "r": {
     "delete_cmd_postfix": ") ",
     "delete_cmd_prefix": "rm(",
     "library": "var_list.r",
     "varRefreshCmd": "cat(var_dic_list()) "
    }
   },
   "position": {
    "height": "749.4px",
    "left": "1678px",
    "right": "20px",
    "top": "120px",
    "width": "350px"
   },
   "types_to_exclude": [
    "module",
    "function",
    "builtin_function_or_method",
    "instance",
    "_Feature"
   ],
   "window_display": true
  }
 },
 "nbformat": 4,
 "nbformat_minor": 2
}

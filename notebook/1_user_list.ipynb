{
 "cells": [
  {
   "cell_type": "code",
   "execution_count": 4,
   "metadata": {
    "ExecuteTime": {
     "end_time": "2020-06-10T00:08:51.858078Z",
     "start_time": "2020-06-10T00:08:51.836134Z"
    }
   },
   "outputs": [],
   "source": [
    "import sys\n",
    "import os\n",
    "sys.path.append(r\"..\")\n",
    "\n",
    "from utils import *\n",
    "import pandas as pd\n",
    "import numpy as np\n",
    "\n",
    "path_build = \"../../data/tencent2020/build/\"\n",
    "path_save = \"../../data/tencent2020/save/\"\n",
    "\n",
    "pickle_path = \"../../data/tencent2020/pickle\"\n",
    "if not os.path.exists(pickle_path):\n",
    "    os.mkdir(pickle_path) \n",
    "pd.set_option('display.max_columns', None)"
   ]
  },
  {
   "cell_type": "code",
   "execution_count": 5,
   "metadata": {
    "ExecuteTime": {
     "end_time": "2020-06-10T00:14:51.226121Z",
     "start_time": "2020-06-10T00:08:51.890979Z"
    }
   },
   "outputs": [
    {
     "data": {
      "text/plain": [
       "((30082771, 9), (33585512, 9))"
      ]
     },
     "execution_count": 5,
     "metadata": {},
     "output_type": "execute_result"
    }
   ],
   "source": [
    "train_click_log = pd.read_csv(path_save + \"train_click_log.csv\", encoding=\"utf-8\")\n",
    "test_click_log = pd.read_csv(path_save + \"test_click_log.csv\", encoding=\"utf-8\")\n",
    "train_click_log.shape, test_click_log.shape"
   ]
  },
  {
   "cell_type": "markdown",
   "metadata": {},
   "source": [
    "train：user_id 范围 (1, 900000)  \n",
    "test ：user_id 范围 (3000001, 4000000) "
   ]
  },
  {
   "cell_type": "code",
   "execution_count": 8,
   "metadata": {
    "ExecuteTime": {
     "end_time": "2020-06-10T00:45:02.504199Z",
     "start_time": "2020-06-10T00:43:40.282059Z"
    }
   },
   "outputs": [
    {
     "name": "stdout",
     "output_type": "stream",
     "text": [
      "(63663353, 9)\n"
     ]
    },
    {
     "data": {
      "text/html": [
       "<div>\n",
       "<style scoped>\n",
       "    .dataframe tbody tr th:only-of-type {\n",
       "        vertical-align: middle;\n",
       "    }\n",
       "\n",
       "    .dataframe tbody tr th {\n",
       "        vertical-align: top;\n",
       "    }\n",
       "\n",
       "    .dataframe thead th {\n",
       "        text-align: right;\n",
       "    }\n",
       "</style>\n",
       "<table border=\"1\" class=\"dataframe\">\n",
       "  <thead>\n",
       "    <tr style=\"text-align: right;\">\n",
       "      <th></th>\n",
       "      <th>time</th>\n",
       "      <th>user_id</th>\n",
       "      <th>creative_id</th>\n",
       "      <th>click_times</th>\n",
       "      <th>ad_id</th>\n",
       "      <th>product_id</th>\n",
       "      <th>product_category</th>\n",
       "      <th>advertiser_id</th>\n",
       "      <th>industry</th>\n",
       "    </tr>\n",
       "  </thead>\n",
       "  <tbody>\n",
       "    <tr>\n",
       "      <th>0</th>\n",
       "      <td>20</td>\n",
       "      <td>1</td>\n",
       "      <td>821396</td>\n",
       "      <td>1</td>\n",
       "      <td>724607</td>\n",
       "      <td>0</td>\n",
       "      <td>5</td>\n",
       "      <td>7293</td>\n",
       "      <td>326</td>\n",
       "    </tr>\n",
       "    <tr>\n",
       "      <th>1</th>\n",
       "      <td>20</td>\n",
       "      <td>1</td>\n",
       "      <td>209778</td>\n",
       "      <td>1</td>\n",
       "      <td>188507</td>\n",
       "      <td>136</td>\n",
       "      <td>2</td>\n",
       "      <td>9702</td>\n",
       "      <td>6</td>\n",
       "    </tr>\n",
       "    <tr>\n",
       "      <th>2</th>\n",
       "      <td>20</td>\n",
       "      <td>1</td>\n",
       "      <td>877468</td>\n",
       "      <td>1</td>\n",
       "      <td>773445</td>\n",
       "      <td>0</td>\n",
       "      <td>5</td>\n",
       "      <td>29455</td>\n",
       "      <td>106</td>\n",
       "    </tr>\n",
       "    <tr>\n",
       "      <th>3</th>\n",
       "      <td>39</td>\n",
       "      <td>1</td>\n",
       "      <td>1683713</td>\n",
       "      <td>1</td>\n",
       "      <td>1458878</td>\n",
       "      <td>0</td>\n",
       "      <td>5</td>\n",
       "      <td>14668</td>\n",
       "      <td>326</td>\n",
       "    </tr>\n",
       "    <tr>\n",
       "      <th>4</th>\n",
       "      <td>40</td>\n",
       "      <td>1</td>\n",
       "      <td>122032</td>\n",
       "      <td>1</td>\n",
       "      <td>109959</td>\n",
       "      <td>1334</td>\n",
       "      <td>2</td>\n",
       "      <td>11411</td>\n",
       "      <td>0</td>\n",
       "    </tr>\n",
       "  </tbody>\n",
       "</table>\n",
       "</div>"
      ],
      "text/plain": [
       "   time  user_id  creative_id  click_times    ad_id  product_id  \\\n",
       "0    20        1       821396            1   724607           0   \n",
       "1    20        1       209778            1   188507         136   \n",
       "2    20        1       877468            1   773445           0   \n",
       "3    39        1      1683713            1  1458878           0   \n",
       "4    40        1       122032            1   109959        1334   \n",
       "\n",
       "   product_category  advertiser_id  industry  \n",
       "0                 5           7293       326  \n",
       "1                 2           9702         6  \n",
       "2                 5          29455       106  \n",
       "3                 5          14668       326  \n",
       "4                 2          11411         0  "
      ]
     },
     "execution_count": 8,
     "metadata": {},
     "output_type": "execute_result"
    }
   ],
   "source": [
    "click_log = train_click_log.append(test_click_log)\n",
    "click_log.sort_values(by=['user_id','time'], ascending=[True,True], inplace=True)\n",
    "click_log = click_log.reset_index(drop=True)\n",
    "click_log = click_log[click_log['click_times']<=8] #去除点击次数99.99%外的数据记录\n",
    "print(click_log.shape)\n",
    "click_log.head()"
   ]
  },
  {
   "cell_type": "code",
   "execution_count": null,
   "metadata": {},
   "outputs": [],
   "source": [
    "time_df = click_log.groupby([''])"
   ]
  },
  {
   "cell_type": "code",
   "execution_count": null,
   "metadata": {},
   "outputs": [],
   "source": []
  },
  {
   "cell_type": "code",
   "execution_count": 9,
   "metadata": {
    "ExecuteTime": {
     "end_time": "2020-06-10T01:04:10.875470Z",
     "start_time": "2020-06-10T00:45:43.673144Z"
    }
   },
   "outputs": [],
   "source": [
    "#click_log['time_7'] = click_log['time']//7\n",
    "# click_log['creative_id_times'] = click_log['creative_id']*10000000 + click_log['click_times']\n",
    "# click_log['ad_id_times'] = click_log['ad_id']*10000000 + click_log['click_times']\n",
    "# click_log['product_id_times'] = click_log['product_id']*10000000 + click_log['click_times']\n",
    "# click_log['advertiser_id_times'] = click_log['advertiser_id']*10000000 + click_log['click_times']\n",
    "# click_log['product_category_times'] = click_log['product_category']*10000000 + click_log['click_times']\n",
    "# click_log['industry_times'] = click_log['industry']*10000000 + click_log['click_times']\n",
    "\n",
    "\n",
    "click_log['creative_id_times'] = click_log['creative_id'].astype(str).str.cat(click_log['click_times'].astype(str), sep='-')\n",
    "click_log['ad_id_times'] = click_log['ad_id'].astype(str).str.cat(click_log['click_times'].astype(str), sep='-')\n",
    "click_log['product_id_times'] = click_log['product_id'].astype(str).str.cat(click_log['click_times'].astype(str), sep='-')\n",
    "click_log['advertiser_id_times'] = click_log['advertiser_id'].astype(str).str.cat(click_log['click_times'].astype(str), sep='-')\n",
    "click_log['product_category_times'] = click_log['product_category'].astype(str).str.cat(click_log['click_times'].astype(str), sep='-')\n",
    "click_log['industry_times'] = click_log['industry'].astype(str).str.cat(click_log['click_times'].astype(str), sep='-')\n"
   ]
  },
  {
   "cell_type": "code",
   "execution_count": 10,
   "metadata": {
    "ExecuteTime": {
     "end_time": "2020-06-10T01:23:20.087495Z",
     "start_time": "2020-06-10T01:04:15.216862Z"
    }
   },
   "outputs": [
    {
     "name": "stdout",
     "output_type": "stream",
     "text": [
      "creative_id LabelEncoder......\n",
      "ad_id LabelEncoder......\n",
      "product_id LabelEncoder......\n",
      "product_category LabelEncoder......\n",
      "advertiser_id LabelEncoder......\n",
      "industry LabelEncoder......\n",
      "creative_id_times LabelEncoder......\n",
      "ad_id_times LabelEncoder......\n",
      "product_id_times LabelEncoder......\n",
      "advertiser_id_times LabelEncoder......\n",
      "product_category_times LabelEncoder......\n",
      "industry_times LabelEncoder......\n",
      "LabelEncoder Successfully!\n",
      "3412767\n",
      "3027358\n",
      "39057\n",
      "18\n",
      "57870\n",
      "332\n",
      "4061140\n",
      "3659810\n",
      "57398\n",
      "104101\n",
      "113\n",
      "1690\n"
     ]
    }
   ],
   "source": [
    "click_log = multi_column_LabelEncoder(click_log, \n",
    "                                      columns=['creative_id','ad_id', 'product_id', 'product_category', 'advertiser_id','industry' ,\n",
    "                                               'creative_id_times','ad_id_times','product_id_times',\n",
    "                                               'advertiser_id_times','product_category_times', 'industry_times',\n",
    "                                               \n",
    "                                              ])\n",
    "# click_log = multi_column_LabelEncoderOrder(click_log, \n",
    "#                                       columns=['creative_id_times','ad_id_times','product_id_times',\n",
    "#                                                'advertiser_id_times','product_category_times', 'industry_times',   \n",
    "#                                                 'creative_id_t','ad_id_t','product_id_t',\n",
    "#                                                 'advertiser_id_t','product_category_t','industry_t',                                             \n",
    "#                                               ], max_features=2000000)\n",
    "\n",
    "print(click_log['creative_id'].nunique())\n",
    "print(click_log['ad_id'].nunique())\n",
    "print(click_log['product_id'].nunique())\n",
    "print(click_log['product_category'].nunique())\n",
    "print(click_log['advertiser_id'].nunique())\n",
    "print(click_log['industry'].nunique())\n",
    "print(click_log['creative_id_times'].nunique())\n",
    "print(click_log['ad_id_times'].nunique())\n",
    "print(click_log['product_id_times'].nunique())\n",
    "print(click_log['advertiser_id_times'].nunique())\n",
    "print(click_log['product_category_times'].nunique())\n",
    "print(click_log['industry_times'].nunique())\n",
    "\n",
    "# print(click_log['creative_id_t'].nunique())\n",
    "# print(click_log['ad_id_t'].nunique())\n",
    "# print(click_log['product_id_t'].nunique())\n",
    "# print(click_log['advertiser_id_t'].nunique())\n",
    "# print(click_log['product_category_t'].nunique())\n",
    "# print(click_log['industry_t'].nunique())"
   ]
  },
  {
   "cell_type": "code",
   "execution_count": 11,
   "metadata": {
    "ExecuteTime": {
     "end_time": "2020-06-10T02:50:29.820262Z",
     "start_time": "2020-06-10T01:23:20.834498Z"
    }
   },
   "outputs": [],
   "source": [
    "user_ids = click_log.groupby(['user_id']).agg({'creative_id':lambda x:list(x),\n",
    "                                                        'ad_id':lambda x:list(x),\n",
    "                                                        'product_id':lambda x:list(x),\n",
    "                                                        'product_category':lambda x:list(x),\n",
    "                                                        'advertiser_id':lambda x:list(x),\n",
    "                                                        'industry':lambda x:list(x),   \n",
    "                                                        'click_times':lambda x:list(x),\n",
    "                                                         'time':lambda x:list(x),\n",
    "                                                'creative_id_times':lambda x:list(x),\n",
    "                                                'ad_id_times':lambda x:list(x),\n",
    "                                                'product_id_times':lambda x:list(x),\n",
    "                                                'advertiser_id_times':lambda x:list(x),\n",
    "                                                'product_category_times':lambda x:list(x),\n",
    "                                                'industry_times':lambda x:list(x),\n",
    "#                                                'creative_id_t':lambda x:list(x),\n",
    "#                                                 'ad_id_t':lambda x:list(x),\n",
    "#                                                 'product_id_t':lambda x:list(x),\n",
    "#                                                 'advertiser_id_t':lambda x:list(x),\n",
    "#                                                 'product_category_t':lambda x:list(x),\n",
    "#                                                 'industry_t':lambda x:list(x),\n",
    "                                                       }).reset_index()"
   ]
  },
  {
   "cell_type": "code",
   "execution_count": 12,
   "metadata": {
    "ExecuteTime": {
     "end_time": "2020-06-10T02:56:56.762585Z",
     "start_time": "2020-06-10T02:50:30.914363Z"
    }
   },
   "outputs": [
    {
     "data": {
      "text/html": [
       "<div>\n",
       "<style scoped>\n",
       "    .dataframe tbody tr th:only-of-type {\n",
       "        vertical-align: middle;\n",
       "    }\n",
       "\n",
       "    .dataframe tbody tr th {\n",
       "        vertical-align: top;\n",
       "    }\n",
       "\n",
       "    .dataframe thead th {\n",
       "        text-align: right;\n",
       "    }\n",
       "</style>\n",
       "<table border=\"1\" class=\"dataframe\">\n",
       "  <thead>\n",
       "    <tr style=\"text-align: right;\">\n",
       "      <th></th>\n",
       "      <th>user_id</th>\n",
       "      <th>creative_id</th>\n",
       "      <th>ad_id</th>\n",
       "      <th>product_id</th>\n",
       "      <th>product_category</th>\n",
       "      <th>advertiser_id</th>\n",
       "      <th>industry</th>\n",
       "      <th>click_times</th>\n",
       "      <th>time</th>\n",
       "      <th>creative_id_times</th>\n",
       "      <th>ad_id_times</th>\n",
       "      <th>product_id_times</th>\n",
       "      <th>advertiser_id_times</th>\n",
       "      <th>product_category_times</th>\n",
       "      <th>industry_times</th>\n",
       "      <th>creative_id_len</th>\n",
       "      <th>ad_id_len</th>\n",
       "      <th>product_id_len</th>\n",
       "      <th>product_category_len</th>\n",
       "      <th>advertiser_len</th>\n",
       "      <th>industry_len</th>\n",
       "      <th>mean_clicktimes</th>\n",
       "      <th>max_clicktimes</th>\n",
       "      <th>min_clicktimes</th>\n",
       "      <th>mean_time</th>\n",
       "      <th>max_time</th>\n",
       "      <th>min_time</th>\n",
       "      <th>time_len</th>\n",
       "    </tr>\n",
       "  </thead>\n",
       "  <tbody>\n",
       "    <tr>\n",
       "      <th>0</th>\n",
       "      <td>1</td>\n",
       "      <td>[642275, 170988, 685687, 1307085, 100774, 5953...</td>\n",
       "      <td>[581171, 156554, 620126, 1166887, 92441, 55685...</td>\n",
       "      <td>[1, 125, 1, 1, 1132, 1, 1, 1, 1, 1244, 55, 55,...</td>\n",
       "      <td>[5, 2, 5, 5, 2, 18, 5, 5, 18, 2, 2, 2, 2]</td>\n",
       "      <td>[6411, 8522, 26781, 12996, 10113, 13007, 15341...</td>\n",
       "      <td>[323, 7, 104, 323, 1, 323, 73, 214, 64, 235, 2...</td>\n",
       "      <td>[1, 1, 1, 1, 1, 1, 1, 1, 1, 1, 1, 1, 2]</td>\n",
       "      <td>[20, 20, 20, 39, 40, 43, 46, 52, 60, 64, 64, 7...</td>\n",
       "      <td>[3872964, 1123872, 3935014, 706993, 226871, 37...</td>\n",
       "      <td>[3358402, 950010, 3415179, 499291, 107496, 328...</td>\n",
       "      <td>[1, 6399, 1, 1, 5954, 1, 1, 1, 1, 8147, 52204,...</td>\n",
       "      <td>[99263, 103509, 38769, 8445, 2750, 8484, 13490...</td>\n",
       "      <td>[82, 59, 82, 82, 59, 51, 82, 82, 51, 59, 59, 5...</td>\n",
       "      <td>[1309, 1509, 41, 1309, 1, 1309, 1570, 634, 154...</td>\n",
       "      <td>12</td>\n",
       "      <td>12</td>\n",
       "      <td>6</td>\n",
       "      <td>3</td>\n",
       "      <td>12</td>\n",
       "      <td>9</td>\n",
       "      <td>1.076923</td>\n",
       "      <td>2</td>\n",
       "      <td>1</td>\n",
       "      <td>47.461538</td>\n",
       "      <td>76</td>\n",
       "      <td>20</td>\n",
       "      <td>10</td>\n",
       "    </tr>\n",
       "    <tr>\n",
       "      <th>1</th>\n",
       "      <td>2</td>\n",
       "      <td>[52634, 128035, 32734, 478744, 10372, 349730, ...</td>\n",
       "      <td>[49388, 117016, 31581, 435462, 11432, 318236, ...</td>\n",
       "      <td>[76, 69, 118, 118, 1193, 76, 1, 1064, 1, 1, 10...</td>\n",
       "      <td>[2, 2, 2, 2, 2, 2, 18, 2, 18, 18, 2, 18, 2, 18...</td>\n",
       "      <td>[20681, 9438, 16619, 23545, 705, 20681, 31504,...</td>\n",
       "      <td>[315, 235, 7, 7, 314, 315, 47, 7, 47, 47, 239,...</td>\n",
       "      <td>[1, 1, 1, 1, 1, 1, 1, 1, 1, 1, 1, 1, 1, 1, 1, ...</td>\n",
       "      <td>[10, 11, 14, 17, 28, 28, 28, 38, 38, 39, 41, 4...</td>\n",
       "      <td>[3670932, 575824, 3013599, 3644043, 316325, 34...</td>\n",
       "      <td>[3202365, 430643, 2970933, 3151275, 488750, 29...</td>\n",
       "      <td>[54699, 53814, 5157, 5157, 7149, 54699, 1, 462...</td>\n",
       "      <td>[25317, 1326, 16287, 31864, 99902, 25317, 4850...</td>\n",
       "      <td>[59, 59, 59, 59, 59, 59, 51, 59, 51, 51, 59, 5...</td>\n",
       "      <td>[1252, 780, 1509, 1509, 1244, 1252, 1442, 1509...</td>\n",
       "      <td>42</td>\n",
       "      <td>42</td>\n",
       "      <td>20</td>\n",
       "      <td>3</td>\n",
       "      <td>36</td>\n",
       "      <td>15</td>\n",
       "      <td>1.022222</td>\n",
       "      <td>2</td>\n",
       "      <td>1</td>\n",
       "      <td>53.822222</td>\n",
       "      <td>90</td>\n",
       "      <td>10</td>\n",
       "      <td>28</td>\n",
       "    </tr>\n",
       "  </tbody>\n",
       "</table>\n",
       "</div>"
      ],
      "text/plain": [
       "   user_id                                        creative_id  \\\n",
       "0        1  [642275, 170988, 685687, 1307085, 100774, 5953...   \n",
       "1        2  [52634, 128035, 32734, 478744, 10372, 349730, ...   \n",
       "\n",
       "                                               ad_id  \\\n",
       "0  [581171, 156554, 620126, 1166887, 92441, 55685...   \n",
       "1  [49388, 117016, 31581, 435462, 11432, 318236, ...   \n",
       "\n",
       "                                          product_id  \\\n",
       "0  [1, 125, 1, 1, 1132, 1, 1, 1, 1, 1244, 55, 55,...   \n",
       "1  [76, 69, 118, 118, 1193, 76, 1, 1064, 1, 1, 10...   \n",
       "\n",
       "                                    product_category  \\\n",
       "0          [5, 2, 5, 5, 2, 18, 5, 5, 18, 2, 2, 2, 2]   \n",
       "1  [2, 2, 2, 2, 2, 2, 18, 2, 18, 18, 2, 18, 2, 18...   \n",
       "\n",
       "                                       advertiser_id  \\\n",
       "0  [6411, 8522, 26781, 12996, 10113, 13007, 15341...   \n",
       "1  [20681, 9438, 16619, 23545, 705, 20681, 31504,...   \n",
       "\n",
       "                                            industry  \\\n",
       "0  [323, 7, 104, 323, 1, 323, 73, 214, 64, 235, 2...   \n",
       "1  [315, 235, 7, 7, 314, 315, 47, 7, 47, 47, 239,...   \n",
       "\n",
       "                                         click_times  \\\n",
       "0            [1, 1, 1, 1, 1, 1, 1, 1, 1, 1, 1, 1, 2]   \n",
       "1  [1, 1, 1, 1, 1, 1, 1, 1, 1, 1, 1, 1, 1, 1, 1, ...   \n",
       "\n",
       "                                                time  \\\n",
       "0  [20, 20, 20, 39, 40, 43, 46, 52, 60, 64, 64, 7...   \n",
       "1  [10, 11, 14, 17, 28, 28, 28, 38, 38, 39, 41, 4...   \n",
       "\n",
       "                                   creative_id_times  \\\n",
       "0  [3872964, 1123872, 3935014, 706993, 226871, 37...   \n",
       "1  [3670932, 575824, 3013599, 3644043, 316325, 34...   \n",
       "\n",
       "                                         ad_id_times  \\\n",
       "0  [3358402, 950010, 3415179, 499291, 107496, 328...   \n",
       "1  [3202365, 430643, 2970933, 3151275, 488750, 29...   \n",
       "\n",
       "                                    product_id_times  \\\n",
       "0  [1, 6399, 1, 1, 5954, 1, 1, 1, 1, 8147, 52204,...   \n",
       "1  [54699, 53814, 5157, 5157, 7149, 54699, 1, 462...   \n",
       "\n",
       "                                 advertiser_id_times  \\\n",
       "0  [99263, 103509, 38769, 8445, 2750, 8484, 13490...   \n",
       "1  [25317, 1326, 16287, 31864, 99902, 25317, 4850...   \n",
       "\n",
       "                              product_category_times  \\\n",
       "0  [82, 59, 82, 82, 59, 51, 82, 82, 51, 59, 59, 5...   \n",
       "1  [59, 59, 59, 59, 59, 59, 51, 59, 51, 51, 59, 5...   \n",
       "\n",
       "                                      industry_times  creative_id_len  \\\n",
       "0  [1309, 1509, 41, 1309, 1, 1309, 1570, 634, 154...               12   \n",
       "1  [1252, 780, 1509, 1509, 1244, 1252, 1442, 1509...               42   \n",
       "\n",
       "   ad_id_len  product_id_len  product_category_len  advertiser_len  \\\n",
       "0         12               6                     3              12   \n",
       "1         42              20                     3              36   \n",
       "\n",
       "   industry_len  mean_clicktimes  max_clicktimes  min_clicktimes  mean_time  \\\n",
       "0             9         1.076923               2               1  47.461538   \n",
       "1            15         1.022222               2               1  53.822222   \n",
       "\n",
       "   max_time  min_time  time_len  \n",
       "0        76        20        10  \n",
       "1        90        10        28  "
      ]
     },
     "execution_count": 12,
     "metadata": {},
     "output_type": "execute_result"
    }
   ],
   "source": [
    "user_ids['creative_id_len'] = user_ids['creative_id'].map(lambda x: len(set(x)))\n",
    "user_ids['ad_id_len'] = user_ids['ad_id'].map(lambda x: len(set(x)))\n",
    "user_ids['product_id_len'] = user_ids['product_id'].map(lambda x: len(set(x)))\n",
    "user_ids['product_category_len'] = user_ids['product_category'].map(lambda x: len(set(x)))\n",
    "user_ids['advertiser_len'] = user_ids['advertiser_id'].map(lambda x: len(set(x)))\n",
    "user_ids['industry_len'] = user_ids['industry'].map(lambda x: len(set(x)))\n",
    "user_ids['mean_clicktimes'] = user_ids['click_times'].map(lambda x: np.mean(x))\n",
    "user_ids['max_clicktimes'] = user_ids['click_times'].map(lambda x: np.max(x))\n",
    "user_ids['min_clicktimes'] = user_ids['click_times'].map(lambda x: np.min(x))\n",
    "\n",
    "user_ids['mean_time'] = user_ids['time'].map(lambda x: np.mean(x))\n",
    "user_ids['max_time'] = user_ids['time'].map(lambda x: np.max(x))\n",
    "user_ids['min_time'] = user_ids['time'].map(lambda x: np.min(x))\n",
    "\n",
    "user_ids['time_len'] = user_ids['time'].map(lambda x: len(set(x)))\n",
    "\n",
    "user_ids.to_pickle(f\"{pickle_path}/user_ids_relencode.pickle\")\n",
    "user_ids.head(2)\n"
   ]
  },
  {
   "cell_type": "code",
   "execution_count": null,
   "metadata": {},
   "outputs": [],
   "source": []
  }
 ],
 "metadata": {
  "kernelspec": {
   "display_name": "Python 3",
   "language": "python",
   "name": "python3"
  },
  "language_info": {
   "codemirror_mode": {
    "name": "ipython",
    "version": 3
   },
   "file_extension": ".py",
   "mimetype": "text/x-python",
   "name": "python",
   "nbconvert_exporter": "python",
   "pygments_lexer": "ipython3",
   "version": "3.7.4rc1"
  },
  "toc": {
   "base_numbering": 1,
   "nav_menu": {},
   "number_sections": true,
   "sideBar": true,
   "skip_h1_title": false,
   "title_cell": "Table of Contents",
   "title_sidebar": "Contents",
   "toc_cell": false,
   "toc_position": {},
   "toc_section_display": true,
   "toc_window_display": false
  },
  "varInspector": {
   "cols": {
    "lenName": 16,
    "lenType": 16,
    "lenVar": 40
   },
   "kernels_config": {
    "python": {
     "delete_cmd_postfix": "",
     "delete_cmd_prefix": "del ",
     "library": "var_list.py",
     "varRefreshCmd": "print(var_dic_list())"
    },
    "r": {
     "delete_cmd_postfix": ") ",
     "delete_cmd_prefix": "rm(",
     "library": "var_list.r",
     "varRefreshCmd": "cat(var_dic_list()) "
    }
   },
   "position": {
    "height": "749.4px",
    "left": "1678px",
    "right": "20px",
    "top": "120px",
    "width": "350px"
   },
   "types_to_exclude": [
    "module",
    "function",
    "builtin_function_or_method",
    "instance",
    "_Feature"
   ],
   "window_display": true
  }
 },
 "nbformat": 4,
 "nbformat_minor": 2
}

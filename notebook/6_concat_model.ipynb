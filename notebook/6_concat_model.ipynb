{
 "cells": [
  {
   "cell_type": "code",
   "execution_count": 1,
   "metadata": {
    "ExecuteTime": {
     "end_time": "2020-06-20T02:40:14.210948Z",
     "start_time": "2020-06-20T02:40:04.246618Z"
    }
   },
   "outputs": [],
   "source": [
    "import pandas as pd\n",
    "import numpy as np\n",
    "import sys\n",
    "sys.path.append(r\"..\")\n",
    "from utils import *"
   ]
  },
  {
   "cell_type": "code",
   "execution_count": 2,
   "metadata": {
    "ExecuteTime": {
     "end_time": "2020-06-20T02:40:15.069649Z",
     "start_time": "2020-06-20T02:40:14.234885Z"
    }
   },
   "outputs": [],
   "source": [
    "user = pd.read_csv(train_preliminary_p + \"user.csv\", encoding='utf-8')\n",
    "train_gender = user['gender']\n",
    "train_age = user['age']"
   ]
  },
  {
   "cell_type": "code",
   "execution_count": 5,
   "metadata": {
    "ExecuteTime": {
     "end_time": "2020-06-20T02:41:00.468150Z",
     "start_time": "2020-06-20T02:40:57.159998Z"
    }
   },
   "outputs": [
    {
     "name": "stdout",
     "output_type": "stream",
     "text": [
      "[     0      1      2 ... 899997 899998 899999] [     7     11     15 ... 899982 899988 899993]\n",
      "[     0      1      2 ... 899996 899997 899999] [     3      4      9 ... 899980 899994 899998]\n",
      "[     1      2      3 ... 899996 899998 899999] [     0      8     18 ... 899991 899992 899997]\n",
      "[     0      2      3 ... 899994 899997 899998] [     1     12     14 ... 899995 899996 899999]\n",
      "[     0      1      3 ... 899997 899998 899999] [     2      5      6 ... 899976 899981 899989]\n"
     ]
    }
   ],
   "source": [
    "from sklearn.model_selection import KFold\n",
    "gender_oof = np.zeros((900000,2))\n",
    "age_oof = np.zeros((900000,10))\n",
    "gender_preds = []\n",
    "age_preds = []\n",
    "\n",
    "kfolder = KFold(n_splits=5, shuffle=True, random_state=2020)\n",
    "kfold = kfolder.split(gender_oof)\n",
    "fold_index = 1\n",
    "for train_index, vali_index in kfold:      \n",
    "    age_prob = np.load(f\"{sub_path}/5fold_new/{fold_index}/age_prob.npy\")\n",
    "    gender_prob = np.load(f\"{sub_path}/5fold_new/{fold_index}/gender_prob.npy\", )\n",
    "    age_val_prob = np.load(f\"{sub_path}/5fold_new/{fold_index}/val_age_prob.npy\", )\n",
    "    gender_val_prob = np.load(f\"{sub_path}/5fold_new/{fold_index}/val_gender_prob.npy\", )\n",
    "\n",
    "    fold_index += 1\n",
    "    print(train_index, vali_index)\n",
    "\n",
    "    gender_oof[vali_index] = gender_val_prob\n",
    "    age_oof[vali_index] = age_val_prob\n",
    "\n",
    "    gender_preds.append(gender_prob)\n",
    "    age_preds.append(age_prob)\n",
    "gender_prob = np.array(gender_preds).mean(axis=0)\n",
    "age_prob = np.array(age_preds).mean(axis=0)\n",
    "\n",
    "\n",
    "# gender_tune_weight = search_weight(train_gender[810000:900000]-1, gender_oof[810000:900000], init_weight=[1.0]*2,class_num=2, step=0.001)\n",
    "# age_tune_weight = search_weight(train_age[810000:900000]-1, age_oof[810000:900000], init_weight=[1.0]*10,class_num=10, step=0.001)\n",
    "\n",
    "\n",
    "# gender_prob_tune = np.array(gender_tune_weight)*gender_prob\n",
    "gender_pre = np.argmax(gender_prob,axis=1) + 1\n",
    "\n",
    "# age_prob_tune = np.array(age_tune_weight)*age_prob\n",
    "age_pre = np.argmax(age_prob,axis=1) + 1\n",
    "\n"
   ]
  },
  {
   "cell_type": "code",
   "execution_count": 6,
   "metadata": {
    "ExecuteTime": {
     "end_time": "2020-06-20T02:41:10.356683Z",
     "start_time": "2020-06-20T02:41:02.460812Z"
    }
   },
   "outputs": [
    {
     "name": "stdout",
     "output_type": "stream",
     "text": [
      "ok！\n"
     ]
    }
   ],
   "source": [
    "sub = pd.DataFrame()\n",
    "sub['user_id'] = range(3000001,4000001)\n",
    "sub['predicted_age'] = age_pre\n",
    "sub['predicted_gender'] = gender_pre\n",
    "print('ok！')\n",
    "sub.to_csv(f\"{sub_path}/submission.csv\", index=False, encoding='utf-8')"
   ]
  },
  {
   "cell_type": "code",
   "execution_count": 5,
   "metadata": {
    "ExecuteTime": {
     "end_time": "2020-06-18T00:33:52.445238Z",
     "start_time": "2020-06-18T00:26:13.099299Z"
    },
    "collapsed": true
   },
   "outputs": [
    {
     "name": "stdout",
     "output_type": "stream",
     "text": [
      "round:  1\n",
      "0.47046666666666664\n",
      "0.4705111111111111\n",
      "0.47052222222222223\n",
      "0.47055555555555556\n",
      "0.4705888888888889\n",
      "0.47063333333333335\n",
      "0.4706444444444444\n",
      "0.47067777777777775\n",
      "0.4707222222222222\n",
      "0.47075555555555554\n",
      "0.4708111111111111\n",
      "0.47092222222222224\n",
      "0.4709777777777778\n",
      "0.4710888888888889\n",
      "0.47121111111111114\n",
      "0.47124444444444447\n",
      "0.47128888888888887\n",
      "0.4713555555555556\n",
      "0.4715111111111111\n",
      "0.47152222222222223\n",
      "0.47155555555555556\n",
      "0.4718888888888889\n",
      "0.47204444444444443\n",
      "0.4721222222222222\n",
      "0.47225555555555554\n",
      "0.4724888888888889\n",
      "0.4726666666666667\n",
      "0.4729888888888889\n",
      "0.473\n",
      "0.47305555555555556\n",
      "0.4731111111111111\n",
      "0.47315555555555555\n",
      "0.47336666666666666\n",
      "0.47342222222222224\n",
      "0.47352222222222223\n",
      "0.47355555555555556\n",
      "0.4737\n",
      "0.4737222222222222\n",
      "0.47383333333333333\n",
      "0.47385555555555553\n",
      "0.47386666666666666\n",
      "0.4738777777777778\n",
      "0.4739\n",
      "0.47394444444444445\n",
      "0.4739555555555556\n",
      "0.4739888888888889\n",
      "0.474\n",
      "0.4740111111111111\n",
      "0.47402222222222223\n",
      "0.47404444444444443\n",
      "0.47405555555555556\n",
      "0.47407777777777776\n",
      "round:  2\n",
      "0.47413333333333335\n",
      "0.4741444444444444\n",
      "0.47415555555555555\n",
      "0.47417777777777775\n",
      "0.47421111111111114\n",
      "0.47424444444444447\n",
      "0.4742777777777778\n",
      "0.4745333333333333\n",
      "0.4747\n",
      "0.47474444444444447\n",
      "0.47478888888888887\n",
      "0.47481111111111113\n",
      "0.47484444444444446\n",
      "round:  3\n",
      "0.4749333333333333\n",
      "0.475\n",
      "0.4750888888888889\n",
      "round:  4\n",
      "0.4751111111111111\n",
      "round:  5\n",
      "0.4751222222222222\n",
      "0.4751444444444444\n",
      "round:  6\n",
      "[1.25, 1.09, 0.99, 0.91, 1.04, 0.93, 0.79, 0.9400000000000001, 1.01, 1.43]\n",
      "round:  1\n",
      "0.9456333333333333\n",
      "0.9456888888888889\n",
      "round:  2\n",
      "[0.99, 1.0]\n"
     ]
    }
   ],
   "source": [
    "age_prob = np.load(f\"{sub_path}/age_prob.npy\")\n",
    "gender_prob = np.load(f\"{sub_path}/gender_prob.npy\")\n",
    "\n",
    "age_val_prob = np.load(f\"{sub_path}/val_age_prob.npy\")\n",
    "gender_val_prob = np.load(f\"{sub_path}/val_gender_prob.npy\")\n",
    "\n",
    "age_tune_weight = search_weight(train_age[810000:900000]-1, age_val_prob, init_weight=[1.0]*10,class_num=10, step=0.001)\n",
    "print(age_tune_weight)\n",
    "\n",
    "gender_tune_weight = search_weight(train_gender[810000:900000]-1, gender_val_prob, init_weight=[1.0]*2,class_num=2, step=0.001)\n",
    "print(gender_tune_weight)\n",
    "\n",
    "gender_prob_tune = np.array(gender_tune_weight)*gender_prob\n",
    "gender_pre = np.argmax(gender_prob_tune,axis=1) + 1\n",
    "\n",
    "age_prob_tune = np.array(age_tune_weight)*age_prob\n",
    "age_pre = np.argmax(age_prob_tune,axis=1) + 1"
   ]
  },
  {
   "cell_type": "markdown",
   "metadata": {
    "ExecuteTime": {
     "end_time": "2020-06-18T00:42:15.508334Z",
     "start_time": "2020-06-18T00:42:15.191183Z"
    }
   },
   "source": [
    "## 融合LR"
   ]
  },
  {
   "cell_type": "code",
   "execution_count": 19,
   "metadata": {
    "ExecuteTime": {
     "end_time": "2020-06-20T04:44:30.548767Z",
     "start_time": "2020-06-20T04:44:21.869992Z"
    }
   },
   "outputs": [
    {
     "name": "stdout",
     "output_type": "stream",
     "text": [
      "(1000000, 10) (1000000, 2) (1000000, 10) (1000000, 2)\n",
      "------gender\n",
      "1000000.0\n",
      "1000000.0\n",
      "1000000.0\n",
      "1000000.0\n",
      "1000000.0\n",
      "------age\n",
      "999999.5\n",
      "1000000.25\n",
      "999999.9999999998\n",
      "999999.8\n",
      "999999.06\n",
      "(1000000,) (1000000,)\n",
      "ok！\n"
     ]
    }
   ],
   "source": [
    "def fold5_mean(filename):\n",
    "    gender_preds = []\n",
    "    age_preds = []\n",
    "    for i in [1,2,3,4,5]:\n",
    "        age_prob = np.load(f\"{sub_path}/{filename}/{i}/age_prob.npy\")\n",
    "        gender_prob = np.load(f\"{sub_path}/{filename}/{i}/gender_prob.npy\", )\n",
    "\n",
    "        gender_preds.append(gender_prob)\n",
    "        age_preds.append(age_prob)\n",
    "    gender_prob = np.array(gender_preds).mean(axis=0)\n",
    "    age_prob = np.array(age_preds).mean(axis=0)\n",
    "    return gender_prob, age_prob\n",
    "    \n",
    "# 两个五折\n",
    "gender_prob_51, age_prob_51 = fold5_mean('5fold')\n",
    "gender_prob_52, age_prob_52 = fold5_mean('5fold_new')\n",
    "\n",
    "# LR\n",
    "age_prob_lr = np.load(f\"{sub_path}/lr/lr_age_prob.npy\")\n",
    "gender_prob_lr = np.load(f\"{sub_path}/lr/lr_gender_prob.npy\")\n",
    "\n",
    "# 单模\n",
    "\n",
    "age_prob1 = np.load(f\"{sub_path}/sub4157/age_prob.npy\")\n",
    "gender_prob1 = np.load(f\"{sub_path}/sub4157/gender_prob.npy\")\n",
    "\n",
    "age_prob2 = np.load(f\"{sub_path}/sub414/age_prob.npy\")\n",
    "gender_prob2 = np.load(f\"{sub_path}/sub414/gender_prob.npy\")\n",
    "\n",
    "# age_prob3 = np.load(f\"{sub_path}/sub413/age_prob.npy\")\n",
    "# gender_prob3 = np.load(f\"{sub_path}/sub413/gender_prob.npy\")\n",
    "\n",
    "# age_prob4 = np.load(f\"{sub_path}/sub4127/age_prob.npy\")\n",
    "# gender_prob4 = np.load(f\"{sub_path}/sub4127/gender_prob.npy\")\n",
    "\n",
    "print(age_prob.shape, gender_prob.shape, age_prob_lr.shape, gender_prob_lr.shape)\n",
    "print('------gender')\n",
    "print(gender_prob_51.sum())\n",
    "print(gender_prob_52.sum())\n",
    "print(gender_prob_lr.sum())\n",
    "print(gender_prob1.sum())\n",
    "print(gender_prob2.sum())\n",
    "# print(gender_prob3.sum())\n",
    "# print(gender_prob4.sum())\n",
    "\n",
    "\n",
    "print('------age')\n",
    "print(age_prob_51.sum())\n",
    "print(age_prob_52.sum())\n",
    "print(age_prob_lr.sum())\n",
    "print(age_prob1.sum())\n",
    "print(age_prob2.sum())\n",
    "# print(age_prob3.sum())\n",
    "# print(age_prob4.sum())\n",
    "\n",
    "\n",
    "\n",
    "sub_gender = np.argmax(gender_prob_51*0.35 + \n",
    "                       gender_prob_52*0.3 + \n",
    "                       gender_prob1*0.15 + \n",
    "                       gender_prob2*0.15 +  \n",
    "                       gender_prob_lr*0.05 ,axis=1) + 1\n",
    "\n",
    "sub_age = np.argmax(age_prob_51*0.35 + \n",
    "                       age_prob_52*0.3 + \n",
    "                       age_prob1*0.15 + \n",
    "                       age_prob2*0.15 +  \n",
    "                       age_prob_lr*0.05 ,axis=1) + 1\n",
    "\n",
    "# sub_gender = np.argmax((gender_prob_51 + \n",
    "#                        gender_prob_52 + \n",
    "#                        gender_prob1 + \n",
    "#                        gender_prob2)/4 ,axis=1) + 1\n",
    "\n",
    "# sub_age = np.argmax((age_prob_51 + \n",
    "#                        age_prob_52 + \n",
    "#                        age_prob1 + \n",
    "#                        age_prob2 )/4 ,axis=1) + 1\n",
    "\n",
    "print(sub_gender.shape, sub_age.shape)\n",
    "\n",
    "sub = pd.DataFrame()\n",
    "sub['user_id'] = range(3000001,4000001)\n",
    "sub['predicted_age'] = sub_age\n",
    "sub['predicted_gender'] = sub_gender\n",
    "print('ok！')\n",
    "sub.to_csv(f\"{sub_path}/submission.csv\", index=False, encoding='utf-8')"
   ]
  }
 ],
 "metadata": {
  "kernelspec": {
   "display_name": "Python 3",
   "language": "python",
   "name": "python3"
  },
  "language_info": {
   "codemirror_mode": {
    "name": "ipython",
    "version": 3
   },
   "file_extension": ".py",
   "mimetype": "text/x-python",
   "name": "python",
   "nbconvert_exporter": "python",
   "pygments_lexer": "ipython3",
   "version": "3.7.4rc1"
  },
  "toc": {
   "base_numbering": 1,
   "nav_menu": {},
   "number_sections": true,
   "sideBar": true,
   "skip_h1_title": false,
   "title_cell": "Table of Contents",
   "title_sidebar": "Contents",
   "toc_cell": false,
   "toc_position": {},
   "toc_section_display": true,
   "toc_window_display": false
  },
  "varInspector": {
   "cols": {
    "lenName": 16,
    "lenType": 16,
    "lenVar": 40
   },
   "kernels_config": {
    "python": {
     "delete_cmd_postfix": "",
     "delete_cmd_prefix": "del ",
     "library": "var_list.py",
     "varRefreshCmd": "print(var_dic_list())"
    },
    "r": {
     "delete_cmd_postfix": ") ",
     "delete_cmd_prefix": "rm(",
     "library": "var_list.r",
     "varRefreshCmd": "cat(var_dic_list()) "
    }
   },
   "types_to_exclude": [
    "module",
    "function",
    "builtin_function_or_method",
    "instance",
    "_Feature"
   ],
   "window_display": false
  }
 },
 "nbformat": 4,
 "nbformat_minor": 2
}

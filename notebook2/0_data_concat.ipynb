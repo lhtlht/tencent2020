{
 "cells": [
  {
   "cell_type": "code",
   "execution_count": 1,
   "metadata": {
    "ExecuteTime": {
     "end_time": "2020-06-24T12:16:45.405531Z",
     "start_time": "2020-06-24T12:16:34.798921Z"
    }
   },
   "outputs": [],
   "source": [
    "import pandas as pd\n",
    "import numpy as np\n",
    "import sys\n",
    "sys.path.append('..')\n",
    "from utils import *"
   ]
  },
  {
   "cell_type": "code",
   "execution_count": 2,
   "metadata": {
    "ExecuteTime": {
     "end_time": "2020-06-24T12:16:45.414488Z",
     "start_time": "2020-06-24T12:16:45.408512Z"
    }
   },
   "outputs": [],
   "source": [
    "root = \"../../data/tencent2020/\"\n",
    "path_buld = root + \"build/\"\n",
    "path_buld2 = root + \"build2/\"\n",
    "path_save = root + \"save/\"\n",
    "train_preliminary_p = path_buld + \"train_preliminary/\"\n",
    "train_preliminary_p2 = path_buld2 + \"train_semi_final/\"\n",
    "test_p = path_buld + \"test/\""
   ]
  },
  {
   "cell_type": "code",
   "execution_count": 3,
   "metadata": {
    "ExecuteTime": {
     "end_time": "2020-06-24T12:18:06.512460Z",
     "start_time": "2020-06-24T12:16:45.417479Z"
    }
   },
   "outputs": [],
   "source": [
    "train_ad = pd.read_csv(train_preliminary_p + \"ad.csv\", encoding=\"utf-8\")\n",
    "train_click_log = pd.read_csv(train_preliminary_p + \"click_log.csv\", encoding=\"utf-8\")\n",
    "train_user = pd.read_csv(train_preliminary_p + \"user.csv\", encoding=\"utf-8\")\n",
    "\n",
    "train_ad2 = pd.read_csv(train_preliminary_p2 + \"ad.csv\", encoding=\"utf-8\")\n",
    "train_click_log2 = pd.read_csv(train_preliminary_p2 + \"click_log.csv\", encoding=\"utf-8\")\n",
    "train_user2 = pd.read_csv(train_preliminary_p2 + \"user.csv\", encoding=\"utf-8\")\n",
    "\n",
    "test_ad = pd.read_csv(test_p + \"ad.csv\", encoding=\"utf-8\")\n",
    "test_click_log = pd.read_csv(test_p + \"click_log.csv\", encoding=\"utf-8\")"
   ]
  },
  {
   "cell_type": "code",
   "execution_count": 4,
   "metadata": {
    "ExecuteTime": {
     "end_time": "2020-06-24T12:18:24.228040Z",
     "start_time": "2020-06-24T12:18:06.516449Z"
    }
   },
   "outputs": [],
   "source": [
    "train_ad_all = pd.concat([train_ad, train_ad2, test_ad], axis=0).drop_duplicates()   #(4445720, 6)\n",
    "train_click_log_all = pd.concat([train_click_log, train_click_log2, test_click_log], axis=0)  #(133878445, 4)\n",
    "train_user_all = pd.concat([train_user, train_user2], axis=0) # 3000000"
   ]
  },
  {
   "cell_type": "code",
   "execution_count": 5,
   "metadata": {
    "ExecuteTime": {
     "end_time": "2020-06-24T12:18:26.970683Z",
     "start_time": "2020-06-24T12:18:24.231035Z"
    }
   },
   "outputs": [],
   "source": [
    "train_ad_all['industry'] = train_ad_all['industry'].replace('\\\\N', '100').astype(int)\n",
    "train_ad_all['product_id'] = train_ad_all['product_id'].replace('\\\\N', '10000').astype(int)\n",
    "train_ad_all.loc[train_ad_all['product_id'] == 10000, 'product_id'] = 10000 + \\\n",
    "    train_ad_all.loc[train_ad_all['product_id'] == 10000, 'product_category']"
   ]
  },
  {
   "cell_type": "code",
   "execution_count": 6,
   "metadata": {
    "ExecuteTime": {
     "end_time": "2020-06-24T12:19:48.360878Z",
     "start_time": "2020-06-24T12:18:26.973675Z"
    }
   },
   "outputs": [],
   "source": [
    "click_log = train_click_log_all.merge(train_ad_all, on='creative_id', how='left')\n",
    "#data = click_log.merge(train_user_all, on='user_id', how='left') #(133878445, 11)"
   ]
  },
  {
   "cell_type": "code",
   "execution_count": 8,
   "metadata": {
    "ExecuteTime": {
     "end_time": "2020-06-24T12:30:38.861847Z",
     "start_time": "2020-06-24T12:29:26.566361Z"
    }
   },
   "outputs": [
    {
     "name": "stdout",
     "output_type": "stream",
     "text": [
      "Mem. usage decreased to 4341.00 Mb (55.3% reduction)\n",
      "<class 'pandas.core.frame.DataFrame'>\n",
      "Int64Index: 133878445 entries, 0 to 133878444\n",
      "Data columns (total 9 columns):\n",
      "time                int8\n",
      "user_id             int32\n",
      "creative_id         int32\n",
      "click_times         int16\n",
      "ad_id               int32\n",
      "product_id          int32\n",
      "product_category    int8\n",
      "advertiser_id       int32\n",
      "industry            int16\n",
      "dtypes: int16(2), int32(5), int8(2)\n",
      "memory usage: 4.2 GB\n"
     ]
    }
   ],
   "source": [
    "# data['age'] = data['age'].fillna(0)\n",
    "# data['age'] = data['age'].astype(int)\n",
    "# data['age'] = data['age'] - 1\n",
    "\n",
    "# data['gender'] = data['gender'].fillna(0)\n",
    "# data['gender'] = data['gender'].astype(int)\n",
    "# data['gender'] = data['gender'] - 1\n",
    "\n",
    "reduce_mem_usage(click_log) # Mem. usage decreased to 4851.70 Mb (58.7% reduction)\n",
    "click_log.info()"
   ]
  },
  {
   "cell_type": "code",
   "execution_count": null,
   "metadata": {
    "ExecuteTime": {
     "end_time": "2020-06-24T12:19:51.051671Z",
     "start_time": "2020-06-24T12:16:34.820Z"
    }
   },
   "outputs": [],
   "source": [
    "#data.to_csv(path_buld2 + \"click_log_all.csv\", encoding='utf-8', index=False)\n"
   ]
  },
  {
   "cell_type": "code",
   "execution_count": 10,
   "metadata": {
    "ExecuteTime": {
     "end_time": "2020-06-24T12:35:42.905460Z",
     "start_time": "2020-06-24T12:35:01.993933Z"
    }
   },
   "outputs": [],
   "source": [
    "save_pickle(click_log, path_buld2 + \"click_log.pkl\")\n",
    "save_pickle(train_user_all, path_buld2 + \"train_user.pkl\")"
   ]
  }
 ],
 "metadata": {
  "kernelspec": {
   "display_name": "Python 3",
   "language": "python",
   "name": "python3"
  },
  "language_info": {
   "codemirror_mode": {
    "name": "ipython",
    "version": 3
   },
   "file_extension": ".py",
   "mimetype": "text/x-python",
   "name": "python",
   "nbconvert_exporter": "python",
   "pygments_lexer": "ipython3",
   "version": "3.7.4rc1"
  },
  "toc": {
   "base_numbering": 1,
   "nav_menu": {},
   "number_sections": true,
   "sideBar": true,
   "skip_h1_title": false,
   "title_cell": "Table of Contents",
   "title_sidebar": "Contents",
   "toc_cell": false,
   "toc_position": {},
   "toc_section_display": true,
   "toc_window_display": false
  },
  "varInspector": {
   "cols": {
    "lenName": 16,
    "lenType": 16,
    "lenVar": 40
   },
   "kernels_config": {
    "python": {
     "delete_cmd_postfix": "",
     "delete_cmd_prefix": "del ",
     "library": "var_list.py",
     "varRefreshCmd": "print(var_dic_list())"
    },
    "r": {
     "delete_cmd_postfix": ") ",
     "delete_cmd_prefix": "rm(",
     "library": "var_list.r",
     "varRefreshCmd": "cat(var_dic_list()) "
    }
   },
   "types_to_exclude": [
    "module",
    "function",
    "builtin_function_or_method",
    "instance",
    "_Feature"
   ],
   "window_display": false
  }
 },
 "nbformat": 4,
 "nbformat_minor": 2
}
